{
 "cells": [
  {
   "cell_type": "markdown",
   "metadata": {},
   "source": [
    "<img src=\"http://imgur.com/1ZcRyrc.png\" style=\"float: left; margin: 20px; height: 55px\">\n",
    "\n",
    "# Project 3: Statistical Modeling and Model Validation\n",
    "\n",
    "---"
   ]
  },
  {
   "cell_type": "markdown",
   "metadata": {},
   "source": [
    "## Objective\n",
    "The goal of this assessment is to guide you through the modeling workflow to produce the best possible model. In this lesson, you will apply the best practices you've learned to date to slice your data and validate your model. \n",
    "\n",
    "You'll demonstrate the following skills:\n",
    "\n",
    "**Linear Regression**\n",
    "* Handling categorical features in a scikit-learn model.\n",
    "* Carrying out a train/test split.\n",
    "* Training a model.\n",
    "* Evaluating that model on the testing data.\n",
    "\n",
    "**K-Nearest Neighbors:**\n",
    "* Preparing your data for modeling.\n",
    "* Scaling your data.\n",
    "* Tuning a hyperparameter using k-fold cross-validation.\n",
    "* Selecting a model based on a tuning parameter.\n",
    "* Using a model to make predictions on new data."
   ]
  },
  {
   "cell_type": "markdown",
   "metadata": {},
   "source": [
    "## Imports"
   ]
  },
  {
   "cell_type": "code",
   "execution_count": null,
   "metadata": {
    "collapsed": true
   },
   "outputs": [],
   "source": []
  },
  {
   "cell_type": "markdown",
   "metadata": {},
   "source": [
    "# Part 1: Regression on MPG Data"
   ]
  },
  {
   "cell_type": "markdown",
   "metadata": {},
   "source": [
    "## Read the Data\n",
    "The [`mpg` data set](https://archive.ics.uci.edu/ml/datasets/auto+mpg) represents the fuel economy (in miles per gallon) for 38 popular models of car, measured between 1999 and 2008.\n",
    "\n",
    "|Factor      |Type                              |Description                                               |\n",
    "|------------|----------------------------------|----------------------------------------------------------|\n",
    "|manufacturer|multi-valued discrete             |Vehicle manufacturer                                      |\n",
    "|model       |multi-valued discrete             |Model of the vehicle                                      |\n",
    "|displ       |continuous                        |Size of engine [litres]                                   |\n",
    "|year        |multi-valued discrete             |Year of vehicle manufacture                               |\n",
    "|cyl         |multi-valued discrete             |Number of ignition cylinders                              |\n",
    "|trans       |multi-valued discrete             |Transmission type (manual or automatic)                   |\n",
    "|drv         |multi-valued discrete             |Driven wheels (f=front, 4=4-wheel, r=rear wheel drive)    |\n",
    "|city        |continuous                        |Miles per gallon, city driving conditions (fuel economy)  |\n",
    "|fl          |multi-valued discrete             |Vehicle type                                              |\n",
    "|class       |multi-valued discrete             |Vehicle class (suv, compact, etc)                         |"
   ]
  },
  {
   "cell_type": "code",
   "execution_count": null,
   "metadata": {
    "collapsed": true
   },
   "outputs": [],
   "source": [
    "# Read the mpg data in the data folder into this repository.\n",
    "mpg = pd.read_csv('data/mpg.csv')"
   ]
  },
  {
   "cell_type": "markdown",
   "metadata": {},
   "source": [
    "## Explore the Data\n",
    "Use this space to familiarize yourself with the data set.\n",
    "\n",
    "Convince yourself that there are no issues with the data. If you find any, clean them now."
   ]
  },
  {
   "cell_type": "code",
   "execution_count": null,
   "metadata": {
    "collapsed": true
   },
   "outputs": [],
   "source": []
  },
  {
   "cell_type": "markdown",
   "metadata": {},
   "source": [
    "## Dummify the `drv` Variable"
   ]
  },
  {
   "cell_type": "code",
   "execution_count": null,
   "metadata": {
    "collapsed": true
   },
   "outputs": [],
   "source": []
  },
  {
   "cell_type": "markdown",
   "metadata": {},
   "source": [
    "## Split Your Data Into Factors (`X`) and Target (`y`)\n",
    "You only need to keep the `displ` and `drv` variable(s) here, as those are the only columns you'll be fitting your model on in the next section."
   ]
  },
  {
   "cell_type": "code",
   "execution_count": null,
   "metadata": {
    "collapsed": true
   },
   "outputs": [],
   "source": []
  },
  {
   "cell_type": "markdown",
   "metadata": {},
   "source": [
    "## Instantiate a Linear Regression Model Object Predicting Highway MPG\n",
    "Instantiate a `LinearRegression` object here."
   ]
  },
  {
   "cell_type": "code",
   "execution_count": null,
   "metadata": {
    "collapsed": true
   },
   "outputs": [],
   "source": []
  },
  {
   "cell_type": "markdown",
   "metadata": {},
   "source": [
    "## Evaluate Your Model\n",
    "\n",
    "- Run five-fold cross-validation on your data.\n",
    "  - Report the mean of the mean squared error across five folds.\n",
    "  - Report the mean R-squared value across five folds."
   ]
  },
  {
   "cell_type": "code",
   "execution_count": null,
   "metadata": {
    "collapsed": true
   },
   "outputs": [],
   "source": []
  },
  {
   "cell_type": "markdown",
   "metadata": {},
   "source": [
    "# Part 2: Classification Using KNN"
   ]
  },
  {
   "cell_type": "markdown",
   "metadata": {},
   "source": [
    "## Read in the `diamonds` Data\n",
    "This is data regarding 50,000 round-cut diamonds.\n",
    "\n",
    "|Factor            |Description                                                                                 |\n",
    "|------------------|--------------------------------------------------------------------------------------------|\n",
    "|price             |price in US dollars (326-18,823)                                                            |\n",
    "|carat             |weight of the diamond (0.2--5.01)                                                           |\n",
    "|cut               |quality of the cut (Fair, Good, Very Good, Premium, Ideal)                                  |\n",
    "|color             |diamond colour, from J (worst) to D (best)                                                  |\n",
    "|clarity           |how clear the diamond is (I1 (worst), SI2, SI1, VS2, VS1, VVS2, VVS1, IF (best))            |\n",
    "|x                 |length in mm (0--10.74)                                                                     |\n",
    "|y                 |width in mm (0--58.9)                                                                       |\n",
    "|z                 |depth in mm (0--31.8)                                                                       |\n",
    "|depth             |total depth percentage = z / mean(x, y) = 2 * z / (x + y) (43--79)                          |\n",
    "|table             |width of top of diamond relative to widest point (43--95)                                   |"
   ]
  },
  {
   "cell_type": "code",
   "execution_count": null,
   "metadata": {
    "collapsed": true
   },
   "outputs": [],
   "source": [
    "dia = pd.read_csv('data/diamonds.csv')"
   ]
  },
  {
   "cell_type": "markdown",
   "metadata": {},
   "source": [
    "## Explore the Data"
   ]
  },
  {
   "cell_type": "code",
   "execution_count": null,
   "metadata": {
    "collapsed": true
   },
   "outputs": [],
   "source": []
  },
  {
   "cell_type": "markdown",
   "metadata": {},
   "source": [
    "## Filter Your Data\n",
    "Filter your data to only contain diamonds with `'Ideal'` and `'Good'` cuts."
   ]
  },
  {
   "cell_type": "code",
   "execution_count": null,
   "metadata": {
    "collapsed": true
   },
   "outputs": [],
   "source": []
  },
  {
   "cell_type": "markdown",
   "metadata": {},
   "source": [
    "## Downsample the Majority Class"
   ]
  },
  {
   "cell_type": "code",
   "execution_count": null,
   "metadata": {
    "collapsed": true
   },
   "outputs": [],
   "source": []
  },
  {
   "cell_type": "markdown",
   "metadata": {},
   "source": [
    "## Prepare Your `X`, `y` Matrices\n",
    "Construct an `X` matrix using **all numeric columns** from the `diamonds` data.\n",
    "\n",
    "You will be predicting `cut`. Construct a `y` vector in a numeric format that can be used by scikit-learn."
   ]
  },
  {
   "cell_type": "code",
   "execution_count": null,
   "metadata": {
    "collapsed": true
   },
   "outputs": [],
   "source": []
  },
  {
   "cell_type": "markdown",
   "metadata": {},
   "source": [
    "## Scale Your `X` Matrix Using a StandardScaler"
   ]
  },
  {
   "cell_type": "code",
   "execution_count": null,
   "metadata": {
    "collapsed": true
   },
   "outputs": [],
   "source": []
  },
  {
   "cell_type": "markdown",
   "metadata": {},
   "source": [
    "## Why Did We Just Do That?\n",
    "In the cell below, provide a 2–3 sentence explanation of why scaling our $X$ matrix was necessary here. What could have gone wrong if we didn't?"
   ]
  },
  {
   "cell_type": "markdown",
   "metadata": {},
   "source": [
    "Scaling for KNN is important because KNN uses the distance between two points. If two features are on different scales, the distances between them on each coordinate might be given falsely disproportionate weights. If we didn't scale, it's possible that KNN would make all of its decisions based on the feature with the widest scale."
   ]
  },
  {
   "cell_type": "markdown",
   "metadata": {},
   "source": [
    "## Split Into Testing and Training Groups\n",
    "\n",
    "Now that we've downsampled/balanced our classes, as well as removed unused factors, we're ready to split into testing and training groups. We're doing this avoid _leaking information into our testing set_. \n",
    "\n",
    "- First, we'll perform cross-validation on our _training_ set, finding an optimal value for $k$. \n",
    "- After this, we'll take that value of $k$ and use it to fit our model to the _training_ set, creating our tuned model.\n",
    "- Finally, we will take this same model and use it to _predict_ and _score_ against our _testing_ set.\n",
    "- Note that our model at this point will have never seen nor trained against the _testing_ set.\n",
    "\n",
    "In the future, we can (and should!) automate this process using a [pipeline](https://scikit-learn.org/stable/modules/generated/sklearn.pipeline.Pipeline.html) — a tool used to abstract our modeling process, allowing data to be processed without manual intervention."
   ]
  },
  {
   "cell_type": "code",
   "execution_count": null,
   "metadata": {
    "collapsed": true
   },
   "outputs": [],
   "source": []
  },
  {
   "cell_type": "markdown",
   "metadata": {},
   "source": [
    "## K-Nearest Neighbors\n",
    "You're going to fit a KNN model here, but you first need to tune your model to find the best value of $k$. Loop through values of $k$ you think are appropriate (Hint: Look for \"elbows\" in your result curves) and select the value that produces the best model with respect to **five-fold cross-validation**.\n",
    "\n",
    "**Important**: Do not use _any_ code copied and pasted directly from the lecture! Typing things out yourself is 100% essential to the learning process. It's OK to use the exact same strategies as we did in class, but be sure to enter them manually."
   ]
  },
  {
   "cell_type": "code",
   "execution_count": null,
   "metadata": {
    "collapsed": true
   },
   "outputs": [],
   "source": []
  },
  {
   "cell_type": "markdown",
   "metadata": {},
   "source": [
    "## Produce the Plot of Tuning Parameter ($k$) vs. Accuracy\n",
    "What is the \"best\" value of k?"
   ]
  },
  {
   "cell_type": "code",
   "execution_count": null,
   "metadata": {
    "collapsed": true
   },
   "outputs": [],
   "source": []
  },
  {
   "cell_type": "markdown",
   "metadata": {},
   "source": [
    "## Produce the Best KNN Model\n",
    "Now that you know the optimal value of $k$, fit a KNN on the training set (this training set should still filtered to `'Ideal'` and `'Good'` cuts)."
   ]
  },
  {
   "cell_type": "code",
   "execution_count": null,
   "metadata": {
    "collapsed": true
   },
   "outputs": [],
   "source": []
  },
  {
   "cell_type": "markdown",
   "metadata": {},
   "source": [
    "## Does This Model Outperform the Baseline?"
   ]
  },
  {
   "cell_type": "code",
   "execution_count": null,
   "metadata": {
    "collapsed": true
   },
   "outputs": [],
   "source": []
  },
  {
   "cell_type": "markdown",
   "metadata": {},
   "source": [
    "## Prediction\n",
    "Suppose I have a diamond with the following specifications:"
   ]
  },
  {
   "cell_type": "code",
   "execution_count": null,
   "metadata": {
    "collapsed": true
   },
   "outputs": [],
   "source": [
    "new_diamond = pd.DataFrame({\n",
    "    'carat': 0.24,\n",
    "    'depth': 60.,\n",
    "    'table': 64.,\n",
    "    'price': 400.,\n",
    "    'x': 3.,\n",
    "    'y': 3.,\n",
    "    'z': 3.\n",
    "}, index=[0])"
   ]
  },
  {
   "cell_type": "markdown",
   "metadata": {},
   "source": [
    "What do you predict to be the cut of this diamond?\n",
    "\n",
    "**Big hint:** Don't forget to scale this new data point appropriately!"
   ]
  },
  {
   "cell_type": "code",
   "execution_count": null,
   "metadata": {
    "collapsed": true
   },
   "outputs": [],
   "source": []
  },
  {
   "cell_type": "markdown",
   "metadata": {},
   "source": [
    "# Part 3: Now _YOU_ Model!\n",
    "Put your skills to the test."
   ]
  },
  {
   "cell_type": "markdown",
   "metadata": {},
   "source": [
    "Using the _full_ `diamonds` data set, produce a **logistic regression** model that achieves the best five-fold cross-validation. Note that, for this problem, you're performing multi-class classification. The response variable has _five_ categories."
   ]
  },
  {
   "cell_type": "code",
   "execution_count": null,
   "metadata": {
    "collapsed": true
   },
   "outputs": [],
   "source": []
  }
 ],
 "metadata": {
  "anaconda-cloud": {},
  "kernelspec": {
   "display_name": "Python 2",
   "language": "python",
   "name": "python2"
  },
  "language_info": {
   "codemirror_mode": {
    "name": "ipython",
    "version": 2
   },
   "file_extension": ".py",
   "mimetype": "text/x-python",
   "name": "python",
   "nbconvert_exporter": "python",
   "pygments_lexer": "ipython2",
   "version": "2.7.13"
  }
 },
 "nbformat": 4,
 "nbformat_minor": 1
}
