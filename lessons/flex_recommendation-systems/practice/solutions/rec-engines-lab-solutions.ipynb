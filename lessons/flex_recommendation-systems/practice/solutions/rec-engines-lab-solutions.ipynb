{
 "cells": [
  {
   "cell_type": "markdown",
   "metadata": {},
   "source": [
    "<img src=\"http://imgur.com/1ZcRyrc.png\" style=\"float: left; margin: 20px; height: 55px\">\n",
    "\n",
    "\n",
    "# Recommendations: Collaborative Filtering Lab\n",
    "\n",
    "_Author: Dan Wilhelm (LA)_\n",
    "\n",
    "---"
   ]
  },
  {
   "cell_type": "markdown",
   "metadata": {},
   "source": [
    "# Collaborative Filtering Lab\n",
    "\n",
    "Today, we will be writing User-based and Item-based Collaborative Filtering recommendation engines. First, we'll write a User-based engine. This ranks each user by similarity to a given user. Then, it recommends brands from the most similar users, weighting each brand by the users' similarity.\n",
    "\n",
    "Because Collaborative Filtering is relatively easy to implement and not part of Scikit-learn, we will be writing it from scratch using vanilla Python."
   ]
  },
  {
   "cell_type": "code",
   "execution_count": 1,
   "metadata": {},
   "outputs": [],
   "source": [
    "from collections import Counter\n",
    "\n",
    "from matplotlib import pyplot as plt\n",
    "\n",
    "%matplotlib inline\n",
    "\n",
    "BRANDS_FILE = '../../datasets/user_brand.csv'"
   ]
  },
  {
   "cell_type": "markdown",
   "metadata": {},
   "source": [
    "## Load in User-Brands Data"
   ]
  },
  {
   "cell_type": "code",
   "execution_count": 2,
   "metadata": {
    "scrolled": true
   },
   "outputs": [
    {
     "data": {
      "text/plain": [
       "[('80002', 'Target'),\n",
       " ('80002', 'Home Depot'),\n",
       " ('80010', \"Levi's\"),\n",
       " ('80010', 'Puma'),\n",
       " ('80010', 'Cuisinart'),\n",
       " ('80010', 'Converse'),\n",
       " ('80010', 'DKNY'),\n",
       " ('80010', 'Express'),\n",
       " ('80010', \"Kohl's\"),\n",
       " ('80010', 'Old Navy'),\n",
       " ('80010', 'Container Store'),\n",
       " ('80010', 'Nordstrom'),\n",
       " ('80011', 'Kenneth Cole'),\n",
       " ('80011', 'Calvin Klein'),\n",
       " ('80011', 'French Connection'),\n",
       " ('80011', 'BCBGMAXAZRIA'),\n",
       " ('80011', 'Nine West'),\n",
       " ('80011', 'Steve Madden'),\n",
       " ('80011', 'Diesel'),\n",
       " ('80011', 'Guess')]"
      ]
     },
     "execution_count": 2,
     "metadata": {},
     "output_type": "execute_result"
    }
   ],
   "source": [
    "user_brands = dict()\n",
    "\n",
    "with open(BRANDS_FILE, 'r', encoding='utf-8') as fin:\n",
    "    data = [tuple(line.strip().split(\",\")) for line in fin]\n",
    "\n",
    "data[:20]"
   ]
  },
  {
   "cell_type": "markdown",
   "metadata": {},
   "source": [
    "## Explore the Data\n",
    "\n",
    "To assist you in exploring, make the following variables:"
   ]
  },
  {
   "cell_type": "code",
   "execution_count": 3,
   "metadata": {},
   "outputs": [],
   "source": [
    "users = [line[0] for line in data]   # List of all users\n",
    "brands = [line[1] for line in data]  # List of all brands\n",
    "\n",
    "# user_brands = {'48132': {'Target', 'H&M', 'Gap'}, '31341': {'Zipcar'}, ... }\n",
    "user_brands = {}\n",
    "for user, brand in data:\n",
    "    # If key 'user' hasn't been added yet, set it to an empty set with set(), then add the brand to the set\n",
    "    user_brands.setdefault(user, set()).add(brand)\n",
    "\n",
    "# brand_users = {'Target': {'48132', '84172', '12353'}, 'Zipcar': {'31341'}, ... }\n",
    "brand_users = {}\n",
    "for user, brand in data:\n",
    "    # Likewise for each brand (aggregate a set of users)\n",
    "    brand_users.setdefault(brand, set()).add(user)"
   ]
  },
  {
   "cell_type": "markdown",
   "metadata": {},
   "source": [
    "1 - How many unique users are there?"
   ]
  },
  {
   "cell_type": "code",
   "execution_count": 4,
   "metadata": {},
   "outputs": [
    {
     "data": {
      "text/plain": [
       "3759"
      ]
     },
     "execution_count": 4,
     "metadata": {},
     "output_type": "execute_result"
    }
   ],
   "source": [
    "len(set(users))"
   ]
  },
  {
   "cell_type": "markdown",
   "metadata": {},
   "source": [
    "2 - How many unique brands are there?"
   ]
  },
  {
   "cell_type": "code",
   "execution_count": 5,
   "metadata": {},
   "outputs": [
    {
     "data": {
      "text/plain": [
       "198"
      ]
     },
     "execution_count": 5,
     "metadata": {},
     "output_type": "execute_result"
    }
   ],
   "source": [
    "len(set(brands))"
   ]
  },
  {
   "cell_type": "markdown",
   "metadata": {},
   "source": [
    "3 - What is the distribution of the number of brands liked by users?\n",
    "\n",
    "_Hint:_ Make a list of ```likes_per_brand``` then plot a histogram! \n",
    "\n",
    "+ For example: ```plt.hist([1, 1, 1, 2, 2, 3], bins=3)```"
   ]
  },
  {
   "cell_type": "code",
   "execution_count": 6,
   "metadata": {},
   "outputs": [
    {
     "data": {
      "image/png": "[encoded data removed]",
      "text/plain": [
       "<Figure size 432x288 with 1 Axes>"
      ]
     },
     "metadata": {},
     "output_type": "display_data"
    }
   ],
   "source": [
    "# list of number of brand likes\n",
    "likes_per_brand = [len(brand_users[key]) for key in brand_users.keys()]\n",
    "    \n",
    "plt.hist(likes_per_brand, bins=50);\n",
    "plt.xlabel('Number of likes per brand (binned)');\n",
    "plt.ylabel('Number of brands');\n",
    "plt.title('Most brands are liked very infrequently');"
   ]
  },
  {
   "cell_type": "markdown",
   "metadata": {},
   "source": [
    "4 - What is the distribution of the number of users who like a brand?"
   ]
  },
  {
   "cell_type": "code",
   "execution_count": 7,
   "metadata": {},
   "outputs": [
    {
     "data": {
      "image/png": "[encoded data removed]",
      "text/plain": [
       "<Figure size 432x288 with 1 Axes>"
      ]
     },
     "metadata": {},
     "output_type": "display_data"
    }
   ],
   "source": [
    "# list of number of brand likes\n",
    "likes_per_user = [len(user_brands[key]) for key in user_brands.keys()]\n",
    "\n",
    "plt.hist(likes_per_user, bins=50);\n",
    "plt.xlabel('Number of likes per user (binned)');\n",
    "plt.ylabel('Number of users');\n",
    "plt.title('Most users like few brands');"
   ]
  },
  {
   "cell_type": "markdown",
   "metadata": {},
   "source": [
    "5 - How many people like **Target**?"
   ]
  },
  {
   "cell_type": "code",
   "execution_count": 8,
   "metadata": {},
   "outputs": [
    {
     "data": {
      "text/plain": [
       "1866"
      ]
     },
     "execution_count": 8,
     "metadata": {},
     "output_type": "execute_result"
    }
   ],
   "source": [
    "brands.count('Target')"
   ]
  },
  {
   "cell_type": "markdown",
   "metadata": {},
   "source": [
    "6 - How many people like **Banana Republic**?"
   ]
  },
  {
   "cell_type": "code",
   "execution_count": 9,
   "metadata": {},
   "outputs": [
    {
     "data": {
      "text/plain": [
       "932"
      ]
     },
     "execution_count": 9,
     "metadata": {},
     "output_type": "execute_result"
    }
   ],
   "source": [
    "brands.count('Banana Republic')"
   ]
  },
  {
   "cell_type": "markdown",
   "metadata": {},
   "source": [
    "7 - What brands does **user 86184** like?"
   ]
  },
  {
   "cell_type": "code",
   "execution_count": 10,
   "metadata": {},
   "outputs": [
    {
     "data": {
      "text/plain": [
       "{'DKNY', 'Express', 'Guess', \"Kohl's\", 'Old Navy', 'Target'}"
      ]
     },
     "execution_count": 10,
     "metadata": {},
     "output_type": "execute_result"
    }
   ],
   "source": [
    "user_brands['86184']"
   ]
  },
  {
   "cell_type": "markdown",
   "metadata": {},
   "source": [
    "8 - What brands does **user 83126** like?"
   ]
  },
  {
   "cell_type": "code",
   "execution_count": 11,
   "metadata": {},
   "outputs": [
    {
     "data": {
      "text/plain": [
       "{'CB2', 'Container Store', 'Restoration Hardware', 'Serena and Lily'}"
      ]
     },
     "execution_count": 11,
     "metadata": {},
     "output_type": "execute_result"
    }
   ],
   "source": [
    "user_brands['83126']"
   ]
  },
  {
   "cell_type": "markdown",
   "metadata": {},
   "source": [
    "## Jaccard Distance Measure\n",
    "\n",
    "Given two sets of brands, e.g. `user1 = {'Target', 'Starbucks', 'Gap'} and user2 = {'Starbucks', 'Old Navy'}`, the Jaccard distance is:\n",
    "\n",
    "+ jaccard(u1, u2) = 1 - (# brands in common) / (# brands in total)."
   ]
  },
  {
   "cell_type": "code",
   "execution_count": 12,
   "metadata": {},
   "outputs": [],
   "source": [
    "def jaccard_distance(set1, set2):\n",
    "    if not set1 and not set2:\n",
    "        return 0.0\n",
    "    \n",
    "    return 1. - (len(set1 & set2) / len(set1 | set2))"
   ]
  },
  {
   "cell_type": "code",
   "execution_count": 13,
   "metadata": {},
   "outputs": [],
   "source": [
    "# Make test sets by hand, for example using 'Target' and 'Banana Republic'.\n",
    "# Compute what the jaccard distance should be for your test set.\n",
    "# Does calling your function yield the same result?\n",
    "\n",
    "assert(jaccard_distance({'Target'}, {'Target'}) == 0.0)\n",
    "assert(jaccard_distance({'Target'}, {'Target', 'Banana Republic'}) == 0.5)\n",
    "assert(jaccard_distance({'Gap'}, {'Target', 'Banana Republic'}) == 1.0)\n",
    "assert(jaccard_distance({'Gap'}, set()) == 1.0)"
   ]
  },
  {
   "cell_type": "markdown",
   "metadata": {},
   "source": [
    "## Weighted Jaccard Distance\n",
    "\n",
    "This metric does not fully capture our intution of distance between two users and the brands they like. For example, two users who have Target in common are less likely to be similar than users who have Autozone in common. So, let's add a weighting which emphasizes less frequent brands.\n",
    "\n",
    "+ Weight each brand by 1/(brand's total likes). This is a useful measure, since we want a large weight with only 2 likes and a much smaller weight with 100 likes.\n",
    "+ This weighting works because \"Target\" is liked by most users, so it is a less meaningful brand for similarity than \"Zipcar\"."
   ]
  },
  {
   "cell_type": "code",
   "execution_count": 14,
   "metadata": {},
   "outputs": [],
   "source": [
    "# count how many times each brand appears in the entire dataset\n",
    "brand_freq = Counter([line[1] for line in data])\n",
    "\n",
    "def weighted_jaccard_distance(set1, set2):\n",
    "    if not set1 and not set2:\n",
    "        return 0\n",
    "    \n",
    "    weighted_intersection = (1. / brand_freq.get(brand) for brand in set1 & set2)\n",
    "    weighted_union = (1. / brand_freq.get(brand) for brand in set1 | set2)\n",
    "    \n",
    "    return 1. - (sum(weighted_intersection) / sum(weighted_union))"
   ]
  },
  {
   "cell_type": "code",
   "execution_count": 15,
   "metadata": {},
   "outputs": [
    {
     "name": "stdout",
     "output_type": "stream",
     "text": [
      "1866 932\n",
      "0.6669049320943531\n"
     ]
    },
    {
     "data": {
      "text/plain": [
       "0.6669049320943531"
      ]
     },
     "execution_count": 15,
     "metadata": {},
     "output_type": "execute_result"
    }
   ],
   "source": [
    "# Make test sets by hand, for example using 'Target' and 'Banana Republic'.\n",
    "# Compute what the weighted jaccard score should be for your test set.\n",
    "# Does calling your function yield the same result?\n",
    "\n",
    "# Computing an example by hand\n",
    "print(brand_freq.get('Target'), brand_freq.get('Banana Republic'))\n",
    "print(1. - (1./1866) / (1./1866 + 1./932))\n",
    "\n",
    "# Testing\n",
    "weighted_jaccard_distance({'Target'}, {'Target', 'Banana Republic'})"
   ]
  },
  {
   "cell_type": "markdown",
   "metadata": {},
   "source": [
    "## Recommendation Engine\n",
    "\n",
    "First, we'll define two already completed helper functions. \n",
    "\n",
    "```\n",
    "# Pretty-prints similar brands to Target\n",
    "for_brands('Target')\n",
    "\n",
    "# Pretty-prints brands that user 86184 will like\n",
    "for_users('86184') \n",
    "```\n",
    "\n"
   ]
  },
  {
   "cell_type": "code",
   "execution_count": 16,
   "metadata": {},
   "outputs": [],
   "source": [
    "def for_brands(brand_name):\n",
    "    \"\"\"\n",
    "    Given a brand name **string**, returns a pretty-print string of \n",
    "      recommendations of more brands.\n",
    "    \"\"\"\n",
    "\n",
    "    # IMPORTANT: 'recommend_for_brands' expects a set of brand names.\n",
    "    #   So, because 'brand_name' is a string, we convert the single name \n",
    "    #   to a set containing the brand name\n",
    "\n",
    "    recs = recommend_for_brands(set([brand_name]))\n",
    "\n",
    "    return \"For a user who likes {liked}, we recommend {recs}.\".format(\n",
    "        liked=brand_name,\n",
    "        recs=\", \".join(recs))\n",
    "\n",
    "\n",
    "def for_user(user):\n",
    "    \"\"\"\n",
    "    Given a user name **string**, returns a pretty-print string \n",
    "      of recommendations for a user.\n",
    "    \"\"\"\n",
    "    recs = recommend_for_user(user)\n",
    "\n",
    "    return \"For user {user}, who likes {liked}, we recommend {recs}.\".format(\n",
    "        user=user,\n",
    "        liked=\", \".join(user_brands.get(user, [\"nothing\"])),\n",
    "        recs=\", \".join(recs))"
   ]
  },
  {
   "cell_type": "markdown",
   "metadata": {},
   "source": [
    "Next, we define how to recommend brands to users. Make sure you understand how it works -- we just ask for similar brands to the brands the user already likes. The below function is complete!"
   ]
  },
  {
   "cell_type": "code",
   "execution_count": 17,
   "metadata": {},
   "outputs": [],
   "source": [
    "def recommend_for_user(user_string):\n",
    "    \"\"\"\n",
    "     Recommend items to a user that are similar \n",
    "       to the brands the user already likes\n",
    "    \"\"\"\n",
    "\n",
    "    return recommend_for_brands(user_brands.get(user_string, set()))\n",
    "\n",
    "    # NOTE: The second parameter to get() is the default\n",
    "    #   value to send if the user is not a key in 'user_brands'"
   ]
  },
  {
   "cell_type": "markdown",
   "metadata": {},
   "source": [
    "Finally, we implement recommending brands based on a list of brands. To do this, we will find the users closest to the brands set. Then, other brands that those users like will be recommended. \n",
    "\n",
    "Use the ```jaccard``` or ```jaccard_weighted``` as your distance function to rank users. Then, use your best judgement for how to collect the additional brands."
   ]
  },
  {
   "cell_type": "code",
   "execution_count": 18,
   "metadata": {},
   "outputs": [],
   "source": [
    "def recommend_for_brands(brands_set):\n",
    "    \"\"\"\n",
    "    Return top five recommended brands\n",
    "      based on the brands in 'brands_set'.\n",
    "    \"\"\"\n",
    "    \n",
    "    # The strategy is:\n",
    "    #   (1) Find the users most similar to the 'brands_set'.\n",
    "    #   (2) Get 5 brands those users also like\n",
    "    #   (3) OPTIONAL: Weight the 5 stores by most unique to least unique\n",
    "\n",
    "    # user_brands.items() = [('48132', {'Target', 'H&M', 'Gap'}), ('31341', {'Zipcar'}), ... }\n",
    "    #  + 'sorted' sorts a tuple normally by its first element.\n",
    "    #  + 'key' is a number used to sort the items. 'x' stands for the current item\n",
    "    #     being sorted, so it is the set of brands for the current user (see the line above).\n",
    "    #  + We do not reverse the sorted list, since we want the smallest distance first.\n",
    "    user_brands_by_distance = sorted(user_brands.items(),\n",
    "                                     key=lambda x: weighted_jaccard_distance(brands_set, x[1]),\n",
    "                                     reverse=False)\n",
    "    \n",
    "    # At this point, the user/brands dictionary is sorted by similarity to the 'brands_set'\n",
    "    # For example:\n",
    "    # + For brand_set = {'Old Navy', 'DKNY', 'Guess', 'Express', 'Target', \"Kohl's\"}, then:\n",
    "    # + user_brands_by_distance[:5] = [\n",
    "    #    ('86184', {'Old Navy', 'DKNY', 'Guess', 'Express', 'Target', \"Kohl's\"}), \n",
    "    #    ('90464', {'DKNY', 'Guess', 'Express', 'Target', \"Kohl's\"}), \n",
    "    #    ('82877', {'DKNY', 'Guess', 'Express'}), \n",
    "    #    ('90920', {'Old Navy', 'DKNY', 'Crate & Barrel', 'Guess', 'Express', 'Home Depot', 'BCBGMAXAZRIA', \"Kohl's\"}), \n",
    "    #    ('81511', {'Lacoste', 'Old Navy', 'DKNY', 'Banana Republic', 'Guess', 'Express'})]\n",
    "    \n",
    "    # Slow but easy to read\n",
    "    ordered_brands = []\n",
    "    for user,brands in user_brands_by_distance:\n",
    "        ordered_brands += [brand for brand in brands \\\n",
    "                           if brand not in brands_set and brand not in ordered_brands]\n",
    "    \n",
    "    # sorted() is only to complete the OPTIONAL challenge\n",
    "    # - Sorted by most unique (largest 1/freq) to least unique (smallest 1/freq)\n",
    "    #   Otherwise, could just return ordered_brands[:5]\n",
    "    return sorted(ordered_brands[:5], \n",
    "                  key=lambda x: 1. / brand_freq[x], \n",
    "                  reverse=True)"
   ]
  },
  {
   "cell_type": "markdown",
   "metadata": {},
   "source": [
    "## Testing"
   ]
  },
  {
   "cell_type": "code",
   "execution_count": 19,
   "metadata": {},
   "outputs": [
    {
     "name": "stdout",
     "output_type": "stream",
     "text": [
      "\n",
      "For a user who likes Target, we recommend Nordstrom, Banana Republic, Kohl's, Home Depot, Old Navy.\n",
      "\n",
      "For a user who likes Banana Republic, we recommend Nordstrom, Kohl's, Home Depot, Old Navy, Target.\n",
      "\n",
      "For user 86184, who likes Kohl's, DKNY, Old Navy, Guess, Express, Target, we recommend Lacoste, BCBGMAXAZRIA, Crate & Barrel, Banana Republic, Home Depot.\n",
      "\n",
      "For user 83126, who likes Container Store, Restoration Hardware, CB2, Serena and Lily, we recommend Le Creuset, 6pm.com, Crocs, Crate & Barrel, Nordstrom.\n",
      "\n"
     ]
    }
   ],
   "source": [
    "# For testing, recommend brands similar to Target and Banana Republic\n",
    "print(\"\\n\" + for_brands(\"Target\") + \"\\n\")\n",
    "print(for_brands(\"Banana Republic\") + \"\\n\")\n",
    "\n",
    "# For testing, recommend brands for users 86184 and 83126\n",
    "#    NOTE: This is based on the brands each user likes\n",
    "print(for_user(\"86184\") + \"\\n\")\n",
    "print(for_user(\"83126\") + \"\\n\")"
   ]
  },
  {
   "cell_type": "markdown",
   "metadata": {},
   "source": [
    "## Next Step: Item-based Collaborative Filtering\n",
    "\n",
    "You just did user-based collaborative filtering:\n",
    "+ Step one: Find users similar to the target user (or set of brands)\n",
    "+ Step two: Recommend things that similar users like.\n",
    "    \n",
    "Consider now framing the problem as an item-based problem:\n",
    "+ Step one: Determine similarity of brands to one another (via users)\n",
    "+ Step two: Recommend things that are similar to what the target user likes."
   ]
  },
  {
   "cell_type": "code",
   "execution_count": 20,
   "metadata": {},
   "outputs": [],
   "source": [
    "def recommend_for_brand(brand_name, excluded_brands={}, nrecs=1):\n",
    "    \"\"\"Return at most `nrecs` ordered recommended brands\n",
    "    for the brand given by `brand_name`. If specified, \n",
    "    all brands in `excluded_brands` are not recommended.\n",
    "    \"\"\"\n",
    "    \n",
    "    # If no users liked the brand, return no recommendations\n",
    "    if brand_name not in brand_users:\n",
    "        return []\n",
    "    \n",
    "    # List of brands liked ALONGSIDE `brand_name`\n",
    "    # Filters out brands in `excluded_brands`\n",
    "    users = brand_users[brand_name]\n",
    "    other_brands_liked = [brand for user in users \\\n",
    "                                for brand in user_brands[user] \\\n",
    "                                if brand not in excluded_brands]\n",
    "    \n",
    "    # Return the `nrecs` most common brands liked\n",
    "    other_brand_counts = Counter(other_brands_liked)\n",
    "    \n",
    "    return [brand for brand,count in other_brand_counts.most_common(nrecs)]\n",
    "    \n",
    "\n",
    "def recommend_for_brands(brands_set):\n",
    "    \"\"\"Return the top recommended brand for\n",
    "        each brand in `brands_set` using\n",
    "        Item-based collaborative filtering.\n",
    "    \"\"\"\n",
    "    recommended_brands = []\n",
    "    \n",
    "    # Combine recommendations for each brand\n",
    "    for brand_name in brands_set:\n",
    "        recommended_brands.extend(\n",
    "            recommend_for_brand(brand_name, \n",
    "                                excluded_brands=brands_set,\n",
    "                                nrecs=1))\n",
    "    \n",
    "    return set(recommended_brands)"
   ]
  },
  {
   "cell_type": "code",
   "execution_count": 21,
   "metadata": {},
   "outputs": [
    {
     "name": "stdout",
     "output_type": "stream",
     "text": [
      "\n",
      "For a user who likes Target, we recommend Old Navy.\n",
      "\n",
      "For a user who likes Banana Republic, we recommend Target.\n",
      "\n",
      "For user 86184, who likes Kohl's, DKNY, Old Navy, Guess, Express, Target, we recommend Banana Republic, Calvin Klein, Home Depot, Nordstrom.\n",
      "\n",
      "For user 83126, who likes Container Store, Restoration Hardware, CB2, Serena and Lily, we recommend Crate & Barrel, Target.\n",
      "\n"
     ]
    }
   ],
   "source": [
    "# For testing, recommend brands similar to Target and Banana Republic\n",
    "print(\"\\n\" + for_brands(\"Target\") + \"\\n\")\n",
    "print(for_brands(\"Banana Republic\") + \"\\n\")\n",
    "\n",
    "# For testing, recommend brands for users 86184 and 83126\n",
    "#    NOTE: This is based on the brands each user likes\n",
    "print(for_user(\"86184\") + \"\\n\")\n",
    "print(for_user(\"83126\") + \"\\n\")"
   ]
  },
  {
   "cell_type": "markdown",
   "metadata": {},
   "source": [
    "## Challenge: Try a different dataset!\n",
    "\n",
    "Get the Delicious bookmarks from [here](https://grouplens.org/datasets/hetrec-2011/). This dataset contains 105,000 bookmarks from 1867 users.\n",
    "\n",
    "1. Given a user's set of links, recommend additional links the user might enjoy. Use User-based or Item-based filtering.\n",
    "\n",
    "2. Calculate similarity between tags. Are any tags almost identical? Find some bookmarks that could have been tagged \"programming\" but were not.\n"
   ]
  },
  {
   "cell_type": "code",
   "execution_count": 22,
   "metadata": {},
   "outputs": [],
   "source": [
    "# Solution not provided"
   ]
  }
 ],
 "metadata": {
  "kernelspec": {
   "display_name": "Python 3",
   "language": "python",
   "name": "python3"
  },
  "language_info": {
   "codemirror_mode": {
    "name": "ipython",
    "version": 3
   },
   "file_extension": ".py",
   "mimetype": "text/x-python",
   "name": "python",
   "nbconvert_exporter": "python",
   "pygments_lexer": "ipython3",
   "version": "3.6.10"
  }
 },
 "nbformat": 4,
 "nbformat_minor": 2
}
