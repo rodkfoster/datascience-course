{
 "cells": [
  {
   "cell_type": "markdown",
   "metadata": {},
   "source": [
    "# Reccomender Systems w/ Surprise\n",
    "From: http://surpriselib.com/\n",
    "\n",
    "Run:  ```!pip install surprise``` in an empy cell to install the surprise package\n",
    "\n",
    "### Overview\n",
    "Surprise is a Python scikit for building and analyzing recommender systems that deal with explicit rating data.\n",
    "Surprise was designed with the following purposes in mind:\n",
    "\n",
    ">Give users perfect control over their experiments. \n",
    "\n",
    "> Alleviate the pain of Dataset handling. Users can use both built-in datasets (Movielens, Jester), and their own custom datasets.\n",
    "\n",
    "\n",
    "> Provide various ready-to-use prediction algorithms such as baseline algorithms, neighborhood methods, matrix factorization-based ( SVD, PMF, SVD++, NMF), and many others. Also, various similarity measures (cosine, MSD, pearson…) are built-in.\n",
    "\n",
    "> Make it easy to implement new algorithm ideas.\n",
    "\n",
    "> Provide tools to evaluate, analyse and compare the algorithms’ performance. Cross-validation procedures can be run very easily using powerful CV iterators (inspired by scikit-learn excellent tools), as well as exhaustive search over a set of parameters."
   ]
  },
  {
   "cell_type": "markdown",
   "metadata": {},
   "source": [
    "## Data & problem"
   ]
  },
  {
   "cell_type": "code",
   "execution_count": null,
   "metadata": {
    "ExecuteTime": {
     "end_time": "2020-08-31T18:42:52.246403Z",
     "start_time": "2020-08-31T18:42:52.243555Z"
    }
   },
   "outputs": [],
   "source": [
    "from surprise import SVD\n",
    "from surprise import Dataset\n",
    "from surprise import accuracy\n",
    "from surprise.model_selection import train_test_split"
   ]
  },
  {
   "cell_type": "code",
   "execution_count": null,
   "metadata": {
    "ExecuteTime": {
     "end_time": "2020-08-31T18:41:35.516434Z",
     "start_time": "2020-08-31T18:41:28.143848Z"
    }
   },
   "outputs": [],
   "source": [
    "jester = Dataset.load_builtin(name='jester')"
   ]
  },
  {
   "cell_type": "markdown",
   "metadata": {},
   "source": [
    "### Explore your data"
   ]
  },
  {
   "cell_type": "code",
   "execution_count": null,
   "metadata": {},
   "outputs": [],
   "source": []
  },
  {
   "cell_type": "markdown",
   "metadata": {},
   "source": [
    "### Split your data into test and train"
   ]
  },
  {
   "cell_type": "code",
   "execution_count": null,
   "metadata": {
    "ExecuteTime": {
     "end_time": "2020-08-31T18:45:14.515637Z",
     "start_time": "2020-08-31T18:45:11.608109Z"
    }
   },
   "outputs": [],
   "source": [
    "train, test = train_test_split(jester, test_size=.25)"
   ]
  },
  {
   "cell_type": "markdown",
   "metadata": {},
   "source": [
    "### Fit a model to the data"
   ]
  },
  {
   "cell_type": "code",
   "execution_count": null,
   "metadata": {
    "ExecuteTime": {
     "end_time": "2020-08-31T19:10:18.593508Z",
     "start_time": "2020-08-31T19:09:03.266266Z"
    }
   },
   "outputs": [],
   "source": [
    "algo = SVD()\n",
    "algo.fit()\n",
    "predictions = \n"
   ]
  },
  {
   "cell_type": "markdown",
   "metadata": {},
   "source": [
    "### Evaluate your results"
   ]
  },
  {
   "cell_type": "code",
   "execution_count": null,
   "metadata": {},
   "outputs": [],
   "source": [
    "# Then compute RMSE\n",
    "accuracy.rmse(predictions)\n",
    "#"
   ]
  }
 ],
 "metadata": {
  "kernelspec": {
   "display_name": "Python 3",
   "language": "python",
   "name": "python3"
  },
  "language_info": {
   "codemirror_mode": {
    "name": "ipython",
    "version": 3
   },
   "file_extension": ".py",
   "mimetype": "text/x-python",
   "name": "python",
   "nbconvert_exporter": "python",
   "pygments_lexer": "ipython3",
   "version": "3.8.3"
  }
 },
 "nbformat": 4,
 "nbformat_minor": 4
}
