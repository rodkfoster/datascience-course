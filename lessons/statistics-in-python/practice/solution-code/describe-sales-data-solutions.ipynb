{
 "cells": [
  {
   "cell_type": "markdown",
   "metadata": {},
   "source": [
    "<img src=\"http://imgur.com/1ZcRyrc.png\" style=\"float: left; margin: 20px; height: 55px\">\n",
    "\n",
    "## Describing Sales Data with `numpy`\n",
    "\n",
    "_Author: Kiefer Katovich(SF), Joseph Nelson(DC)_\n",
    "\n",
    "---\n",
    "\n",
    "Run the cell below to load the required packages and set up plotting in the notebook!"
   ]
  },
  {
   "cell_type": "code",
   "execution_count": 2,
   "metadata": {},
   "outputs": [],
   "source": [
    "import numpy as np\n",
    "import scipy.stats as stats\n",
    "import csv\n",
    "import seaborn as sns\n",
    "\n",
    "%matplotlib inline"
   ]
  },
  {
   "cell_type": "markdown",
   "metadata": {},
   "source": [
    "## Loading CSV files with python\n",
    "\n",
    "---\n",
    "\n",
    "For this lab you will be using a truncated version of some sales data.\n",
    "\n",
    "The csv has about 200 rows of data and four columns. The relative path to `sales_info.csv` is provided below.\n",
    "\n",
    "\n",
    "Let's take a look at the `csv` module we imported. The csv module’s reader and writer objects read and write sequences. The following python code demonstrates a process for loading data from a CSV file and (in this case) appending each row to a list.\n",
    "\n",
    "\n",
    "```python\n",
    "import csv\n",
    "print 'Opening File. Data: '\n",
    "csv_rows = []\n",
    "with open('./datasets/sales_info.csv', 'rU') as f:\n",
    "    reader = csv.reader(f)\n",
    "    for row in reader:\n",
    "        csv_rows.append(row)\n",
    "f.close()\n",
    "print 'file closed'   # Always remember to close the file after writing to it!\n",
    "```\n",
    "\n",
    "The first argument to `csv.reader` is the string path to the file. The second argument specifies the \"mode\" for the open file object:\n",
    "- `'r'` - Read (Default)\n",
    "- `'w'` - Write\n",
    "- `'a'` - Append;  Adds additional modifications to the end.  Unable to edit current contents.\n",
    "- `'b'` - Binary (used when working with a binary file, i.e. 'rb', for reading a binary file)\n",
    "- `'U'` - Opens text in Universal Newline mode.  As '\\r', '\\n', and '\\r\\n' all indicate a newline depending on which language the file was written in, Universal Newline Mode will read '\\r', '\\n', and '\\r\\n' as Python's '\\n'."
   ]
  },
  {
   "cell_type": "code",
   "execution_count": 3,
   "metadata": {},
   "outputs": [],
   "source": [
    "sales_csv_path = '../datasets/sales_info.csv'"
   ]
  },
  {
   "cell_type": "markdown",
   "metadata": {},
   "source": [
    "### 1. Loading the data\n",
    "\n",
    "Set up an empty list called ```rows```.\n",
    "\n",
    "Using the pattern for loading csvs we learned earlier, add all of the rows in the csv file to the rows list.\n",
    "\n",
    "For your reference, the pattern is:\n",
    "```python\n",
    "with open(my_csv_path, 'r') as f:\n",
    "    reader = csv.reader(f)\n",
    "    ...\n",
    "```\n",
    "\n",
    "Beyond this, adding the rows in the csv file to the ```rows``` variable is up to you."
   ]
  },
  {
   "cell_type": "code",
   "execution_count": 4,
   "metadata": {},
   "outputs": [],
   "source": [
    "rows = []\n",
    "\n",
    "with open(sales_csv_path, 'r') as f:\n",
    "    reader = csv.reader(f)\n",
    "    for row in reader:\n",
    "        rows.append(row)"
   ]
  },
  {
   "cell_type": "markdown",
   "metadata": {},
   "source": [
    "### 2. Separate header and data\n",
    "\n",
    "The header of the csv is contained in the first index of the ```rows``` variable, as it is the first row in the csv file. \n",
    "\n",
    "Use python indexing to create two new variables: ```header``` which contains the 4 column names, and ```data``` which contains the list of lists, each sub-list representing a row from the csv.\n",
    "\n",
    "Lastly, print ```header``` to see the names of the columns."
   ]
  },
  {
   "cell_type": "code",
   "execution_count": 5,
   "metadata": {},
   "outputs": [
    {
     "name": "stdout",
     "output_type": "stream",
     "text": [
      "['volume_sold', '2015_margin', '2015_q1_sales', '2016_q1_sales']\n"
     ]
    }
   ],
   "source": [
    "header = rows[0]\n",
    "data = rows[1:]\n",
    "print(header)"
   ]
  },
  {
   "cell_type": "markdown",
   "metadata": {},
   "source": [
    "### 3. Create a dictionary with the data\n",
    "\n",
    "Use loops or list comprehensions to create a dictionary called ```sales_data```, where the keys of the dictionary are the column names, and the values of the dictionary are lists of the data points of the column corresponding to that column name."
   ]
  },
  {
   "cell_type": "code",
   "execution_count": 6,
   "metadata": {},
   "outputs": [],
   "source": [
    "sales_data = {}\n",
    "\n",
    "for index, column_name in enumerate(header):\n",
    "    sales_data[column_name] = []\n",
    "    for row in data:\n",
    "        sales_data[column_name].append(row[index])"
   ]
  },
  {
   "cell_type": "markdown",
   "metadata": {},
   "source": [
    "**3.A Print out the first 10 items of the 'volume_sold' column.**"
   ]
  },
  {
   "cell_type": "code",
   "execution_count": 7,
   "metadata": {},
   "outputs": [
    {
     "data": {
      "text/plain": [
       "['18.4207604861',\n",
       " '4.77650991918',\n",
       " '16.6024006077',\n",
       " '4.29611149826',\n",
       " '8.15602328201',\n",
       " '5.00512242518',\n",
       " '14.60675',\n",
       " '4.45646649485',\n",
       " '5.04752965097',\n",
       " '5.38807023767']"
      ]
     },
     "execution_count": 7,
     "metadata": {},
     "output_type": "execute_result"
    }
   ],
   "source": [
    "sales_data['volume_sold'][0:10]"
   ]
  },
  {
   "cell_type": "markdown",
   "metadata": {},
   "source": [
    "### 4. Convert data from string to float\n",
    "\n",
    "As you can see, the data is still in string format (which is how it is read in from the csv). For each key:value pair in our ```sales_data``` dictionary, convert the values (column data) from string values to float values."
   ]
  },
  {
   "cell_type": "code",
   "execution_count": 8,
   "metadata": {},
   "outputs": [],
   "source": [
    "for name, col in sales_data.items():\n",
    "    col = [float(x) for x in col]\n",
    "    sales_data[name] = col\n",
    "    "
   ]
  },
  {
   "cell_type": "markdown",
   "metadata": {},
   "source": [
    "### 5. Write function to print summary statistics\n",
    "\n",
    "Now write a function to print out summary statistics for the data.\n",
    "\n",
    "Your function should:\n",
    "\n",
    "- Accept two arguments: the column name and the data that column is associated with.\n",
    "- Print out information, clearly labeling each item when you print it:\n",
    "    1. Print out the column name\n",
    "    2. Print the mean of that column using `np.mean()`\n",
    "    3. Print out the median of that column using `np.median()`\n",
    "    4. Print out the mode of that column **rounded** using `stats.mode()`\n",
    "    5. Print out the variance of that column using `np.var()`\n",
    "    6. Print out the standard deviation of that column using `np.std()`\n",
    "    \n",
    "Remember, in order to print the desired output, you will need to convert the numeric data from this function to strings by wrapping them in the `str()` function."
   ]
  },
  {
   "cell_type": "code",
   "execution_count": 9,
   "metadata": {
    "scrolled": true
   },
   "outputs": [],
   "source": [
    "def summary_statistics(column, data):\n",
    "    X = data[column]\n",
    "    print ('COLUMN: ' + column)\n",
    "    print ('mean: ' + str(np.mean(X)))\n",
    "    print ('median: ' + str(np.median(X)))\n",
    "    print ('mode: ' + str(stats.mode([round(d) for d in X])))\n",
    "    print ('variance: ' + str(np.var(X)))\n",
    "    print ('standard deviation: ' + str(np.std(X)))\n"
   ]
  },
  {
   "cell_type": "markdown",
   "metadata": {},
   "source": [
    "**5.A Using your function, print the summary statistics for `volume_sold`.**"
   ]
  },
  {
   "cell_type": "code",
   "execution_count": 10,
   "metadata": {},
   "outputs": [
    {
     "name": "stdout",
     "output_type": "stream",
     "text": [
      "COLUMN: volume_sold\n",
      "mean: 10.0186840789888\n",
      "median: 8.16634551564\n",
      "mode: ModeResult(mode=array([8]), count=array([28]))\n",
      "variance: 84.12996520049938\n",
      "standard deviation: 9.172238832504275\n"
     ]
    }
   ],
   "source": [
    "summary_statistics('volume_sold', sales_data)"
   ]
  },
  {
   "cell_type": "markdown",
   "metadata": {},
   "source": [
    "**5.B Using your function, print the summary statistics for `2015_margin`.**"
   ]
  },
  {
   "cell_type": "code",
   "execution_count": 11,
   "metadata": {},
   "outputs": [
    {
     "name": "stdout",
     "output_type": "stream",
     "text": [
      "COLUMN: 2015_margin\n",
      "mean: 46.8588951379235\n",
      "median: 36.5621438181\n",
      "mode: ModeResult(mode=array([35]), count=array([9]))\n",
      "variance: 2016.0616629583997\n",
      "standard deviation: 44.90057530765502\n"
     ]
    }
   ],
   "source": [
    "summary_statistics('2015_margin', sales_data)"
   ]
  },
  {
   "cell_type": "markdown",
   "metadata": {},
   "source": [
    "**5.C Using your function, print the summary statistics for `2015_q1_sales`.**"
   ]
  },
  {
   "cell_type": "code",
   "execution_count": 12,
   "metadata": {},
   "outputs": [
    {
     "name": "stdout",
     "output_type": "stream",
     "text": [
      "COLUMN: 2015_q1_sales\n",
      "mean: 154631.66820000001\n",
      "median: 104199.41\n",
      "mode: ModeResult(mode=array([4152]), count=array([1]))\n",
      "variance: 47430301462.331505\n",
      "standard deviation: 217784.98906566427\n"
     ]
    }
   ],
   "source": [
    "summary_statistics('2015_q1_sales', sales_data)"
   ]
  },
  {
   "cell_type": "markdown",
   "metadata": {},
   "source": [
    "**5.D Using your function, print the summary statistics for `2016_q1_sales`.**"
   ]
  },
  {
   "cell_type": "code",
   "execution_count": 13,
   "metadata": {},
   "outputs": [
    {
     "name": "stdout",
     "output_type": "stream",
     "text": [
      "COLUMN: 2016_q1_sales\n",
      "mean: 154699.17875\n",
      "median: 103207.20000000001\n",
      "mode: ModeResult(mode=array([3536]), count=array([1]))\n",
      "variance: 47139411653.44524\n",
      "standard deviation: 217116.12481215032\n"
     ]
    }
   ],
   "source": [
    "summary_statistics('2016_q1_sales', sales_data)"
   ]
  },
  {
   "cell_type": "markdown",
   "metadata": {},
   "source": [
    "### 6. Plot the distributions\n",
    "\n",
    "We've provided a plotting function below called ```distribution_plotter()```. It takes two arguments, the name of the column and the data associated with that column.\n",
    "\n",
    "In individual cells, plot the distributions for each of the four columns. Does the data appear skewed? Symmetrical? If skewed, what would be your hypothesis for why?"
   ]
  },
  {
   "cell_type": "code",
   "execution_count": 13,
   "metadata": {},
   "outputs": [],
   "source": [
    "def distribution_plotter(column, data_set):\n",
    "    data = data_set[column]\n",
    "    sns.set(rc={\"figure.figsize\": (10, 7)})\n",
    "    sns.set(color_codes=True)\n",
    "    sns.set(style=\"white\", palette=\"muted\")\n",
    "    dist = sns.distplot(data, hist_kws={'alpha':0.2}, kde_kws={'linewidth':5})\n",
    "    dist.set_title('Distribution of ' + column + '\\n', fontsize=16)"
   ]
  },
  {
   "cell_type": "code",
   "execution_count": 14,
   "metadata": {},
   "outputs": [
    {
     "data": {
      "image/png": "[encoded data removed]",
      "text/plain": [
       "<matplotlib.figure.Figure at 0xee2d5b0828>"
      ]
     },
     "metadata": {},
     "output_type": "display_data"
    }
   ],
   "source": [
    "distribution_plotter('volume_sold', sales_data)"
   ]
  },
  {
   "cell_type": "code",
   "execution_count": 15,
   "metadata": {},
   "outputs": [
    {
     "data": {
      "image/png": "[encoded data removed]",
      "text/plain": [
       "<matplotlib.figure.Figure at 0xee300c15f8>"
      ]
     },
     "metadata": {},
     "output_type": "display_data"
    }
   ],
   "source": [
    "distribution_plotter('2015_q1_sales', sales_data)"
   ]
  },
  {
   "cell_type": "code",
   "execution_count": 16,
   "metadata": {},
   "outputs": [
    {
     "data": {
      "image/png": "[encoded data removed]",
      "text/plain": [
       "<matplotlib.figure.Figure at 0xee300c1d30>"
      ]
     },
     "metadata": {},
     "output_type": "display_data"
    }
   ],
   "source": [
    "distribution_plotter('2015_margin', sales_data)"
   ]
  },
  {
   "cell_type": "code",
   "execution_count": 17,
   "metadata": {},
   "outputs": [
    {
     "data": {
      "image/png": "[encoded data removed]",
      "text/plain": [
       "<matplotlib.figure.Figure at 0xee313e48d0>"
      ]
     },
     "metadata": {},
     "output_type": "display_data"
    }
   ],
   "source": [
    "distribution_plotter('2016_q1_sales', sales_data)"
   ]
  },
  {
   "cell_type": "markdown",
   "metadata": {},
   "source": [
    "---\n",
    "\n",
    "### An aside on the plotting function...\n",
    "\n",
    "Check out this example:\n",
    "\n",
    "```python\n",
    "   1.  sns.set(rc={\"figure.figsize\": (10, 7)})\n",
    "   2.  sns.set_style(\"white\")\n",
    "   3.  dist = sns.distplot(data, hist_kws={'alpha':0.2}, kde_kws={'linewidth':5})\n",
    "   4.  dist.set_title(\"I'm a fairly cool plot!\", fontsize=16)\n",
    "```\n",
    "\n",
    "**1.** With Seaborn (the `sns` object in context), the `sns.set()` method with `{\"figure.figsize\": (10, 7)}` parameter will control the size of the plot based on aspect ratio and scale.<br><br>\n",
    "**2.** Seaborn comes with a variety of styles.  They can be set using `sns.set_style([The style])`.  There are five preset seaborn themes: `darkgrid`, `whitegrid`, `dark`, `white`, and ticks. They are each suited to different applications and personal preferences. The default theme is `darkgrid`. <br><br>\n",
    "**3.** There are plenty of different types of plot types available.  For getting sense of the distribution of your data, `sns.distplot()` is a great choice.  The first paramter `data` is the only required parameter.  The other parameters in our example on line 3, control the visual aesthetics.  You can read more about [controling the visual aesthetics](https://stanford.edu/~mwaskom/software/seaborn/tutorial/aesthetics.html) of Seaborn.\n",
    "<br><br>\n",
    "**4.** Notice on line 3, we've assigned a reference to sns.distplot(), to a variable called `dist`.  In order to control certain visual elements, it's necessary to have a reference to the specific instance that initially references the plotting function. In this case, with the plot refernece to \"distplot\", it's possible to set the title using `.set_title`."
   ]
  },
  {
   "cell_type": "markdown",
   "metadata": {},
   "source": [
    "### 7. [Bonus]:  Explore the `seaborn` gallery\n",
    "\n",
    "Explore the [Seaborn Gallery](https://stanford.edu/~mwaskom/software/seaborn/examples/index.html), and attempt to adapt 2-3 other plot methods using our `sales_data`.  This should give you a little context and familliarity with some of the most common plotting functions in Seaborn.  \n",
    "\n",
    "Beyond this we will be diving into `matplotlib`, `pandas`, and other plotting packages.  The best way to get good at data visualization is practicing.  Each package has it's own pitfalls and conventions, but many are just wrappers around matplotlib at a low level so it's possible to use them together.  \n",
    "\n",
    "Generally, `seaborn` and `pandas` will get you most of the way there, and then using `matplotlib` can help you \"tweak\" the finer aesthetics of the output.\n",
    "\n",
    "**Note:** Seaborn does not like to work with lists typically, so you may need to convert your data to an array using ['`np.array()`'](https://docs.scipy.org/doc/numpy/reference/generated/numpy.array.html) in order for Seaborn to accept it."
   ]
  },
  {
   "cell_type": "code",
   "execution_count": null,
   "metadata": {},
   "outputs": [],
   "source": []
  }
 ],
 "metadata": {
  "anaconda-cloud": {},
  "kernelspec": {
   "display_name": "Python 3",
   "language": "python",
   "name": "python3"
  },
  "language_info": {
   "codemirror_mode": {
    "name": "ipython",
    "version": 3
   },
   "file_extension": ".py",
   "mimetype": "text/x-python",
   "name": "python",
   "nbconvert_exporter": "python",
   "pygments_lexer": "ipython3",
   "version": "3.6.4"
  }
 },
 "nbformat": 4,
 "nbformat_minor": 1
}
