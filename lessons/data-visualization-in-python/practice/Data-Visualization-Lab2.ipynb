{
 "cells": [
  {
   "cell_type": "markdown",
   "metadata": {},
   "source": [
    "# Famous Datasets\n",
    "\n",
    "There are a number of datasets that any data scientist will be familiar with. We're going to use several today to practice data visualization.\n",
    "\n",
    "* [Iris Dataset](http://archive.ics.uci.edu/ml/datasets/Iris) This data set was collected by the famous statistician R. Fisher in the 1930s. First read about the data set and its features.\n",
    "* [Abalone Dataset](http://archive.ics.uci.edu/ml/datasets/Abalone?pagewanted=all) Various measurements of a type of snail\n",
    "* [Boston Housing](https://archive.ics.uci.edu/ml/datasets/Housing) Housing prices alone with various supplemental data, such as local crime rates\n",
    "* [Motor Trend Cars](https://archive.ics.uci.edu/ml/datasets/Auto+MPG)\n",
    "* [Salary Data](https://archive.ics.uci.edu/ml/datasets/Adult)\n",
    "\n",
    "Seaborn also includes some [additional datasets](https://github.com/mwaskom/seaborn-data).\n"
   ]
  },
  {
   "cell_type": "code",
   "execution_count": 6,
   "metadata": {},
   "outputs": [],
   "source": [
    "import os\n",
    "\n",
    "import matplotlib.pyplot as plt\n",
    "import numpy as np\n",
    "import pandas as pd\n",
    "from scipy import stats\n",
    "import seaborn as sns\n",
    "%matplotlib inline\n",
    "# Make plots larger\n",
    "plt.rcParams['figure.figsize'] = (10, 6)"
   ]
  },
  {
   "cell_type": "markdown",
   "metadata": {},
   "source": [
    "First let's try a some function plotting."
   ]
  },
  {
   "cell_type": "code",
   "execution_count": null,
   "metadata": {},
   "outputs": [],
   "source": [
    "# Plot two normal distributions\n",
    "domain = np.arange(-20, 20, 0.1)\n",
    "values = stats.norm(3, 5).pdf(domain)\n",
    "plt.plot(domain, values, color='r', linewidth=2)\n",
    "plt.fill_between(domain, 0, values, color='r', alpha=0.3)\n",
    "values = stats.norm(4, 2).pdf(domain)\n",
    "plt.plot(domain, values, color='b', linewidth=2)\n",
    "plt.ylabel(\"Probability\")\n",
    "plt.title(\"Two Normal Distributions\")\n",
    "plt.show()\n"
   ]
  },
  {
   "cell_type": "markdown",
   "metadata": {},
   "source": [
    "Read the lines in the previous example closely and make sure you understand what each line is doing. It's ok if you don't understand all the arguments, you'll pick those up as we go. Remember that you can also shift-tab inside a function to see all the argument options.\n",
    "\n",
    "If you want your plots to pop out so you can resize them, use\n",
    "`%matplotlib`\n",
    "to undo the effect of\n",
    "`%matplotlib inline`"
   ]
  },
  {
   "cell_type": "code",
   "execution_count": null,
   "metadata": {},
   "outputs": [],
   "source": [
    "# Run this in to undo the effects of %matplotlib inline use to see the effects. \n",
    "# Run the visual below. \n",
    "# Now try reruning the visual above\n",
    "# What happened?\n",
    "%matplotlib "
   ]
  },
  {
   "cell_type": "code",
   "execution_count": null,
   "metadata": {},
   "outputs": [],
   "source": [
    "# Plot two normal distributions\n",
    "domain = np.arange(-20, 20, 0.1)\n",
    "values = stats.norm(3, 5).pdf(domain)\n",
    "plt.plot(domain, values, color='r', linewidth=2)\n",
    "plt.fill_between(domain, 0, values, color='r', alpha=0.3)\n",
    "values = stats.norm(4, 2).pdf(domain)\n",
    "plt.plot(domain, values, color='b', linewidth=2)\n",
    "plt.ylabel(\"Probability\")\n",
    "plt.title(\"Two Normal Distributions\")\n",
    "plt.show()\n",
    "%matplotlib inline"
   ]
  },
  {
   "cell_type": "code",
   "execution_count": null,
   "metadata": {},
   "outputs": [],
   "source": [
    "%matplotlib\n",
    "# Load the Iris Dataset\n",
    "\n",
    "# This is a bit different than how I've been running in data before. What is this method doing?\n",
    "\n",
    "df = pd.read_csv(os.path.join(\"../datasets\", \"iris.data\"), sep=',')\n",
    "df.head()\n",
    "\n",
    "# Fun fact - many of these example datasets are used all over the world of python. You'll find many packages like scikit learn\n",
    "# & Seaborne will allow you to import them directly. Example:\n",
    "# iris = sns.load_dataset(\"iris\")\n",
    "# iris.head()"
   ]
  },
  {
   "cell_type": "markdown",
   "metadata": {},
   "source": [
    "* Which columns are categorical, which are continuous?\n",
    "* Let's use seaborn's [pairplot](https://stanford.edu/~mwaskom/software/seaborn/generated/seaborn.pairplot.html) to get a quick look at the data"
   ]
  },
  {
   "cell_type": "code",
   "execution_count": null,
   "metadata": {},
   "outputs": [],
   "source": [
    "# This special jupyter command causes plots to render in the notebook\n",
    "%matplotlib inline\n",
    "sns.pairplot(df)"
   ]
  },
  {
   "cell_type": "code",
   "execution_count": null,
   "metadata": {},
   "outputs": [],
   "source": [
    "# Seaborn can also color the data by category:\n",
    "sns.pairplot(df, hue=\"species\")"
   ]
  },
  {
   "cell_type": "markdown",
   "metadata": {},
   "source": [
    "# Matplotlib\n",
    "\n",
    "Seaborn makes nice plots but offers less control over the results versus matplotlib (on which seaborn is based). Let's look at the following example."
   ]
  },
  {
   "cell_type": "code",
   "execution_count": null,
   "metadata": {},
   "outputs": [],
   "source": [
    "# Make a scatter plot\n",
    "plt.scatter(df[\"petal_length\"], df[\"sepal_length\"])\n",
    "plt.xlabel(\"Petal Length\")\n",
    "plt.ylabel(\"Sepal Length\")\n",
    "plt.ylim(3, 9)\n",
    "plt.title(\"Iris Data Set\")\n",
    "plt.show()"
   ]
  },
  {
   "cell_type": "markdown",
   "metadata": {},
   "source": [
    "Note that our axes are more nicely labeled when we manually set the names. Matplotlib has a ton of customizability: you can change point shapes and sizes, colors, axes ranges, font sizes, and just about anything else.\n",
    "\n",
    "We can also invoke matplotlib via pandas directly from the data frame."
   ]
  },
  {
   "cell_type": "code",
   "execution_count": null,
   "metadata": {},
   "outputs": [],
   "source": [
    "df.plot.scatter(\"petal_length\", \"sepal_length\")"
   ]
  },
  {
   "cell_type": "markdown",
   "metadata": {},
   "source": [
    "## Exercise 1\n",
    "We can make histograms in several ways. Make a histogram of \"Sepal Width\" from the Iris data set:\n",
    "* Using matplotlib's `plt.hist`\n",
    "* Using pandas `df.plot.hist`\n",
    "* Using seaborn's [distplot](https://stanford.edu/~mwaskom/software/seaborn/tutorial/distributions.html)\n",
    "\n",
    "Seaborn automatically includes a curve fit, which is sometimes not wanted. Look up the keyword argument to turn off the curve fit. Also checkout [this example](https://en.wikipedia.org/wiki/File:Fisher_iris_versicolor_sepalwidth.svg) from wikipedia."
   ]
  },
  {
   "cell_type": "code",
   "execution_count": null,
   "metadata": {
    "collapsed": true
   },
   "outputs": [],
   "source": []
  },
  {
   "cell_type": "markdown",
   "metadata": {},
   "source": [
    "# Categorical Data\n",
    "Seaborn has some nice functions to plot [categorical data](https://stanford.edu/~mwaskom/software/seaborn/tutorial/categorical.html)"
   ]
  },
  {
   "cell_type": "code",
   "execution_count": null,
   "metadata": {
    "collapsed": true
   },
   "outputs": [],
   "source": [
    "sns.boxplot(x=\"species\", y=\"sepal_length\", data=df)"
   ]
  },
  {
   "cell_type": "markdown",
   "metadata": {},
   "source": [
    "## Exercise 2\n",
    "\n",
    "Read the seaborn page on categorical data above and make the following plots:\n",
    "* sepal_width by category with a boxplot and a swarmplot\n",
    "* petal_length by category with a violinplot and a swarmplot"
   ]
  },
  {
   "cell_type": "code",
   "execution_count": null,
   "metadata": {
    "collapsed": true
   },
   "outputs": [],
   "source": []
  },
  {
   "cell_type": "markdown",
   "metadata": {},
   "source": [
    "# Time Series plots\n",
    "\n",
    "Matplotlib and Seaborn can make some nice plots associated to time series data. For example, we can make plots of running. The following data contains the monthly price of the ETF VTI (a stock market index fund) over time"
   ]
  },
  {
   "cell_type": "code",
   "execution_count": null,
   "metadata": {},
   "outputs": [],
   "source": [
    "df = pd.read_csv(os.path.join(\"../datasets\", \"vti.csv\"))\n",
    "df.sort_values(by=\"Date\", inplace=True)\n",
    "df[\"Date\"] = pd.to_datetime(df[\"Date\"], format='%Y-%m-%d')\n",
    "df.head()"
   ]
  },
  {
   "cell_type": "code",
   "execution_count": null,
   "metadata": {},
   "outputs": [],
   "source": [
    "plt.plot(df[\"Date\"], df[\"Open\"], label=\"Open\")\n",
    "plt.plot(df[\"Date\"], df[\"Close\"], label=\"Close\")\n",
    "plt.xlabel(\"Date\")\n",
    "plt.ylabel(\"Price\")\n",
    "plt.title(\"VTI Monthly Prices\")\n",
    "plt.legend()\n",
    "plt.show()"
   ]
  },
  {
   "cell_type": "code",
   "execution_count": null,
   "metadata": {},
   "outputs": [],
   "source": [
    "plt.plot(df[\"Date\"], df[\"Open\"] - df[\"Close\"], label=\"Close-Open\", color ='b')\n",
    "plt.plot(df[\"Date\"], df[\"High\"] - df[\"Low\"], label=\"High-Low\", color ='g')\n",
    "plt.xlabel(\"Date\")\n",
    "plt.ylabel(\"Price\")\n",
    "plt.title(\"VTI Monthly Prices\")\n",
    "plt.show()"
   ]
  },
  {
   "cell_type": "markdown",
   "metadata": {},
   "source": [
    "## Exercise\n",
    "\n",
    "Make a plot that is composed of two plots, vertically stacked of:\n",
    "* The closing price\n",
    "* The volume\n",
    "\n",
    "You can do this with matplotlib's [gridspec](http://matplotlib.org/users/gridspec.html)."
   ]
  },
  {
   "cell_type": "code",
   "execution_count": null,
   "metadata": {},
   "outputs": [],
   "source": [
    "# Fill in the details\n",
    "import matplotlib.gridspec as gridspec\n",
    "gs = gridspec.GridSpec(2, 1) # rows and columns\n",
    "ax1 = plt.subplot(gs[0, 0])\n",
    "ax2 = plt.subplot(gs[1, 0])\n",
    "ax1.plot()\n",
    "ax2.plot()"
   ]
  },
  {
   "cell_type": "markdown",
   "metadata": {},
   "source": [
    "You can also use multiple y-axes as follows:"
   ]
  },
  {
   "cell_type": "code",
   "execution_count": null,
   "metadata": {},
   "outputs": [],
   "source": [
    "# Fill in the details, see http://matplotlib.org/examples/api/two_scales.html\n",
    "fig, ax1 = plt.subplots()\n",
    "ax1.plot()\n",
    "ax1.set_ylabel(\"Closing Price\")\n",
    "\n",
    "ax2 = ax1.twinx()\n",
    "ax2.plot()\n",
    "ax2.set_ylabel('Volume')\n",
    "ax2.set_xlabel('Date')\n",
    "\n",
    "plt.show()"
   ]
  },
  {
   "cell_type": "markdown",
   "metadata": {},
   "source": [
    "We can also easily make smoothed curves by computing means over moving windows."
   ]
  },
  {
   "cell_type": "code",
   "execution_count": null,
   "metadata": {},
   "outputs": [],
   "source": [
    "%matplotlib inline\n",
    "rolling_mean = df[\"Open\"].rolling(window=10).mean()\n",
    "plt.plot(range(len(rolling_mean)), rolling_mean)\n",
    "plt.title(\"Smoothed VTI Price Data\")\n",
    "plt.show()"
   ]
  },
  {
   "cell_type": "markdown",
   "metadata": {},
   "source": [
    "Compare to the [visualizations here](http://finviz.com/quote.ashx?t=VTI). You can always put more work into a visualization's aesthetics, so focus on accuracy and proper labelling at first."
   ]
  },
  {
   "cell_type": "markdown",
   "metadata": {},
   "source": [
    "## Error bars and filled plots\n",
    "\n",
    "Often we want to indicate that our data is noisy or contains measurement error. Let's construct a dataset."
   ]
  },
  {
   "cell_type": "code",
   "execution_count": 37,
   "metadata": {},
   "outputs": [
    {
     "data": {
      "text/html": [
       "<div>\n",
       "<style>\n",
       "    .dataframe thead tr:only-child th {\n",
       "        text-align: right;\n",
       "    }\n",
       "\n",
       "    .dataframe thead th {\n",
       "        text-align: left;\n",
       "    }\n",
       "\n",
       "    .dataframe tbody tr th {\n",
       "        vertical-align: top;\n",
       "    }\n",
       "</style>\n",
       "<table border=\"1\" class=\"dataframe\">\n",
       "  <thead>\n",
       "    <tr style=\"text-align: right;\">\n",
       "      <th></th>\n",
       "      <th>Mean</th>\n",
       "      <th>Std</th>\n",
       "    </tr>\n",
       "  </thead>\n",
       "  <tbody>\n",
       "    <tr>\n",
       "      <th>0</th>\n",
       "      <td>10.444777</td>\n",
       "      <td>4.389285</td>\n",
       "    </tr>\n",
       "    <tr>\n",
       "      <th>1</th>\n",
       "      <td>13.595777</td>\n",
       "      <td>8.865557</td>\n",
       "    </tr>\n",
       "    <tr>\n",
       "      <th>2</th>\n",
       "      <td>11.779462</td>\n",
       "      <td>4.095972</td>\n",
       "    </tr>\n",
       "    <tr>\n",
       "      <th>3</th>\n",
       "      <td>15.679833</td>\n",
       "      <td>7.112455</td>\n",
       "    </tr>\n",
       "    <tr>\n",
       "      <th>4</th>\n",
       "      <td>14.500738</td>\n",
       "      <td>3.972309</td>\n",
       "    </tr>\n",
       "  </tbody>\n",
       "</table>\n",
       "</div>"
      ],
      "text/plain": [
       "        Mean       Std\n",
       "0  10.444777  4.389285\n",
       "1  13.595777  8.865557\n",
       "2  11.779462  4.095972\n",
       "3  15.679833  7.112455\n",
       "4  14.500738  3.972309"
      ]
     },
     "execution_count": 37,
     "metadata": {},
     "output_type": "execute_result"
    }
   ],
   "source": [
    "# Check: do you understand this code?\n",
    "import numpy as np\n",
    "from scipy import stats\n",
    "import random\n",
    "data = []\n",
    "for i in range(50):\n",
    "    m = random.randint(5 + i, 15 + i)\n",
    "    s = random.randint(4, 8)\n",
    "    dist = stats.norm(m, s)\n",
    "    draws = dist.rvs(30)\n",
    "    data.append([np.mean(draws), np.std(draws)])\n",
    "df = pd.DataFrame(data, columns=[\"Mean\", \"Std\"])\n",
    "df.head()"
   ]
  },
  {
   "cell_type": "code",
   "execution_count": null,
   "metadata": {},
   "outputs": [],
   "source": [
    "# Now we can plot with error bars\n",
    "plt.errorbar(range(len(df)), df[\"Mean\"], yerr=df[\"Std\"])\n",
    "plt.title(\"Error Bar Example\")"
   ]
  },
  {
   "cell_type": "code",
   "execution_count": null,
   "metadata": {},
   "outputs": [],
   "source": [
    "# Confidence interval: 68%\n",
    "plt.errorbar(range(len(df)), df[\"Mean\"])\n",
    "lower = df[\"Mean\"] - df[\"Std\"]\n",
    "upper = df[\"Mean\"] + df[\"Std\"]\n",
    "plt.fill_between(range(len(df)), lower, upper, alpha=0.5)\n",
    "plt.title(\"CI Example\")"
   ]
  },
  {
   "cell_type": "markdown",
   "metadata": {},
   "source": [
    "## Exercise\n",
    "\n",
    "* Modify the previous example to a 95% confidence interval (two standard deviations).\n",
    "* Try to make a similar plot with the Mauna Loa atmospheric carbon data set \"co2_mm_mlo.txt\""
   ]
  },
  {
   "cell_type": "code",
   "execution_count": 35,
   "metadata": {},
   "outputs": [
    {
     "data": {
      "text/html": [
       "<div>\n",
       "<style>\n",
       "    .dataframe thead tr:only-child th {\n",
       "        text-align: right;\n",
       "    }\n",
       "\n",
       "    .dataframe thead th {\n",
       "        text-align: left;\n",
       "    }\n",
       "\n",
       "    .dataframe tbody tr th {\n",
       "        vertical-align: top;\n",
       "    }\n",
       "</style>\n",
       "<table border=\"1\" class=\"dataframe\">\n",
       "  <thead>\n",
       "    <tr style=\"text-align: right;\">\n",
       "      <th></th>\n",
       "      <th>year</th>\n",
       "      <th>month</th>\n",
       "      <th>decimal_date</th>\n",
       "      <th>average</th>\n",
       "      <th>interpolated</th>\n",
       "      <th>trend</th>\n",
       "      <th>days</th>\n",
       "    </tr>\n",
       "  </thead>\n",
       "  <tbody>\n",
       "    <tr>\n",
       "      <th>0</th>\n",
       "      <td>1958</td>\n",
       "      <td>3</td>\n",
       "      <td>1958.208</td>\n",
       "      <td>315.71</td>\n",
       "      <td>315.71</td>\n",
       "      <td>314.62</td>\n",
       "      <td>-1</td>\n",
       "    </tr>\n",
       "    <tr>\n",
       "      <th>1</th>\n",
       "      <td>1958</td>\n",
       "      <td>4</td>\n",
       "      <td>1958.292</td>\n",
       "      <td>317.45</td>\n",
       "      <td>317.45</td>\n",
       "      <td>315.29</td>\n",
       "      <td>-1</td>\n",
       "    </tr>\n",
       "    <tr>\n",
       "      <th>2</th>\n",
       "      <td>1958</td>\n",
       "      <td>5</td>\n",
       "      <td>1958.375</td>\n",
       "      <td>317.50</td>\n",
       "      <td>317.50</td>\n",
       "      <td>314.71</td>\n",
       "      <td>-1</td>\n",
       "    </tr>\n",
       "    <tr>\n",
       "      <th>3</th>\n",
       "      <td>1958</td>\n",
       "      <td>6</td>\n",
       "      <td>1958.458</td>\n",
       "      <td>-99.99</td>\n",
       "      <td>317.10</td>\n",
       "      <td>314.85</td>\n",
       "      <td>-1</td>\n",
       "    </tr>\n",
       "    <tr>\n",
       "      <th>4</th>\n",
       "      <td>1958</td>\n",
       "      <td>7</td>\n",
       "      <td>1958.542</td>\n",
       "      <td>315.86</td>\n",
       "      <td>315.86</td>\n",
       "      <td>314.98</td>\n",
       "      <td>-1</td>\n",
       "    </tr>\n",
       "  </tbody>\n",
       "</table>\n",
       "</div>"
      ],
      "text/plain": [
       "   year  month  decimal_date  average  interpolated   trend  days\n",
       "0  1958      3      1958.208   315.71        315.71  314.62    -1\n",
       "1  1958      4      1958.292   317.45        317.45  315.29    -1\n",
       "2  1958      5      1958.375   317.50        317.50  314.71    -1\n",
       "3  1958      6      1958.458   -99.99        317.10  314.85    -1\n",
       "4  1958      7      1958.542   315.86        315.86  314.98    -1"
      ]
     },
     "execution_count": 35,
     "metadata": {},
     "output_type": "execute_result"
    }
   ],
   "source": [
    "import pandas as pd\n",
    "columns = [\"year\", \"month\", \"decimal_date\", \"average\", \"interpolated\", \"trend\", \"days\"]\n",
    "df = pd.read_csv(os.path.join(\"../datasets\", \"co2_mm_mlo.txt\"), comment=\"#\",\n",
    "                delim_whitespace=True, names=columns)\n",
    "\n",
    "# Can still be read in our normal way too\n",
    "#df = pd.read_csv(\"../datasets/co2_mm_mlo.txt\", comment=\"#\",\n",
    " #               delim_whitespace=True, names=columns)\n",
    "df.head()"
   ]
  },
  {
   "cell_type": "markdown",
   "metadata": {},
   "source": [
    "\n",
    "## Exercises\n",
    "For each of the remaining data sets:\n",
    "* [Abalone Dataset](http://archive.ics.uci.edu/ml/datasets/Abalone?pagewanted=all) Various measurements of a type of snail\n",
    "* [Boston Housing](https://archive.ics.uci.edu/ml/datasets/Housing) Housing prices alone with various supplemental data, such as local crime rates\n",
    "* [Motor Trend Cars](https://archive.ics.uci.edu/ml/datasets/Auto+MPG)\n",
    "* [Salary Data](https://archive.ics.uci.edu/ml/datasets/Adult)\n",
    "\n",
    "Work through the following exercises:\n",
    "* Make a pairplot on a subset of four categories (if possible). Use the vars=[\"column1\", \"columnb\", ..] to prevent seaborn from making too many plots\n",
    "* Pick two continuous variables and make a scatter plot with matplotlib, a density plot with seaborn, and a joint plot with seaborn\n",
    "* If there are any categorical variables, make boxplots and violin plots for each of the categorical variables\n",
    "* Make at least one plot that has dual-axes or two stacked plots\n",
    "\n",
    "Feel free to try to make any other plots that might seem interesting! If so please share with the class.\n"
   ]
  },
  {
   "cell_type": "code",
   "execution_count": null,
   "metadata": {
    "collapsed": true
   },
   "outputs": [],
   "source": []
  },
  {
   "cell_type": "code",
   "execution_count": null,
   "metadata": {
    "collapsed": true
   },
   "outputs": [],
   "source": []
  },
  {
   "cell_type": "markdown",
   "metadata": {},
   "source": [
    "# Exercises\n",
    "\n",
    "Pick one of the [datasets available here](https://github.com/mwaskom/seaborn-data), such as the exoplanets dataset planets.csv or the diet and exercise data set exercise.csv (or another). Practice the plots you learned above and try to make an awesome plot.\n",
    "\n",
    "If you need some ideas on different types of plots, checkout:\n",
    "* The [seaborn gallery](https://stanford.edu/~mwaskom/software/seaborn/examples/index.html)\n",
    "* The [matplotlib gallery](http://matplotlib.org/gallery.html)\n"
   ]
  },
  {
   "cell_type": "code",
   "execution_count": null,
   "metadata": {
    "collapsed": true
   },
   "outputs": [],
   "source": []
  },
  {
   "cell_type": "markdown",
   "metadata": {},
   "source": [
    "## Bokeh\n",
    "\n",
    "Bokeh is another visualization library. There are many [example notebooks](http://nbviewer.jupyter.org/github/bokeh/bokeh-notebooks/blob/master/index.ipynb) -- pick one and work through it.\n"
   ]
  },
  {
   "cell_type": "code",
   "execution_count": null,
   "metadata": {
    "collapsed": true
   },
   "outputs": [],
   "source": []
  }
 ],
 "metadata": {
  "kernelspec": {
   "display_name": "Python 3",
   "language": "python",
   "name": "python3"
  },
  "language_info": {
   "codemirror_mode": {
    "name": "ipython",
    "version": 3
   },
   "file_extension": ".py",
   "mimetype": "text/x-python",
   "name": "python",
   "nbconvert_exporter": "python",
   "pygments_lexer": "ipython3",
   "version": "3.7.3"
  }
 },
 "nbformat": 4,
 "nbformat_minor": 1
}
