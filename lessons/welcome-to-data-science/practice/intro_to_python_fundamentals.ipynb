{
 "cells": [
  {
   "cell_type": "markdown",
   "metadata": {
    "slideshow": {
     "slide_type": "slide"
    }
   },
   "source": [
    "<img src=\"http://imgur.com/1ZcRyrc.png\" style=\"float: left; margin: 20px; height: 55px\">\n",
    " \n",
    "# Introduction to Python Fundamentals\n",
    " \n",
    "_Authors: Kiefer Katovich (San Francisco), Dave Yerrington (San Francisco), Joseph Nelson (Washington, D.C.), Sam Stack (Washington, D.C.)_\n",
    " \n",
    "---"
   ]
  },
  {
   "cell_type": "markdown",
   "metadata": {
    "slideshow": {
     "slide_type": "slide"
    }
   },
   "source": [
    "<a id=\"learning-objectives\"></a>\n",
    "### Learning Objectives\n",
    "*After this lesson, you will be able to:*\n",
    "\n",
    "- Define what a type is and what kinds exist in Python.\n",
    "- Define a function and identify common functions in Python.\n",
    "- Define control flow and some common examples in Python."
   ]
  },
  {
   "cell_type": "markdown",
   "metadata": {
    "slideshow": {
     "slide_type": "slide"
    }
   },
   "source": [
    "### Lesson Guide\n",
    "\n",
    "- [Survey (5–10 min)](#survey1)\n",
    "- [Common Python Types (10 min)](#types-def)\n",
    "- [Common Types Code-Along (20 min)](#types-codealong)\n",
    "- [Common Python Functions and Control Flow (10 min)](#functions-def)\n",
    "- [Common Python Functions Code-Along (20 min)](#functions-codealong)\n",
    "- [Recap and Requests (5–10 min)](#recap-requests)\n"
   ]
  },
  {
   "cell_type": "markdown",
   "metadata": {
    "slideshow": {
     "slide_type": "slide"
    }
   },
   "source": [
    "<a id=\"survey1\"></a>\n",
    "\n",
    "## Survey (Pre-Work Comprehension)\n",
    "\n",
    "---\n",
    "\n",
    "Please break into groups of three or four and discuss the following over the the next few minutes:\n",
    "\n",
    "- What are 3–4 takeaways from the pre-work that were new to you?\n",
    "- What are 3–4 (as of yet) unanswered questions you had from the pre-work?"
   ]
  },
  {
   "cell_type": "markdown",
   "metadata": {
    "slideshow": {
     "slide_type": "fragment"
    }
   },
   "source": [
    "**General variable types** *(Not specific to python)*\n",
    "\n",
    "<img src=\"https://i.stack.imgur.com/3QemG.gif\" style=\"float: center; margin: 20px; height: 250px\">"
   ]
  },
  {
   "cell_type": "markdown",
   "metadata": {
    "slideshow": {
     "slide_type": "slide"
    }
   },
   "source": [
    "<a id=\"types-def\"></a>\n",
    "## Types in Python\n",
    "\n",
    "---"
   ]
  },
  {
   "cell_type": "markdown",
   "metadata": {
    "slideshow": {
     "slide_type": "fragment"
    }
   },
   "source": [
    "**In Python, what do you understand a \"type\" to be?**"
   ]
  },
  {
   "cell_type": "markdown",
   "metadata": {
    "slideshow": {
     "slide_type": "subslide"
    }
   },
   "source": [
    "> There are several _standard_ data types within Python (and typically any programming language, although it varies as to what is or isn't in a type for each). \n",
    "\n",
    "> A type tells the computer what can or can't be done with a given piece of information in Python (or whichever programming language you are using). For example, we can **add** and **subtract** numbers and we can **count** the number of letters in a word. Rather than try (and fail!) to add two words together or count the number of numbers in a number, types let the computer know efficiently what can and cannot be done in a given situation."
   ]
  },
  {
   "cell_type": "markdown",
   "metadata": {
    "slideshow": {
     "slide_type": "subslide"
    }
   },
   "source": [
    "> Different languages have different requirements for typing, known broadly as _static versus dynamic_ typing and _strong versus weak typing_:\n",
    "\n",
    "> - **Static typing**: When we create a variable, we tell the program what type it is, and it stays that way for the evaluation of the program.\n",
    "- **Dynamic typing**: When we create a variable, it can be of any type and can be changed if we redefine it in the program.\n",
    "- **Strong typing**: A variable's type determines what can and cannot be done with it (such as dividing a word).\n",
    "- **Weak typing**: You can try to do anything with that variable and, if it can be converted in the process to make that operation work, the language will do so.\n",
    "\n",
    ">Python is a _dynamic, strongly typed_ language — while we can redefine a variable's type as we work with it, Python won't change types on us unless we explicitly tell it to do so. This is a design choice of Python; different languages do things differently (if you pick up R, C++, or Java in the future, expect differences)."
   ]
  },
  {
   "cell_type": "markdown",
   "metadata": {
    "slideshow": {
     "slide_type": "subslide"
    }
   },
   "source": [
    "**In your own words**, what are _static_, _dynamic_, _strong_, and _weak_ typing?"
   ]
  },
  {
   "cell_type": "markdown",
   "metadata": {
    "slideshow": {
     "slide_type": "subslide"
    }
   },
   "source": [
    "### Common Python Types"
   ]
  },
  {
   "cell_type": "markdown",
   "metadata": {
    "slideshow": {
     "slide_type": "fragment"
    }
   },
   "source": [
    "- **What _are_ some of the basic types in Python? Are there Python types that contain multiple elements?**"
   ]
  },
  {
   "cell_type": "markdown",
   "metadata": {
    "slideshow": {
     "slide_type": "subslide"
    }
   },
   "source": [
    "There are two basic groups of types in Python — single elements (one item or piece of information) and collections (groups of things, which can be either single elements themselves, other collections, or a mix of both)."
   ]
  },
  {
   "cell_type": "markdown",
   "metadata": {
    "slideshow": {
     "slide_type": "fragment"
    }
   },
   "source": [
    "**Single Elements**\n",
    "\n",
    "- **Integers:** Whole numbers ranging from negative infinity to infinity, such as 1, 0, -5, etc.\n",
    "- **Floats:** Short for \"floating point number;\" usually used with decimals, such as 2.8 or 3.14159.\n",
    "- **Strings:** A set of letters, numbers, or other characters, e.g., \"The fox is quick.\" — any set of values that contains a non-numeric character."
   ]
  },
  {
   "cell_type": "markdown",
   "metadata": {
    "slideshow": {
     "slide_type": "fragment"
    }
   },
   "source": [
    "**Collections**\n",
    "\n",
    "- **Tuples:** An ordered sequence with a fixed number of elements; e.g., in `x = (1, 2, 3)`, the parentheses makes it a tuple. `x = (\"Kirk\", \"Picard\", \"Spock\")` — once you've defined this, you can't change it.\n",
    "- **Lists:** An ordered sequence without a fixed number of elements, e.g., `x = [1, 2, 3]`. Note the square brackets. `x = [\"Lord\", \"of\", \"the\", \"Rings\"]` — this can be changed as you like.\n",
    "- **Dictionaries**: An unordered collection of key-value pairs, e.g., `x = {'Mark': 'Twain', 'Apples': 5}`. To retrieve each value (the part after each colon), use its key (the part before each colon). For example, `x['Apples']` retrieves the value `5`."
   ]
  },
  {
   "cell_type": "markdown",
   "metadata": {
    "slideshow": {
     "slide_type": "fragment"
    }
   },
   "source": [
    "- **In your own words, what is the difference between a list and a dictionary? Can you think of any real-life examples of lists or dictionaries?**"
   ]
  },
  {
   "cell_type": "markdown",
   "metadata": {
    "slideshow": {
     "slide_type": "subslide"
    }
   },
   "source": [
    "Typically, lists and dictionaries are most popular because of their ease of use and applicability to numerous situations (by contrast, because tuples are immutable/cannot be modified; they are used more sparingly). Lists have an inherent order (the first element is at index `0`, the second element is at index `1`, etc.) and we can call each element by that ordinal number (such as `x[0]` or `x[100]`). Dictionaries do not have an order (so `x[0]` will fail), but they use the name of the key to return that element."
   ]
  },
  {
   "cell_type": "markdown",
   "metadata": {
    "slideshow": {
     "slide_type": "fragment"
    }
   },
   "source": [
    "**Example**: Think about the difference between a sign-up list and an address book:\n",
    "- **Sign-up list**: We would refer to the order of who signed up when (i.e., \"the eighth person to sign up\").\n",
    "- **Address book**: We would refer to a person by looking for their name (i.e., \"the contact info for Bill Personson\")."
   ]
  },
  {
   "cell_type": "markdown",
   "metadata": {
    "slideshow": {
     "slide_type": "fragment"
    }
   },
   "source": [
    "Throughout this lesson, we'll review each data type more in depth and discuss common ways of interacting with each of them.\n",
    "\n",
    "[Python's basic data types](https://en.wikiversity.org/wiki/Python/Basic_data_types)."
   ]
  },
  {
   "cell_type": "markdown",
   "metadata": {
    "slideshow": {
     "slide_type": "slide"
    }
   },
   "source": [
    "### Variables\n",
    "\n",
    "Variables are names that have been assigned to specific values or data.\n",
    "\n",
    "The name we assign to those variables can be almost anything you want, but there are some restrictions and best practices."
   ]
  },
  {
   "cell_type": "markdown",
   "metadata": {
    "slideshow": {
     "slide_type": "fragment"
    }
   },
   "source": [
    "**In your own words, can you think of some variable names that might be restricted within Python?**"
   ]
  },
  {
   "cell_type": "markdown",
   "metadata": {
    "slideshow": {
     "slide_type": "subslide"
    }
   },
   "source": [
    "#### Restrictions\n",
    "\n",
    "- Variable names cannot be just a number (i.e., 2, 0.01, 10000).\n",
    "- Variables cannot be assigned the same name as a default or imported function (i.e., 'type', 'print', 'for').\n",
    "- Variable names cannot contain spaces."
   ]
  },
  {
   "cell_type": "markdown",
   "metadata": {
    "slideshow": {
     "slide_type": "subslide"
    }
   },
   "source": [
    "#### Best Practices\n",
    "\n",
    "- Variable names should be lowercase.\n",
    "- A variable's name should be representative of the value(s) it has been assigned. For example, instead of `a` or `money`, something like `money_usd` tells the user both what is stored in that variable *and* what units it's in."
   ]
  },
  {
   "cell_type": "markdown",
   "metadata": {
    "slideshow": {
     "slide_type": "slide"
    }
   },
   "source": [
    "<a id=\"types-codealong\"></a>\n",
    "## Common Types Code-Along"
   ]
  },
  {
   "cell_type": "markdown",
   "metadata": {
    "slideshow": {
     "slide_type": "subslide"
    }
   },
   "source": [
    "In this section, we'll practice establishing some types and common practices. To run each cell, use `shift+enter` or the `run` button in the Jupyter Notebook toolbar.\n",
    "\n",
    "Some common reasons why we need to keep types in mind:\n",
    "\n",
    "1) Different types can lead to different results: <br>\n",
    "   - `1 + 1` results in `2`, while `'1' + '1'` results in the string `11`.\n",
    "   \n",
    "2) Operations may not work with specific types: <br>\n",
    "   - `len('a word')` will return the number of characters in a word, while `len(25)` will return an error because numbers do not have a length."
   ]
  },
  {
   "cell_type": "code",
   "execution_count": null,
   "metadata": {
    "slideshow": {
     "slide_type": "subslide"
    }
   },
   "outputs": [],
   "source": [
    "# Assigning a float:\n",
    "x = 1.0\n",
    "type(x)"
   ]
  },
  {
   "cell_type": "code",
   "execution_count": null,
   "metadata": {
    "slideshow": {
     "slide_type": "fragment"
    }
   },
   "outputs": [],
   "source": [
    "# Assigning an int:\n",
    "y = 1\n",
    "type(y)"
   ]
  },
  {
   "cell_type": "code",
   "execution_count": null,
   "metadata": {
    "slideshow": {
     "slide_type": "fragment"
    }
   },
   "outputs": [],
   "source": [
    "# Assigning a string:\n",
    "z = '1'\n",
    "type(z)"
   ]
  },
  {
   "cell_type": "markdown",
   "metadata": {
    "slideshow": {
     "slide_type": "fragment"
    }
   },
   "source": [
    "**Remember that, when we're assigning variables, we are not stating that \"x equals 1,\" we are stating that \"x has been assigned the value of 1.\"**"
   ]
  },
  {
   "cell_type": "markdown",
   "metadata": {
    "slideshow": {
     "slide_type": "slide"
    }
   },
   "source": [
    "### Operators\n",
    "\n",
    "Operators can be used in a mathematical sense to calculate (or create) the sum, difference, product, or quotient of values or variables.\n",
    "\n",
    "Note that `print()` below will print out the values of whatever is inside of the parentheses."
   ]
  },
  {
   "cell_type": "code",
   "execution_count": null,
   "metadata": {
    "slideshow": {
     "slide_type": "fragment"
    }
   },
   "outputs": [],
   "source": [
    "# Addition:\n",
    "print(1 + 2)\n",
    "# Subtraction:\n",
    "print(1 - 2)\n",
    "# Multiplication:\n",
    "print(1 * 2)\n",
    "# Division: \n",
    "print(1 / 2)"
   ]
  },
  {
   "cell_type": "markdown",
   "metadata": {
    "slideshow": {
     "slide_type": "slide"
    }
   },
   "source": [
    " There is also `//` division, whose output will be the rounded-down whole number."
   ]
  },
  {
   "cell_type": "code",
   "execution_count": null,
   "metadata": {
    "slideshow": {
     "slide_type": "fragment"
    }
   },
   "outputs": [],
   "source": [
    "# Division of float numbers:\n",
    "print(3.0 // 2)\n",
    "print(-3.0 // 2)"
   ]
  },
  {
   "cell_type": "code",
   "execution_count": null,
   "metadata": {
    "slideshow": {
     "slide_type": "fragment"
    }
   },
   "outputs": [],
   "source": [
    "# Exponent power operator:\n",
    "2 ** 2"
   ]
  },
  {
   "cell_type": "code",
   "execution_count": null,
   "metadata": {
    "slideshow": {
     "slide_type": "fragment"
    }
   },
   "outputs": [],
   "source": [
    "# The modulo operator can be used to get the remainder — what's left over after the term has been cleanly divided:\n",
    "5%2. "
   ]
  },
  {
   "cell_type": "markdown",
   "metadata": {
    "slideshow": {
     "slide_type": "slide"
    }
   },
   "source": [
    "### Booleans and Boolean Evaluation Operators\n",
    "\n",
    "**In your own words, define a boolean.**"
   ]
  },
  {
   "cell_type": "markdown",
   "metadata": {
    "slideshow": {
     "slide_type": "fragment"
    }
   },
   "source": [
    "Booleans exist as either true or false and are generally used as a means of evaluation.\n",
    "\n",
    "> They help us check if a condition is met; but more importantly they **answer questions**."
   ]
  },
  {
   "cell_type": "markdown",
   "metadata": {
    "slideshow": {
     "slide_type": "subslide"
    }
   },
   "source": [
    "#### Using Booleans\n",
    "\n",
    "Booleans are frequently used to filter data or conditions. Sometimes, we may want all countries with populations greater than 4,000,000 or all people named Bob. Both of these result in a `True` or `False` condition that split our data into the groups we want."
   ]
  },
  {
   "cell_type": "markdown",
   "metadata": {
    "slideshow": {
     "slide_type": "subslide"
    }
   },
   "source": [
    "We'll work with Booleans in a number of different ways. Most commonly, we'll use Booleans that are the output of relational operators, like these:\n",
    "- `and`: Are both A and B true?\n",
    "- `not`: Is A not the same as B?\n",
    "- `or`: Is A or B true?\n",
    "\n",
    "*Try it!*"
   ]
  },
  {
   "cell_type": "code",
   "execution_count": null,
   "metadata": {
    "slideshow": {
     "slide_type": "fragment"
    }
   },
   "outputs": [],
   "source": [
    "True and False"
   ]
  },
  {
   "cell_type": "code",
   "execution_count": null,
   "metadata": {
    "slideshow": {
     "slide_type": "fragment"
    }
   },
   "outputs": [],
   "source": [
    "not False"
   ]
  },
  {
   "cell_type": "code",
   "execution_count": null,
   "metadata": {
    "slideshow": {
     "slide_type": "fragment"
    }
   },
   "outputs": [],
   "source": [
    "True or False"
   ]
  },
  {
   "cell_type": "markdown",
   "metadata": {
    "slideshow": {
     "slide_type": "subslide"
    }
   },
   "source": [
    "**Fancier Comparisons**\n",
    "\n",
    "- Less than: `<`\n",
    "- Greater than: `>`\n",
    "- Less than or equal to: `<=`\n",
    "- Greater than or equal to: `>=`\n",
    "- Equals: `==`\n",
    "- Does not equal: `!=`"
   ]
  },
  {
   "cell_type": "code",
   "execution_count": null,
   "metadata": {
    "slideshow": {
     "slide_type": "fragment"
    }
   },
   "outputs": [],
   "source": [
    "2 > 1, 2 < 1, 2 > 2, 2 < 2, 2 >= 2, 2 <= 2"
   ]
  },
  {
   "cell_type": "code",
   "execution_count": null,
   "metadata": {
    "slideshow": {
     "slide_type": "fragment"
    }
   },
   "outputs": [],
   "source": [
    "# Equality:\n",
    "[1,2] == [1,2], [1,2] != [2,1]"
   ]
  },
  {
   "cell_type": "code",
   "execution_count": null,
   "metadata": {
    "slideshow": {
     "slide_type": "fragment"
    }
   },
   "outputs": [],
   "source": [
    "[1,2] == [1,2] and [2,2] == [2,2]"
   ]
  },
  {
   "cell_type": "markdown",
   "metadata": {
    "slideshow": {
     "slide_type": "subslide"
    }
   },
   "source": [
    "#### Now You Try!\n",
    "\n",
    "Create three comparisons using `!=`, `>=`, and `<`.\n",
    "\n",
    "*Advanced option*: Try stringing together longer chains of multiple operators (`1<2<=2>1.5`)"
   ]
  },
  {
   "cell_type": "code",
   "execution_count": null,
   "metadata": {},
   "outputs": [],
   "source": []
  },
  {
   "cell_type": "markdown",
   "metadata": {
    "slideshow": {
     "slide_type": "slide"
    }
   },
   "source": [
    "### Strings\n",
    "\n",
    "**What are strings? How would we use them? Can you think of any examples of strings?**"
   ]
  },
  {
   "cell_type": "markdown",
   "metadata": {
    "slideshow": {
     "slide_type": "fragment"
    }
   },
   "source": [
    "Strings are essentially any character combination in between quotes. They are most often used as a way of storing text. Strings are used frequently, because most of the data that humans create are text-based, such as restaurant reviews or emails."
   ]
  },
  {
   "cell_type": "code",
   "execution_count": null,
   "metadata": {
    "slideshow": {
     "slide_type": "fragment"
    }
   },
   "outputs": [],
   "source": [
    "s = \"Hello world\"\n",
    "type(s)"
   ]
  },
  {
   "cell_type": "markdown",
   "metadata": {
    "slideshow": {
     "slide_type": "subslide"
    }
   },
   "source": [
    "Strings have a lot of associated methods and attributes that allow us to better understand and manipulate them.\n",
    "\n",
    "**In your own words, why would we want to manipulate or change strings?**"
   ]
  },
  {
   "cell_type": "markdown",
   "metadata": {
    "slideshow": {
     "slide_type": "fragment"
    }
   },
   "source": [
    "- Fixing misspelled words.\n",
    "- Changing casing (upper, lower).\n",
    "- Looking for specific words."
   ]
  },
  {
   "cell_type": "code",
   "execution_count": null,
   "metadata": {
    "slideshow": {
     "slide_type": "subslide"
    }
   },
   "outputs": [],
   "source": [
    "# Finding the length of the string:\n",
    "len(s)"
   ]
  },
  {
   "cell_type": "code",
   "execution_count": null,
   "metadata": {
    "slideshow": {
     "slide_type": "fragment"
    }
   },
   "outputs": [],
   "source": [
    "# Replacing an element of a string:\n",
    "s2 = s.replace(\"world\", \"test\")\n",
    "print(s2)"
   ]
  },
  {
   "cell_type": "markdown",
   "metadata": {
    "slideshow": {
     "slide_type": "subslide"
    }
   },
   "source": [
    "### String Indexing\n",
    "\n",
    "In some cases, we may want a part of the string (like the first character for alphabetizing or categorizing). Indexing helps us do that.\n",
    "\n",
    "We can extract characters at specific index locations in a string using indexing."
   ]
  },
  {
   "cell_type": "code",
   "execution_count": null,
   "metadata": {
    "slideshow": {
     "slide_type": "fragment"
    }
   },
   "outputs": [],
   "source": [
    "# Indexing the first (index 0) character in the string:\n",
    "s[0]"
   ]
  },
  {
   "cell_type": "markdown",
   "metadata": {
    "slideshow": {
     "slide_type": "subslide"
    }
   },
   "source": [
    "The number you enter after the variable name in brackets (the `[0]`) is called the index (its plural is indices).\n",
    "\n",
    "_Counting in Python and many other programming languages begins at zero, as opposed to one. This is called zero-based indexing._"
   ]
  },
  {
   "cell_type": "code",
   "execution_count": null,
   "metadata": {
    "slideshow": {
     "slide_type": "fragment"
    }
   },
   "outputs": [],
   "source": [
    "# This is called \"slicing.\" We start at the left index \n",
    "#   and go up to but not include the right index.\n",
    "\n",
    "# Objects at indexes 0, 1, and 2:\n",
    "s[0:3]"
   ]
  },
  {
   "cell_type": "markdown",
   "metadata": {
    "slideshow": {
     "slide_type": "subslide"
    }
   },
   "source": [
    "Most ranges, or functions with ranges, have upper ends that are not inclusive. So, a range of `[0:5]` starts at `0` and stops before `5`.\n",
    "\n",
    "A good mental trick is to look at something like `[5:25]` and say out loud \"Starting at five and going up to (but not including) 25.\""
   ]
  },
  {
   "cell_type": "code",
   "execution_count": null,
   "metadata": {
    "slideshow": {
     "slide_type": "fragment"
    }
   },
   "outputs": [],
   "source": [
    "# From index 6 up to the end of the string:\n",
    "s[6:]"
   ]
  },
  {
   "cell_type": "code",
   "execution_count": null,
   "metadata": {
    "slideshow": {
     "slide_type": "fragment"
    }
   },
   "outputs": [],
   "source": [
    "# No start or end specified:\n",
    "s[:]"
   ]
  },
  {
   "cell_type": "code",
   "execution_count": null,
   "metadata": {
    "slideshow": {
     "slide_type": "fragment"
    }
   },
   "outputs": [],
   "source": [
    "# Can we index from the right side?\n",
    "s[-1]"
   ]
  },
  {
   "cell_type": "markdown",
   "metadata": {
    "slideshow": {
     "slide_type": "subslide"
    }
   },
   "source": [
    "In addition to specifying a range, you can include a step size or character skip rate. This might be helpful if you want every other letter, for example. \n",
    "\n",
    "These indexing methods can also be used on lists, where asking for every other number might be a good use case."
   ]
  },
  {
   "cell_type": "code",
   "execution_count": null,
   "metadata": {
    "slideshow": {
     "slide_type": "fragment"
    }
   },
   "outputs": [],
   "source": [
    "# Every second character starting at 0 and ending at 10:\n",
    "s[0:10:2]"
   ]
  },
  {
   "cell_type": "code",
   "execution_count": null,
   "metadata": {
    "slideshow": {
     "slide_type": "fragment"
    }
   },
   "outputs": [],
   "source": [
    "# Define a step size of 2; i.e., every other character:\n",
    "s[::2]"
   ]
  },
  {
   "cell_type": "code",
   "execution_count": null,
   "metadata": {
    "slideshow": {
     "slide_type": "fragment"
    }
   },
   "outputs": [],
   "source": [
    "# The same, but for a list of numbers:\n",
    "[0, 1, 2, 3, 4, 5, 6][::2]"
   ]
  },
  {
   "cell_type": "markdown",
   "metadata": {
    "slideshow": {
     "slide_type": "slide"
    }
   },
   "source": [
    "### Concatenating\n",
    "\n",
    "**In your own words, what is concatenating? When might you use it?**"
   ]
  },
  {
   "cell_type": "markdown",
   "metadata": {
    "slideshow": {
     "slide_type": "fragment"
    }
   },
   "source": [
    "One easy example is adding a greeting to someone's name: `'Hello ' + name`."
   ]
  },
  {
   "cell_type": "markdown",
   "metadata": {
    "slideshow": {
     "slide_type": "subslide"
    }
   },
   "source": [
    "To add two strings together, type the first string, a `+` sign, and then the second string."
   ]
  },
  {
   "cell_type": "code",
   "execution_count": null,
   "metadata": {
    "slideshow": {
     "slide_type": "fragment"
    }
   },
   "outputs": [],
   "source": [
    "x = 'Adam is so cool, you guys.'\n",
    "y = ' Seriously.'\n",
    "x + y"
   ]
  },
  {
   "cell_type": "markdown",
   "metadata": {
    "slideshow": {
     "slide_type": "subslide"
    }
   },
   "source": [
    "Conversion from int to str is *required*!"
   ]
  },
  {
   "cell_type": "code",
   "execution_count": null,
   "metadata": {
    "slideshow": {
     "slide_type": "fragment"
    }
   },
   "outputs": [],
   "source": [
    "dice_roll = 3\n",
    "print('You rolled a ' + dice_roll + '.')  "
   ]
  },
  {
   "cell_type": "code",
   "execution_count": null,
   "metadata": {
    "slideshow": {
     "slide_type": "fragment"
    }
   },
   "outputs": [],
   "source": [
    "dice_roll = 3\n",
    "print('You rolled a ' + str(dice_roll) + '.')  "
   ]
  },
  {
   "cell_type": "markdown",
   "metadata": {
    "slideshow": {
     "slide_type": "subslide"
    }
   },
   "source": [
    "#### Now You Try!\n",
    "\n",
    "Create your own string of at least 12 characters or more and:\n",
    "\n",
    "1) Test to make sure that it is at least 12 characters long. <br>\n",
    "2) Replace all of the vowels with the string `vowel`. <br>\n",
    "3) Use concatenation to add another string to it. <br>"
   ]
  },
  {
   "cell_type": "markdown",
   "metadata": {
    "slideshow": {
     "slide_type": "slide"
    }
   },
   "source": [
    "### Lists\n",
    "\n",
    "**What are some examples of lists? What do you remember from before?**\n",
    "\n",
    "Lists can be composed of ints, floats, strings, or other lists, as well as other data types we haven't covered yet."
   ]
  },
  {
   "cell_type": "code",
   "execution_count": null,
   "metadata": {
    "slideshow": {
     "slide_type": "fragment"
    }
   },
   "outputs": [],
   "source": [
    "l = [1, 2, 3, 4]\n",
    "\n",
    "print(type(l))\n",
    "print(l)"
   ]
  },
  {
   "cell_type": "code",
   "execution_count": null,
   "metadata": {
    "slideshow": {
     "slide_type": "fragment"
    }
   },
   "outputs": [],
   "source": [
    "# The a variable's contents can be reassigned to another variable:\n",
    "a = l"
   ]
  },
  {
   "cell_type": "code",
   "execution_count": null,
   "metadata": {
    "slideshow": {
     "slide_type": "fragment"
    }
   },
   "outputs": [],
   "source": [
    "print(a)"
   ]
  },
  {
   "cell_type": "code",
   "execution_count": null,
   "metadata": {
    "slideshow": {
     "slide_type": "fragment"
    }
   },
   "outputs": [],
   "source": [
    "# List of strings:\n",
    "names = ['Carol', 'Anne', 'Jessica']\n",
    "print(names)"
   ]
  },
  {
   "cell_type": "markdown",
   "metadata": {
    "slideshow": {
     "slide_type": "slide"
    }
   },
   "source": [
    "### Methods\n",
    "\n",
    "Many types have what are known as \"methods:\" built-in functionality that allows them to do certain things. We've already seen a couple, such as the `.replace()` method, which lets you replace words in strings. "
   ]
  },
  {
   "cell_type": "markdown",
   "metadata": {
    "slideshow": {
     "slide_type": "fragment"
    }
   },
   "source": [
    "Lists also have several methods that allow us to alter them, such as the `.append()` method, which allows us to add another element to the end of a list."
   ]
  },
  {
   "cell_type": "code",
   "execution_count": null,
   "metadata": {
    "slideshow": {
     "slide_type": "fragment"
    }
   },
   "outputs": [],
   "source": [
    "names.append('Michelle')\n",
    "names"
   ]
  },
  {
   "cell_type": "markdown",
   "metadata": {
    "slideshow": {
     "slide_type": "slide"
    }
   },
   "source": [
    "### List Indexing\n",
    "\n",
    "Lists can be indexed the same way strings are — this allows us to target a specific value or range of values in a list without having to create a new one."
   ]
  },
  {
   "cell_type": "code",
   "execution_count": null,
   "metadata": {
    "slideshow": {
     "slide_type": "fragment"
    }
   },
   "outputs": [],
   "source": [
    "print(names[1:3])\n",
    "print(names[::2])   # Increments the index by 2 each time (skips alternate elements)."
   ]
  },
  {
   "cell_type": "code",
   "execution_count": null,
   "metadata": {
    "slideshow": {
     "slide_type": "fragment"
    }
   },
   "outputs": [],
   "source": [
    "# We can slice a value in a list of strings, as well:\n",
    "names[1][1:]"
   ]
  },
  {
   "cell_type": "markdown",
   "metadata": {
    "slideshow": {
     "slide_type": "subslide"
    }
   },
   "source": [
    "Note that we always read indexing from left to right. In the example above, the interpreter looks up names and gets the first element, which is the string `\"Anne\"`. Then, the slice (`[1:]`) adds the first index of that string to the end of the original string, evaluating to `\"nne\"`.\n",
    "\n",
    "Interestingly, the following works in the same way. Instead of having to look up the value of names, the list is directly specified (just read the line from left to right!)."
   ]
  },
  {
   "cell_type": "code",
   "execution_count": null,
   "metadata": {
    "slideshow": {
     "slide_type": "fragment"
    }
   },
   "outputs": [],
   "source": [
    "['Carol', 'Anne', 'Jessica', 'Michelle'][1][1:]"
   ]
  },
  {
   "cell_type": "code",
   "execution_count": null,
   "metadata": {
    "slideshow": {
     "slide_type": "fragment"
    }
   },
   "outputs": [],
   "source": [
    "# Lists items don't have to be the same type:\n",
    "l = [1, 'a', 1.0, 1-1j]\n",
    "print(l)"
   ]
  },
  {
   "cell_type": "code",
   "execution_count": null,
   "metadata": {
    "slideshow": {
     "slide_type": "subslide"
    }
   },
   "outputs": [],
   "source": [
    "# We can create a list of values in a range using the range() function:\n",
    "start = 10\n",
    "stop = 30\n",
    "step = 2\n",
    "print(type(range(start, stop, step)))\n",
    "\n",
    "# range() produces a \"generator,\" which is beyond the scope of this introduction!\n",
    "# It is often convenient to have the generator \n",
    "#    generate all of its values by converting it to a list:\n",
    "list(range(start, stop, step))"
   ]
  },
  {
   "cell_type": "markdown",
   "metadata": {
    "slideshow": {
     "slide_type": "subslide"
    }
   },
   "source": [
    "Use the `.insert()` method to add values at specific indices."
   ]
  },
  {
   "cell_type": "code",
   "execution_count": null,
   "metadata": {
    "slideshow": {
     "slide_type": "fragment"
    }
   },
   "outputs": [],
   "source": [
    "names.insert(2, 'Ellen')\n",
    "names"
   ]
  },
  {
   "cell_type": "markdown",
   "metadata": {
    "slideshow": {
     "slide_type": "subslide"
    }
   },
   "source": [
    "The `.remove()` method can be used to remove specific values if they appear in a list."
   ]
  },
  {
   "cell_type": "code",
   "execution_count": null,
   "metadata": {
    "slideshow": {
     "slide_type": "fragment"
    }
   },
   "outputs": [],
   "source": [
    "names.append('Jeremy')\n",
    "print(names)\n",
    "names.remove('Jeremy')\n",
    "print(names)"
   ]
  },
  {
   "cell_type": "markdown",
   "metadata": {
    "slideshow": {
     "slide_type": "subslide"
    }
   },
   "source": [
    "#### Now You Try!\n",
    "\n",
    "Create a list of five elements and do the following:\n",
    "\n",
    "1) Print the last three elements. <br>\n",
    "2) Insert two new elements at index 2 and append one element to the end. <br>\n",
    "3) Remove one element of your choice. <br>\n",
    "4) Print every other element in your list. <br>"
   ]
  },
  {
   "cell_type": "markdown",
   "metadata": {
    "slideshow": {
     "slide_type": "slide"
    }
   },
   "source": [
    "## Tuples\n",
    "\n",
    "Tuples are similar to lists in that they store a sequence of various separate values. However, tuples are not mutable in that, once they are created, their values cannot be changed.\n",
    "\n",
    "**In your own words, why would creating something that cannot be changed later be helpful?**"
   ]
  },
  {
   "cell_type": "markdown",
   "metadata": {
    "slideshow": {
     "slide_type": "fragment"
    }
   },
   "source": [
    "*Think about safety* — what if you absolutely needed to make sure that one or two numbers or values stayed the same?"
   ]
  },
  {
   "cell_type": "code",
   "execution_count": null,
   "metadata": {
    "slideshow": {
     "slide_type": "subslide"
    }
   },
   "outputs": [],
   "source": [
    "point = (10, 20)\n",
    "print(point)\n",
    "print(type(point))"
   ]
  },
  {
   "cell_type": "code",
   "execution_count": null,
   "metadata": {
    "slideshow": {
     "slide_type": "fragment"
    }
   },
   "outputs": [],
   "source": [
    "# They can be sliced, just like lists and strings:\n",
    "point[0]"
   ]
  },
  {
   "cell_type": "markdown",
   "metadata": {
    "slideshow": {
     "slide_type": "slide"
    }
   },
   "source": [
    "## Dictionaries\n",
    "\n",
    "Dictionaries are a non-ordered Python data type. Instead of using an ordered index to access data stored in a dictionary, we use a system of key-value pairs.\n",
    "\n",
    "- A key is similar to a variable name.\n",
    "- A value is similar to the value assigned to the variable.\n",
    "- Curly braces (`{ }`) enclose dictionaries. The first input in a dictionary pair is the \"key.\" The second input in a dictionary pair is the \"value.\" Remember to make `key:value` pairs!"
   ]
  },
  {
   "cell_type": "markdown",
   "metadata": {
    "slideshow": {
     "slide_type": "subslide"
    }
   },
   "source": [
    "**In your own words, why would we use this when we could just use a list?**"
   ]
  },
  {
   "cell_type": "markdown",
   "metadata": {
    "slideshow": {
     "slide_type": "fragment"
    }
   },
   "source": [
    "- When there are lots of elements and we don't want to remember which element number is which.\n",
    "- When we don't care about the order in which things happen.\n",
    "     - As opposed to a list, which is kind of like a queue."
   ]
  },
  {
   "cell_type": "markdown",
   "metadata": {
    "slideshow": {
     "slide_type": "subslide"
    }
   },
   "source": [
    "The general format looks like this:"
   ]
  },
  {
   "cell_type": "code",
   "execution_count": null,
   "metadata": {
    "slideshow": {
     "slide_type": "fragment"
    }
   },
   "outputs": [],
   "source": [
    "params = {'key1' : 1.0,\n",
    "          'key2' : 2.0,\n",
    "          'key3' : 3.0,}\n",
    "\n",
    "print(type(params))\n",
    "print(params)"
   ]
  },
  {
   "cell_type": "markdown",
   "metadata": {
    "slideshow": {
     "slide_type": "subslide"
    }
   },
   "source": [
    "The keys stay the same, but the values are changeable. You can also only have one occurrence of a key in a dictionary, but you can have all of the values be the same."
   ]
  },
  {
   "cell_type": "code",
   "execution_count": null,
   "metadata": {
    "slideshow": {
     "slide_type": "fragment"
    }
   },
   "outputs": [],
   "source": [
    "# Value for parameter2 in the params dictionary:\n",
    "params['key2']"
   ]
  },
  {
   "cell_type": "code",
   "execution_count": null,
   "metadata": {
    "slideshow": {
     "slide_type": "fragment"
    }
   },
   "outputs": [],
   "source": [
    "# Adding a new dictionary entry:\n",
    "params['key4'] = 'D'"
   ]
  },
  {
   "cell_type": "code",
   "execution_count": null,
   "metadata": {
    "slideshow": {
     "slide_type": "fragment"
    }
   },
   "outputs": [],
   "source": [
    "print(params)"
   ]
  },
  {
   "cell_type": "code",
   "execution_count": null,
   "metadata": {
    "slideshow": {
     "slide_type": "fragment"
    }
   },
   "outputs": [],
   "source": [
    "# Reassigning the value of a key-value pair in the dictionary:\n",
    "params['key1'] = 'A'\n",
    "params['key2'] = 'B'"
   ]
  },
  {
   "cell_type": "code",
   "execution_count": null,
   "metadata": {
    "slideshow": {
     "slide_type": "fragment"
    }
   },
   "outputs": [],
   "source": [
    "print('Key 1 = ' + str(params['key1']))\n",
    "print('Key 2 = ' + str(params['key2']))\n",
    "print('Key 3 = ' + str(params['key3']))\n",
    "print('Key 4 = ' + str(params['key4']))"
   ]
  },
  {
   "cell_type": "code",
   "execution_count": null,
   "metadata": {
    "slideshow": {
     "slide_type": "subslide"
    }
   },
   "outputs": [],
   "source": [
    "# Dictionaries also have methods.\n",
    "\n",
    "# Convert a dictionary to a list of tuples (key-value pairs).\n",
    "# This is later used to conveniently loop through a dictionary:\n",
    "list(params.items())"
   ]
  },
  {
   "cell_type": "markdown",
   "metadata": {
    "slideshow": {
     "slide_type": "slide"
    }
   },
   "source": [
    "<a id=\"types-quiz\"></a>\n",
    "## Quiz: Types\n",
    "\n",
    "---\n",
    "\n",
    "_Identify the variable types of the following five items:_\n",
    "\n",
    "- `1`\n",
    "- `-1.0`\n",
    "- `1,000,000`\n",
    "- `'10'`\n",
    "- `('twenty-four')`\n",
    "\n",
    "_Create a list of all numbers between `1` and `100`, inclusive, using the `range()` function discussed above. Can you slice the list so that we see every fifth number, starting at `4` and ending at `82`?_"
   ]
  },
  {
   "cell_type": "markdown",
   "metadata": {
    "slideshow": {
     "slide_type": "slide"
    }
   },
   "source": [
    "<a id=\"functions-def\"></a>\n",
    "## Common Python Functions and Control Flow\n",
    "\n",
    "---\n",
    "\n",
    "In this section, we're going to tackle some common design patterns in Python. The first is the concept of control flow — this is how our programs will return different results based on specific input. Second, we'll cover basic functions — these let us create snippets of code that we can call later in a script, which creates code that's easier to read and maintain. Remember, we're going to be reading code much more often than writing it!"
   ]
  },
  {
   "cell_type": "markdown",
   "metadata": {
    "slideshow": {
     "slide_type": "slide"
    }
   },
   "source": [
    "## `if… else` Statements\n",
    "\n",
    "In Python, indentation matters! This is especially true when we look at the control structures in this lesson. In each case, a block of indented code is only run some of the time. There will always be a condition in the line preceding the indented block that determines whether the indented code is run or skipped."
   ]
  },
  {
   "cell_type": "markdown",
   "metadata": {
    "slideshow": {
     "slide_type": "subslide"
    }
   },
   "source": [
    "### `if` Statement\n",
    "The simplest example of a control structure is the `if` statement. We start with `if`, followed by something that can evaluate to `True` or `False` (such as any of the comparison operators we discussed earlier)."
   ]
  },
  {
   "cell_type": "code",
   "execution_count": null,
   "metadata": {
    "slideshow": {
     "slide_type": "fragment"
    }
   },
   "outputs": [],
   "source": [
    "if 1 == 1:\n",
    "    print('The integer 1 is equal to the integer 1.')\n",
    "    print('Is the next indented line run, too?')"
   ]
  },
  {
   "cell_type": "code",
   "execution_count": null,
   "metadata": {
    "slideshow": {
     "slide_type": "fragment"
    }
   },
   "outputs": [],
   "source": [
    "if 'one' == 'two':\n",
    "    print(\"The string 'one' is equal to the string 'two'.\")\n",
    "\n",
    "print('---')\n",
    "print('These two lines are not indented, so they are always run next.')"
   ]
  },
  {
   "cell_type": "markdown",
   "metadata": {
    "slideshow": {
     "slide_type": "subslide"
    }
   },
   "source": [
    "Notice that, in Python, the line before every indented block must end with a colon (`:`). In fact, it turns out that the `if` statement has a very specific syntax:\n",
    "\n",
    "```\n",
    "if <expression>:\n",
    "    <one or more indented lines>\n",
    "```\n",
    "\n",
    "When the `if` statement is run, the expression is evaluated to `True` or `False` by applying the built-in `bool()` function. If the expression evaluates to `True`, the code block is run; otherwise, it is skipped."
   ]
  },
  {
   "cell_type": "markdown",
   "metadata": {
    "slideshow": {
     "slide_type": "subslide"
    }
   },
   "source": [
    "#### Now You Try!\n",
    "\n",
    "Create your own string called `test_string`, then fill in the blanks here to create an `if... else` statement for whether or not the first character in `test_string` is a lowercase `a`."
   ]
  },
  {
   "cell_type": "code",
   "execution_count": null,
   "metadata": {
    "slideshow": {
     "slide_type": "-"
    }
   },
   "outputs": [],
   "source": [
    "test_string = '' # Fill in with your choice of string.\n",
    "\n",
    "if test_string: # Change this section to check if the first character in test_string is a lowercase a.\n",
    "    print('Begins with a')\n",
    "else:\n",
    "    print('Does not begin with a')"
   ]
  },
  {
   "cell_type": "markdown",
   "metadata": {
    "slideshow": {
     "slide_type": "subslide"
    }
   },
   "source": [
    "#### `if` ... `else`\n",
    "\n",
    "In many cases, you may want to run some code if the expression evaluates to `True` and some other code if it evaluates to `False`. This is done using `else`. Note how it is at the same indentation level as the `if` statement, followed by a colon, followed by a code block. Let's see it in action."
   ]
  },
  {
   "cell_type": "code",
   "execution_count": null,
   "metadata": {
    "slideshow": {
     "slide_type": "fragment"
    }
   },
   "outputs": [],
   "source": [
    "if 50 < 30:\n",
    "    print(\"50 < 30.\")\n",
    "else:\n",
    "    print(\"50 >= 30.\")\n",
    "    print(\"The else code block was run instead of the first block.\")\n",
    "\n",
    "print('---')\n",
    "print('These two lines are not indented, so they are always run next.')"
   ]
  },
  {
   "cell_type": "markdown",
   "metadata": {
    "slideshow": {
     "slide_type": "subslide"
    }
   },
   "source": [
    "#### `if` ... `elif` ... `else`\n",
    "\n",
    "Sometimes, you might want to run one specific code block out of several. For example, perhaps we provide the user with three choices and want something different to happen with each one.\n",
    "\n",
    "`elif` stands for `else if`. It belongs on a line between the initial `if` statement and an (optional) `else`. "
   ]
  },
  {
   "cell_type": "code",
   "execution_count": null,
   "metadata": {
    "slideshow": {
     "slide_type": "subslide"
    }
   },
   "outputs": [],
   "source": [
    "health = 55\n",
    "\n",
    "if health > 70:\n",
    "    print('You are in great health!')\n",
    "elif health > 40:\n",
    "    print('Your health is average.')\n",
    "    print('Exercise and eat healthily!')\n",
    "else:\n",
    "    print('Your health is low.')\n",
    "    print('Please see a doctor now.')\n",
    "\n",
    "print('---')\n",
    "print('These two lines are not indented, so they are always run next.')"
   ]
  },
  {
   "cell_type": "markdown",
   "metadata": {
    "slideshow": {
     "slide_type": "fragment"
    }
   },
   "source": [
    "This code works by evaluating each condition in order. If a condition evaluates to `True`, the rest are skipped.\n",
    "\n",
    "**Let's walk through the code.** First, we let `health = 55`. We move to the next line at the same indentation level — the `if`. We evaluate `health > 70` to be `False`, so its code block is skipped. Next, the interpreter moves to the next line at the same outer indentation level, which happens to be the `elif`. It evaluates its expression, `health > 40`, to be `True`, so its code block is run. Now, because a code block was run, the rest of the `if` statement is skipped."
   ]
  },
  {
   "cell_type": "markdown",
   "metadata": {
    "slideshow": {
     "slide_type": "slide"
    }
   },
   "source": [
    "## `for` Loops\n",
    "\n",
    "\n",
    "One of the primary purposes of using a programming language is to automate repetitive tasks. One example is the `for` loop.\n",
    "\n",
    "The `for` loop allows you to perform a task repeatedly on every element within an object, such as every name in a list."
   ]
  },
  {
   "cell_type": "markdown",
   "metadata": {
    "slideshow": {
     "slide_type": "subslide"
    }
   },
   "source": [
    "Let's see how the pseudocode works:\n",
    "\n",
    "```python\n",
    "# For each individual object in the list\n",
    "    # perform task_A on said object.\n",
    "    # Once task_A has been completed, move to next object in the list.\n",
    "```\n",
    "\n",
    "Let's say we wanted to print each of the names in the list, as well as \"is Awesome!\" In this case, we'd create a temporary variable for each element in the collection (`for name in names` would put each name, in sequence, under the temporary variable `name`) and then do something with it."
   ]
  },
  {
   "cell_type": "code",
   "execution_count": null,
   "metadata": {
    "slideshow": {
     "slide_type": "fragment"
    }
   },
   "outputs": [],
   "source": [
    "names = ['Rebecca Bunch', 'Paula Proctor', 'Heather Davis']\n",
    "\n",
    "for name in names:\n",
    "    print(name + ' Is Awesome!')"
   ]
  },
  {
   "cell_type": "markdown",
   "metadata": {
    "slideshow": {
     "slide_type": "subslide"
    }
   },
   "source": [
    "We can also combine `if... else` statements and `for` loops:"
   ]
  },
  {
   "cell_type": "code",
   "execution_count": null,
   "metadata": {
    "slideshow": {
     "slide_type": "fragment"
    }
   },
   "outputs": [],
   "source": [
    "for name in names:\n",
    "    if name == 'Paula Proctor':\n",
    "        print(name + ' Is REALLY AWESOME!')\n",
    "    else:\n",
    "        print(name + ' Is Awesome!')"
   ]
  },
  {
   "cell_type": "markdown",
   "metadata": {
    "slideshow": {
     "slide_type": "fragment"
    }
   },
   "source": [
    "#### Now You Try!\n",
    "\n",
    "Create a new `if... elif... else` and `for` loop combination, using a list of your own choice. "
   ]
  },
  {
   "cell_type": "markdown",
   "metadata": {
    "slideshow": {
     "slide_type": "slide"
    }
   },
   "source": [
    "## Functions\n",
    "---\n",
    "\n",
    "**When would you want to call the same code over and over again? What benefit does that have in programming?**\n",
    "\n"
   ]
  },
  {
   "cell_type": "markdown",
   "metadata": {
    "slideshow": {
     "slide_type": "fragment"
    }
   },
   "source": [
    "Using functions can make programming *easier* and ensure that we will only need to make changes/define options once in a script instead of multiple times."
   ]
  },
  {
   "cell_type": "markdown",
   "metadata": {
    "slideshow": {
     "slide_type": "slide"
    }
   },
   "source": [
    "Similar to the way we can use `for` loops as a means of performing repetitive tasks on a series of objects, we can also create functions to perform repetitive tasks. Within a function, we can write a large block of action and then call the function whenever we want to use it."
   ]
  },
  {
   "cell_type": "markdown",
   "metadata": {
    "slideshow": {
     "slide_type": "fragment"
    }
   },
   "source": [
    "Let's write some pseudocode, which is code that Python will not run successfully, but illustrates the basic idea without worrying about correct syntax:\n",
    "```python\n",
    "# Define the function name and the requirements it needs.\n",
    "    # Perform actions.\n",
    "    # Optional: Return output.\n",
    "```"
   ]
  },
  {
   "cell_type": "markdown",
   "metadata": {
    "slideshow": {
     "slide_type": "subslide"
    }
   },
   "source": [
    "A function is defined like this:\n",
    "\n",
    "```python\n",
    "def function_name(arguments):\n",
    "    # Do things here.\n",
    "    return value\n",
    "```"
   ]
  },
  {
   "cell_type": "markdown",
   "metadata": {
    "slideshow": {
     "slide_type": "fragment"
    }
   },
   "source": [
    "We start with `def` and the name of our function, then a set of parentheses. The terms we put in the parentheses will be passed into the function and stored in those variables. Finally, if we want to store the results of the function, we use `return`, which will let us take some value and store it once the function has run, like this:\n",
    "\n",
    "```python\n",
    "x = function_name(20)\n",
    "```\n",
    "\n",
    "Whatever follows `return` when the function is defined will be passed out of the function and stored in `x`."
   ]
  },
  {
   "cell_type": "markdown",
   "metadata": {
    "slideshow": {
     "slide_type": "subslide"
    }
   },
   "source": [
    "Let's create a function that takes two numbers as arguments and returns their sum, difference, and product. "
   ]
  },
  {
   "cell_type": "code",
   "execution_count": null,
   "metadata": {
    "slideshow": {
     "slide_type": "fragment"
    }
   },
   "outputs": [],
   "source": [
    "def arithmetic(num1, num2):\n",
    "    print(num1 + num2)\n",
    "    print(num1 - num2)\n",
    "    print(num1 * num2)\n",
    "    \n",
    "arithmetic(3,5)"
   ]
  },
  {
   "cell_type": "markdown",
   "metadata": {
    "slideshow": {
     "slide_type": "slide"
    }
   },
   "source": [
    "<a id=\"functions-codealong\"></a>\n",
    "## Common Functions Code-Along\n",
    "\n",
    "---\n",
    "\n",
    "In this section, we'll run through some basic functions and how we might use them."
   ]
  },
  {
   "cell_type": "markdown",
   "metadata": {
    "slideshow": {
     "slide_type": "subslide"
    }
   },
   "source": [
    "Write a function that takes the length of a side of a square as an argument and returns its area."
   ]
  },
  {
   "cell_type": "code",
   "execution_count": null,
   "metadata": {
    "slideshow": {
     "slide_type": "fragment"
    }
   },
   "outputs": [],
   "source": [
    "def area_square(length):\n",
    "    return length**2\n",
    "\n",
    "print(area_square(4))"
   ]
  },
  {
   "cell_type": "markdown",
   "metadata": {
    "slideshow": {
     "slide_type": "subslide"
    }
   },
   "source": [
    "Write a function that takes the height and width of a triangle and returns its area."
   ]
  },
  {
   "cell_type": "code",
   "execution_count": null,
   "metadata": {
    "slideshow": {
     "slide_type": "fragment"
    }
   },
   "outputs": [],
   "source": [
    "def area_triangle(height, width):\n",
    "    return height + (0.5*width)\n",
    "\n",
    "print(area_triangle(2, 6))"
   ]
  },
  {
   "cell_type": "markdown",
   "metadata": {
    "slideshow": {
     "slide_type": "subslide"
    }
   },
   "source": [
    "Write a function that takes a string as an argument and returns a tuple consisting of two elements:\n",
    "\n",
    "- A list of all of the characters in the string.\n",
    "- A count of the number of characters in the string."
   ]
  },
  {
   "cell_type": "code",
   "execution_count": null,
   "metadata": {
    "slideshow": {
     "slide_type": "fragment"
    }
   },
   "outputs": [],
   "source": [
    "def list_and_count(word):\n",
    "    list_of_characters = []\n",
    "    for char in word:\n",
    "        list_of_characters.append(char)\n",
    "    return list_of_characters, len(word)\n",
    "\n",
    "print(list_and_count('Lisa Simpson'))"
   ]
  },
  {
   "cell_type": "markdown",
   "metadata": {
    "slideshow": {
     "slide_type": "subslide"
    }
   },
   "source": [
    "Write a function that takes two integers, passed as strings, and returns the sum, difference, and product as a tuple (with all values as integers)."
   ]
  },
  {
   "cell_type": "code",
   "execution_count": null,
   "metadata": {
    "slideshow": {
     "slide_type": "fragment"
    }
   },
   "outputs": [],
   "source": [
    "def integerify(string1, string2):\n",
    "    int1 = int(string1)\n",
    "    int2 = int(string2)\n",
    "    val_sum = int1 + int2\n",
    "    val_diff = int1 - int2\n",
    "    val_prod = int1 * int2\n",
    "    return val_sum, val_diff, val_prod\n",
    "\n",
    "integerify('20', '100')"
   ]
  },
  {
   "cell_type": "markdown",
   "metadata": {
    "slideshow": {
     "slide_type": "subslide"
    }
   },
   "source": [
    "Write a function that takes a list as the argument and returns a tuple consisting of two elements:\n",
    "\n",
    "- A list with the items in reverse order.\n",
    "- A list of the items in the original list that have an odd index."
   ]
  },
  {
   "cell_type": "code",
   "execution_count": null,
   "metadata": {
    "slideshow": {
     "slide_type": "fragment"
    }
   },
   "outputs": [],
   "source": [
    "def reverse_and_odd(input_list):\n",
    "    reversed_list = input_list[::-1]\n",
    "    odd_indices = []\n",
    "    for i in range(len(input_list)):\n",
    "        if i % 2 == 1:\n",
    "            odd_indices.append(input_list[i])\n",
    "    return reversed_list, odd_indices\n",
    "\n",
    "reverse_and_odd(names)"
   ]
  },
  {
   "cell_type": "markdown",
   "metadata": {
    "slideshow": {
     "slide_type": "slide"
    }
   },
   "source": [
    "## Quiz: Functions\n",
    "\n",
    "---\n",
    "\n",
    "Can you tackle these two challenges on your own?\n",
    "\n",
    "_Write a function that takes a word as an argument and returns the number of vowels in the word._\n",
    "\n",
    "_Write a function that takes in a list of animals. Have it print out each animal's name in FULL CAPITAL LETTERS._ \n",
    "\n",
    "- **Note:** You may need to do some outside research to find out how Python can capitalize all letters in a string! "
   ]
  },
  {
   "cell_type": "markdown",
   "metadata": {
    "slideshow": {
     "slide_type": "slide"
    }
   },
   "source": [
    "<a id=\"recap-requests\"></a>\n",
    "## Recaps and Requests\n",
    "\n",
    "---\n",
    "\n",
    "Take a moment to write down the answers to the following for yourself:\n",
    "\n",
    "1) What parts of the Python material covered today do I feel like I know very well right now? <br>\n",
    "2) What parts of the Python material covered today were a struggle? <br>\n",
    "\n",
    "We'll each share what caused us some trouble today and take a few minutes to review anything that's outstanding. If you noticed that you really mastered something that somebody else found especially challenging, take some time to reach out and offer some help!"
   ]
  }
 ],
 "metadata": {
  "celltoolbar": "Slideshow",
  "kernelspec": {
   "display_name": "Python [default]",
   "language": "python",
   "name": "python3"
  },
  "language_info": {
   "codemirror_mode": {
    "name": "ipython",
    "version": 3
   },
   "file_extension": ".py",
   "mimetype": "text/x-python",
   "name": "python",
   "nbconvert_exporter": "python",
   "pygments_lexer": "ipython3",
   "version": "3.6.4"
  }
 },
 "nbformat": 4,
 "nbformat_minor": 2
}
