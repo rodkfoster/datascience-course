{
 "cells": [
  {
   "cell_type": "markdown",
   "metadata": {},
   "source": [
    "## Quiz: Functions\n",
    "\n",
    "---\n",
    "\n",
    "Can you tackle these two challenges on your own?\n",
    "\n",
    "_Write a function that takes a word as an argument and returns the number of vowels in the word._\n",
    "\n",
    "_Write a function that takes in a list of animals. Have it print out each animal's name in FULL CAPITAL LETTERS._ \n",
    "\n",
    "- **Note:** You may need to do some outside research to find out how Python can capitalize all letters in a string! "
   ]
  },
  {
   "cell_type": "code",
   "execution_count": 1,
   "metadata": {
    "collapsed": true
   },
   "outputs": [],
   "source": [
    "def vowels(string):\n",
    "    vowel_count = 0\n",
    "    string = string.lower()\n",
    "    for v in 'aeiou':\n",
    "        v_count = string.count(v)\n",
    "        vowel_count += v_count\n",
    "    return vowel_count\n",
    "\n",
    "# Option 1 (the more realistic version)\n",
    "def capitalize(lst):\n",
    "    big_list = []\n",
    "    for i in lst:\n",
    "        big_list.append(i.upper())\n",
    "    return big_list\n",
    "\n",
    "# Option 2 (exactly what it says)\n",
    "def capitalize_2(lst):\n",
    "    for i in lst:\n",
    "        print(i.upper())"
   ]
  },
  {
   "cell_type": "code",
   "execution_count": 2,
   "metadata": {
    "collapsed": false
   },
   "outputs": [
    {
     "data": {
      "text/plain": [
       "3"
      ]
     },
     "execution_count": 2,
     "metadata": {},
     "output_type": "execute_result"
    }
   ],
   "source": [
    "vowels('hello world!')"
   ]
  },
  {
   "cell_type": "code",
   "execution_count": 3,
   "metadata": {
    "collapsed": false
   },
   "outputs": [
    {
     "data": {
      "text/plain": [
       "['DOGS', 'ELEPHANTS', 'CATS']"
      ]
     },
     "execution_count": 3,
     "metadata": {},
     "output_type": "execute_result"
    }
   ],
   "source": [
    "capitalize('dogs elephants cats'.split())"
   ]
  },
  {
   "cell_type": "code",
   "execution_count": 4,
   "metadata": {
    "collapsed": false
   },
   "outputs": [
    {
     "name": "stdout",
     "output_type": "stream",
     "text": [
      "DOGS\n",
      "ELEPHANTS\n",
      "CATS\n"
     ]
    }
   ],
   "source": [
    "capitalize_2('dogs elephants cats'.split())"
   ]
  },
  {
   "cell_type": "markdown",
   "metadata": {},
   "source": [
    "I included two versions of the capitalize() function because it's more common in Python to have a function *return* something. Functions that print something out are sometimes called \"chatterbox functions,\" and they typically only do this if they're also directly interacting with the user."
   ]
  },
  {
   "cell_type": "code",
   "execution_count": 1,
   "metadata": {
    "collapsed": false
   },
   "outputs": [],
   "source": [
    "def chatterbox():\n",
    "    animal = ''\n",
    "    while animal.lower() != 'quit':\n",
    "        animal = str(input('What is your favorite animal? ' ))\n",
    "        print(f\"YES! I'VE ALWAYS WANTED A {animal.upper()}!\")\n",
    "        print()"
   ]
  },
  {
   "cell_type": "code",
   "execution_count": 2,
   "metadata": {
    "collapsed": false
   },
   "outputs": [
    {
     "name": "stdout",
     "output_type": "stream",
     "text": [
      "What is your favorite animal? dog\n",
      "YES! I'VE ALWAYS WANTED A DOG!\n",
      "\n",
      "What is your favorite animal? monkey\n",
      "YES! I'VE ALWAYS WANTED A MONKEY!\n",
      "\n",
      "What is your favorite animal? quit\n",
      "YES! I'VE ALWAYS WANTED A QUIT!\n",
      "\n"
     ]
    }
   ],
   "source": [
    "chatterbox()"
   ]
  },
  {
   "cell_type": "markdown",
   "metadata": {},
   "source": [
    "Just for fun... can you fix the function so it doesn't reply when you type \"quit\"? How concisely can you do it?"
   ]
  }
 ],
 "metadata": {
  "kernelspec": {
   "display_name": "Python 3",
   "language": "python",
   "name": "python3"
  },
  "language_info": {
   "codemirror_mode": {
    "name": "ipython",
    "version": 3
   },
   "file_extension": ".py",
   "mimetype": "text/x-python",
   "name": "python",
   "nbconvert_exporter": "python",
   "pygments_lexer": "ipython3",
   "version": "3.6.8"
  }
 },
 "nbformat": 4,
 "nbformat_minor": 2
}
