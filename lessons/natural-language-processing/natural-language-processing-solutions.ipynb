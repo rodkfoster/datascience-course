{
 "cells": [
  {
   "cell_type": "markdown",
   "metadata": {},
   "source": [
    "<img src=\"http://imgur.com/1ZcRyrc.png\" style=\"float: left; margin: 20px; height: 55px\">\n",
    " \n",
    "# Natural Language Processing\n",
    " \n",
    "_Authors: Kiefer Katovich (San Francisco), Joseph Nelson (Washington, D.C.)_\n",
    " \n",
    "---"
   ]
  },
  {
   "cell_type": "markdown",
   "metadata": {},
   "source": [
    "### Learning Objectives\n",
    "- Discuss the major tasks involved with natural language processing.\n",
    "- Discuss, on a low level, the components of natural language processing.\n",
    "- Identify why natural language processing is difficult.\n",
    "- Demonstrate text classification.\n",
    "- Demonstrate common text preprocessing techniques."
   ]
  },
  {
   "cell_type": "markdown",
   "metadata": {},
   "source": [
    "## How Do We Use NLP in Data Science?\n",
    "\n",
    "In data science, we are often asked to analyze unstructured text or make a predictive model using it. Unfortunately, most data science techniques require numeric data. NLP libraries provide a tool set of methods to convert unstructured text into meaningful numeric data.\n",
    "\n",
    "- **Analysis:** NLP techniques provide tools to allow us to understand and analyze large amounts of text. For example:\n",
    "\n",
    "    - Analyze the positivity/negativity of comments on different websites. \n",
    "    - Extract key words from meeting notes and visualize how meeting topics change over time.\n",
    "\n",
    "\n",
    "\n",
    "- **Vectorizing for machine learning:** When building a machine learning model, we typically must transform our data into numeric features. This process of transforming non-numeric data such as natural language into numeric features is called vectorization. For example:\n",
    "\n",
    "    - Understanding related words. Using stemming, NLP lets us know that \"swim\", \"swims\", and \"swimming\" all refer to the same base word. This allows us to reduce the number of features used in our model.\n",
    "    - Identifying important and unique words. Using TF-IDF (term frequency-inverse document frequency), we can identify which words are most likely to be meaningful in a document."
   ]
  },
  {
   "cell_type": "markdown",
   "metadata": {},
   "source": [
    "<a id='textblob_install'></a>\n",
    "\n",
    "### Install TextBlob\n",
    "\n",
    "The TextBlob Python library provides a simplified interface for exploring common NLP tasks including part-of-speech tagging, noun phrase extraction, sentiment analysis, classification, translation, and more.\n",
    "\n",
    "To proceed with the lesson, first install TextBlob, as explained below. We tend to prefer Anaconda-based installations, since they tend to be tested with our other Anaconda packages.\n",
    "\n",
    "**To install textblob run:**\n",
    "\n",
    "> `conda install -c conda-forge textblob`\n",
    "\n",
    "**Or:**\n",
    "\n",
    "> `pip install textblob`\n",
    "\n",
    "> `python -m textblob.download_corpora lite`"
   ]
  },
  {
   "cell_type": "code",
   "execution_count": 533,
   "metadata": {},
   "outputs": [
    {
     "name": "stdout",
     "output_type": "stream",
     "text": [
      "Requirement already satisfied: textblob in /Users/m339673/opt/anaconda3/lib/python3.7/site-packages (0.15.3)\n",
      "Requirement already satisfied: nltk>=3.1 in /Users/m339673/opt/anaconda3/lib/python3.7/site-packages (from textblob) (3.4.5)\n",
      "Requirement already satisfied: six in /Users/m339673/opt/anaconda3/lib/python3.7/site-packages (from nltk>=3.1->textblob) (1.12.0)\n",
      "Note: you may need to restart the kernel to use updated packages.\n"
     ]
    }
   ],
   "source": [
    "pip install textblob"
   ]
  },
  {
   "cell_type": "markdown",
   "metadata": {},
   "source": [
    "## Lesson Guide\n",
    "\n",
    "- [Introduction to Natural Language Processing](#intro)\n",
    "- [Reading Yelp reviews With NLP](#yelp_rev)\n",
    "- [Text Classification](#text_class)\n",
    "- [Count Vectorization](#count_vec)\n",
    "    - [Using CountVectorizer in a Model](#countvectorizer-model)\n",
    "    - [N-Grams](#ngrams)\n",
    "    - [Stop-Word Removal](#stopwords)\n",
    "\t- [Count Vector Options](#cvec_opt)\n",
    "- [Intro to TextBlob](#textblob)\n",
    "\t- [Stemming and Lemmatization](#stem)\n",
    "- [Term Frequency–Inverse Document Frequency Vectorization](#tfidf)\n",
    "\t- [Yelp Summary Using TF–IDF](#yelp_tfidf)\n",
    "- [Sentiment Analysis](#sentiment)\n",
    "- [BONUS: Adding Features to a Document-Term Matrix](#add_feat)\n",
    "- [BONUS: More TextBlob Features](#more_textblob)\n",
    "- [APPENDIX: Intro to Naive Bayes and Text Classification](#bayes)\n",
    "- [Conclusion](#conclusion)"
   ]
  },
  {
   "cell_type": "markdown",
   "metadata": {},
   "source": [
    "<a id='intro'></a>\n",
    "\n",
    "## Introduction\n",
    "\n",
    "*Adapted from [NLP Crash Course](http://files.meetup.com/7616132/DC-NLP-2013-09%20Charlie%20Greenbacker.pdf) by Charlie Greenbacker and [Introduction to NLP](http://spark-public.s3.amazonaws.com/nlp/slides/intro.pdf) by Dan Jurafsky*"
   ]
  },
  {
   "cell_type": "markdown",
   "metadata": {},
   "source": [
    "### What Is Natural Language Processing (NLP)?\n",
    "\n",
    "- Using computers to process (analyze, understand, generate) natural human languages.\n",
    "- Making sense of human knowledge stored as unstructured text.\n",
    "- Building probabilistic models using data about a language."
   ]
  },
  {
   "cell_type": "markdown",
   "metadata": {},
   "source": [
    "### What Are Some of the Higher-Level Task Areas?\n",
    "\n",
    "- **Objective:** Discuss the major tasks involved with natural language processing.\n",
    "\n",
    "We often hope that computers can solve many high-level problems involving natural language. Unfortunately, due to the difficulty of understanding human language, many of these problems are still not well solved. That said, existing solutions to these problems all involve utilizing the lower-level components of NLP discussed in the next section. Some higher-level tasks include:\n",
    "\n",
    "- **Chatbots:** Understand natural language from the user and return intelligent responses.\n",
    "    - [Api.ai](https://api.ai/)\n",
    "- **Information retrieval:** Find relevant results and similar results.\n",
    "    - [Google](https://www.google.com/)    \n",
    "- **Information extraction:** Structured information from unstructured documents.\n",
    "    - [Events from Gmail](https://support.google.com/calendar/answer/6084018?hl=en)\n",
    "- **Machine translation:** One language to another.\n",
    "    - [Google Translate](https://translate.google.com/)\n",
    "- **Text simplification:** Preserve the meaning of text, but simplify the grammar and vocabulary.\n",
    "    - [Rewordify](https://rewordify.com/)\n",
    "    - [Simple English Wikipedia](https://simple.wikipedia.org/wiki/Main_Page)\n",
    "- **Predictive text input:** Faster or easier typing.\n",
    "    - [Phrase completion application](https://justmarkham.shinyapps.io/textprediction/)\n",
    "    - [A much better application](https://farsite.shinyapps.io/swiftkey-cap/)\n",
    "- **Sentiment analysis:** Attitude of speaker.\n",
    "    - [Hater News](https://medium.com/@KevinMcAlear/building-hater-news-62062c58325c)\n",
    "- **Automatic summarization:** Extractive or abstractive summarization.\n",
    "    - [autotldr](https://www.reddit.com/r/technology/comments/35brc8/21_million_people_still_use_aol_dialup/cr2zzj0)\n",
    "- **Natural language generation:** Generate text from data.\n",
    "    - [How a computer describes a sports match](http://www.bbc.com/news/technology-34204052)\n",
    "    - [Publishers withdraw more than 120 gibberish papers](http://www.nature.com/news/publishers-withdraw-more-than-120-gibberish-papers-1.14763)\n",
    "- **Speech recognition and generation:** Speech-to-text, text-to-speech.\n",
    "    - [Google's Web Speech API demo](https://www.google.com/intl/en/chrome/demos/speech.html)\n",
    "    - [Vocalware Text-to-Speech demo](https://www.vocalware.com/index/demo)\n",
    "- **Question answering:** Determine the intent of the question, match query with knowledge base, evaluate hypotheses.\n",
    "    - [How did supercomputer Watson beat Jeopardy champion Ken Jennings?](http://blog.ted.com/how-did-supercomputer-watson-beat-jeopardy-champion-ken-jennings-experts-discuss/)\n",
    "    - [IBM's Watson Trivia Challenge](http://www.nytimes.com/interactive/2010/06/16/magazine/watson-trivia-game.html)\n",
    "    - [The AI Behind Watson](http://www.aaai.org/Magazine/Watson/watson.php)"
   ]
  },
  {
   "cell_type": "markdown",
   "metadata": {},
   "source": [
    "### What Are Some of the Lower-Level Components?\n",
    "\n",
    "- **Objective:** Discuss, on a low level, the components of natural language processing.\n",
    "\n",
    "Unfortunately, the NLP programming libraries typically do not provide direct solutions for the high-level tasks above. Instead, they provide low-level building blocks that enable us to craft our own solutions. These include:\n",
    "\n",
    "- **Tokenization:** Breaking text into tokens (words, sentences, n-grams)\n",
    "- **Stop-word removal:** a/an/the\n",
    "- **Stemming and lemmatization:** root word\n",
    "- **TF-IDF:** word importance\n",
    "- **Part-of-speech tagging:** noun/verb/adjective\n",
    "- **Named entity recognition:** person/organization/location\n",
    "- **Spelling correction:** \"New Yrok City\"\n",
    "- **Word sense disambiguation:** \"buy a mouse\"\n",
    "- **Segmentation:** \"New York City subway\"\n",
    "- **Language detection:** \"translate this page\"\n",
    "- **Machine learning:** specialized models that work well with text"
   ]
  },
  {
   "cell_type": "markdown",
   "metadata": {},
   "source": [
    "### Why is NLP hard?\n",
    "\n",
    "- **Objective:** Identify why natural language processing is difficult.\n",
    "\n",
    "Natural language processing requires an understanding of the language and the world. As it is considered unstructured data, we must provide structure, which has its challenges and subjectivity. Several limitations of NLP are:\n",
    "\n",
    "- **Ambiguity**:\n",
    "    - Hospitals Are Sued by 7 Foot Doctors\n",
    "    - Juvenile Court to Try Shooting Defendant\n",
    "    - Local High School Dropouts Cut in Half\n",
    "- **Sarcasm**: \"I love those mustard stains on your oversized hoodie. They really bring out the color in your eyes.\"\n",
    "- **Non-standard English:** text messages\n",
    "- **Idioms:** \"throw in the towel\"\n",
    "- **Newly coined words:** \"retweet\"\n",
    "- **Tricky entity names:** \"Where is A Bug's Life playing?\"\n",
    "- **World knowledge:** \"Mary and Sue are sisters\", \"Mary and Sue are mothers\""
   ]
  },
  {
   "cell_type": "markdown",
   "metadata": {},
   "source": [
    "<a id='text_class'></a>\n",
    "\n",
    "\n",
    "# Introduction: Text Classification"
   ]
  },
  {
   "cell_type": "markdown",
   "metadata": {},
   "source": [
    "As you proceed through this section, note that text classification is done in the same way as all other classification models. First, the text is vectorized into a set of numeric features. Then, a standard machine learning classifier is applied. NLP libraries often include vectorizers and ML models that work particularly well with text.\n",
    "\n",
    "> We will refer to each piece of text we are trying to classify as a document.\n",
    "> - For example, a document could refer to an email, book chapter, tweet, article, or text message.\n",
    "\n",
    "<br>\n",
    "<br>\n",
    "\n",
    "**Text classification is the task of predicting which category or topic a text sample is from.**\n",
    "\n",
    "We may want to identify:\n",
    "- Is an article a sports or business story?\n",
    "- Does an email have positive or negative sentiment?\n",
    "- Is the rating of a recipe 1, 2, 3, 4, or 5 stars?\n",
    "\n",
    "**Predictions are often made by using the words as features and the label as the target output.**\n",
    "\n",
    "Starting out, we will make each unique word (across all documents) a single feature. In any given corpora, we may have hundreds of thousands of unique words, so we may have hundreds of thousands of features!\n",
    "\n",
    "- For a given document, the numeric value of each feature could be:\n",
    "\n",
    "    - **number of times the word appears in the document**. Most features will have a value of zero, resulting in a sparse matrix of features.\n",
    "\n",
    "    - **indicator column, which is 1 if the word is present in the document (no matter how many times) and 0 if not.**  This vectorization could be used to reduce the importance of repeated words\n",
    "    \n",
    "    - For example, a website search engine would be susceptible to spammers who load websites with repeated words. \n",
    "\n",
    "\n",
    "- This technique for vectorizing text is referred to as a **bag-of-words** model. \n",
    "    - It is called **bag of words** because the document's structure is lost — as if the words are all jumbled up in a bag.\n",
    "    - The first step to creating a bag-of-words model is to create a vocabulary of all possible words in the corpora.\n",
    "\n",
    "\n",
    "**We need to consider several things to decide if bag-of-words is appropriate.**\n",
    "\n",
    "- Does order of words matter?\n",
    "- Does punctuation matter?\n",
    "- Does upper or lower case matter?"
   ]
  },
  {
   "attachments": {
    "image.png": {
     "image/png": "[encoded data removed]"
    }
   },
   "cell_type": "markdown",
   "metadata": {},
   "source": [
    "This table illustrates features created from the following passage.\n",
    "\n",
    "“It’s a great advantage not to drink among hard drinking people.”\n",
    "\n",
    "![image.png](attachment:image.png) ![image.png](attachment:image.png)"
   ]
  },
  {
   "cell_type": "markdown",
   "metadata": {},
   "source": [
    "## Demo: Text Processing in scikit-learn\n",
    "\n",
    "- **Objective:** Demonstrate text classification."
   ]
  },
  {
   "cell_type": "markdown",
   "metadata": {},
   "source": [
    "<a id='yelp_rev'></a>\n",
    "\n",
    "### Reading in the Yelp Reviews"
   ]
  },
  {
   "cell_type": "markdown",
   "metadata": {},
   "source": [
    "Throughout this lesson, we will use Yelp reviews to practice and discover common low-level NLP techniques.\n",
    "\n",
    "Additionally, we will use a model very popular for text classification called Naive Bayes (the \"NB\" in `BinonmialNB` and `MultinomialNB` below)."
   ]
  },
  {
   "cell_type": "markdown",
   "metadata": {},
   "source": [
    "**Load Libraries**"
   ]
  },
  {
   "cell_type": "code",
   "execution_count": 534,
   "metadata": {},
   "outputs": [],
   "source": [
    "import pandas as pd\n",
    "import numpy as np\n",
    "import scipy as sp\n",
    "from sklearn.model_selection import train_test_split\n",
    "from sklearn.feature_extraction.text import CountVectorizer, TfidfVectorizer\n",
    "from sklearn.naive_bayes import MultinomialNB\n",
    "from sklearn.linear_model import LogisticRegression\n",
    "from sklearn import metrics\n",
    "from textblob import TextBlob, Word\n",
    "from nltk.stem.snowball import SnowballStemmer\n",
    "\n",
    "%matplotlib inline"
   ]
  },
  {
   "cell_type": "markdown",
   "metadata": {},
   "source": [
    "**Read in Data and define X and y**"
   ]
  },
  {
   "cell_type": "code",
   "execution_count": 535,
   "metadata": {},
   "outputs": [],
   "source": [
    "# Read yelp.csv into a DataFrame.\n",
    "path = './data/yelp.csv'\n",
    "yelp = pd.read_csv(path)\n",
    "\n",
    "# Create a new DataFrame that only contains the 5-star and 1-star reviews.\n",
    "yelp_best_worst = yelp[(yelp.stars==5) | (yelp.stars==1)]\n",
    "\n",
    "# Define X and y.\n",
    "X = yelp_best_worst.text\n",
    "y = yelp_best_worst.stars"
   ]
  },
  {
   "cell_type": "code",
   "execution_count": 536,
   "metadata": {},
   "outputs": [
    {
     "data": {
      "text/html": [
       "<div>\n",
       "<style scoped>\n",
       "    .dataframe tbody tr th:only-of-type {\n",
       "        vertical-align: middle;\n",
       "    }\n",
       "\n",
       "    .dataframe tbody tr th {\n",
       "        vertical-align: top;\n",
       "    }\n",
       "\n",
       "    .dataframe thead th {\n",
       "        text-align: right;\n",
       "    }\n",
       "</style>\n",
       "<table border=\"1\" class=\"dataframe\">\n",
       "  <thead>\n",
       "    <tr style=\"text-align: right;\">\n",
       "      <th></th>\n",
       "      <th>business_id</th>\n",
       "      <th>date</th>\n",
       "      <th>review_id</th>\n",
       "      <th>stars</th>\n",
       "      <th>text</th>\n",
       "      <th>type</th>\n",
       "      <th>user_id</th>\n",
       "      <th>cool</th>\n",
       "      <th>useful</th>\n",
       "      <th>funny</th>\n",
       "    </tr>\n",
       "  </thead>\n",
       "  <tbody>\n",
       "    <tr>\n",
       "      <td>0</td>\n",
       "      <td>9yKzy9PApeiPPOUJEtnvkg</td>\n",
       "      <td>2011-01-26</td>\n",
       "      <td>fWKvX83p0-ka4JS3dc6E5A</td>\n",
       "      <td>5</td>\n",
       "      <td>My wife took me here on my birthday for breakf...</td>\n",
       "      <td>review</td>\n",
       "      <td>rLtl8ZkDX5vH5nAx9C3q5Q</td>\n",
       "      <td>2</td>\n",
       "      <td>5</td>\n",
       "      <td>0</td>\n",
       "    </tr>\n",
       "    <tr>\n",
       "      <td>1</td>\n",
       "      <td>ZRJwVLyzEJq1VAihDhYiow</td>\n",
       "      <td>2011-07-27</td>\n",
       "      <td>IjZ33sJrzXqU-0X6U8NwyA</td>\n",
       "      <td>5</td>\n",
       "      <td>I have no idea why some people give bad review...</td>\n",
       "      <td>review</td>\n",
       "      <td>0a2KyEL0d3Yb1V6aivbIuQ</td>\n",
       "      <td>0</td>\n",
       "      <td>0</td>\n",
       "      <td>0</td>\n",
       "    </tr>\n",
       "    <tr>\n",
       "      <td>2</td>\n",
       "      <td>6oRAC4uyJCsJl1X0WZpVSA</td>\n",
       "      <td>2012-06-14</td>\n",
       "      <td>IESLBzqUCLdSzSqm0eCSxQ</td>\n",
       "      <td>4</td>\n",
       "      <td>love the gyro plate. Rice is so good and I als...</td>\n",
       "      <td>review</td>\n",
       "      <td>0hT2KtfLiobPvh6cDC8JQg</td>\n",
       "      <td>0</td>\n",
       "      <td>1</td>\n",
       "      <td>0</td>\n",
       "    </tr>\n",
       "    <tr>\n",
       "      <td>3</td>\n",
       "      <td>_1QQZuf4zZOyFCvXc0o6Vg</td>\n",
       "      <td>2010-05-27</td>\n",
       "      <td>G-WvGaISbqqaMHlNnByodA</td>\n",
       "      <td>5</td>\n",
       "      <td>Rosie, Dakota, and I LOVE Chaparral Dog Park!!...</td>\n",
       "      <td>review</td>\n",
       "      <td>uZetl9T0NcROGOyFfughhg</td>\n",
       "      <td>1</td>\n",
       "      <td>2</td>\n",
       "      <td>0</td>\n",
       "    </tr>\n",
       "    <tr>\n",
       "      <td>4</td>\n",
       "      <td>6ozycU1RpktNG2-1BroVtw</td>\n",
       "      <td>2012-01-05</td>\n",
       "      <td>1uJFq2r5QfJG_6ExMRCaGw</td>\n",
       "      <td>5</td>\n",
       "      <td>General Manager Scott Petello is a good egg!!!...</td>\n",
       "      <td>review</td>\n",
       "      <td>vYmM4KTsC8ZfQBg-j5MWkw</td>\n",
       "      <td>0</td>\n",
       "      <td>0</td>\n",
       "      <td>0</td>\n",
       "    </tr>\n",
       "  </tbody>\n",
       "</table>\n",
       "</div>"
      ],
      "text/plain": [
       "              business_id        date               review_id  stars  \\\n",
       "0  9yKzy9PApeiPPOUJEtnvkg  2011-01-26  fWKvX83p0-ka4JS3dc6E5A      5   \n",
       "1  ZRJwVLyzEJq1VAihDhYiow  2011-07-27  IjZ33sJrzXqU-0X6U8NwyA      5   \n",
       "2  6oRAC4uyJCsJl1X0WZpVSA  2012-06-14  IESLBzqUCLdSzSqm0eCSxQ      4   \n",
       "3  _1QQZuf4zZOyFCvXc0o6Vg  2010-05-27  G-WvGaISbqqaMHlNnByodA      5   \n",
       "4  6ozycU1RpktNG2-1BroVtw  2012-01-05  1uJFq2r5QfJG_6ExMRCaGw      5   \n",
       "\n",
       "                                                text    type  \\\n",
       "0  My wife took me here on my birthday for breakf...  review   \n",
       "1  I have no idea why some people give bad review...  review   \n",
       "2  love the gyro plate. Rice is so good and I als...  review   \n",
       "3  Rosie, Dakota, and I LOVE Chaparral Dog Park!!...  review   \n",
       "4  General Manager Scott Petello is a good egg!!!...  review   \n",
       "\n",
       "                  user_id  cool  useful  funny  \n",
       "0  rLtl8ZkDX5vH5nAx9C3q5Q     2       5      0  \n",
       "1  0a2KyEL0d3Yb1V6aivbIuQ     0       0      0  \n",
       "2  0hT2KtfLiobPvh6cDC8JQg     0       1      0  \n",
       "3  uZetl9T0NcROGOyFfughhg     1       2      0  \n",
       "4  vYmM4KTsC8ZfQBg-j5MWkw     0       0      0  "
      ]
     },
     "execution_count": 536,
     "metadata": {},
     "output_type": "execute_result"
    }
   ],
   "source": [
    "yelp.head()"
   ]
  },
  {
   "cell_type": "markdown",
   "metadata": {},
   "source": [
    "**Split data into train/test**"
   ]
  },
  {
   "cell_type": "code",
   "execution_count": 537,
   "metadata": {},
   "outputs": [],
   "source": [
    "# Split the new DataFrame into training and testing sets.\n",
    "X_train, X_test, y_train, y_test = train_test_split(X, y, random_state=1)"
   ]
  },
  {
   "cell_type": "markdown",
   "metadata": {},
   "source": [
    "### Tokenization\n",
    "\n",
    "- Tokenization is the task of separating a sentence into its constituent parts, or tokens.\n",
    "\n",
    "- Determining the “words” of a sentence seems easy but can quickly become complicated with unusual punctuation (common in social media) or different language conventions.\n",
    "\n",
    "**What sort of difficulties can you find in tokenizing the following sentence?**\n",
    "\n",
    "> The San Antonio Spurs won the NBA championship in 2014, defeating the Miami Heat.*\n",
    "\n",
    "#### Tokenization Examples\n",
    "My house is located in Uptown. → [My, house, is, located, in, Uptown]\n",
    "\n",
    "The Lakers are my favorite team. → [The, Lakers, are, my, favorite, team]\n",
    "\n",
    "Data Science is the future! → [Data, Science, is, the, future]\n",
    "\n",
    "GA has many locations. → [GA, has, many, locations]"
   ]
  },
  {
   "cell_type": "markdown",
   "metadata": {},
   "source": [
    "<a id='count_vec'></a>\n",
    "\n",
    "\n",
    "### Creating Features Using CountVectorizer\n",
    "\n",
    "- **What:** Converts each document into a set of words and their counts.\n",
    "- **Why:** To use a machine learning model, we must convert unstructured text into numeric features.\n",
    "- **Notes:** Relatively easy with English language text, not as easy with some languages."
   ]
  },
  {
   "cell_type": "code",
   "execution_count": 538,
   "metadata": {},
   "outputs": [],
   "source": [
    "# Use CountVectorizer to create document-term matrices from X_train and X_test.\n",
    "vect = CountVectorizer()\n",
    "X_train_dtm = vect.fit_transform(X_train)\n",
    "X_test_dtm = vect.transform(X_test)"
   ]
  },
  {
   "cell_type": "code",
   "execution_count": 539,
   "metadata": {},
   "outputs": [
    {
     "data": {
      "text/plain": [
       "(3064, 16825)"
      ]
     },
     "execution_count": 539,
     "metadata": {},
     "output_type": "execute_result"
    }
   ],
   "source": [
    "# Rows are documents, columns are terms (aka \"tokens\" or \"features\", individual words in this situation).\n",
    "X_train_dtm.shape"
   ]
  },
  {
   "cell_type": "code",
   "execution_count": 540,
   "metadata": {},
   "outputs": [
    {
     "name": "stdout",
     "output_type": "stream",
     "text": [
      "['adobo', 'adolescence', 'adopt', 'adopted', 'adoption', 'adoptions', 'adorable', 'adore', 'adorning', 'adovada', 'adquate', 'adrienne', 'ads', 'adult', 'adulthood', 'adults', 'advance', 'advanced', 'advancing', 'advantage', 'advantages', 'adventure', 'adventures', 'adventurous', 'adverse', 'adversity', 'advertise', 'advertised', 'advertisement', 'advertising', 'adverts', 'advice', 'advise', 'advised', 'advising', 'advisor', 'advocate', 'advocated', 'aeg', 'aerators', 'aerobic', 'aerobics', 'aeropress', 'aesthetically', 'aesthetics', 'affair', 'affect', 'affected', 'affects', 'afficianados', 'affiliated', 'affiliation', 'affluent', 'afforadable', 'afford', 'affordable', 'aficionado', 'aficionados', 'afloat', 'aforementioned', 'afoul', 'afraid', 'africa', 'after', 'afterall', 'afterdark', 'afterglow', 'afternoon', 'afternoons', 'aftertaste', 'afterthought', 'afterward', 'afterwards', 'again', 'against', 'agape', 'agave', 'agaves', 'age', 'aged', 'agency', 'agent', 'agents', 'ages', 'aggressive', 'aging', 'agitated', 'ago', 'agonizing', 'agree', 'agreeable', 'agreed', 'agreeing', 'agreement', 'agrees', 'agua', 'aguas', 'agwa', 'ah', 'ahead', 'ahem', 'ahh', 'ahhh', 'ahhhh', 'ahhhhh', 'ahi', 'ahold', 'ahwatukee', 'aid', 'aiello', 'aiko', 'aim', 'aimed', 'aimlessly', 'aims', 'ain', 'aint', 'aioli', 'aiptasia', 'air', 'airconditioned', 'airfair', 'airfare', 'airline', 'airlines', 'airpark', 'airplane', 'airport', 'airports', 'airwarys', 'airways', 'airy', 'aisha', 'aisle', 'aisles', 'aj', 'aji', 'ajo', 'ajos', 'ajs', 'ajvar', 'aka', 'aki', 'aknowledging', 'akor', 'al', 'ala', 'alabama', 'alain', 'alameda', 'alan', 'alarmed', 'alas', 'alaskan', 'alaus', 'albacore', 'albeit', 'alber', 'album', 'albums', 'alcohol', 'alcoholic', 'aldo', 'ale', 'alert', 'alex', 'alexandra', 'alfalfa', 'alfonso', 'alfred', 'alfredo', 'algae', 'ali', 'alice', 'alicia', 'aliens', 'alike', 'alittle', 'alive', 'all', 'alla', 'allayed', 'alleged', 'allegiant', 'allen', 'allende', 'allergen', 'allergic', 'allergies', 'allergy', 'alleviated', 'alley', 'alligator', 'allocating', 'allot', 'alloted', 'allotted', 'allow', 'allowable', 'allowance', 'allowed', 'allowing', 'allows', 'allure', 'almond', 'almonds', 'almost', 'aloe', 'alofts', 'aloha', 'alone', 'along', 'alongside', 'alons', 'aloo', 'aloof', 'alot', 'aloud', 'alp', 'already', 'alright', 'also', 'alteration', 'alterations', 'altercation', 'altered', 'altering', 'alternately', 'alternative', 'alternatively', 'alternatives', 'although', 'altic', 'aluminum', 'alway', 'always', 'am', 'ama', 'amaaaaazing', 'amaazing', 'amados', 'amalfi', 'amanda', 'amaretti', 'amaretto', 'amarillo', 'amaro', 'amateur', 'amaze', 'amazed', 'amazement', 'amazes', 'amazing', 'amazingly', 'amazingness', 'amazon', 'amazzzzzzing', 'ambassador', 'amber', 'ambiance', 'ambience', 'ambient', 'ambrosia', 'amc', 'amenable', 'amendment', 'amenities', 'america', 'american', 'americana', 'americanized', 'americano', 'americanos', 'americans', 'ami', 'amicable', 'amidst', 'amin', 'amish', 'ammo', 'amomi', 'among', 'amongst', 'amore', 'amount', 'amounted', 'amounts', 'amp', 'amphitheatre', 'ample', 'ampm', 'amtrack', 'amuse', 'amused', 'amusement', 'amusing', 'amy', 'an', 'anal', 'analysis', 'ancho', 'anchor', 'anchors', 'anchovies', 'anchovy', 'and', 'andiamo', 'andouille', 'andrea', 'andrew', 'andy', 'anecdotes', 'anemic', 'anesthetic', 'anew', 'angel', 'angela', 'angeles', 'angelic', 'angello', 'angels', 'anger', 'anglaise', 'angle', 'angler', 'angles', 'angry', 'angst', 'anibal', 'animal', 'animals', 'animated', 'animatronics', 'anise', 'aniston', 'ankle', 'ankles', 'ann', 'anne', 'annie', 'annihilator', 'anniversary', 'announced', 'annoy', 'annoyance', 'annoyed', 'annoying', 'annual', 'anomaly', 'anonymous', 'another', 'ans', 'ansel', 'answer', 'answered', 'answering', 'answers', 'ant', 'anthem', 'anthony', 'anti', 'anticipate', 'anticipated', 'anticipating', 'anticipation', 'antipasti', 'antipasto', 'antique', 'antiques', 'antiquing', 'antiseptic', 'antithesis', 'antler', 'antonio', 'antono', 'ants', 'anxiety', 'anxious', 'anxiously', 'any', 'anybody', 'anyday', 'anyhoo', 'anyhow', 'anymore', 'anyone', 'anyplace', 'anything', 'anythings', 'anytime', 'anyway', 'anyways', 'anywhere', 'anywho', 'ao', 'ap', 'apache', 'apart', 'apartment', 'apartments', 'ape', 'apiece', 'apologetic', 'apologetically', 'apologists', 'apologize', 'apologized', 'apologizes', 'apologizing', 'apology', 'apostles', 'apothecary', 'apothic', 'app', 'appalachians', 'appaled', 'appalled', 'appalling', 'apparantly', 'apparel', 'apparent', 'apparently', 'appauling', 'appeal', 'appealed', 'appealing', 'appeals', 'appear', 'appearance', 'appearances', 'appeared', 'appears', 'appeasing', 'appertizer', 'appetit', 'appetite', 'appetito', 'appetizaer', 'appetizer', 'appetizers', 'appetizing', 'applaud', 'apple', 'applebee', 'applebees', 'apples', 'appletini', 'appletinis', 'appliances', 'applied', 'applies', 'apply', 'applying', 'appoinmtnt', 'appointed', 'appointment', 'appointments', 'appologized', 'appraisal', 'appraisals', 'appraiser', 'appreciate', 'appreciated', 'appreciates', 'appreciation', 'appreciative', 'apprehensive', 'appreicate', 'approach', 'approachable', 'approached', 'approaches', 'approaching', 'appropriate', 'appropriately', 'approx', 'approximate', 'approximately', 'apps', 'appt', 'appys', 'apricot', 'april', 'apron', 'apt', 'aqua', 'aquarium', 'aquiring', 'ar', 'arabic', 'arai', 'arbol', 'arboreal', 'arborio', 'arcade', 'arcadia', 'arcane', 'arches', 'architect', 'architecture', 'archive', 'archway', 'arco', 'are', 'area', 'areas', 'aren', 'arena', 'arent', 'argentine', 'argue', 'argued', 'arguing', 'argumentative', 'argyle', 'ariel', 'arigato', 'arise', 'arizona', 'arizonan', 'arizonans', 'arkansas', 'arlecchino', 'arm', 'armando', 'armed', 'armour', 'arms', 'army', 'aroma', 'aromas', 'aromatic', 'aromatics', 'around', 'arousal', 'arpege', 'arragont', 'arrange', 'arranged', 'arrangement', 'arrangements', 'arranging', 'array', 'arrested', 'arriba', 'arribas', 'arrival', 'arrive', 'arrived', 'arrivederci', 'arrives', 'arriving', 'arrogance', 'arrogant', 'arrowhead', 'arroz', 'art', 'artesian', 'artful', 'artfully', 'arthur', 'artichoke', 'artichokes', 'article', 'articles', 'artie', 'artifacts', 'artificial', 'artisan', 'artist', 'artistic', 'artistically', 'artistry', 'artists', 'artois', 'arts', 'artsy', 'artwork', 'arugala', 'arugula', 'as', 'asada', 'asado', 'asahi', 'asaian', 'asap', 'asasda', 'ascend', 'ascent', 'ash', 'ashamed', 'ashamedly', 'ashes', 'ashley', 'ashtanga', 'ashtray', 'asia', 'asiago', 'asian', 'asians', 'aside', 'ask', 'asked', 'askin', 'asking', 'asks', 'asleep', 'asp', 'asparagus', 'aspect', 'aspects', 'aspire', 'aspirin', 'aspiring', 'aspx', 'ass', 'assault', 'assaulted', 'asserted', 'asses', 'assessed', 'assessment', 'asset', 'assets', 'asshat', 'asshole', 'assholes', 'assigned', 'assignment', 'assinine', 'assistance', 'assistant', 'assisted', 'assoc', 'associate', 'associated', 'associates', 'association', 'assorted', 'assortment', 'assume', 'assumed', 'assumes', 'assuming', 'assumption', 'assumptions', 'assurance', 'assure', 'assured', 'assuredly', 'astatically', 'astonished', 'astonishing', 'astounded', 'astounding', 'asu', 'asus', 'at', 'atc', 'ate', 'athelete', 'athlete', 'athletes', 'athletica', 'ation', 'atl', 'atlanta', 'atlantic', 'atleast', 'atm', 'atmosphere', 'atomic', 'atomosphere', 'atop', 'atoyac', 'atri', 'atrium', 'atrocious', 'atrociously', 'attached', 'attack', 'attacked', 'attacks', 'attain', 'attarct', 'attempt', 'attempted', 'attempting', 'attempts', 'attend', 'attendance', 'attendant', 'attendants', 'attended', 'attendee', 'attendees', 'attending', 'attention', 'attentive', 'attest', 'attic', 'attire', 'attitude', 'attitudes', 'attorney', 'attract', 'attraction', 'attractions', 'attractive', 'attracts', 'attribute', 'attributes', 'atypical', 'au', 'auctioned', 'audacity', 'audience', 'audio', 'audition', 'auditorium', 'aug', 'augments', 'august', 'aunt', 'auspices', 'aussie', 'austin', 'australia', 'australian', 'authentic', 'authentically', 'authenticity', 'authenticly', 'author', 'autismcenter', 'autistic', 'auto', 'autographed', 'autograt', 'automatic', 'automatically', 'automobile', 'automotive', 'autumn', 'avacado', 'avadado', 'avail', 'availability', 'available', 'avalanches', 'ave', 'avenue', 'aver', 'average', 'averaged', 'averages', 'averaging', 'averse', 'avg', 'avid', 'avocado', 'avocados', 'avoid', 'avoidance', 'avoided', 'avoiding', 'avondale', 'awaited', 'awaiting', 'awaits', 'awakening', 'award', 'awards', 'aware', 'awareness', 'away', 'aways', 'awaze', 'awe', 'awed', 'awesome', 'awesomely', 'awesomeness', 'awful', 'awfully', 'awhile', 'awkward', 'awkwardly', 'awning', 'awsome', 'axe', 'az', 'az88', 'azkaban', 'azn', 'azpbs', 'azspagirls', 'azucena', 'ba', 'baaaaaaad', 'baba', 'babaganoush', 'babbo', 'babies', 'baby', 'babyback', 'babysitter', 'bacado', 'bachelor', 'bachelorette', 'back', 'backdrop', 'backed', 'background', 'backing', 'backlit', 'backpack', 'backside', 'backstage', 'backstory', 'backtracked', 'backup', 'backwards', 'backyard', 'bacon', 'bacteria', 'bad', 'badass', 'bader', 'badger', 'badly', 'badmouth', 'baeley', 'baffled', 'baffling', 'bag', 'bage', 'bagel', 'bagels', 'baggage', 'bagged', 'baggins', 'baggy', 'baghlava', 'bagly', 'bags', 'baguette', 'bahama', 'bahamas', 'bahn', 'bail', 'bailey', 'baileys', 'bait', 'baiz', 'baja', 'bajesus', 'bajillion', 'bake', 'baked', 'baker', 'bakeries', 'bakers', 'bakery', 'baking', 'baklava', 'balance', 'balanced', 'balances', 'balancing', 'balcony', 'bald', 'balidated', 'balking', 'ball', 'ballet', 'ballin', 'balloons', 'ballpark', 'ballparks', 'ballroom', 'balls', 'balsalmic', 'balsamic', 'baltimore', 'bam', 'bamboo', 'ban', 'banana', 'bananas', 'bananoffee', 'band', 'bandages', 'bandaid', 'bandana', 'banded', 'bandera', 'bandido', 'bandit', 'bandito', 'bands', 'banfield', 'bang', 'bangers', 'bangin', 'banging', 'bangkok', 'bangs', 'bank', 'banked', 'banker', 'banking', 'bankruptcy', 'bannanas', 'banned', 'banner', 'banquette', 'banter', 'bantering', 'bap', 'bar', 'barb', 'barback', 'barbacks', 'barbacoa', 'barbara', 'barbbacoa', 'barbecue', 'barbecuein', 'barbeque', 'barber', 'barbers', 'barbershop', 'barcelona', 'bare', 'barefaced', 'barefoot', 'barely', 'bargain', 'bargaining', 'bargains', 'bargin', 'barista', 'baristas', 'bark', 'barked', 'barking', 'barley', 'barnes', 'barney', 'barq', 'barr', 'barramundi', 'barrel', 'barrier', 'barrio', 'barro', 'barry', 'bars', 'bartender', 'bartenders', 'bartholomew', 'bartista', 'bartop', 'basalmic', 'base', 'baseball', 'baseballs', 'based', 'baseline', 'basement', 'bash', 'basha', 'bashas', 'basic', 'basically', 'basics', 'basil', 'basis', 'bask', 'basket', 'basketball', 'baskets', 'baskin', 'basmati', 'bass', 'bastard', 'basted', 'baston', 'bat', 'batch', 'bath', 'bathe', 'bathed', 'bathers', 'bathing', 'bathroom', 'bathrooms', 'baths', 'batman', 'batmobile', 'baton', 'bats', 'batter', 'battered', 'batteries', 'battery', 'batting', 'battle', 'battlers', 'battleship', 'bavaria', 'bay', 'bbb', 'bbfw', 'bbq', 'bbs', 'bc', 'bcbg', 'bday', 'bdays', 'bdsm', 'be', 'bea', 'beach', 'beams', 'bean', 'beanery', 'beans', 'bear', 'bearable', 'beard', 'beards', 'bearing', 'bears', 'beast', 'beat', 'beaten', 'beaters', 'beating', 'beatles', 'beats', 'beau', 'beautiful', 'beautifully', 'beauty', 'beaver', 'became', 'because', 'bechamel', 'beckett', 'beckon', 'becky', 'become', 'becomes', 'becoming', 'becuz', 'bed', 'bedazzled', 'bedroom', 'bedrooms', 'beds', 'bee', 'beebees', 'beef', 'beefcake', 'beefy', 'been', 'beep', 'beeping', 'beer', 'beers', 'bees', 'beet', 'beetle', 'beetles', 'beets', 'before', 'beforehand', 'beg', 'began', 'beggars', 'begged', 'begging', 'begin', 'begining', 'beginner', 'beginners', 'beginning', 'begins', 'begrudgingly', 'begun', 'behalf', 'behaved', 'behavior', 'behind', 'behold', 'beignets', 'bein', 'being', 'beirut', 'belabor', 'belgian', 'belief', 'believe', 'believed', 'believer', 'believers', 'believes', 'believing', 'belittled', 'bell', 'bellboy', 'bellies', 'belligerently', 'bellini', 'bellinis', 'belltown', 'belly', 'belmont', 'belong', 'belongs', 'beloved', 'below', 'belt', 'belts', 'ben', 'bench', 'benches', 'bend', 'bender', 'bending', 'beneath', 'benedict', 'beneficial', 'benefit', 'benefited', 'benefits', 'benign', 'benny', 'bento', 'bentos', 'beppo', 'berated', 'berg', 'bergesson', 'berkshire', 'berlin', 'berries', 'berry', 'berschler', 'bert', 'bertha', 'berto', 'bertos', 'beside', 'besides', 'best', 'bestie', 'bestowed', 'bet', 'bethany', 'bethel', 'betito', 'betitos', 'betray', 'betta', 'better', 'betty', 'betunia', 'betweeen', 'between', 'beverage', 'beverages', 'beverly', 'bevmo', 'beware', 'beyonce', 'beyond', 'bf', 'bfast', 'bff', 'bffs', 'bgf', 'bi', 'biacoverde', 'biagga', 'biaggia', 'biagio', 'bialy', 'bianco', 'biancoverde', 'biancoverdes', 'bias', 'biased', 'bibimbap', 'bible', 'bicker', 'bicycle', 'bicycles', 'biden', 'bidet', 'bier', 'biet', 'big', 'big_ass', 'bigee', 'bigger', 'biggest', 'biggie', 'biiiiiiiiiiig', 'bike', 'biker', 'bikers', 'bikes', 'biking', 'bikini', 'bikram', 'bilbo', 'bilinis', 'bill', 'billet', 'billiards', 'billing', 'bills', 'biltmore', 'bimbo', 'bin', 'bind', 'bing', 'bings', 'bingsoo', 'binkley', 'bins', 'biography', 'bird', 'birdlife', 'birds', 'birth', 'birthday', 'birthdays', 'biscotti', 'biscuit', 'biscuits', 'bismark', 'bison', 'bisque', 'bistec', 'bistro', 'bit', 'bitch', 'bitches', 'bitching', 'bitchy', 'bite', 'bites', 'biting', 'bits', 'bitsy', 'bitten', 'bitter', 'bitterish', 'bitterness', 'bitty', 'biz', 'biz_photos', 'bizarre', 'bj', 'bla', 'black', 'blackberries', 'blackberry', 'blackened', 'blackrice', 'blackstone', 'blackwidow', 'blade', 'blah', 'blake', 'blame', 'blanca', 'blanco', 'bland', 'blandness', 'blank', 'blanket', 'blanketed', 'blankity', 'blaring', 'blase', 'blasphemy', 'blast', 'blasting', 'blasts', 'blatantly', 'blaze', 'blazer', 'blazing', 'bleached', 'bleacher', 'bleachers', 'blech', 'bleech', 'bleed', 'bleeding', 'bleh', 'blend', 'blended', 'blending', 'blendini', 'blends', 'bless', 'blessed', 'blessings', 'bleu', 'blew', 'blimpie', 'blind', 'blindfolds', 'blindness', 'bliss', 'blissful', 'blistered', 'blisters', 'bloated', 'blobs', 'block', 'blockbuster', 'blocked', 'blocking', 'blocks', 'blog', 'blond', 'blonde', 'blood', 'bloody', 'bloodymary', 'blooming', 'blooms', 'bloomy', 'blossom', 'blossoms', 'blouses', 'blow', 'blowdry', 'blower', 'blowing', 'blown', 'blows', 'blt', 'blu', 'blue', 'blueberries', 'blueberry', 'bluecheese', 'bluemoon', 'blues', 'bluesman', 'blunt', 'bluntly', 'blur', 'blush', 'blushes', 'blvd', 'bmw', 'bmx', 'bnd5erj', 'bndmaps', 'bo', 'boa', 'boar', 'board', 'boarded', 'boarding', 'boards', 'boars', 'boasts', 'boat', 'boats', 'bob', 'boba', 'bobbie', 'bobby', 'boca', 'bocca', 'bocce', 'bock', 'bodies', 'body', 'bodyworker', 'bogi', 'bogo', 'boil', 'boiled', 'boiling', 'boisterous', 'bold', 'bolivia', 'bolster', 'bolt', 'bolted', 'bolts', 'bomb', 'bombay', 'bomber', 'bombero', 'bomberos', 'bombers', 'bombs', 'bon', 'bona', 'bonafide', 'bonanza', 'bond', 'bonding', 'bone', 'boneless', 'bones', 'bong', 'bonne', 'bonnie', 'bonus', 'boo', 'boob', 'boobs', 'boofay', 'boohiney', 'book', 'booked', 'booking', 'bookmans', 'books', 'bookstore', 'bookstores', 'boolgogee', 'boom', 'boooy', 'boop', 'booshelf', 'boost', 'booster', 'boot', 'booth', 'booths', 'boots', 'booyah', 'booze', 'boozers', 'boozin', 'boozometer', 'bop', 'borad', 'bordelaise', 'border', 'bordering', 'borderline', 'borders', 'bored', 'boring', 'born', 'borne', 'borrow', 'bosa', 'bosch', 'bosco', 'bosnia', 'bosnian', 'boss', 'bosses', 'bossy', 'bostic', 'boston', 'botanical', 'botany', 'both', 'bother', 'bothered', 'bothering', 'bothers', 'bothersome', 'botox', 'bottle', 'bottled', 'bottles', 'bottling', 'bottom', 'bottomless', 'bottoms', 'bouche', 'bought', 'bouillabaisse', 'boulangerie', 'boulder', 'boulders', 'boullion', 'bounce', 'bounced', 'bouncer', 'bouncers', 'bouncing', 'bound', 'bounty', 'bourban', 'bourbon', 'bout', 'boutique', 'boutiques', 'bowl', 'bowling', 'bowls', 'bowties', 'box', 'boxed', 'boxer', 'boxers', 'boxes', 'boxing', 'boy', 'boyfriend', 'boyfriends', 'boyfrind', 'boys', 'boyshorts', 'bpa', 'br', 'bra', 'brace', 'brachetto', 'brad', 'brag', 'bragged', 'bragging', 'braille', 'brain', 'brainless', 'brains', 'braised', 'braized', 'brak', 'bran', 'branch', 'branched', 'branches', 'brand', 'branding', 'brands', 'brandy', 'branzino', 'brass', 'brasserie', 'brat', 'brats', 'bratwurst', 'bravas', 'brave', 'braves', 'bravo', 'bray', 'brazen', 'brazilian', 'bread', 'breadcrumbs', 'breaded', 'breadfruit', 'breading', 'breads', 'breadsticks', 'breadticks', 'break', 'breakfast', 'breakfasts', 'breakfasty', 'breaking', 'breaks', 'breaksfast', 'breakthrough', 'breas', 'breast', 'breasts', 'breath', 'breathe', 'breathed', 'breathing', 'breathtaking', 'bred', 'breed', 'breeze', 'brekafast', 'brenda', 'brenden', 'bretheren', 'brew', 'brewed', 'brewer', 'breweries', 'brewery', 'brewing', 'brewpub', 'brewpubs', 'brews', 'bri', 'brian', 'brianna', 'brick', 'brickoven', 'bricks', 'brickwork', 'bridal', 'bride', 'brides', 'bridesmaids', 'bridge', 'brie', 'brief', 'briefcase', 'briefly', 'briefs', 'brien', 'briggs', 'bright', 'brightly', 'brilliance', 'brilliant', 'brim', 'brine', 'bring', 'bringing', 'brings', 'brining', 'briny', 'brio', 'brioche', 'brioni', 'brisket', 'brit', 'british', 'britishers', 'britney', 'brittan', 'brittian', 'brittle', 'bro', 'broad', 'broadway', 'broasted', 'broccoli', 'broccolini', 'brochette', 'brocolli', 'broiled', 'broke', 'broken', 'bronx', 'brooches', 'brooklyn', 'brookstone', 'bros', 'broth', 'brother', 'brothers', 'brothy', 'brough', 'brought', 'broun', 'brow', 'brown', 'brownie', 'brownies', 'browns', 'brows', 'browse', 'browsed', 'browsing', 'bruce', 'bruchetta', 'bruder', 'brule', 'brulee', 'brulees', 'brunch', 'brunches', 'brunets', 'brunette', 'bruscetta', 'bruschetta', 'bruschettas', 'brush', 'brushcetta', 'brushed', 'brushes', 'brushettas', 'brussel', 'brussels', 'brutal', 'brutus', 'bryan', 'brûlée', 'bs', 'btw', 'bubble', 'bubbles', 'bubbly', 'buca', 'bucatini', 'bucca', 'bucco', 'buchanan', 'buck', 'bucked', 'bucket', 'buckets', 'buckeye', 'buckeyes', 'buckhunt', 'buckle', 'buckles', 'bucks', 'buckwheat', 'bud', 'buddhism', 'buddies', 'buddy', 'budge', 'budget', 'buds', 'budweiser', 'bueno', 'buff', 'buffala', 'buffalo', 'buffer', 'buffet', 'buffets', 'buffett', 'bug', 'bugger', 'buggers', 'bugs', 'bugtussel', 'build', 'building', 'buildings', 'built', 'buisness', 'bulb', 'bulbs', 'bulgogi', 'bulk', 'bulked', 'bull', 'bulldogs', 'bullet', 'bullion', 'bullriders', 'bullshit', 'bummed', 'bummer', 'bumped', 'bumper', 'bumping', 'bums', 'bun', 'bunch', 'bunches', 'bundle', 'bundled', 'bundy', 'bunnies', 'buns', 'buon', 'burch', 'burger', 'burgers', 'burial', 'burlington', 'burly', 'burmese', 'burn', 'burned', 'burning', 'burnt', 'burped', 'burps', 'burrata', 'burratta', 'burrito', 'burritos', 'burro', 'burros', 'burst', 'bursting', 'burt', 'burton', 'bus', 'busan', 'busboy', 'busboys', 'bush', 'bushes', 'busiest', 'business', 'businesses', 'businessman', 'businessmen', 'busses', 'bust', 'busted', 'busting', 'bustle', 'bustled', 'bustling', 'busy', 'but', 'butai', 'butcher', 'butchering', 'butka', 'butt', 'butte', 'butter', 'buttercream', 'buttercrunch', 'buttered', 'butterfish', 'butterflies', 'butterfly', 'buttermilk', 'butternut', 'butters', 'butterscotch', 'buttery', 'button', 'buttons', 'butts', 'bux', 'buy', 'buybuybaby', 'buyer', 'buyers', 'buying', 'buys', 'buzz', 'buzzcation', 'buzzing', 'buzzkill', 'bv500', 'by', 'bye', 'byo', 'byob', 'c785ykr', 'c7pkagm', 'c7zwftv', 'ca', 'ca765ua', 'cab', 'cabage', 'cabana', 'cabanas', 'cabbage', 'cabbies', 'cabela', 'cabernet', 'cabeza', 'cabin', 'cabinet', 'cable', 'cabs', 'cacti', 'cactus', 'caddilac', 'caddy', 'cadet', 'cadillac', 'caesar', 'caesars', 'cafe', 'cafeteria', 'caffe', 'caffeinate', 'caffeine', 'café', 'cage', 'cages', 'cajun', 'cajuns', 'cake', 'cakes', 'cal', 'calamari', 'calamos', 'calendar', 'calf', 'cali', 'caliber', 'caliente', 'california', 'calimari', 'call', 'calle', 'called', 'caller', 'calling', 'calloused', 'calls', 'callus', 'calm', 'calmed', 'calming', 'calmly', 'calorie', 'calories', 'cals', 'calves', 'calypso', 'calzone', 'calzones', 'came', 'camel', 'camelback', 'camelbacks', 'camelview', 'camera', 'cameras', 'camp', 'campaign', 'campaigning', 'campbell', 'campbells', 'camper', 'campers', 'camping', 'campus', 'campuses', 'camus', 'can', 'canada', 'canadian', 'canaille', 'canal', 'canals', 'canasta', 'cancel', 'cancellation', 'cancelled', 'cancelling', 'cancer', 'candid', 'candied', 'candies', 'candle', 'candlelit', 'candles', 'candy', 'candyland', 'cane', 'canes', 'canidae', 'canine', 'canned', 'cannelloni', 'cannibal', 'cannoli', 'cannolis', 'cannon', 'cannot', 'canoe', 'canoli', 'canopy', 'cans', 'cant', 'canteen', 'canteloupe', 'cantina', 'canton', 'cantonese', 'canvas', 'canvases', 'canyon', 'canyone', 'cap', 'capable', 'capaccino', 'capacity', 'capellini', 'caper', 'capers', 'capezio', 'capicolla', 'capital', 'capitalism', 'capitol', 'caponata', 'capped', 'cappella', 'cappicola', 'cappuccino', 'cappuccinos', 'caprese', 'capri', 'capriottis', 'caps', 'capsule', 'captain', 'capture', 'car', 'caradmom', 'caramel', 'caramelized', 'carb', 'carbohydrate', 'carbon', 'carbonara', 'carbonation', 'carbs', 'carburetor', 'card', 'cardamom', 'cardboard', 'carded', 'cardinal', 'cardinals', 'cardio', 'cards', 'cardstock', 'care', 'cared', 'career', 'carefree', 'careful', 'carefully', 'careless', 'cares', 'caribbean', 'caring', 'carl', 'carla', 'carlos', 'carlsbad', 'carlton', 'carmel', 'carmelized', 'carnage', 'carne', 'carnegie', 'carniceria', 'carnitas', 'carnivore', 'carnivorial', 'carol', 'carolers', 'carolina', 'caroline', 'carousel', 'carpacchio', 'carpaccio', 'carpal', 'carpet', 'carpeting', 'carpool', 'carrabba', 'carribbean', 'carried', 'carrier', 'carriers', 'carries', 'carrot', 'carrots', 'carrott', 'carry', 'carrying', 'cars', 'cart', 'carte', 'carted', 'cartel', 'carter', 'carton', 'carts', 'cartwrights', 'carving', 'cary', 'casa', 'case', 'casella', 'casement', 'cases', 'casey', 'cash', 'cashed', 'cashew', 'cashews', 'cashier', 'cashiers', 'cashing', 'casie', 'casing', 'casino', 'casita', 'cask', 'casserole', 'cast', 'castilla', 'casting', 'casual', 'casually', 'cat', 'catagory', 'catalog', 'catalogs', 'catalytic', 'catch', 'catching', 'categories', 'category', 'cater', 'catered', 'catering', 'catfish', 'cathedral', 'cation', 'cats', 'caucasian', 'caucasians', 'caught', 'cauldron', 'cauliflower', 'cause', 'caused', 'causes', 'causing', 'caution', 'cautious', 'cavalleria', 'cavalli', 'cave', 'caveat', 'caved', 'cavernous', 'caviar', 'cavities', 'cavity', 'cayman', 'caymans', 'cb', 'cc', 'cca', 'cco', 'cd', 'cdc', 'cds', 'ceasar', 'cease', 'ceaser', 'ceiling', 'ceilings', 'celebrate', 'celebrated', 'celebrating', 'celebration', 'celebratory', 'celebrities', 'celery', 'celiac', 'celiacs', 'celina', 'cell', 'cellar', 'cellist', 'cellphone', 'celsius', 'cement', 'cenpho', 'censor', 'cent', 'center', 'centered', 'centerpiece', 'centers', 'central', 'centrally', 'centre', 'cents', 'century', 'ceo', 'ceramic', 'cereal', 'cereals', 'ceremony', 'cerignola', 'certain', 'certainly', 'certificate', 'certificates', 'certified', 'cesar', 'cesspool', 'cesspools', 'cetera', 'cevap', 'ceviche', 'cezanne', 'cfls', 'ch', 'cha', 'chace', 'chagrin', 'chai', 'chain', 'chainco', 'chains', 'chainsaw', 'chair', 'chairs', 'chaise', 'chalet', 'chalkboard', 'chalking', 'chalky', 'challah', 'challenge', 'challenged', 'challenges', 'challenging', 'chamber', 'chambord', 'chamomile', 'champ', 'champagne', 'champagnes', 'champers', 'championship', 'champong', 'champs', 'chana', 'chance', 'chancer', 'chancers', 'chances', 'chandelier', 'chandeliers', 'chandler', 'chanel', 'chang', 'change', 'changed', 'changes', 'changing', 'changs', 'channel', 'channels', 'chanterelle', 'chanterelles', 'chantrel', 'chao', 'chaos', 'chaparral', 'char', 'character', 'charbroiled', 'charcoal', 'chard', 'chardonnay', 'charge', 'charged', 'charger', 'charges', 'charging', 'chargrilled', 'charismatic', 'charitable', 'charity', 'charleen', 'charlene', 'charleston', 'charlie', 'charlotte', 'charm', 'charming', 'charred', 'chart', 'chase', 'chased', 'chat', 'chatted', 'chatter', 'chattering', 'chatting', 'chatty', 'cheap', 'cheaper', 'cheapest', 'cheaply', 'cheapskate', 'cheat', 'cheated', 'checca', 'check', 'checkbox', 'checked', 'checkeed', 'checker', 'checkered', 'checkers', 'checkin', 'checking', 'checklist', 'checkout', 'checkplease', 'checks', 'checkup', 'cheddar', 'cheek', 'cheerful', 'cheerfully', 'cheering', 'cheers', 'cheery', 'cheese', 'cheeseboard', 'cheeseburger', 'cheesecake', 'cheeses', 'cheesesteak', 'cheesesteaks', 'cheesey', 'cheesy', 'cheez', 'chef', 'chefing', 'chefs', 'chelsea', 'chemex', 'chemical', 'chemicals', 'cherished', 'cherries', 'cherry', 'cherryblossom', 'cheryl', 'chess', 'chestnuts', 'chew', 'chewing', 'chewy', 'chi', 'chiang', 'chianti', 'chic', 'chicago', 'chicagoan', 'chiccharon', 'chichi', 'chick', 'chickafila', 'chicken', 'chickens', 'chickpeas', 'chicks', 'chicory', 'chics', 'chief', 'chiku', 'chiladas', 'chilaquiles', 'child', 'childcare', 'childhood', 'childhoods', 'children', 'childs', 'chile', 'chilean', 'chilequiles', 'chiles', 'chili', 'chilies', 'chiliglazed', 'chill', 'chilled', 'chilli', 'chills', 'chilly', 'chilulah', 'chime', 'chimi', 'chimichanga', 'chiming', 'chimis', 'chimmichurri', 'chin', 'china', 'chinaberry', 'chinatown', 'chinese', 'chino', 'chip', 'chipolte', 'chipotle', 'chipped', 'chipping', 'chips', 'chiptole', 'chiro', 'chiropractic', 'chiropractor', 'chirping', 'chit', 'chitchat', 'chivalrously', 'chives', 'chlorine', 'choc', 'chock', 'chocolate', 'chocolately', 'chocolates', 'chocolatey', 'chocolatier', 'chocolatiers', 'chocolatiest', 'chodang', 'choice', 'choices', 'choir', 'choke', 'choked', 'choking', 'cholla', 'cholocate', 'chomp', 'chompie', 'chompies', 'choo', 'choose', 'choosers', 'chooses', 'choosing', 'chop', 'chopped', 'chopping', 'choppy', 'chops', 'chopstick', 'chopsticks', 'chores', 'chorizo', 'chorro', 'chorus', 'chose', 'chosen', 'choux', 'chow', 'chowder', 'chowing', 'chris', 'christ', 'christine', 'christmas', 'christopher', 'christophersaz', 'christs', 'chronic', 'chronicle', 'chronicles', 'chu', 'chuck', 'chuckled', 'chucks', 'chugged', 'chumps', 'chunk', 'chunks', 'chunky', 'church', 'churches', 'churn', 'churning', 'churro', 'churros', 'chutney', 'chuy', 'chz', 'ciabatta', 'ciao', 'cibo', 'cider', 'cidse', 'cien', 'cigar', 'cigarette', 'cigarettes', 'cigars', 'cigs', 'cilantro', 'cinammoness', 'cinderella', 'cindy', 'cine', 'cinema', 'cinemark', 'cinemas', 'cinnamon', 'cioppino', 'circa', 'circle', 'circled', 'circles', 'circuitous', 'circular', 'circulation', 'circumstance', 'circumvent', 'circus', 'ciroc', 'cisco', 'cited', 'cities', 'citing', 'citizen', 'citizens', 'citrus', 'citrusy', 'city', 'citywide', 'civic', 'civiche', 'ck', 'clad', 'claim', 'claimed', 'claims', 'clair', 'claire', 'clam', 'clams', 'clang', 'clanging', 'claredon', 'clarendon', 'clarification', 'clarify', 'clarity', 'class', 'classes', 'classic', 'classics', 'classifies', 'classroom', 'classwork', 'classy', 'clatter', 'claude', 'claustrophobic', 'claw', 'clawing', 'claws', 'clean', 'cleaned', 'cleaner', 'cleaners', 'cleanest', 'cleaning', 'cleanliness', 'cleanser', 'cleansers', 'cleanup', 'clear', 'clearance', 'clearancing', 'cleared', 'clearing', 'clearly', 'cleary', 'cleavage', 'cleaver', 'clement', 'clerk', 'clerks', 'clever', 'cleverly', 'cliche', 'cliched', 'click', 'clicquot', 'client', 'clientele', 'clients', 'clif', 'cliffs', 'climate', 'climax', 'climb', 'climbers', 'climbing', 'clingy', 'clinic', 'clint', 'clintons', 'clipped', 'clippers', 'clips', 'clock', 'clockwork', 'clog', 'clones', 'clooney', 'clorox', 'close', 'closed', 'closely', 'closer', 'closes', 'closest', 'closet', 'closeup', 'closing', 'cloth', 'clothed', 'clothes', 'clothing', 'cloths', 'cloud', 'clouds', 'cloudy', 'clover', 'cloves', 'clown', 'clowns', 'club', 'clubby', 'clubhouse', 'clubs', 'clue', 'clueless', 'clump', 'clumps', 'clumsiness', 'clumsy', 'clunky', 'cluster', 'clusters', 'clutches', 'clutching', 'cmtkood', 'co', 'coach', 'coaches', 'coal', 'coalface', 'coarse', 'coast', 'coastal', 'coaster', 'coasters', 'coat', 'coated', 'coating', 'coats', 'coaxed', 'cob', 'cobb', 'cobbler', 'cobs', 'coc', 'coca', 'cocaine', 'cocina', 'cock', 'cockroaches', 'cocktail', 'cocktails', 'coco', 'cocoa', 'coconut', 'cocstco', 'cod', 'coda', 'code', 'codes', 'coe', 'coffe', 'coffee', 'coffees', 'coin', 'coincide', 'coins', 'coke', 'cokes', 'cola', 'colada', 'colbert', 'cold', 'coldstone', 'cole', 'coleslaw', 'collaborate', 'collaboration', 'collapse', 'collard', 'collared', 'collars', 'colleague', 'colleagues', 'collected', 'collecting', 'collection', 'collective', 'colleen', 'college', 'colleges', 'cologne', 'colonial', 'color', 'colorado', 'colored', 'colorful', 'colorfully', 'coloring', 'colorist', 'colorists', 'colors', 'colossal', 'colour', 'columbia', 'com', 'coma', 'combination', 'combinations', 'combined', 'combines', 'combining', 'combo', 'combos', 'come', 'comeback', 'comedy', 'comes', 'comfort', 'comfortable', 'comfortably', 'comforting', 'comforts', 'comfy', 'comic', 'comical', 'comically', 'comics', 'comin', 'coming', 'commandment', 'commence', 'commend', 'comment', 'commented', 'commenting', 'comments', 'commerce', 'commercial', 'commercialized', 'commission', 'commit', 'commitment', 'committed', 'committee', 'committing', 'common', 'commoners', 'commons', 'communal', 'communicate', 'communicated', 'communicating', 'communication', 'communications', 'communicator', 'communists', 'communities', 'community', 'commute', 'commuter', 'comp', 'compadres', 'compaining', 'companies', 'companion', 'companions', 'companionship', 'company', 'companys', 'comparable', 'compare', 'compared', 'compares', 'comparing', 'comparison', 'comparisons', 'compartment', 'compasionate', 'compass', 'compassion', 'compassionate', 'compatible', 'comped', 'compelled', 'compelling', 'compels', 'compensate', 'compensation', 'compete', 'competent', 'competently', 'competes', 'competing', 'competition', 'competitive', 'competitively', 'competitor', 'competitors', 'compitent', 'complain', 'complained', 'complainer', 'complaing', 'complaining', 'complains', 'complaint', 'complaints', 'complement', 'complementary', 'complemented', 'complete', 'completed', 'completely', 'completes', 'completing', 'completly', 'complex', 'complexity', 'complicated', 'complications', 'compliment', 'complimentary', 'complimented', 'compliments', 'component', 'compose', 'composed', 'composition', 'composure', 'compote', 'comprehensive', 'compressa', 'compressed', 'compressor', 'comprised', 'compromise', 'computer', 'computers', 'computing', 'comsumed', 'con', 'concede', 'concentrate', 'concentrated', 'concentrating', 'concept', 'conceptions', 'concepts', 'concern', 'concerned', 'concerns', 'concert', 'concession', 'concessions', 'conchita', 'concierge', 'conclusion', 'concoct', 'concoction', 'concoctions', 'concrete', 'concur', 'condemn', 'condensation', 'condesa', 'condescending', 'condiment', 'condiments', 'condition', 'conditioned', 'conditioner', 'conditioning', 'conditions', 'condo', 'condolences', 'condos', 'conducive', 'conduct', 'cone', 'cones', 'confection', 'confectionary', 'confections', 'conference', 'confess', 'confessing', 'confessional', 'confidence', 'confident', 'confidently', 'confirm', 'confirmation', 'confirmed', 'confirming', 'confit', 'confite', 'conflicting', 'conflicts', 'conformable', 'confrontational', 'confronted', 'confuse', 'confused', 'confusing', 'confusion', 'congee', 'congrats', 'congratulate', 'congratulations', 'congregation', 'congress', 'coninue', 'conjure', 'conjures', 'connect', 'connected', 'connecticut', 'connecting', 'connection', 'connections', 'connery', 'connoisseur', 'connolys', 'connosiuer', 'conquering', 'cons', 'conscience', 'conscientious', 'conscious', 'consciously', 'consecutive', 'consequently', 'conservatism', 'consider', 'considerate', 'consideration', 'considered', 'considering', 'considers', 'consign', 'consigned', 'consigner', 'consigning', 'consistancy', 'consistant', 'consistantly', 'consisted', 'consistency', 'consistent', 'consistently', 'consisting', 'consists', 'consolation', 'console', 'conspire', 'constant', 'constantly', 'constitute', 'constitutes', 'constraint', 'constructed', 'construction', 'constructive', 'constructively', 'consult', 'consultant', 'consultation', 'consume', 'consumed', 'consummate', 'consumption', 'contact', 'contacted', 'contacting', 'contacts', 'contagious', 'contain', 'contained', 'container', 'containers', 'containing', 'contains', 'contemporary', 'contend', 'contender', 'content', 'contentment', 'contents', 'contest', 'context', 'contextualize', 'continentally', 'continually', 'continue', 'continued', 'continues', 'continuing', 'continuously', 'contract', 'contractors', 'contracts', 'contrarily', 'contrary', 'contribute', 'contributed', 'contributes', 'contribution', 'control', 'controlled', 'controlling', 'controls', 'controversies', 'controversy', 'convelient', 'convenience', 'convenient', 'conveniently', 'conversant', 'conversation', 'conversational', 'conversations', 'converse', 'conversing', 'convert', 'converted', 'converter', 'converters', 'convey', 'conveying', 'convictions', 'convince', 'convinced', 'convincing', 'convo', 'cook', 'cooked', 'cookers', 'cookie', 'cookies', 'cookin', 'cooking', 'cookouts', 'cooks', 'cool', 'coolant', 'cooled', 'cooler', 'coolers', 'coolest', 'cooling', 'cools', 'cooney', 'cooper', 'coordinated', 'coordination', 'coordinators', 'coors', 'cooties', 'cop', 'cope', 'copied', 'copper', 'cops', 'copy', 'copypaste', 'coq', 'coral', 'corbin', 'corbins', 'cordial', 'cordially', 'cordon', 'core', 'corebalance', 'coreographed', 'corinthians', 'cork', 'corkage', 'corking', 'corn', 'cornbread', 'corndog', 'corned', 'corner', 'corners', 'cornicopia', 'cornish', 'corona', 'coronas', 'corporate', 'corps', 'correct', 'correctally', 'corrected', 'correction', 'corrections', 'correctly', 'correctness', 'correlation', 'corresponding', 'corridor', 'corroded', 'corrupted', 'corsets', 'cortadito', 'corwn', 'cosa', 'cosmetic', 'cosmetics', 'cosmo', 'cosmopolitan', 'cosmos', 'cost', 'costa', 'costco', 'costillas', 'costly', 'costo', 'costs', 'costume', 'costumer', 'costumers', 'costumes', 'cotija', 'cotta', 'cottage', 'cotton', 'cottonwood', 'couch', 'couches', 'cougar', 'cough', 'coughed', 'coughing', 'could', 'couldn', 'couldnt', 'coulter', 'count', 'countdown', 'counted', 'counter', 'countered', 'counterparts', 'counters', 'countless', 'country', 'countryside', 'counts', 'county', 'coup', 'couple', 'coupled', 'couples', 'coupling', 'coupon', 'coupons', 'courage', 'course', 'coursed', 'courses', 'court', 'courteous', 'courteously', 'courtesy', 'courtney', 'courts', 'courtyard', 'courtyards', 'cous', 'couscous', 'cousin', 'cousins', 'couture', 'cover', 'coverage', 'covered', 'covering', 'covers', 'covert', 'coverup', 'covet', 'coveted', 'cow', 'cowboy', 'cowboys', 'coworker', 'coworkers', 'cows', 'cowtow', 'cox', 'coy', 'coyotes', 'coz', 'cozier', 'coziness', 'cozy', 'cpc', 'cph', 'cpr', 'crab', 'crabs', 'crack', 'cracked', 'cracker', 'crackerjack', 'crackers', 'cracking', 'crackle', 'crackles', 'crackling', 'cracks', 'cradle', 'cradling', 'craft', 'crafted', 'crafts', 'craftsman', 'craftsmanship', 'craigslist', 'crammed', 'cramped', 'cramps', 'cranberries', 'cranberry', 'crank', 'cranking', 'cranks', 'cranky', 'cranny', 'crap', 'crappy', 'crashed', 'crate', 'crates', 'crave', 'craving', 'cravings', 'crawfish', 'crawling', 'crayon', 'craze', 'craziest', 'craziness', 'crazy', 'cream', 'creamed', 'creamer', 'creamiest', 'creaminess', 'creams', 'creamy', 'create', 'created', 'creates', 'creating', 'creation', 'creations', 'creative', 'creativity', 'creators', 'creature', 'creatures', 'cred', 'credentials', 'credibiilty', 'credit', 'credited', 'creek', 'creeped', 'creepily', 'creepy', 'crema', 'cremation', 'creme', 'cremes', 'creole', 'crepe', 'crepes', 'creps', 'crept', 'crescendo', 'crescent', 'crew', 'crib', 'cricket', 'cried', 'crime', 'crimes', 'criminal', 'crimini', 'crinkle', 'crippled', 'crisis', 'crisp', 'crisps', 'crispy', 'crisscrosses', 'cristo', 'critic', 'critical', 'criticism', 'criticize', 'critics', 'critters', 'croce', 'croissant', 'croissants', 'crooks', 'croque', 'crosbie', 'crosby', 'cross', 'crossed', 'crossing', 'crossroad', 'crostini', 'crouton', 'croutons', 'crowd', 'crowded', 'crowding', 'crowds', 'crowed', 'crown', 'crowning', 'crrraazzyyy', 'cruchy', 'crucifix', 'crudo', 'cruelty', 'crullers', 'crumb', 'crumble', 'crumbled', 'crumbles', 'crumbling', 'crumbs', 'crummy', 'crunch', 'crunchiness', 'crunchy', 'cruses', 'crush', 'crushed', 'crushing', 'crust', 'crusted', 'crustier', 'crusties', 'crusts', 'crusty', 'cry', 'crying', 'crystal', 'crystals', 'crème', 'créme', 'cspjnfm', 'cuban', 'cube', 'cubed', 'cubes', 'cubicle', 'cubs', 'cucina', 'cucumber', 'cucumbers', 'cue', 'cues', 'cuff', 'cuffs', 'cuisinart', 'cuisine', 'cukes', 'culinarily', 'culinary', 'culmination', 'cultural', 'culture', 'cultured', 'cultures', 'culver', 'cuon', 'cup', 'cupcake', 'cupcakes', 'cups', 'curated', 'curbage', 'curd', 'curds', 'cure', 'cured', 'curiosity', 'curious', 'curiously', 'curl', 'curling', 'curls', 'curly', 'curmudgeons', 'currants', 'current', 'currently', 'currents', 'curriculum', 'curries', 'curry', 'currys', 'curse', 'cursing', 'curt', 'curtain', 'curtains', 'curves', 'cusack', 'cushier', 'cushions', 'cushy', 'cussing', 'cust', 'custard', 'custards', 'custom', 'customer', 'customers', 'customize', 'customized', 'customizes', 'custurd', 'cut', 'cute', 'cutest', 'cuticule', 'cuties', 'cutlery', 'cutlet', 'cuts', 'cutter', 'cutters', 'cuttery', 'cutting', 'cuz', 'cvs', 'cycling', 'cyclist', 'cyclists', 'cyclo', 'cyl', 'cynic', 'cynicism', 'cyr', 'da', 'daas', 'dab', 'dac', 'dachs', 'dad', 'daddy', 'dagger', 'daily', 'dainty', 'daiquiri', 'dairies', 'dairiki', 'dairy', 'daiya', 'dakota', 'dale', 'dali', 'dallas', 'dally', 'dam', 'damage', 'damaged', 'damages', 'dame', 'damn', 'damned', 'damnit', 'damp', 'dan', 'dana', 'dance', 'danced', 'dancer', 'dancers', 'dancewear', 'dancing', 'dandelion', 'dane', 'dang', 'danger', 'dangerous', 'dangerously', 'dangers', 'daniel', 'danielle', 'daniels', 'danish', 'danishes', 'dank', 'dannie', 'danny', 'daphne', 'dara', 'daradee', 'darcy', 'dare', 'daredevil', 'daren', 'daring', 'darius', 'dark', 'darkened', 'darker', 'darkness', 'darkseid', 'darla', 'darling', 'darn', 'darned', 'darryl', 'dart', 'darts', 'darykla', 'dash', 'dashboard', 'dashing', 'date', 'dated', 'dates', 'dating', 'daughter', 'daughters', 'daunted', 'daunting', 'dave', 'daves', 'david', 'davidson', 'dawn', 'day', 'daycare', 'daylight', 'days', 'daytime', 'dazbog', 'daze', 'dazed', 'dazs', 'dazzled', 'dba', 'dbg', 'dc', 'dcor', 'dd', 'ddd', 'dddinfo', 'ddelish', 'dds', 'de', 'dead', 'deadbeats', 'deaf', 'deal', 'dealer', 'dealers', 'dealership', 'dealerships', 'dealing', 'deals', 'dealt', 'deamon', 'dean', 'dear', 'dearly', 'death', 'deathly', 'deb', 'debacle', 'debate', 'debated', 'debating', 'debauchery', 'debbie', 'debilitating', 'debit', 'debon', 'debris', 'debt', 'debut', 'decade', 'decadence', 'decadent', 'decadently', 'decades', 'decaf', 'decaffinated', 'decanted', 'decapitated', 'decellerating', 'december', 'decent', 'decently', 'deception', 'deceptive', 'deceptively', 'decide', 'decided', 'decidedly', 'decides', 'deciding', 'decision', 'decisions', 'decisive', 'decited', 'deck', 'decked', 'declare', 'declared', 'declaring', 'decline', 'declined', 'deco', 'decomissioned', 'deconstructed', 'decor', 'decorate', 'decorated', 'decorating', 'decoration', 'decorations', 'decore', 'decreases', 'decrepit', 'dedicated', 'dedication', 'deduct', 'deduction', 'deductions', 'dee', 'deeee', 'deeeeaaallssss', 'deeees', 'deelish', 'deep', 'deeper', 'deeply', 'deere', 'dees', 'def', 'defalco', 'default', 'defend', 'defense', 'defensive', 'deference', 'deferred', 'defiance', 'defiantly', 'definately', 'definatly', 'definetely', 'definetly', 'definite', 'definitely', 'definition', 'definitly', 'deflated', 'defnitely', 'defunct', 'deg', 'degrades', 'degrading', 'degree', 'degrees', 'dehydrated', 'dehydration', 'dejavu', 'del', 'delay', 'delayed', 'delaying', 'delays', 'delcious', 'delectable', 'deleting', 'deli', 'delia', 'deliberate', 'deliberately', 'deliberation', 'delicacies', 'delicate', 'delicately', 'delicatessen', 'deliciious', 'delicious', 'deliciously', 'deliciousness', 'deliciouso', 'delicous', 'delight', 'delighted', 'delightful', 'delightfully', 'delights', 'delis', 'delish', 'delishish', 'deliver', 'delivered', 'deliverer', 'deliveries', 'delivering', 'delivers', 'delivery', 'della', 'delmonico', 'delta', 'deluca', 'delux', 'delve', 'delved', 'demand', 'demanded', 'demanding', 'demands', 'demaria', 'demeaning', 'demeanor', 'demi', 'demiglaze', 'demise', 'demo', 'democratic', 'demographic', 'demonstrate', 'demonstrated', 'demonstrates', 'demoted', 'denied', 'denim', 'denny', 'dennys', 'dense', 'densely', 'dent', 'dental', 'dente', 'dented', 'dentist', 'dentistry', 'dentists', 'denver', 'deocrations', 'departed', 'departing', 'department', 'departure', 'dependable', 'depended', 'depending', 'depends', 'deplane', 'deplorable', 'deployment', 'deported', 'deposit', 'depositing', 'depressed', 'depressing', 'dept', 'depth', 'depths', 'derby', 'derelicts', 'derived', 'dermabrasion', 'dermatologist', 'dernmark', 'des', 'deschutes', 'descretely', 'describe', 'described', 'describes', 'describing', 'descript', 'description', 'descriptions', 'deseo', 'desert', 'deserted', 'deserts', 'deserve', 'deserved', 'deservedly', 'deserves', 'deserving', 'design', 'designated', 'designed', 'designer', 'designers', 'designing', 'designs', 'desirable', 'desire', 'desired', 'desires', 'desk', 'despairing', 'desperate', 'desperately', 'desperation', 'despise', 'despised', 'despite', 'dessert', 'desserts', 'dest', 'destination', 'destined', 'destroy', 'destroyed', 'destroying', 'destroys', 'detail', 'detailed', 'detailing', 'details', 'deter', 'determine', 'determined', 'determining', 'deterred', 'detract', 'detroit', 'develop', 'develope', 'developed', 'developers', 'developing', 'development', 'device', 'devices', 'devil', 'deviled', 'devils', 'devine', 'devoid', 'devoted', 'devour', 'devoured', 'devouring', 'dew', 'dewalt', 'di', 'dia', 'diabetes', 'diabetic', 'diablo', 'diabolical', 'diagnosable', 'diagnose', 'diagnosed', 'diagnosis', 'diagnostic', 'diagnostics', 'dial', 'diamond', 'diamondbacks', 'diamonds', 'diaper', 'diapers', 'diarrhea', 'diary', 'diavola', 'diaya', 'dibs', 'diced', 'dicey', 'dick', 'dickhead', 'dicknose', 'did', 'diddly', 'didn', 'didnt', 'die', 'dieciseis', 'died', 'diego', 'diet', 'dietary', 'dieters', 'dieting', 'difara', 'diff', 'differ', 'differed', 'difference', 'differences', 'different', 'differentiation', 'differently', 'differnt', 'difficult', 'difficulty', 'dig', 'digestif', 'diggety', 'digging', 'diggity', 'digital', 'digress', 'digression', 'digs', 'dijon', 'dilemma', 'diligent', 'dill', 'dillard', 'dilly', 'dim', 'dime', 'dimed', 'diminished', 'diminishes', 'dimly', 'dine', 'dined', 'dineinaz', 'diner', 'diners', 'ding', 'dinged', 'dingy', 'dining', 'dinky', 'dinne', 'dinner', 'dinners', 'dinning', 'dip', 'diplomatically', 'dipped', 'dippin', 'dipping', 'dips', 'dipshits', 'dire', 'direct', 'directed', 'directing', 'direction', 'directions', 'directly', 'director', 'directories', 'directors', 'dirt', 'dirty', 'disabled', 'disadvantage', 'disagree', 'disappear', 'disappearance', 'disappeared', 'disappoint', 'disappointed', 'disappointing', 'disappointment', 'disappointments', 'disappoints', 'disaster', 'disastrous', 'disc', 'discard', 'discharged', 'disclaimer', 'disclosing', 'disclosure', 'disco', 'discolored', 'discomfort', 'disconsolate', 'discontinued', 'discordant', 'discount', 'discounted', 'discounts', 'discourage', 'discouraged', 'discouraging', 'discover', 'discovered', 'discovering', 'discovery', 'discriminatory', 'discs', 'discuss', 'discussed', 'discussing', 'discussion', 'discusting', 'disdain', 'disease', 'diseases', 'disgrace', 'disgruntled', 'disguised', 'disgust', 'disgusted', 'disgusting', 'disgustingly', 'dish', 'dishes', 'disheveled', 'dishonest', 'dishwater', 'disintegrate', 'disinterested', 'disks', 'dislike', 'disliked', 'disliking', 'disloyal', 'dismal', 'dismantle', 'dismay', 'dismayed', 'dismiss', 'dismissed', 'disney', 'disneyland', 'disorganized', 'disoriented', 'disowned', 'dispense', 'dispensed', 'dispenser', 'dispensers', 'dispensing', 'disperses', 'dispite', 'display', 'displayed', 'displaying', 'displays', 'displeased', 'displeasure', 'disposable', 'disregarding', 'disrepair', 'disrespect', 'disrespected', 'disrespectful', 'disrespectfully', 'disruptive', 'dissapoint', 'dissapointed', 'dissapointment', 'dissappeared', 'dissappointed', 'dissatisfied', 'dissertation', 'dissipated', 'distance', 'distant', 'distaste', 'distasteful', 'distinct', 'distinction', 'distinctive', 'distinctness', 'distinguished', 'distracted', 'distraction', 'distress', 'distressing', 'distribute', 'distributors', 'district', 'distrito', 'disturbed', 'disturbing', 'ditto', 'diuretic', 'dive', 'divers', 'diverse', 'dives', 'divey', 'divided', 'dividing', 'diviest', 'divine', 'division', 'diy', 'dizzy', 'dj', 'djs', 'dk', 'dmv', 'dmvs', 'dnf', 'do', 'doa', 'dobbins', 'dobson', 'doc', 'dock', 'doctor', 'doctors', 'document', 'documentary', 'documents', 'dodey', 'dodged', 'dodger', 'dodgers', 'doens', 'does', 'doesn', 'doesnt', 'dog', 'dogfish', 'dogfishhead', 'dogfoodadvisor', 'doggie', 'doggies', 'doggiestepsdogtraining', 'dogparkriot', 'dogs', 'doh', 'doing', 'dojo', 'dolce', 'doling', 'doll', 'dollar', 'dollars', 'dollhouse', 'dollop', 'dolls', 'dolmades', 'dolmas', 'dolmeh', 'dolphin', 'dom', 'domestic', 'dominate', 'dominated', 'dominick', 'dominique', 'dominos', 'domo', 'don', 'donate', 'donated', 'donation', 'donations', 'done', 'donkey', 'donna', 'donnell', 'donor', 'dont', 'donut', 'donuts', 'doodle', 'doodles', 'doom', 'dooo', 'door', 'doorman', 'doors', 'doozy', 'dope', 'dorato', 'dorm', 'dormouse', 'dorrie', 'dorries', 'dos', 'dosa', 'dosas', 'dose', 'dot', 'dots', 'double', 'doubles', 'doubt', 'doubted', 'doubts', 'douche', 'doudy', 'dough', 'doughboy', 'doughnut', 'doughnuts', 'doughy', 'douse', 'doused', 'dousing', 'douxelle', 'dove', 'down', 'downer', 'downfall', 'downhill', 'downing', 'download', 'downright', 'downs', 'downside', 'downsides', 'downstairs', 'downtown', 'downtrodden', 'dozen', 'dozens', 'dpov', 'dr', 'draft', 'drafts', 'drag', 'dragged', 'dragon', 'dragonfly', 'drags', 'drain', 'drama', 'dramatic', 'dramatically', 'drank', 'drastically', 'draught', 'draw', 'drawback', 'drawer', 'drawing', 'drawings', 'drawn', 'draws', 'dre', 'dreaded', 'dreadful', 'dreading', 'dream', 'dreamcatcher', 'dreaming', 'dreamlike', 'dreams', 'dreamy', 'dreary', 'dregs', 'dremel', 'drench', 'drenched', 'drenching', 'dress', 'dressed', 'dresser', 'dresses', 'dressier', 'dressing', 'dressings', 'dressy', 'drew', 'dried', 'drier', 'dries', 'drift', 'drill', 'drilling', 'drink', 'drinkable', 'drinker', 'drinkers', 'drinking', 'drinks', 'drip', 'dripping', 'drive', 'driven', 'driver', 'drivers', 'drives', 'driving', 'drizzle', 'drizzled', 'droban', 'drool', 'drooled', 'droolin', 'drooling', 'drools', 'drop', 'dropout', 'dropped', 'dropping', 'drops', 'drought', 'drove', 'drowned', 'drowning', 'drug', 'drugs', 'drum', 'drummer', 'drums', 'drunk', 'drunken', 'drunks', 'dry', 'dryer', 'drying', 'dryng', 'drywall', 'dslreports', 'dst', 'dt', 'duane', 'dubba', 'duce', 'duck', 'ducked', 'ducks', 'duct', 'dude', 'dudes', 'duds', 'due', 'dug', 'dugout', 'duh', 'dui', 'duke', 'dukes', 'dulce', 'dulche', 'dull', 'dumb', 'dumbass', 'dumber', 'dumbest', 'dumbfounded', 'dummies', 'dump', 'dumped', 'dumping', 'dumpling', 'dumplings', 'dumpster', 'dun', 'dungeness', 'dunkin', 'dunno', 'duo', 'duper', 'duplicate', 'duplication', 'durant', 'durants', 'duration', 'during', 'durst', 'dusk', 'dust', 'dusted', 'dusting', 'dutch', 'dutchman', 'duties', 'dutton', 'duty', 'duvalin', 'dv', 'dvd', 'dvds', 'dwellers', 'dwindling', 'dyed', 'dyer', 'dyes', 'dying', 'dynamite', 'dynasty', 'dysart', 'décor', 'ea', 'each', 'eactually', 'eager', 'eagerly', 'eagerness', 'ear', 'earleir', 'earlier', 'earliest', 'early', 'earn', 'earned', 'earnest', 'earning', 'earrings', 'ears', 'earth', 'earthy', 'ease', 'eased', 'easels', 'easier', 'easiest', 'easily', 'easiy', 'easley', 'east', 'easter', 'eastern', 'eastside', 'eastwood', 'easy', 'eat', 'eatable', 'eated', 'eaten', 'eater', 'eateries', 'eaters', 'eatery', 'eatin', 'eating', 'eats', 'ebay', 'ebi', 'ecclectic', 'echo', 'echoed', 'echoes', 'echoing', 'eclaire', 'eclectic', 'eclub', 'eco', 'economic', 'economy', 'ecstacy', 'ecstasy', 'ecstatic', 'ect', 'ed', 'edamame', 'eddie', 'eddies', 'edemame', 'eden', 'edge', 'edges', 'edgier', 'edgy', 'edible', 'edison', 'edit', 'editable', 'edited', 'edition', 'edna', 'edu', 'educate', 'educated', 'educating', 'education', 'educational', 'eduprize', 'edwards', 'eeew', 'eegees', 'eek', 'eel', 'eewwww', 'efax', 'eff', 'effect', 'effective', 'effectively', 'effects', 'effen', 'efficacious', 'efficiency', 'efficient', 'efficiently', 'effin', 'effing', 'effort', 'efforts', 'eg', 'egg', 'eggees', 'eggless', 'eggplant', 'eggplants', 'eggroll', 'eggrolls', 'eggs', 'eggy', 'ego', 'egypt', 'egyptian', 'eh', 'eight', 'eighteen', 'einstein', 'einsteins', 'eis', 'either', 'el', 'elaboration', 'elaine', 'elastic', 'elbow', 'elbows', 'elderflower', 'elderly', 'eldest', 'elected', 'electing', 'electric', 'electrical', 'electronic', 'electronics', 'elegant', 'element', 'elements', 'elentra', 'elephant', 'elevation', 'elevator', 'elevators', 'eleven', 'elf', 'eliminating', 'elite', 'elites', 'elizabeth', 'ella', 'elliot', 'ellis', 'elm', 'elmer', 'eloquent', 'elote', 'else', 'elsewhere', 'eludes', 'elusive', 'ely', 'em', 'email', 'emailed', 'emails', 'emapanadas', 'embarassed', 'embarked', 'embarking', 'embarrassed', 'embarrassing', 'embarrassingly', 'embarrassment', 'embellishment', 'embodies', 'embraces', 'emcee', 'emerald', 'emerge', 'emergencies', 'emergency', 'emerging', 'emissions', 'emotion', 'emotional', 'empanada', 'empanadas', 'empathetic', 'empathize', 'emperor', 'emphasis', 'emphasize', 'empire', 'employed', 'employee', 'employees', 'employer', 'employers', 'employess', 'empowering', 'empress', 'empties', 'emptor', 'empty', 'emptying', 'emu', 'emulate', 'en', 'enable', 'encased', 'encebollada', 'encebollado', 'enchalada', 'enchanted', 'enchanting', 'enchantment', 'enchilada', 'enchiladas', 'enclosed', 'encompass', 'encore', 'encounter', 'encountered', 'encounters', 'encourage', 'encouraged', 'encouragement', 'encouraging', 'encroaching', 'encrusted', 'end', 'endeavor', 'endeavors', 'ended', 'ending', 'endless', 'endlessly', 'endorse', 'endorsing', 'endovenera', 'ends', 'endure', 'endures', 'enemies', 'energetic', 'energy', 'enforce', 'engage', 'engagement', 'engaging', 'engine', 'engineering', 'england', 'english', 'enhance', 'enigma', 'enigmatic', 'enjoy', 'enjoyable', 'enjoyably', 'enjoyed', 'enjoying', 'enjoyment', 'enjoys', 'enlarge', 'enlightenment', 'enormous', 'enough', 'enraged', 'enrique', 'enrolled', 'ensalda', 'ensembles', 'ensenada', 'ensuing', 'ensure', 'ensuring', 'enter', 'entered', 'entering', 'enterprise', 'entertain', 'entertained', 'entertaining', 'entertainment', 'enthusiasm', 'enthusiast', 'enthusiastic', 'enthusiastically', 'enthusiasts', 'entice', 'enticement', 'enticing', 'entire', 'entirely', 'entitled', 'entity', 'entomologist', 'entrance', 'entre', 'entree', 'entrees', 'entrepreneurial', 'entrepreneurs', 'entrepreneurship', 'entress', 'entry', 'entrée', 'entrées', 'enuf', 'enveloped', 'enviornment', 'enviroment', 'environment', 'environmental', 'envisioned', 'envy', 'epic', 'epiphany', 'episode', 'eponymous', 'equal', 'equally', 'equals', 'eque', 'equip', 'equipement', 'equipment', 'equis', 'equivalent', 'er', 'era', 'erbe', 'eric', 'erica', 'erin', 'eritrean', 'ernet', 'ernie', 'erosion', 'erotic', 'err', 'errant', 'errors', 'ers', 'es', 'escalate', 'escape', 'escaped', 'escaping', 'escebeche', 'escentuals', 'escolar', 'esp', 'espana', 'esparza', 'especially', 'espresso', 'esqe', 'esque', 'essence', 'essential', 'essentially', 'essentials', 'essie', 'esspresso', 'establishement', 'establishment', 'establishments', 'estate', 'esteem', 'esthetician', 'estimate', 'estimated', 'estimates', 'estimation', 'estrella', 'et', 'eta', 'etc', 'eternity', 'ether', 'ethics', 'ethier', 'ethiopia', 'ethiopian', 'ethnic', 'etienne', 'etouffee', 'etsy', 'eucalyptus', 'eugene', 'eugenia', 'euphoria', 'euphoric', 'euro', 'europe', 'european', 'euthanize', 'euthanizing', 'ev', 'evaluations', 'evaluative', 'evap', 'eve', 'even', 'evening', 'evenings', 'event', 'events', 'eventually', 'ever', 'everday', 'everett', 'every', 'everybody', 'everyday', 'everynight', 'everyone', 'everyones', 'everything', 'everytime', 'everywhere', 'eves', 'eveything', 'evident', 'evidently', 'evil', 'evoking', 'evolving', 'evoo', 'ew', 'ewe', 'eww', 'ewww', 'ewwww', 'ewwwwww', 'ex', 'exact', 'exactly', 'exaggerating', 'exaggeration', 'exam', 'examined', 'examining', 'example', 'examples', 'exams', 'exasperated', 'exceeded', 'exceeds', 'excellence', 'excellent', 'excellente', 'excellently', 'except', 'exception', 'exceptional', 'exceptionally', 'excess', 'excessive', 'excessively', 'exchange', 'exchanged', 'excite', 'excited', 'excitedly', 'excitement', 'exciting', 'exclaimed', 'exclaiming', 'exclamation', 'exclude', 'excluding', 'exclusive', 'exclusively', 'excruciatingly', 'exctaly', 'excursion', 'excuse', 'excuses', 'execucar', 'execute', 'executed', 'execution', 'executive', 'exemplary', 'exercise', 'exercises', 'exfoliating', 'exfoliator', 'exhaust', 'exhausted', 'exhaustion', 'exhibit', 'exhibits', 'exist', 'existed', 'existence', 'existent', 'existing', 'exists', 'exit', 'exiting', 'exotic', 'expand', 'expanded', 'expanding', 'expands', 'expansion', 'expansions', 'expansive', 'expecially', 'expect', 'expectaions', 'expectation', 'expectations', 'expected', 'expecting', 'expedite', 'expedition', 'expense', 'expenses', 'expensive', 'expereinces', 'experience', 'experienced', 'experiences', 'experiencing', 'experiens', 'experiment', 'experimental', 'expert', 'expertise', 'expertly', 'experts', 'expiration', 'expire', 'expires', 'explain', 'explained', 'explaining', 'explains', 'explanation', 'explode', 'exploded', 'exploding', 'exploit', 'explore', 'explored', 'exploring', 'explosion', 'export', 'expos', 'expose', 'exposed', 'exposure', 'express', 'expressed', 'expression', 'expressions', 'exquisite', 'exsalonce', 'exspensive', 'extend', 'extended', 'extending', 'extension', 'extensive', 'exterior', 'exterminator', 'extorting', 'extra', 'extract', 'extracted', 'extraction', 'extraordinarily', 'extraordinary', 'extras', 'extravaganza', 'extreme', 'extremely', 'extremity', 'extremly', 'exude', 'exudes', 'ey', 'eye', 'eyeball', 'eyeballing', 'eyeballs', 'eyebrow', 'eyebrows', 'eyed', 'eyeing', 'eyes', 'eyesight', 'eytan', 'ez', 'f724', 'fab', 'fabric', 'fabrics', 'fabulos', 'fabulous', 'fabulousness', 'face', 'facebook', 'faced', 'faceplates', 'faces', 'facial', 'facials', 'faciatis', 'facilites', 'facilities', 'facility', 'facing', 'fact', 'facto', 'factor', 'factories', 'factors', 'factory', 'facts', 'faded', 'fags', 'fail', 'failed', 'failing', 'fails', 'failure', 'faint', 'fair', 'fairly', 'fairmont', 'fairway', 'fairways', 'fairy', 'faith', 'faithful', 'fajita', 'fajitas', 'fajito', 'fake', 'fakeness', 'fakville', 'falafel', 'falafels', 'fall', 'fallen', 'falling', 'fallout', 'falls', 'false', 'fame', 'famed', 'familiar', 'families', 'family', 'famished', 'famous', 'fan', 'fanatic', 'fanatical', 'fancier', 'fancy', 'fans', 'fanstatic', 'fantabulous', 'fantasies', 'fantasize', 'fantasizing', 'fantastalistic', 'fantastic', 'fantastical', 'fantastically', 'fantasy', 'far', 'farberware', 'fare', 'fargin', 'fargo', 'farm', 'farmed', 'farmer', 'farmers', 'farmhouse', 'farmland', 'farms', 'fart', 'farther', 'fascia', 'fascinated', 'fashion', 'fashioned', 'fashions', 'fast', 'faster', 'fastest', 'fat', 'fatal', 'fate', 'father', 'fathers', 'fathom', 'fats', 'fattening', 'fattie', 'fatty', 'faucets', 'fault', 'faux', 'fav', 'fave', 'faves', 'favie', 'favor', 'favorable', 'favorably', 'favored', 'favorite', 'favorites', 'favorito', 'favors', 'favourite', 'favs', 'fawning', 'fax', 'faxed', 'faxes', 'fe', 'fear', 'feared', 'fearing', 'fears', 'feast', 'feasted', 'feasting', 'feat', 'feature', 'featured', 'features', 'featuring', 'feb', 'febuary', 'feces', 'fed', 'feddys', 'feds', 'fee', 'feed', 'feedback', 'feeders', 'feeding', 'feeds', 'feel', 'feeling', 'feelings', 'feels', 'feenin', 'fees', 'feet', 'feiends', 'fell', 'fellas', 'feller', 'fellow', 'felt', 'female', 'fence', 'fenced', 'fender', 'feng', 'fennel', 'fermentated', 'fermented', 'fermier', 'ferns', 'ferrari', 'ferrits', 'fest', 'festival', 'festivals', 'festive', 'festivities', 'fet', 'feta', 'fetash', 'fetch', 'fetoosh', 'fetta', 'fettuccine', 'fettucine', 'fettucini', 'fetzer', 'feuille', 'fever', 'few', 'fewer', 'fez', 'ff', 'fh', 'fi', 'fiance', 'fiancee', 'fiancé', 'fibbertygibbet', 'ficticious', 'fiction', 'fiddler', 'fides', 'fied', 'field', 'fields', 'fiend', 'fierce', 'fiercely', 'fiery', 'fiesta', 'fifteen', 'fifth', 'fig', 'fight', 'fighting', 'fights', 'figs', 'figuratively', 'figure', 'figured', 'figures', 'figuring', 'file', 'filed', 'filepe', 'files', 'filet', 'filets', 'filiberto', 'filibertos', 'filing', 'filings', 'filipino', 'fill', 'filled', 'filler', 'fillet', 'fillets', 'filling', 'fillings', 'fills', 'filly', 'film', 'filmed', 'films', 'filmy', 'filter', 'filth', 'filthy', 'fin', 'final', 'finale', 'finally', 'finalmente', 'finals', 'finance', 'financial', 'financially', 'find', 'finding', 'findings', 'finds', 'fine', 'finely', 'finer', 'fines', 'finesse', 'finest', 'finger', 'fingerling', 'fingernails', 'fingerprint', 'fingerprinting', 'fingers', 'fingertip', 'fingertips', 'finish', 'finished', 'finishes', 'finishing', 'finnaly', 'fire', 'firearms', 'firebird', 'fired', 'firefly', 'firemen', 'firepit', 'fireplace', 'fireplaces', 'fires', 'firestone', 'firewood', 'fireworks', 'firm', 'firmer', 'first', 'firstly', 'fish', 'fishers', 'fishheads', 'fishing', 'fishy', 'fist', 'fists', 'fit', 'fitcenter', 'fitness', 'fits', 'fitted', 'fitter', 'fitting', 'fitzgerald', 'five', 'fix', 'fixated', 'fixe', 'fixed', 'fixie', 'fixin', 'fixing', 'fixtures', 'flag', 'flagstaff', 'flair', 'flake', 'flaked', 'flakey', 'flaky', 'flambeed', 'flame', 'flamenco', 'flaming', 'flan', 'flank', 'flanked', 'flannel', 'flap', 'flare', 'flash', 'flashed', 'flashlight', 'flashlights', 'flask', 'flat', 'flatbread', 'flatbreads', 'flatiron', 'flattened', 'flatter', 'flautas', 'flaverful', 'flavor', 'flavored', 'flavorful', 'flavorgasm', 'flavoring', 'flavorless', 'flavors', 'flavour', 'flawless', 'flaws', 'flee', 'fleet', 'fleming', 'flemings', 'flemmingsery', 'flew', 'flexed', 'flexibility', 'flexible', 'flicked', 'flickr', 'flier', 'flies', 'flight', 'flights', 'flimsiest', 'flimsy', 'flintstones', 'flip', 'flippant', 'flipper', 'flipstick', 'flirt', 'flirting', 'flirtini', 'flo', 'float', 'floating', 'flock', 'flocking', 'flooded', 'flooding', 'floor', 'floored', 'floors', 'flops', 'flora', 'floral', 'florals', 'florence', 'florescent', 'florets', 'florida', 'florist', 'flossing', 'flour', 'flourished', 'flourishes', 'flourishing', 'flourless', 'flours', 'flow', 'flowed', 'flower', 'flowering', 'flowers', 'flowing', 'flown', 'flu', 'fluent', 'fluff', 'fluffed', 'fluffiness', 'fluffy', 'fluke', 'flummoxed', 'fluorescent', 'flushed', 'flushes', 'flushing', 'flustered', 'flute', 'fluttering', 'fluttery', 'flw', 'fly', 'flyer', 'flyers', 'flying', 'flyover', 'fnb', 'fo', 'foam', 'foamed', 'foamy', 'focaccia', 'focal', 'foccacia', 'focus', 'focused', 'focuses', 'focusing', 'fodder', 'fogo', 'foie', 'foil', 'fold', 'folding', 'folk', 'folks', 'follow', 'followed', 'following', 'follows', 'fond', 'fondant', 'fondest', 'fondu', 'fondue', 'fondues', 'fontina', 'foo', 'food', 'foodaholic', 'foodie', 'foodies', 'foodnet', 'foods', 'foodstuffs', 'foody', 'fooey', 'foofy', 'fool', 'fooled', 'foolery', 'fooling', 'foolish', 'fools', 'foot', 'footage', 'football', 'foothills', 'footlongs', 'footprint', 'for', 'foraged', 'foray', 'forbidden', 'force', 'forced', 'forcing', 'ford', 'forearms', 'foreign', 'foremost', 'foresee', 'forest', 'forever', 'forewarned', 'forgave', 'forget', 'forgettable', 'forgetting', 'forgivable', 'forgive', 'forgiving', 'forgo', 'forgot', 'forgotten', 'fork', 'forks', 'form', 'formal', 'format', 'formation', 'formations', 'formative', 'former', 'formerly', 'formidable', 'forming', 'forms', 'formula', 'fornaio', 'forno', 'forsaken', 'forth', 'fortunate', 'fortunately', 'fortune', 'forty', 'forvever', 'forward', 'forwarded', 'fossil', 'foster', 'fought', 'foul', 'fould', 'found', 'foundation', 'founded', 'founder', 'fountain', 'fountains', 'four', 'fourteen', 'fourth', 'fourtherly', 'fowl', 'fox', 'foxes', 'foyer', 'fraction', 'frag', 'fragrance', 'fraiche', 'frail', 'frame', 'framed', 'frames', 'fran', 'france', 'frances', 'francesca', 'franchise', 'franchises', 'francis', 'franciscan', 'francisco', 'franco', 'frangipane', 'frank', 'frankfurters', 'frankly', 'frantic', 'frantically', 'frappes', 'frat', 'fray', 'frazzeling', 'fraîche', 'freak', 'freaked', 'freakin', 'freaking', 'freaky', 'fred', 'freddie', 'freddy', 'free', 'freedom', 'freeway', 'freeze', 'freezer', 'freezing', 'freind', 'freindly', 'french', 'frenched', 'frenzy', 'frequent', 'frequented', 'frequenting', 'frequently', 'frequents', 'fresca', 'frescas', 'fresco', 'frescoed', 'fresh', 'freshener', 'fresher', 'freshest', 'freshly', 'freshness', 'freshwater', 'frickin', 'frida', 'friday', 'fridays', 'fridge', 'fried', 'friend', 'friendlier', 'friendliest', 'friendliness', 'friendly', 'friends', 'friendship', 'fries', 'friggin', 'frigging', 'frighten', 'frightened', 'frijoles', 'frills', 'frings', 'frisco', 'frita', 'fritas', 'fritatta', 'frites', 'frito', 'frittata', 'frittatas', 'fritters', 'fritti', 'fritto', 'fro', 'frogger', 'from', 'fromage', 'front', 'frontiers', 'frontline', 'froo', 'frost', 'frosted', 'frosting', 'frosty', 'froth', 'frothy', 'frown', 'froyo', 'froze', 'frozen', 'frquently', 'fru', 'fructose', 'frugal', 'frugle', 'fruit', 'fruits', 'fruity', 'frustrated', 'frustrating', 'frustration', 'frustrations', 'fry', 'frybread', 'fryer', 'frying', 'frys', 'fsg07smlz5s', 'ft', 'fubar', 'fuck', 'fucked', 'fuckhead', 'fuckin', 'fucking', 'fucks', 'fuct', 'fuddburger', 'fuddrucker', 'fuddruckers', 'fudge', 'fuego', 'fuel', 'fueled', 'fueling', 'fuh', 'fuji', 'fujiwara', 'fujiya', 'fulfill', 'fulfilling', 'full', 'fullest', 'fulling', 'fulls', 'fully', 'fuming', 'fun', 'function', 'functional', 'functionality', 'fund', 'fundido', 'funding', 'fundito', 'fundraiser', 'fundraising', 'funds', 'fungus', 'funk', 'funky', 'funnel', 'funner', 'funniest', 'funny', 'funsports', 'furious', 'furnace', 'furnished', 'furnishings', 'furniture', 'furrowed', 'furry', 'further', 'furthermore', 'fury', 'fuse', 'fuses', 'fusion', 'fuss', 'fussy', 'future', 'futuristic', 'fuzzy', 'fwd', 'fyi', 'g37', 'gabe', 'gabi', 'gabriel', 'gadgets', 'gaeta', 'gag', 'gaga', 'gain', 'gained', 'gainey', 'gaining', 'gak', 'gal', 'galbi', 'galleries', 'gallery', 'gallina', 'gallo', 'gallon', 'gallons', 'galore', 'gals', 'galze', 'gambas', 'gamble', 'gamblers', 'gambling', 'game', 'games', 'gammage', 'ganache', 'gang', 'gangplank', 'ganoosh', 'ganouj', 'ganoush', 'gansitos', 'gap', 'garage', 'garbage', 'garbonzo', 'garces', 'garden', 'gardens', 'gardin', 'garfield', 'gargantuan', 'garlands', 'garlic', 'garlicky', 'garmin', 'garner', 'garnish', 'garnished', 'garnishes', 'garnishing', 'garsh', 'gary', 'gas', 'gasmic', 'gasoline', 'gasping', 'gastrique', 'gastronomic', 'gastronomical', 'gastronomy', 'gastropub', 'gate', 'gates', 'gateway', 'gather', 'gathered', 'gathering', 'gator', 'gatos', 'gauc', 'gaudy', 'gave', 'gavin', 'gay', 'gaylee', 'gazing', 'gazpacho', 'gear', 'gearing', 'geasy', 'gee', 'geek', 'geeks', 'geisha', 'gel', 'gelati', 'gelatin', 'gelatinous', 'gelato', 'gelish', 'gels', 'gem', 'gems', 'gen', 'gender', 'genders', 'general', 'generally', 'generate', 'generation', 'generations', 'generic', 'generious', 'generous', 'generously', 'genes', 'genevese', 'genin', 'genius', 'genre', 'genres', 'gent', 'gentle', 'gentleman', 'gentlemen', 'gently', 'genuine', 'genuinely', 'george', 'georges', 'georgia', 'georgie', 'geranios', 'germain', 'german', 'germany', 'germs', 'gerri', 'gesture', 'get', 'getaway', 'gets', 'gettin', 'getting', 'gf', 'ghetto', 'ghirardelli', 'ghost', 'giant', 'giants', 'giardinara', 'giardiniera', 'gift', 'gifts', 'gig', 'gigantic', 'giggle', 'gil', 'gila', 'gilbert', 'gilda', 'gills', 'gimlet', 'gimme', 'gimmick', 'gimmicks', 'gimmicky', 'gin', 'gina', 'ginger', 'gingerbread', 'ginormous', 'gio', 'giorno', 'giraffes', 'girdle', 'girl', 'girlfriend', 'girlfriends', 'girls', 'girly', 'girth', 'giseling', 'giselle', 'giu', 'giuseppe', 'giuseppes', 'give', 'giveing', 'given', 'giver', 'gives', 'giving', 'glace', 'glacier', 'glad', 'gladly', 'glamorous', 'glance', 'glands', 'glare', 'glaring', 'glass', 'glasses', 'glasswares', 'glaze', 'glazed', 'gleaming', 'glee', 'glendale', 'glib', 'glibert', 'glimpse', 'glistening', 'glitches', 'glitters', 'glittery', 'gloria', 'glorias', 'glories', 'glorified', 'glorious', 'glory', 'glosses', 'glossy', 'glove', 'gloves', 'glow', 'glowing', 'glows', 'gluten', 'glutten', 'glutton', 'gluttonous', 'gluttony', 'gm', 'gnarly', 'gnocchi', 'go', 'goal', 'goalie', 'goals', 'goat', 'goats', 'goaz', 'gobble', 'gobbled', 'gobi', 'god', 'goddamn', 'goddess', 'godfather', 'gods', 'goer', 'goers', 'goes', 'goi', 'going', 'goings', 'gold', 'golden', 'goldwater', 'goldwell', 'golf', 'golfer', 'golfers', 'golfing', 'goliath', 'gomen', 'gon', 'gone', 'gong', 'gonna', 'gonzales', 'goo', 'goober', 'goobye', 'good', 'goodbye', 'goodcents', 'goodies', 'goodness', 'goods', 'goodwill', 'goodyear', 'goodytwo', 'gooey', 'goof', 'goofy', 'google', 'googled', 'googling', 'goona', 'goood', 'goooood', 'gooooooood', 'gooooooooodness', 'goose', 'goosebumps', 'gooy', 'gordo', 'gordon', 'goregous', 'gorganzola', 'gorge', 'gorgeous', 'gorgonzola', 'gosh', 'gospel', 'gossip', 'gossiping', 'got', 'gothic', 'goto', 'gots', 'gotta', 'gotten', 'gotter', 'gouda', 'gouged', 'gourmet', 'gov', 'government', 'governor', 'gown', 'gowns', 'gps', 'grab', 'grabbed', 'grabbing', 'grabbingly', 'grace', 'graced', 'gracious', 'graciously', 'graciousness', 'grad', 'grade', 'graders', 'grades', 'gradual', 'graduate', 'graduated', 'graduation', 'grady', 'graham', 'grahm', 'grain', 'grains', 'grand', 'grandad', 'grandchildren', 'grande', 'grandiose', 'grandma', 'grandmas', 'grandmother', 'grandmothers', 'grandpa', 'grandparents', 'grandson', 'granite', 'granny', 'granola', 'granted', 'grape', 'grapefruit', 'grapes', 'graphically', 'graphics', 'grappa', 'gras', 'grasp', 'grass', 'grasses', 'grassroots', 'grassy', 'grated', 'grateful', 'gratefully', 'gratifying', 'gratin', 'gratis', 'gratitude', 'gratuitus', 'gratuity', 'gratzi', 'gravel', 'gravelly', 'graveyard', 'gravlax', 'gravy', 'gray', 'grayhawk', 'grazie', 'grazing', 'grease', 'greasiest', 'greasy', 'great', 'greater', 'greatest', 'greatly', 'greatness', 'greece', 'greed', 'greedy', 'greeeeeeat', 'greek', 'green', 'greenbelt', 'greene', 'greens', 'greenville', 'greenway', 'greet', 'greeted', 'greeting', 'greetings', 'greets', 'greg', 'grelichs', 'grenache', 'greta', 'grew', 'grey', 'griddle', 'griddled', 'grief', 'grigio', 'grill', 'grille', 'grilled', 'griller', 'grilling', 'grills', 'grimaldi', 'grimaldis', 'grimiest', 'grin', 'grind', 'grinda', 'grinded', 'grinder', 'grinders', 'grinding', 'gringa', 'gringas', 'gringos', 'grinning', 'gripe', 'gripes', 'gristle', 'gristly', 'grit', 'grits', 'gritted', 'gritty', 'grocer', 'groceries', 'grocery', 'groin', 'groom', 'groomed', 'groomer', 'grooming', 'gross', 'grossed', 'grossest', 'ground', 'grounds', 'group', 'groupie', 'grouping', 'groupon', 'groupons', 'groups', 'grousing', 'grove', 'groves', 'grow', 'growers', 'growing', 'growled', 'growler', 'growlers', 'growls', 'grown', 'grows', 'growth', 'grr', 'grub', 'grubbiest', 'grumpy', 'gruyere', 'gryos', 'grâce', 'gs', 'gtfo', 'guac', 'guacamole', 'guacomole', 'guadalupe', 'guangdong', 'guarantee', 'guaranteed', 'guard', 'guards', 'gucci', 'guedo', 'guenther', 'guerrero', 'guess', 'guessed', 'guessing', 'guest', 'guests', 'guide', 'guided', 'guidelines', 'guides', 'guiding', 'guido', 'guild', 'guilt', 'guilty', 'guiness', 'guinness', 'guissepe', 'guitar', 'guitars', 'gulf', 'gulp', 'gum', 'gumbo', 'gumline', 'gummie', 'gummy', 'gums', 'gun', 'gunkan', 'gunked', 'gunna', 'gunny', 'gurtude', 'gurus', 'gush', 'gushing', 'gushy', 'gusta', 'gusting', 'gusto', 'gut', 'guts', 'gutsy', 'gutted', 'gutting', 'guy', 'guys', 'gym', 'gyms', 'gynormus', 'gyoza', 'gyrating', 'gyro', 'gyros', 'h2o', 'ha', 'haagen', 'habanero', 'habaneros', 'habenero', 'habit', 'hacky', 'had', 'haddock', 'hadn', 'hadnt', 'hagard', 'hagen', 'haha', 'hahahahaha', 'hahn', 'haiku', 'hail', 'hair', 'haircot', 'haircut', 'haircuts', 'hairdresser', 'haired', 'hairs', 'haji', 'hakata', 'haley', 'half', 'halfway', 'halibut', 'hall', 'halley', 'hallmark', 'halloween', 'hallway', 'hallways', 'halo', 'halogens', 'halorescue', 'ham', 'hamachi', 'hamburger', 'hamburgers', 'hamburgessa', 'hamilton', 'hammered', 'hamper', 'hampshire', 'hampton', 'hana', 'hancock', 'hand', 'handed', 'handedly', 'handful', 'handi', 'handicappers', 'handing', 'handiwork', 'handkerchiefs', 'handle', 'handlebar', 'handled', 'handles', 'handling', 'handmade', 'hands', 'handshake', 'handsome', 'handsomely', 'handwritten', 'handy', 'hanede', 'haney', 'hang', 'hangars', 'hanger', 'hanging', 'hangings', 'hangout', 'hangover', 'hangovers', 'hangs', 'hankering', 'hanny', 'hannys', 'hansen', 'hanson', 'hansons', 'hap', 'haphazardly', 'happen', 'happened', 'happenin', 'happening', 'happens', 'happhazardly', 'happier', 'happiest', 'happily', 'happiness', 'happy', 'harass', 'harassed', 'harassing', 'harbor', 'harcs', 'hard', 'hardcore', 'hardcovers', 'hardened', 'harder', 'hardly', 'hardware', 'hardwood', 'hardworking', 'hardy', 'harissa', 'harkin', 'harkins', 'harlequin', 'harley', 'harm', 'harmful', 'harmonies', 'harmony', 'harp', 'harping', 'harried', 'harris', 'harry', 'harsh', 'harshness', 'hart', 'haru', 'harvest', 'harvil', 'has', 'hash', 'hashbrowns', 'hasn', 'hassle', 'hastily', 'hasty', 'hat', 'hatch', 'hate', 'hated', 'hateful', 'hates', 'hatha', 'hats', 'haul', 'hauled', 'haunt', 'haunted', 'haunts', 'haus', 'hava', 'havana', 'havarti', 'have', 'haven', 'havent', 'having', 'havn', 'havoc', 'hawaii', 'hawaiian', 'hay', 'hayashi', 'hayden', 'hayride', 'hazelnut', 'hazelnuts', 'hazzard', 'haüs', 'hbo', 'hcg', 'he', 'head', 'headache', 'headaches', 'headed', 'headfirst', 'heading', 'headphones', 'headquarters', 'heads', 'headset', 'heal', 'healed', 'healer', 'healing', 'heals', 'health', 'healthcare', 'healthier', 'healthiest', 'healthy', 'heap', 'heaping', 'heaps', 'hear', 'heard', 'hearing', 'hears', 'heart', 'heartbeat', 'heartbroken', 'heartburn', 'hearted', 'heartedly', 'hearth', 'hearts', 'heartworm', 'hearty', 'heat', 'heated', 'heater', 'heaters', 'heath', 'heathens', 'heather', 'heaven', 'heavenly', 'heavens', 'heaviest', 'heavily', 'heavy', 'heck', 'heckling', 'hedge', 'hee', 'heed', 'heel', 'heeled', 'heels', 'hefe', 'hefeweizen', 'heff', 'hefty', 'hegel', 'heh', 'hehehe', 'heidelberg', 'height', 'heightened', 'heinous', 'heinritz', 'heinz', 'heirloom', 'held', 'helen', 'helicopters', 'hell', 'hellllll', 'hellllllllo', 'hello', 'hells', 'helmet', 'helmets', 'help', 'helped', 'helpers', 'helpful', 'helpfull', 'helpfulness', 'helping', 'helpless', 'helps', 'helstrom', 'hem', 'hematoma', 'hemmed', 'hen', 'hence', 'henckels', 'hens', 'hep', 'her', 'herb', 'herbal', 'herbed', 'herberger', 'herbs', 'herd', 'here', 'hereby', 'heritage', 'herme', 'hernan', 'hernandez', 'hero', 'herring', 'hers', 'herself', 'hertz', 'hes', 'hesistant', 'hesitant', 'hesitate', 'hesitated', 'hesitation', 'hey', 'hh', 'hi', 'hiatus', 'hiccup', 'hick', 'hickish', 'hicks', 'hickups', 'hidden', 'hide', 'hideaway', 'hideous', 'hides', 'hiding', 'high', 'highchair', 'higher', 'highest', 'highland', 'highlight', 'highlights', 'highly', 'highs', 'highschool', 'hight', 'highway', 'highways', 'hike', 'hiked', 'hikers', 'hikes', 'hiking', 'hilarious', 'hilariously', 'hilary', 'hill', 'hillard', 'hills', 'hillstone', 'hilo', 'hilton', 'him', 'himalayan', 'himself', 'hindering', 'hint', 'hints', 'hip', 'hipper', 'hippie', 'hippies', 'hippness', 'hippy', 'hipster', 'hipsterness', 'hipsters', 'hire', 'hired', 'hires', 'hiro', 'his', 'hispanic', 'historic', 'historical', 'history', 'hit', 'hitchin', 'hits', 'hitting', 'hk', 'hkgb', 'hmm', 'hmmm', 'hmmmm', 'hmmmmm', 'hmmmmmm', 'hmmph', 'hnnngffff', 'ho', 'hoa', 'hoagies', 'hoan', 'hob', 'hobbies', 'hobby', 'hoboken', 'hobos', 'hockey', 'hocks', 'hodgepodge', 'hoegaarden', 'hoffman', 'hog', 'hogie', 'hogwarts', 'hoikey', 'hokokum', 'hold', 'holder', 'holders', 'holding', 'holds', 'hole', 'holes', 'holey', 'holiday', 'holidays', 'holistic', 'hollandaise', 'hollendaise', 'holly', 'hollywood', 'holmes', 'holocaust', 'holy', 'hom', 'home', 'homefries', 'homeless', 'homemade', 'homeopathic', 'homer', 'homerun', 'homes', 'hometown', 'homework', 'homey', 'homies', 'hominy', 'homophobia', 'homosexuals', 'homous', 'honda', 'honduras', 'hone', 'honed', 'honeslty', 'honest', 'honestly', 'honesty', 'honey', 'honeycomb', 'honeymoon', 'hong', 'honked', 'honor', 'honored', 'honoring', 'honors', 'hoo', 'hood', 'hoodlum', 'hoods', 'hook', 'hooked', 'hooks', 'hooligans', 'hoooorray', 'hoopla', 'hooray', 'hooters', 'hootsuite', 'hop', 'hope', 'hoped', 'hopeful', 'hopefully', 'hopes', 'hopi', 'hoping', 'hopital', 'hopped', 'hoppin', 'hopping', 'hoppins', 'hops', 'hopshot', 'horatio', 'horchata', 'horizon', 'hormone', 'hormones', 'horns', 'horrendous', 'horrible', 'horribly', 'horrid', 'horrific', 'horror', 'horse', 'horseback', 'horseradish', 'horses', 'horshradish', 'hose', 'hospitable', 'hospital', 'hospitality', 'hospitals', 'host', 'hostage', 'hosted', 'hostess', 'hostesses', 'hostile', 'hosting', 'hosts', 'hot', 'hotdog', 'hotdogs', 'hotel', 'hotels', 'hotplate', 'hotspot', 'hotspots', 'hotter', 'hottest', 'hotties', 'hotttt', 'hound', 'hounding', 'hour', 'hours', 'house', 'housed', 'household', 'househunting', 'housekeeping', 'housemade', 'houses', 'housewares', 'housewife', 'houston', 'houstons', 'hover', 'hovered', 'hovering', 'how', 'howard', 'howdy', 'however', 'howl', 'hr', 'hrid', 'hrs', 'hs', 'htc', 'htf', 'html', 'http', 'huauchinango', 'hub', 'hubbard', 'hubby', 'hubs', 'huckleberry', 'hudson', 'hue', 'huera', 'hues', 'huevos', 'hug', 'huge', 'hugely', 'hugh', 'hugs', 'huh', 'hullabaloo', 'hum', 'human', 'humane', 'humanely', 'humanity', 'humans', 'humble', 'humbling', 'humbly', 'humdinger', 'humid', 'humidifier', 'humidity', 'humiliating', 'hummee', 'hummingbirds', 'hummus', 'humor', 'humus', 'hundred', 'hundreds', 'hung', 'hunger', 'hungover', 'hungrier', 'hungry', 'hunk', 'huns', 'hunt', 'hunter', 'hunters', 'hunting', 'hurrah', 'hurricane', 'hurried', 'hurries', 'hurry', 'hurt', 'hurtful', 'hurting', 'hurts', 'husband', 'husbands', 'hushpuppys', 'hussy', 'hustle', 'hustled', 'hut', 'hyatt', 'hybrid', 'hyde', 'hydrants', 'hydrated', 'hydration', 'hydrogen', 'hydrogenated', 'hygiene', 'hygienist', 'hygienists', 'hype', 'hyped', 'hyper', 'hyperbole', 'hypes', 'hypocrite', 'hyundai', 'iam', 'iamtimhardy', 'ice', 'iceberg', 'iceburg', 'icecream', 'iced', 'icee', 'ices', 'icey', 'ichi', 'icing', 'icious', 'ick', 'icky', 'icon', 'iconic', 'icons', 'icy', 'id', 'idea', 'ideal', 'ideas', 'idem', 'identical', 'identified', 'identify', 'identity', 'idiot', 'idiotic', 'idiots', 'idk', 'ie', 'if', 'iffy', 'ignacio', 'ignite', 'ignorance', 'ignorant', 'ignore', 'ignored', 'ignoring', 'ihop', 'ii', 'iitoi', 'ikea', 'ikura', 'il', 'ilbs', 'ilk', 'ill', 'illegal', 'illlll', 'illness', 'illuminating', 'illusion', 'illusive', 'im', 'image', 'imagery', 'images', 'imaginable', 'imagination', 'imagine', 'imagined', 'imax', 'imbued', 'imho', 'imitation', 'immaculate', 'immaculately', 'immediate', 'immediately', 'immense', 'immensely', 'immigrants', 'imminent', 'immobile', 'immune', 'imo', 'impact', 'impaired', 'impeccable', 'impeccably', 'impending', 'imperative', 'imperial', 'impersonal', 'impession', 'impetus', 'implicitly', 'implies', 'impolite', 'importance', 'important', 'importantly', 'imported', 'importing', 'impossible', 'impostors', 'impractical', 'impresive', 'impress', 'impressed', 'impresses', 'impressing', 'impression', 'impressions', 'impressive', 'impressively', 'improper', 'improv', 'improve', 'improved', 'improvement', 'improvements', 'improves', 'improving', 'in', 'inability', 'inactive', 'inactivity', 'inadequate', 'inappropriate', 'inauthentic', 'inbetween', 'inbox', 'inc', 'incantation', 'incapable', 'incarnation', 'incentive', 'incentives', 'inch', 'inches', 'incidences', 'incident', 'incidental', 'incidentally', 'incision', 'inclined', 'inclines', 'include', 'included', 'includes', 'including', 'inclusion', 'inclusive', 'income', 'incompetence', 'incompetent', 'incongruous', 'inconsistencies', 'inconsistent', 'inconvenice', 'inconvenience', 'inconvenienced', 'inconveniencing', 'inconvenient', 'incorporate', 'incorporated', 'incorrect', 'incorrectly', 'increase', 'increasing', 'increasingly', 'incredible', 'incredibly', 'indecisive', 'indeed', 'independent', 'independently', 'indescribably', 'indestructible', 'index', 'india', 'indian', 'indiana', 'indians', 'indicated', 'indicates', 'indication', 'indictment', 'indie', 'indifferent', 'indigenous', 'indistinguishable', 'individual', 'individuality', 'individualized', 'individually', 'individuals', 'indo', 'indoor', 'indoors', 'indra', 'induce', 'inducing', 'indulge', 'indulged', 'indulgence', 'indulgent', 'indulges', 'indulging', 'industrial', 'industrious', 'industry', 'ine', 'inedible', 'inevitable', 'inexcusable', 'inexpensive', 'inexplicably', 'infant', 'infants', 'infected', 'infection', 'inferior', 'infestations', 'infested', 'infiniti', 'inflammation', 'inflated', 'inflation', 'inflections', 'influence', 'info', 'infomercials', 'inform', 'informal', 'information', 'informational', 'informative', 'informed', 'infringement', 'infront', 'infuriating', 'infuse', 'infused', 'infusion', 'ing', 'ingenious', 'ingesting', 'ingrained', 'ingrediants', 'ingredient', 'ingredients', 'ingrown', 'inhaled', 'inherent', 'inhumane', 'initally', 'initial', 'initialed', 'initially', 'initiative', 'injera', 'injured', 'injuries', 'injuring', 'injury', 'ink', 'inlaws', 'inn', 'inner', 'innocent', 'innocuous', 'innova', 'innovation', 'innovative', 'innumerable', 'inoa', 'input', 'inquire', 'inquired', 'inquiring', 'inquisitive', 'ins', 'insane', 'insanely', 'insect', 'insecurities', 'insecurity', 'insert', 'inside', 'insider', 'insiders', 'insides', 'insight', 'insightful', 'insights', 'insist', 'insisted', 'insisting', 'insists', 'inspected', 'inspection', 'inspections', 'inspector', 'inspirational', 'inspire', 'inspired', 'inst', 'install', 'installed', 'installing', 'instance', 'instant', 'instantaneously', 'instantly', 'instatnt', 'instead', 'instincts', 'institute', 'institution', 'instructed', 'instruction', 'instructions', 'instructor', 'instructors', 'instruments', 'insufficient', 'insulation', 'insult', 'insulted', 'insulting', 'insults', 'insurance', 'insured', 'insures', 'intact', 'intake', 'intangible', 'integrated', 'integrity', 'intel', 'intellectually', 'intend', 'intended', 'intending', 'intense', 'intensity', 'intent', 'intention', 'intentional', 'intentions', 'interaction', 'interactions', 'interactive', 'intercontinental', 'interdisciplinary', 'interest', 'interested', 'interesting', 'interior', 'interject', 'interlude', 'intermingled', 'intermission', 'internet', 'internship', 'interpretations', 'interrogated', 'interrupt', 'interrupted', 'interrupting', 'interspersed', 'intertwined', 'interview', 'interviews', 'intestines', 'intimacy', 'intimate', 'intimately', 'intimidated', 'intimidating', 'into', 'intolerance', 'intolerant', 'intolerants', 'intoxicated', 'intoxicating', 'intricate', 'intrigued', 'intrigueing', 'intriguing', 'intriguingly', 'intrinsic', 'intrinsically', 'introduce', 'introduced', 'introducing', 'introduction', 'introductions', 'intruding', 'intrusive', 'intuition', 'invading', 'invariably', 'invasive', 'invent', 'invented', 'inventive', 'inventory', 'invergorden', 'inverse', 'invest', 'investigate', 'investigated', 'investigating', 'investment', 'investor', 'invigorated', 'invincible', 'invisibility', 'invisible', 'invitations', 'invited', 'inviting', 'involve', 'involved', 'involves', 'involving', 'iodine', 'iolanda', 'iority', 'iot', 'ipa', 'ipad', 'iphone', 'ipic', 'ipod', 'ippei', 'iq', 'iranian', 'iraq', 'irish', 'irk', 'irks', 'iron', 'ironic', 'ironically', 'ironing', 'ironman', 'irony', 'irrational', 'irrelevant', 'irreplaceable', 'irrigate', 'irritable', 'irritate', 'irritated', 'irritates', 'irritating', 'irs', 'is', 'ish', 'island', 'islands', 'isle', 'isles', 'isn', 'isnt', 'isolated', 'israel', 'israeli', 'issue', 'issues', 'issuing', 'istore', 'it', 'italia', 'italian', 'italy', 'itch', 'item', 'itemized', 'items', 'ithink', 'its', 'itself', 'itsy', 'itty', 'iv', 'ivaa', 'ive', 'ivory', 'ivy', 'ixtapa', 'ized', 'jabs', 'jac', 'jack', 'jackass', 'jacked', 'jacket', 'jackets', 'jackie', 'jackpot', 'jackrabbit', 'jacks', 'jacob', 'jacques', 'jacquie', 'jacuzzi', 'jade', 'jaeger', 'jagermeister', 'jaguar', 'jaime', 'jake', 'jalapeno', 'jalapenos', 'jalapeño', 'jalepeno', 'jalpeno', 'jam', 'jamaica', 'jamaican', 'jamba', 'jambalaya', 'jamburrito', 'james', 'jameson', 'jammed', 'jamming', 'jamoca', 'jams', 'jan', 'janes', 'janet', 'janis', 'january', 'japan', 'japanese', 'japchae', 'jar', 'jared', 'jargon', 'jars', 'jasmine', 'jason', 'java', 'jaw', 'jaws', 'jay', 'jazz', 'jazzed', 'jc', 'jd', 'jealous', 'jealously', 'jean', 'jeans', 'jedis', 'jeez', 'jeff', 'jefferson', 'jekyll', 'jello', 'jelly', 'jen', 'jenga', 'jenn', 'jenna', 'jennifer', 'jenny', 'jensy', 'jeopardize', 'jer', 'jeremiah', 'jerk', 'jerks', 'jerky', 'jerry', 'jerrys', 'jersey', 'jess', 'jesse', 'jesterz', 'jesus', 'jetted', 'jewel', 'jeweler', 'jewelers', 'jewelery', 'jewelry', 'jewels', 'jewess', 'jewish', 'jewlery', 'jhane', 'jiang', 'jib', 'jiggle', 'jill', 'jillian', 'jim', 'jimmy', 'jist', 'jitters', 'jj', 'jo', 'joan', 'job', 'jobby', 'jobing', 'jobot', 'jobs', 'jodi', 'joe', 'joes', 'john', 'johnny', 'johns', 'join', 'joined', 'joing', 'joining', 'joint', 'joints', 'joke', 'joked', 'joking', 'jokingly', 'jolie', 'joliet', 'jolly', 'jolt', 'jon', 'jonathan', 'jones', 'jonesin', 'jook', 'joplin', 'jordans', 'jose', 'joshua', 'jotted', 'jouet', 'journey', 'joy', 'joyfully', 'joynt', 'joys', 'jp', 'jr', 'juan', 'juba', 'jucey', 'judge', 'judged', 'judges', 'judging', 'judgment', 'judgmental', 'judgments', 'judith', 'juggalo', 'juggling', 'jugoslavian', 'juice', 'juices', 'juicy', 'jukebox', 'jules', 'julie', 'julienned', 'julios', 'july', 'julyish', 'jumbalaya', 'jumbo', 'jumbotron', 'jump', 'jumped', 'jumping', 'jumpsuit', 'june', 'jungle', 'jungles', 'junior', 'junk', 'junkie', 'junkyard', 'jura', 'juror', 'jus', 'just', 'justice', 'justifiable', 'justified', 'justify', 'justin', 'justina', 'justlenses', 'juxtaposing', 'jw', 'k56', 'kabob', 'kabobs', 'kabuki', 'kahlo', 'kahlua', 'kai', 'kaigen', 'kaj', 'kalamata', 'kale', 'kaley', 'kama', 'kanarish', 'kang', 'kansas', 'kanye', 'kaprow', 'kara', 'karahi', 'karanish', 'karaoke', 'karawi', 'karen', 'karey', 'karoake', 'karsh', 'karve', 'karyn', 'kashmans', 'kashmere', 'kasras', 'kat', 'katheaw', 'kathleen', 'kathy', 'katie', 'katlan', 'katsu', 'kauai', 'kaya', 'kazimierz', 'kazmer', 'kebab', 'kee', 'keep', 'keeping', 'keeps', 'keg', 'keith', 'keller', 'kelly', 'ken', 'kennan', 'kennebec', 'kennel', 'kennels', 'kept', 'kerrie', 'ketchup', 'kettle', 'keurig', 'kevin', 'key', 'keyboard', 'keye', 'keyed', 'keypad', 'keys', 'kfc', 'kha', 'khai', 'khakis', 'kia', 'kibble', 'kick', 'kickass', 'kickassery', 'kickboxing', 'kicked', 'kicker', 'kickin', 'kicking', 'kicks', 'kicky', 'kid', 'kiddies', 'kidding', 'kiddos', 'kids', 'kierland', 'kiersten', 'kik', 'kill', 'killed', 'killer', 'killin', 'killing', 'kills', 'kilt', 'kiltlifter', 'kim', 'kimber', 'kimberly', 'kimchi', 'kimpton', 'kind', 'kinda', 'kindergarten', 'kindly', 'kindness', 'kinds', 'kinetic', 'king', 'kingdom', 'kings', 'kingston', 'kinkos', 'kinks', 'kins', 'kirin', 'kisra', 'kisras', 'kiss', 'kissing', 'kitchen', 'kitchens', 'kitfo', 'kitschy', 'kittens', 'kitty', 'kiwi', 'kk', 'klutz', 'knacks', 'knave', 'knee', 'knees', 'knew', 'knick', 'knickknacks', 'knife', 'knives', 'knob', 'knock', 'knocked', 'knocking', 'knook', 'knorr', 'knot', 'knotch', 'knots', 'know', 'knowing', 'knowledgable', 'knowledge', 'knowledgeable', 'known', 'knows', 'ko', 'kobe', 'koch', 'kokopelli', 'kolsch', 'kona', 'kong', 'kooks', 'kool', 'koolaid', 'koolaide', 'kore', 'korea', 'korean', 'kosher', 'kqoelzgklmrbayws8lhvfw', 'kra', 'kraft', 'krav', 'kreamery', 'kreme', 'krispy', 'kristen', 'kristian', 'kristin', 'kristy', 'kruger', 'kräuter', 'krönung', 'ksubi', 'ku', 'kubrick', 'kudo', 'kudos', 'kufta', 'kumomato', 'kumquat', 'kun', 'kung', 'kurobuta', 'kurt', 'kwss', 'kyle', 'kyot', 'kyoto', 'kyrene', 'la', 'lab', 'label', 'labeled', 'labeling', 'labels', 'labor', 'laboratory', 'laborers', 'labs', 'lace', 'laced', 'lack', 'lacked', 'lacking', 'lackluster', 'lacks', 'lactose', 'ladder', 'laden', 'ladie', 'ladies', 'ladle', 'lady', 'ladys', 'lafayette', 'lags', 'lahna', 'laid', 'lair', 'lait', 'lake', 'lake9', 'lakes', 'lalibela', 'lamar', 'lamb', 'lame', 'lameness', 'laminated', 'lamination', 'lamp', 'lamps', 'lampshades', 'lance', 'land', 'landed', 'landing', 'landlocked', 'landmark', 'landmarks', 'landon', 'landscape', 'landscaped', 'landscaping', 'lane', 'lanes', 'language', 'lanning', 'lantana', 'lanterns', 'lap', 'lapping', 'laps', 'lapsang', 'laptop', 'laptops', 'larb', 'lard', 'lardo', 'laredo', 'larg', 'large', 'largely', 'larger', 'larges', 'largest', 'larissa', 'larry', 'las', 'lasagna', 'laser', 'lasering', 'lash', 'lashed', 'lassi', 'last', 'lasted', 'lasting', 'lastly', 'lasts', 'latched', 'late', 'lately', 'later', 'lateral', 'latest', 'latilla', 'latin', 'latino', 'latte', 'latter', 'lattes', 'laudable', 'laugh', 'laughed', 'laughing', 'laughs', 'launch', 'laundry', 'laura', 'lava', 'lavender', 'lavenders', 'lavosh', 'law', 'lawn', 'lawns', 'laws', 'lawyer', 'lax', 'lay', 'layaway', 'layer', 'layered', 'layers', 'laying', 'layla', 'layout', 'layover', 'lazily', 'lazy', 'lazyass', 'lb', 'lbs', 'le', 'lead', 'leader', 'leading', 'leads', 'leaf', 'leafy', 'league', 'leah', 'leak', 'leaking', 'leaks', 'lean', 'leaned', 'leaner', 'leaning', 'leap', 'learn', 'learned', 'learning', 'learns', 'leary', 'lease', 'leased', 'leash', 'leashes', 'leasing', 'least', 'leather', 'leathery', 'leave', 'leaves', 'leaving', 'lebanese', 'leberknödel', 'leche', 'leches', 'lechon', 'led', 'lee', 'leek', 'leeks', 'leery', 'lees', 'left', 'leftover', 'leftovers', 'leg', 'legacy', 'legal', 'legally', 'legend', 'legendary', 'legends', 'leggings', 'legit', 'legitimate', 'legitimately', 'legs', 'leguizamo', 'leisure', 'leisurely', 'lemme', 'lemming', 'lemon', 'lemonade', 'lemonades', 'lemondade', 'lemongrass', 'lemons', 'lemony', 'lenart', 'lend', 'lends', 'length', 'lengths', 'lengthwise', 'lengua', 'lennie', 'lenses', 'lentil', 'lentils', 'lenôtre', 'leonidas', 'leotards', 'lepinja', 'leslie', 'less', 'lesser', 'lesson', 'lessons', 'let', 'lets', 'letter', 'letters', 'letting', 'lettuce', 'level', 'leveler', 'levels', 'levers', 'levy', 'lexus', 'leyva', 'lfs', 'lgo', 'liability', 'liar', 'libation', 'libations', 'liberace', 'liberal', 'liberty', 'libra', 'librarian', 'libraries', 'library', 'libras', 'licence', 'license', 'licensed', 'licious', 'lick', 'licked', 'lickin', 'licking', 'licorice', 'licous', 'lid', 'lie', 'lied', 'lienau', 'lies', 'lieu', 'life', 'lifeless', 'lifelong', 'lifesaver', 'lifestyle', 'lifetime', 'lift', 'lifter', 'lifting', 'lifts', 'light', 'lighted', 'lightening', 'lighter', 'lightest', 'lighthearted', 'lighting', 'lightly', 'lightning', 'lights', 'lightweight', 'lik', 'like', 'likeable', 'liked', 'likely', 'liken', 'likes', 'likey', 'liking', 'liklihood', 'lil', 'lilly', 'limb', 'lime', 'limes', 'limit', 'limitations', 'limited', 'limits', 'limo', 'limoncello', 'limone', 'limos', 'limp', 'limpest', 'limón', 'lincoln', 'linda', 'lindsay', 'lindsey', 'line', 'lined', 'linen', 'linens', 'liner', 'lines', 'linger', 'lingered', 'lingerie', 'lingering', 'linguini', 'linguisa', 'linguistic', 'lining', 'link', 'links', 'lion', 'lions', 'lip', 'lips', 'lipstick', 'liqueur', 'liquid', 'liquidating', 'liquidy', 'liquor', 'liquors', 'lisa', 'lisette', 'lish', 'lisous', 'list', 'listed', 'listen', 'listened', 'listeners', 'listening', 'listens', 'listing', 'listings', 'listlessly', 'lists', 'lit', 'litchfield', 'lite', 'liter', 'literally', 'litmus', 'litterally', 'little', 'livable', 'live', 'lived', 'lively', 'liver', 'livers', 'liverwurst', 'lives', 'livestock', 'living', 'livingsocial', 'liz', 'lizards', 'lizzie', 'll', 'lll', 'lloyd', 'lmt', 'lmts', 'lo', 'load', 'loaded', 'loading', 'loads', 'loaf', 'loan', 'loathed', 'loaves', 'lobby', 'lobbys', 'lobster', 'local', 'locale', 'locales', 'localfirstaz', 'locally', 'locals', 'locate', 'located', 'locating', 'location', 'locations', 'lock', 'locked', 'locker', 'locking', 'locksmith', 'loco', 'locoye', 'lodge', 'lodged', 'loft', 'logic', 'logical', 'logo', 'loin', 'loitering', 'lol', 'lola', 'lolcat', 'lolita', 'lollipops', 'lollypops', 'lolo', 'lon', 'london', 'lone', 'lonely', 'long', 'longed', 'longer', 'longest', 'longing', 'longish', 'lonnnnng', 'loo', 'loofah', 'look', 'looked', 'looking', 'lookout', 'looks', 'loooong', 'loooooove', 'looooounge', 'loooove', 'loop', 'loops', 'loose', 'loosely', 'loosened', 'loosens', 'loosing', 'looved', 'loraco', 'lord', 'loren', 'loretta', 'lori', 'loroco', 'los', 'lose', 'loser', 'loses', 'losing', 'loss', 'lost', 'lot', 'lotion', 'lots', 'lottery', 'lotus', 'loud', 'louder', 'loudly', 'loudspeakers', 'louis', 'louisiana', 'lounge', 'lounged', 'lounges', 'loungey', 'lounging', 'lousy', 'lovable', 'love', 'loved', 'loveitloveit', 'loveliest', 'loveliness', 'lovely', 'lover', 'lovers', 'loves', 'lovin', 'loving', 'lovvvve', 'low', 'lowbrow', 'lower', 'lowest', 'lowly', 'lox', 'loyal', 'loyalty', 'lozenge', 'lsu', 'ltf', 'lthe', 'luau', 'lubrication', 'luby', 'luch', 'lucille', 'lucious', 'luck', 'lucked', 'luckily', 'lucky', 'lucrative', 'lucy', 'luggage', 'luis', 'luke', 'lukewarm', 'lululemon', 'lulus', 'luminarias', 'lumpia', 'lumpless', 'luna', 'lunch', 'lunches', 'lunchtime', 'lung', 'lurch', 'lured', 'lurid', 'lush', 'lust', 'luster', 'luv', 'lux', 'luxe', 'luxurious', 'luxury', 'ly', 'lychee', 'lying', 'lynn', 'lyric', 'lyrical', 'lyrics', 'lysol', 'm1wrcux3oouhhrynl8kjqg', 'ma', 'mabel', 'mac', 'macadamia', 'macadamian', 'macademia', 'macalpines', 'macaroni', 'macarons', 'macaroons', 'macaw', 'macayo', 'macayos', 'macbook', 'macerated', 'machaca', 'machine', 'machines', 'macho', 'mackerel', 'macmillan', 'macmillian', 'macs', 'macy', 'mad', 'madagascar', 'madame', 'madden', 'maddie', 'made', 'madeliene', 'madera', 'madiera', 'madness', 'madonna', 'madras', 'madrid', 'maestro', 'maestros', 'maga', 'magazine', 'magazines', 'maggi', 'maggianos', 'magic', 'magical', 'magically', 'magners', 'magnet', 'magnificent', 'magnitude', 'magnolia', 'mags', 'mah', 'maharaja', 'mahhh', 'mahi', 'mai', 'maiden', 'maids', 'mail', 'mailbox', 'mailing', 'mails', 'main', 'maine', 'mainly', 'mains', 'mainstay', 'mainstream', 'maintain', 'maintained', 'maintaining', 'maintains', 'maintenance', 'maizie', 'majerle', 'majerles', 'majestic', 'major', 'majority', 'majors', 'make', 'makeover', 'maker', 'makers', 'makes', 'makeshift', 'makeup', 'makhani', 'makin', 'making', 'makita', 'makoks', 'malaise', 'malaysian', 'malbec', 'male', 'malee', 'malfunction', 'malfunctioned', 'malibu', 'mall', 'malls', 'malt', 'malted', 'maltese', 'malts', 'mam', 'mama', 'mamma', 'mammal', 'mamosa', 'mamoth', 'man', 'manage', 'manageable', 'managed', 'management', 'manager', 'managers', 'manages', 'managing', 'manchego', 'manchurian', 'mandarin', 'mandatory', 'maneuver', 'maneuverable', 'manga', 'manger', 'mango', 'manhandling', 'manhattan', 'mani', 'manicure', 'manicured', 'manicures', 'manikin', 'manipulation', 'mannequin', 'manner', 'mannered', 'manners', 'manning', 'manther', 'manual', 'manually', 'manuel', 'manufactured', 'manufacturer', 'many', 'map', 'maple', 'maps', 'mar', 'maraschino', 'marathon', 'marathons', 'marble', 'marcellino', 'march', 'marching', 'marcia', 'marco', 'marcus', 'maretplace', 'marg', 'margaret', 'margareta', 'margarita', 'margaritas', 'margaritta', 'margarittas', 'margherita', 'margin', 'marginal', 'margs', 'marguerite', 'maria', 'mariachi', 'maricopa', 'marie', 'marilyn', 'marinade', 'marinades', 'marinara', 'marinate', 'marinated', 'marine', 'mariott', 'mark', 'markdown', 'marked', 'markeplace', 'markers', 'market', 'marketing', 'marketplace', 'markets', 'marking', 'markings', 'marks', 'markup', 'markups', 'marmalade', 'marnier', 'marquee', 'marriage', 'married', 'marriot', 'marriott', 'marrow', 'marry', 'marsala', 'marscapone', 'marsha', 'marshal', 'marshals', 'marshamallow', 'marshmallow', 'marshmallows', 'mart', 'martial', 'martin', 'martinez', 'martini', 'martinis', 'marvel', 'marvelous', 'mary', 'maryland', 'marys', 'maryvale', 'marz', 'masa', 'masai', 'masala', 'mascaras', 'mascarpone', 'mash', 'mashed', 'masiman', 'mask', 'masking', 'masks', 'mason', 'masquerading', 'mass', 'massage', 'massagers', 'massages', 'massaging', 'massamum', 'masses', 'masseuse', 'masseuses', 'massive', 'mast', 'master', 'mastered', 'masterful', 'masterfully', 'mastering', 'masterpiece', 'mastery', 'mastro', 'mastros', 'mat', 'match', 'matched', 'matches', 'matching', 'matchstick', 'mate', 'mateo', 'mater', 'material', 'materials', 'mates', 'math', 'mathematically', 'matney', 'matrimony', 'matt', 'matter', 'matters', 'mattress', 'mattresses', 'mature', 'matzah', 'matzo', 'mauclerc', 'maui', 'maureen', 'mauves', 'mawshing', 'max', 'maxi', 'maxim', 'maximum', 'may', 'mayan', 'maybe', 'mayo', 'mayonnaise', 'mays', 'maytag', 'maz', 'mazin', 'mazing', 'mba', 'mbps', 'mc', 'mcc', 'mccac', 'mccain', 'mcclendon', 'mcclintock', 'mccormick', 'mcdonald', 'mcdonalds', 'mcdowell', 'mcgees', 'mcginnis', 'mcgrath', 'mcgrittles', 'mckellip', 'mckellips', 'mcklintock', 'mcnuggets', 'mcrae', 'me', 'meager', 'meal', 'meals', 'mealy', 'mean', 'meandered', 'meaning', 'meaningful', 'means', 'meant', 'meantime', 'meanwhile', 'measly', 'measure', 'measured', 'measurement', 'meat', 'meatball', 'meatballs', 'meatbeals', 'meathead', 'meatless', 'meatloaf', 'meatlovers', 'meats', 'meaty', 'mecca', 'mechado', 'mechanic', 'mechanical', 'mechanics', 'mecinas', 'medallion', 'medallions', 'media', 'medical', 'medication', 'medications', 'medicine', 'mediocre', 'mediterranean', 'medium', 'medley', 'meds', 'meeeeeanie', 'meet', 'meeting', 'meetings', 'meets', 'meetup', 'mega', 'megan', 'meh', 'mei', 'mein', 'meineke', 'mekong', 'mel', 'melded', 'meling', 'melissa', 'mellow', 'melon', 'melonfishphoto', 'melrose', 'melt', 'melted', 'melting', 'meltingly', 'melts', 'melty', 'member', 'members', 'membership', 'memberships', 'membrane', 'memo', 'memorabilia', 'memorable', 'memorial', 'memories', 'memorize', 'memory', 'men', 'menchies', 'mended', 'mens', 'mental', 'mentality', 'mention', 'mentioned', 'mentioning', 'mentions', 'mentor', 'menu', 'menudo', 'menus', 'meowganificant', 'merc', 'mercedes', 'merchandise', 'merchandising', 'mere', 'merely', 'meringue', 'merited', 'merrels', 'merry', 'mesa', 'mesh', 'mesha', 'mesmerized', 'mesquite', 'mess', 'message', 'messages', 'messed', 'messes', 'messing', 'messy', 'met', 'metabolism', 'metal', 'metate', 'meted', 'meteocre', 'meth', 'method', 'methodical', 'methods', 'meticulous', 'meticulously', 'metric', 'metro', 'metropolitan', 'metrosexuality', 'mex', 'mexi', 'mexican', 'mexico', 'meyer', 'mgr', 'mgrs', 'mi', 'mia', 'miagi', 'miami', 'mic', 'michael', 'michaels', 'michelada', 'michelina', 'michelle', 'michigan', 'mickey', 'mickie', 'micky', 'micro', 'microbes', 'microbrewery', 'microbrews', 'microscopically', 'microwave', 'microwaved', 'mid', 'midday', 'middle', 'midget', 'midi', 'midnight', 'midnite', 'mido', 'midst', 'midwest', 'midwesterner', 'mien', 'mierda', 'might', 'mightily', 'mightly', 'mighty', 'mignon', 'migraines', 'miguel', 'mike', 'mila', 'milagro', 'milanese', 'milano', 'mild', 'mile', 'miles', 'milic', 'military', 'milk', 'milkshake', 'milkshakes', 'milky', 'mill', 'mille', 'miller', 'milling', 'million', 'millions', 'mills', 'mim', 'mimi', 'mimic', 'mimosa', 'mimosas', 'mims', 'min', 'minced', 'mind', 'minded', 'mine', 'mineral', 'miners', 'mines', 'minestrone', 'mingle', 'mini', 'miniature', 'minimal', 'minimalist', 'minimalistic', 'minimally', 'minimize', 'minimized', 'minimum', 'miniscule', 'minisd', 'minna', 'minneapolis', 'minnesota', 'minnie', 'minor', 'mins', 'mint', 'mintchip', 'minty', 'minus', 'minut', 'minute', 'minutes', 'miracle', 'miraculous', 'mirage', 'miranda', 'mirror', 'mirrored', 'mirrors', 'mirushe', 'mis', 'mischa', 'miserable', 'miserably', 'misfit', 'misfortune', 'mish', 'mishandled', 'mishap', 'mishaps', 'mishmash', 'misinformation', 'misinformed', 'misir', 'mislead', 'misleading', 'misled', 'mismanagement', 'mismanaging', 'mismatched', 'miso', 'misono', 'misplaced', 'miss', 'missed', 'misses', 'missing', 'mission', 'mississippi', 'misstep', 'mist', 'mistake', 'mistakenly', 'mistakes', 'mistaking', 'mister', 'misters', 'misting', 'misto', 'mistos', 'misunderstanding', 'misunderstood', 'misuse', 'mitch', 'mitt', 'mitts', 'miu', 'mix', 'mixed', 'mixer', 'mixers', 'mixes', 'mixing', 'mixology', 'mixto', 'mixture', 'mj', 'mlb', 'mm', 'mma', 'mmm', 'mmmghgh', 'mmmm', 'mmmmm', 'mmmmmazing', 'mmmmmm', 'mmmmmmm', 'mmmmmmmm', 'mmmmmmmmmmm', 'mmmmmmmms', 'mmwkpmltbkcwnnlrai', 'mn', 'mnf', 'mns', 'moaning', 'mobbed', 'mobhcxoi_msekq', 'mobile', 'mocchiato', 'mocha', 'mochi', 'mock', 'mocking', 'mockingly', 'mode', 'model', 'modeled', 'modelo', 'models', 'moderate', 'moderately', 'modern', 'modest', 'modestly', 'modification', 'modifications', 'modify', 'moe', 'moes', 'mohawk', 'moist', 'moister', 'moistest', 'moistness', 'moisturizer', 'moisturizers', 'moisturizes', 'mojito', 'mojitos', 'mojo', 'mojos', 'molar', 'molasses', 'mold', 'molding', 'moldy', 'mole', 'molete', 'molino', 'molinos', 'molly', 'molotes', 'molten', 'moly', 'mom', 'moment', 'moments', 'momma', 'mommy', 'moms', 'mon', 'monarch', 'monday', 'mondays', 'money', 'moneys', 'mongolian', 'monitor', 'monitoring', 'monitors', 'monk', 'monkey', 'monkeys', 'mono', 'monotone', 'monsieur', 'monsoon', 'monster', 'monsters', 'monstrosity', 'monstrous', 'monte', 'montelucia', 'montenegro', 'monterey', 'monterrey', 'month', 'monthly', 'months', 'monthy', 'monton', 'monty', 'monumental', 'moo', 'mood', 'moods', 'moody', 'mooing', 'moon', 'moons', 'moore', 'moores', 'mopped', 'mopping', 'moral', 'morale', 'morally', 'moray', 'morbidly', 'mordida', 'more', 'moreover', 'mores', 'moreso', 'morgan', 'mormon', 'mormonic', 'morning', 'mornings', 'moroccan', 'moron', 'morons', 'morphed', 'morsel', 'mortadella', 'mortar', 'morton', 'mortons', 'mos', 'moscow', 'mosear', 'mosh', 'most', 'mostly', 'motel', 'mother', 'motherf', 'mothers', 'motion', 'motivate', 'motivated', 'motivating', 'motivation', 'moto', 'motor', 'motorcycles', 'mound', 'mounded', 'mounds', 'mount', 'mountain', 'mountains', 'mounted', 'mounting', 'mourn', 'mouse', 'mousse', 'mouth', 'mouthful', 'mouths', 'mouthwatering', 'move', 'moved', 'movement', 'moves', 'movie', 'moviegoers', 'movies', 'moving', 'mower', 'mozarella', 'mozz', 'mozza', 'mozzarella', 'mpls', 'mr', 'mrs', 'ms', 'msg', 'mtn', 'muaaah', 'muay', 'much', 'mucho', 'mudd', 'muddled', 'mudslide', 'muertos', 'muffin', 'muffins', 'muffler', 'mug', 'muggy', 'mugs', 'mule', 'mullet', 'mulling', 'multi', 'multigrain', 'multiple', 'multiplied', 'multiplier', 'multiply', 'multitude', 'munch', 'munchies', 'mundane', 'muppet', 'mural', 'murder', 'murphy', 'murray', 'musac', 'muscles', 'museum', 'museums', 'mush', 'mushiest', 'mushroms', 'mushroom', 'mushrooms', 'mushu', 'mushy', 'music', 'musical', 'musician', 'musicians', 'musing', 'musscles', 'mussel', 'mussels', 'must', 'mustachio', 'mustard', 'muster', 'musubi', 'mutant', 'mutilated', 'muttered', 'mutton', 'mutts', 'mvp', 'mwkzajaq', 'my', 'mylissa', 'myriad', 'myself', 'myspace', 'mysterious', 'mystery', 'mystified', 'mystique', 'myun', 'na', 'naan', 'nacho', 'nachos', 'nada', 'nadya', 'naengmyeon', 'nag', 'nagging', 'nail', 'nailed', 'nailes', 'nails', 'nak', 'naked', 'nam', 'namaste', 'name', 'named', 'names', 'nametags', 'nami', 'namis', 'nan', 'nancy', 'nandos', 'nanny', 'naot', 'nap', 'napa', 'napkin', 'napkins', 'napoleon', 'napoleons', 'napolitano', 'napping', 'narcissistic', 'narcisstic', 'narrow', 'narrowing', 'nascar', 'nastily', 'nastiness', 'nasty', 'natale', 'natalie', 'natcher', 'nate', 'nately', 'nathan', 'nation', 'national', 'nationally', 'nationals', 'nationwide', 'native', 'natives', 'natural', 'naturally', 'nature', 'natured', 'naturopath', 'naturopathic', 'nau', 'nauseous', 'navajo', 'navigate', 'navy', 'nay', 'nazi', 'nba', 'nc', 'ncounter', 'nd', 'ne', 'near', 'nearby', 'nearest', 'nearly', 'neat', 'neatly', 'nebbiolo', 'nebraska', 'necessarily', 'necessary', 'necessities', 'necessity', 'neck', 'need', 'needed', 'needing', 'needle', 'needles', 'needless', 'needs', 'needy', 'neesd', 'nefarious', 'negate', 'negated', 'negative', 'negatives', 'neglected', 'negra', 'negress', 'neighbor', 'neighborhood', 'neighborhoods', 'neighboring', 'neighbors', 'neiman', 'neither', 'nello', 'neng', 'neo', 'neon', 'neosprin', 'nephew', 'nephews', 'nerd', 'nerds', 'nerdy', 'nerve', 'nervous', 'nespresso', 'ness', 'nestled', 'nests', 'net', 'netflix', 'network', 'networking', 'neutered', 'neutering', 'never', 'new', 'newark', 'newbie', 'newbies', 'newborn', 'newcollege', 'newer', 'newest', 'newland', 'newly', 'newmans', 'newport', 'news', 'newshour', 'newsletter', 'newspaper', 'newspapers', 'newyorker', 'next', 'nfl', 'ngd', 'ngoc', 'nhat', 'nhra', 'nib', 'nibble', 'nibbles', 'niblets', 'nice', 'nicely', 'nicer', 'nicest', 'nickel', 'nickle', 'nickname', 'nicoise', 'nicole', 'niece', 'nigeri', 'night', 'nightcap', 'nightclub', 'nightclubs', 'nighters', 'nightlife', 'nightly', 'nightmare', 'nightmares', 'nights', 'nigiri', 'nigligent', 'nigth', 'nike', 'nikki', 'nile', 'niman', 'nine', 'nineteen', 'ninja', 'nipple', 'nippon', 'niro', 'nirvana', 'nita', 'nite', 'nites', 'nitpicking', 'nitris', 'nj', 'nl', 'nnear', 'no', 'nob', 'noble', 'nobody', 'nobs', 'nobuo', 'noca', 'noches', 'nod', 'nodded', 'nog', 'nogales', 'noir', 'noise', 'noises', 'noisey', 'noisy', 'nom', 'nomenal', 'nominal', 'nominate', 'nominee', 'non', 'nondescript', 'none', 'nonetheless', 'nonfat', 'nonna', 'nonprescription', 'nonprofit', 'nonsense', 'noodle', 'noodles', 'nook', 'noon', 'noone', 'noooo', 'nooooooooo', 'nopalito', 'nope', 'nor', 'nordies', 'nordique', 'nordstrom', 'nordstroms', 'norm', 'normal', 'normalcy', 'normally', 'norman', 'normandy', 'norterra', 'north', 'northeast', 'northern', 'northwest', 'norton', 'nose', 'nosh', 'noshed', 'nosie', 'nostalgia', 'nostalgic', 'nostrils', 'not', 'notable', 'notary', 'notch', 'note', 'noted', 'notes', 'nothing', 'noticable', 'notice', 'noticeable', 'noticeably', 'noticed', 'notices', 'noticing', 'notified', 'notorious', 'notsomuch', 'notte', 'nough', 'nourishes', 'nourishment', 'nouvelle', 'nov', 'nova', 'novel', 'novels', 'novelties', 'novelty', 'november', 'novice', 'novles', 'now', 'nowadays', 'nowhere', 'noy', 'nozzle', 'np', 'nsa', 'ntn', 'nude', 'nueva', 'nuff', 'nugget', 'nuggets', 'nuked', 'nulaid', 'numb', 'numbed', 'number', 'numbered', 'numbers', 'numbingly', 'numero', 'numerous', 'nun', 'nuong', 'nurse', 'nursery', 'nurses', 'nurturing', 'nut', 'nutcracker', 'nuteila', 'nutella', 'nutmeg', 'nutrition', 'nutritional', 'nutritious', 'nuts', 'nutsack', 'nutshell', 'nutty', 'nuvi', 'nw', 'nwohio', 'ny', 'nyc', 'nypd', 'o9jiksb', 'oahu', 'oak', 'oakland', 'oakville', 'oasis', 'oatmeal', 'ob', 'obama', 'obese', 'obgyn', 'objects', 'obligatory', 'obliged', 'obliques', 'oblivion', 'obnoxious', 'obscene', 'obscure', 'observant', 'observation', 'observed', 'obsessed', 'obsession', 'obsessive', 'obstinate', 'obstruction', 'obtain', 'obvious', 'obviously', 'occasion', 'occasional', 'occasionally', 'occasions', 'occassions', 'occupied', 'occupies', 'occupying', 'occur', 'occured', 'occurred', 'occurs', 'ocd', 'ocean', 'oceanic', 'oct', 'octaves', 'october', 'octomom', 'octopus', 'odd', 'oddity', 'oddly', 'oddness', 'odds', 'odinian', 'odor', 'odors', 'odyssey', 'of', 'off', 'offended', 'offending', 'offends', 'offense', 'offensive', 'offer', 'offered', 'offering', 'offerings', 'offers', 'office', 'officer', 'offices', 'official', 'officially', 'officials', 'oft', 'often', 'oftentimes', 'ofthe', 'oggie', 'ogled', 'oh', 'ohhh', 'ohhhhkay', 'ohio', 'oil', 'oiled', 'oiliest', 'oiliness', 'oils', 'oily', 'oink', 'oj', 'ok', 'okaaaaay', 'okay', 'okra', 'oktoberfest', 'ol', 'old', 'older', 'oldest', 'oldies', 'olds', 'oldsmobuick', 'ole', 'oleanders', 'olive', 'olives', 'olivos', 'ollie', 'olympic', 'omakase', 'omelet', 'omelets', 'omelette', 'omelettes', 'omfg', 'omg', 'ominvore', 'omit', 'omnivore', 'omt', 'on', 'once', 'one', 'onehope', 'ones', 'ongoing', 'onioins', 'onion', 'onions', 'online', 'only', 'ono', 'onset', 'onsite', 'onslaught', 'onto', 'ony', 'ooey', 'ooh', 'oohed', 'oooh', 'ooooh', 'ooooohhh', 'oooooooo', 'ooooowwweeee', 'oops', 'oozing', 'open', 'opened', 'opening', 'openings', 'openly', 'opens', 'opentable', 'opera', 'operate', 'operated', 'operates', 'operating', 'operation', 'operations', 'operator', 'opi', 'opinion', 'opinions', 'oppinion', 'opportunity', 'opposed', 'opposite', 'oprah', 'ops', 'opt', 'opted', 'optical', 'optimized', 'opting', 'option', 'options', 'opulence', 'opulent', 'opus', 'or', 'oral', 'orange', 'orangecello', 'orangeheads', 'oranges', 'orangewood', 'orchard', 'orchata', 'orchestra', 'orchestrated', 'orchid', 'ordeal', 'orded', 'order', 'ordered', 'ordering', 'orderly', 'orders', 'ordinarily', 'ordinary', 'ordred', 'orecchiette', 'oreganata', 'oregano', 'oreganymphos', 'oregon', 'oregonian', 'oreo', 'oreos', 'org', 'organ', 'organic', 'organically', 'organization', 'organizations', 'organize', 'organized', 'organizers', 'organizes', 'organizing', 'orgasm', 'orgasmic', 'orgy', 'orient', 'oriental', 'oriented', 'orig', 'origin', 'original', 'originality', 'originally', 'originate', 'origins', 'orlando', 'orleans', 'ornament', 'ornaments', 'orthopedics', 'orvieto', 'orzo', 'osco', 'osetra', 'osf', 'osp', 'osso', 'ostentatious', 'osteopathic', 'oster', 'otaku', 'otb', 'otfm', 'other', 'others', 'otherwise', 'ouch', 'ouchh', 'ought', 'ounce', 'ounces', 'our', 'ours', 'ourselves', 'out', 'outbursts', 'outclasses', 'outcome', 'outdated', 'outdoor', 'outdoors', 'outer', 'outfield', 'outfit', 'outfits', 'outfitters', 'outfront', 'outgoing', 'outgrowth', 'outing', 'outlasted', 'outlet', 'outlets', 'outlook', 'outlying', 'outnumbered', 'outraged', 'outrageous', 'outrageously', 'outrigger', 'outright', 'outs', 'outshines', 'outside', 'outsourced', 'outstanding', 'outstretched', 'outta', 'oven', 'ovens', 'over', 'overall', 'overalls', 'overbearing', 'overbooked', 'overcharge', 'overcome', 'overcompensation', 'overcooked', 'overcrowded', 'overdoing', 'overflow', 'overflowing', 'overgrown', 'overhead', 'overhear', 'overheard', 'overheat', 'overheating', 'overindulgence', 'overload', 'overloaded', 'overlook', 'overlooked', 'overlooking', 'overly', 'overnight', 'overpower', 'overpowered', 'overpowering', 'overpriced', 'overrated', 'overrode', 'overrun', 'overs', 'overseas', 'oversee', 'oversell', 'oversized', 'overspending', 'overstuff', 'overstuffed', 'overtime', 'overuse', 'overview', 'overweight', 'overwhelm', 'overwhelmed', 'overwhelming', 'overwhelmingly', 'overwheming', 'overworked', 'ovoid', 'owe', 'owed', 'owl', 'own', 'owned', 'owner', 'owners', 'ownership', 'owning', 'owns', 'oxbow', 'oxide', 'oxtail', 'oy', 'oye', 'oyster', 'oysters', 'oz', 'pa', 'pablo', 'pace', 'paced', 'pacific', 'pacifico', 'pacified', 'pacifier', 'pack', 'package', 'packaged', 'packages', 'packaging', 'packed', 'packet', 'packets', 'packs', 'pad', 'padding', 'paddle', 'paddy', 'padi', 'padre', 'padres', 'pads', 'page', 'pages', 'pagliacci', 'paid', 'pain', 'painful', 'painfully', 'painless', 'pains', 'painstaking', 'paint', 'painted', 'painters', 'painting', 'paintings', 'paints', 'pair', 'paired', 'pairing', 'pairings', 'pairs', 'pak', 'pakistani', 'pal', 'palabok', 'palace', 'palak', 'palatable', 'palate', 'palates', 'palatte', 'palce', 'pale', 'palee', 'palees', 'paleo', 'paleta', 'paletas', 'palette', 'palettes', 'pallet', 'palm', 'palmer', 'palms', 'palomar', 'palpable', 'pals', 'paltry', 'pamper', 'pampered', 'pampering', 'pan', 'pana', 'panang', 'pancake', 'pancakes', 'pancetta', 'pancho', 'pancit', 'panda', 'pane', 'paneer', 'panel', 'paneled', 'paneling', 'panera', 'panes', 'panic', 'panini', 'panko', 'panna', 'pans', 'pansy', 'pantaloons', 'panties', 'pantry', 'pants', 'pao', 'paola', 'papa', 'papago', 'papas', 'papaya', 'paper', 'paperback', 'paperwork', 'pappa', 'pappadeaux', 'pappardelle', 'paprika', 'par', 'parachute', 'paradise', 'paragraphs', 'paramount', 'paraphernalia', 'paraphrased', 'parasite', 'parasites', 'pardon', 'parent', 'parental', 'parents', 'parfait', 'parfaits', 'parilla', 'paris', 'parish', 'park', 'parka', 'parked', 'parker', 'parking', 'parks', 'parkway', 'parlor', 'parm', 'parma', 'parmagian', 'parmagiana', 'parmesan', 'parmigiano', 'paroose', 'parsley', 'parsnip', 'part', 'partake', 'partial', 'participants', 'participate', 'participated', 'participating', 'particuarly', 'particular', 'particularly', 'partied', 'parties', 'partner', 'partners', 'parts', 'party', 'partying', 'pasedena', 'pasena', 'paso', 'pasquale', 'pass', 'passable', 'passed', 'passenger', 'passengers', 'passes', 'passing', 'passion', 'passionate', 'passionately', 'passionfruit', 'passive', 'passport', 'past', 'pasta', 'pastabar', 'pastas', 'paste', 'pasties', 'pastor', 'pastrami', 'pastries', 'pastry', 'pasture', 'pasty', 'pat', 'patatas', 'patch', 'patched', 'patchouli', 'path', 'pathetic', 'pathetically', 'paths', 'patience', 'patient', 'patiently', 'patients', 'patio', 'patios', 'patisserie', 'patrick', 'patricks', 'patrol', 'patrols', 'patron', 'patronage', 'patronize', 'patronized', 'patronizing', 'patrons', 'pattern', 'patterned', 'patterns', 'patterson', 'patti', 'patties', 'patty', 'paul', 'paula', 'paulgstudio', 'pause', 'paved', 'pavilion', 'pavle', 'pavlov', 'pavlovian', 'paw', 'pawn', 'paws', 'pay', 'payard', 'paycheck', 'payday', 'payed', 'paying', 'payment', 'pays', 'payton', 'pazookie', 'pb', 'pbr', 'pbs', 'pcg', 'pea', 'peace', 'peaceful', 'peacefulness', 'peach', 'peaches', 'peak', 'peaking', 'peaks', 'peanut', 'peanuts', 'peanutty', 'pear', 'pearl', 'pearls', 'pearly', 'pears', 'peas', 'peasy', 'pebbles', 'pecan', 'pecans', 'pechuga', 'pecorino', 'pedal', 'peddle', 'pedestrians', 'pedi', 'pediatric', 'pedic', 'pedicure', 'pedicured', 'pedicures', 'pedigree', 'pedregal', 'pee', 'peebles', 'peeing', 'peek', 'peekaboo', 'peeks', 'peel', 'peeled', 'peeling', 'peels', 'peeped', 'peeps', 'peer', 'peeve', 'peggy', 'pei', 'peking', 'pellets', 'pelo', 'pelon', 'pen', 'penalties', 'penalty', 'pencil', 'pendemums', 'penetrated', 'penh', 'penis', 'pennants', 'penne', 'penny', 'pennys', 'penzey', 'peolple', 'people', 'peoples', 'peoria', 'pepitas', 'pepper', 'peppercorn', 'peppercorns', 'peppered', 'peppermint', 'pepperocini', 'pepperoni', 'pepperonis', 'peppers', 'peppery', 'pepsi', 'per', 'percent', 'percentage', 'perception', 'perch', 'perchance', 'perched', 'perfect', 'perfected', 'perfection', 'perfectionist', 'perfectlly', 'perfectly', 'perfecto', 'perform', 'performance', 'performances', 'performed', 'performers', 'perfume', 'perhaps', 'perimeter', 'period', 'periodic', 'periodically', 'periods', 'peripherals', 'perk', 'perks', 'perky', 'permanent', 'permanently', 'permission', 'permit', 'permits', 'permitting', 'pernil', 'peroxide', 'perpperoni', 'perrier', 'persevered', 'persian', 'persistent', 'person', 'personable', 'personal', 'personality', 'personalized', 'personallity', 'personally', 'personaly', 'personified', 'personnel', 'persons', 'perspective', 'persuasion', 'perturbed', 'peruse', 'perused', 'peruvian', 'pervert', 'pescatarian', 'pesky', 'pestered', 'pesto', 'pet', 'petco', 'pete', 'peter', 'petite', 'petrified', 'pets', 'petshotel', 'petsitter', 'petsmart', 'petticoat', 'petting', 'petty', 'pew', 'pews', 'pf', 'pga', 'ph', 'phad', 'pharmacy', 'phase', 'phenom', 'phenomenal', 'phenomenally', 'phil', 'philadelphia', 'philip', 'philippines', 'phillo', 'philly', 'philosophy', 'phlegm', 'phnom', 'pho', 'phobia', 'phoenicia', 'phoenician', 'phoenicians', 'phoenix', 'phoenixcitygrille', 'phoenixrodandgun', 'phoeniz', 'phone', 'phones', 'phonetic', 'phony', 'photo', 'photographer', 'photographers', 'photographic', 'photography', 'photomark', 'photomart', 'photos', 'photoshoots', 'photoshopped', 'phrase', 'phuket', 'phx', 'phyllo', 'physical', 'physically', 'physician', 'physicians', 'piaggion', 'piano', 'piatto', 'pibb', 'pibil', 'picazzo', 'piccola', 'pick', 'picked', 'pickiest', 'picking', 'pickle', 'pickled', 'pickles', 'picks', 'pickup', 'picky', 'picnic', 'picnics', 'pico', 'picos', 'pics', 'picture', 'pictured', 'pictures', 'picturesque', 'pie', 'piece', 'pieces', 'piecing', 'pier', 'pierce', 'pierced', 'piercing', 'piercings', 'pierre', 'pierrend', 'pies', 'piestewa', 'pig', 'pigg', 'piggy', 'pigs', 'pilates', 'pile', 'piled', 'pilgrim', 'pilgrimage', 'pillage', 'pillow', 'pillows', 'pillowy', 'pilot', 'pilots', 'pima', 'pimms', 'pimp', 'pimpercrombie', 'pinapple', 'pinata', 'pinball', 'pinch', 'pine', 'pineapple', 'ping', 'pinguinos', 'pink', 'pinkeye', 'pinko', 'pinnacle', 'pinned', 'pinot', 'pins', 'pint', 'pinto', 'pints', 'pipe', 'piper', 'pipes', 'piping', 'pipping', 'pique', 'pirates', 'pischke', 'piss', 'pissed', 'pissing', 'pistachio', 'pistachios', 'pistols', 'pit', 'pita', 'pitas', 'pitch', 'pitcher', 'pitchers', 'pitches', 'pits', 'pitt', 'pitted', 'pittsburgh', 'pity', 'pivotal', 'pizza', 'pizzaria', 'pizzas', 'pizzeria', 'pizzeriabianco', 'pizzerias', 'pizzookie', 'piña', 'pj', 'pkh', 'placard', 'placards', 'place', 'placebo', 'placed', 'placement', 'places', 'placing', 'plague', 'plagued', 'plain', 'plainly', 'plan', 'planb', 'plane', 'planes', 'planet', 'plank', 'planks', 'planned', 'planners', 'planning', 'plans', 'plant', 'plantains', 'plantar', 'plants', 'plaque', 'plasma', 'plaster', 'plastered', 'plastic', 'plasticware', 'plate', 'plated', 'plateful', 'plates', 'platform', 'plating', 'platinum', 'platter', 'platters', 'play', 'playable', 'played', 'player', 'players', 'playful', 'playground', 'playing', 'playlist', 'plays', 'plaza', 'plazas', 'plea', 'pleasant', 'pleasanties', 'pleasantly', 'please', 'pleased', 'pleasing', 'pleasure', 'pleasures', 'pleather', 'pleeeaaassse', 'plentiful', 'plenty', 'plesant', 'plethora', 'plethoric', 'plex', 'plexiglass', 'pley', 'plight', 'ploenta', 'plop', 'plug', 'plugged', 'plumber', 'plumbing', 'plump', 'plumping', 'plunge', 'plunk', 'plus', 'pluses', 'plush', 'pm', 'pmg', 'pnp', 'po', 'poached', 'poblana', 'poblano', 'poca', 'pocket', 'pockets', 'pod', 'poetic', 'point', 'pointe', 'pointed', 'pointing', 'pointless', 'points', 'pointy', 'poise', 'poisoned', 'poisoning', 'poivre', 'poke', 'poked', 'poker', 'pole', 'polenta', 'poles', 'police', 'policia', 'policies', 'policy', 'polish', 'polished', 'polite', 'politely', 'political', 'politically', 'politicians', 'politics', 'polka', 'pollo', 'polo', 'polytechnic', 'pom', 'pomegranate', 'pomo', 'pompous', 'poncho', 'pond', 'pondered', 'pong', 'ponied', 'ponies', 'pontiac', 'poo', 'pooch', 'poodle', 'poodles', 'pooey', 'pool', 'pools', 'poolside', 'poop', 'poopy', 'poor', 'poorer', 'poorly', 'pop', 'popcorn', 'popped', 'poppers', 'poppin', 'popping', 'poppy', 'pops', 'popular', 'popularity', 'populated', 'population', 'populations', 'populous', 'porch', 'porchetta', 'porcini', 'pores', 'pork', 'porkless', 'porn', 'porridge', 'port', 'portabella', 'portabello', 'porter', 'portfolio', 'portion', 'portioned', 'portions', 'portland', 'portlandia', 'porto', 'portobello', 'portrait', 'portraits', 'portuguese', 'pose', 'poser', 'posh', 'posing', 'position', 'positions', 'positive', 'positively', 'positives', 'possessed', 'possesses', 'possession', 'possibility', 'possible', 'possibly', 'post', 'postcards', 'posted', 'poster', 'posters', 'posting', 'postino', 'postinos', 'postnet', 'posture', 'pot', 'potato', 'potatoe', 'potatoes', 'potatos', 'potence', 'potential', 'potentially', 'potholder', 'potholes', 'pots', 'potstickers', 'pottery', 'pottinger', 'poultry', 'pound', 'pounded', 'pounding', 'pounds', 'pour', 'poured', 'pouring', 'pours', 'poutine', 'powder', 'powdered', 'powders', 'powdery', 'power', 'powerful', 'powers', 'ppl', 'ppp', 'practical', 'practically', 'practice', 'practiced', 'practices', 'practicing', 'prada', 'praise', 'praised', 'praising', 'prance', 'prandial', 'prank', 'prawn', 'prawns', 'pray', 'prayers', 'praying', 'pre', 'preach', 'preaching', 'precariously', 'precede', 'precious', 'precise', 'precocous', 'predator', 'predators', 'predicament', 'predictable', 'predominant', 'predominantly', 'predominately', 'preeminent', 'preet', 'prefabricated', 'preface', 'prefect', 'prefer', 'preferably', 'prefered', 'preference', 'preferences', 'preferred', 'preferring', 'prefers', 'preform', 'pregnancy', 'pregnant', 'prego', 'premade', 'premier', 'premise', 'premises', 'premium', 'preoccupied', 'prep', 'prepackaged', 'prepaid', 'preparada', 'preparation', 'preparations', 'prepare', 'prepared', 'preparer', 'prepares', 'preparing', 'prepay', 'preperation', 'preplexed', 'prepped', 'prepping', 'preschool', 'prescribed', 'prescription', 'prescriptions', 'presence', 'present', 'presentation', 'presented', 'presenting', 'presents', 'preservation', 'preservatives', 'preserve', 'preserved', 'preserves', 'preset', 'president', 'presidential', 'presold', 'press', 'pressed', 'pressure', 'pressured', 'pressuring', 'pressurized', 'prestige', 'prestigious', 'presto', 'presumably', 'presume', 'presumed', 'pretend', 'pretension', 'pretentious', 'pretentiousness', 'pretsels', 'prettier', 'prettiest', 'pretty', 'pretzel', 'pretzels', 'prevent', 'preventative', 'prevented', 'prevention', 'preventive', 'previous', 'previously', 'price', 'priced', 'priceless', 'priceline', 'prices', 'pricey', 'pricier', 'pricing', 'prick', 'prickly', 'pricks', 'pricy', 'pride', 'prides', 'pried', 'prik', 'primarily', 'primary', 'primavera', 'prime', 'primed', 'primer', 'primera', 'primitive', 'primo', 'primp', 'princess', 'principle', 'print', 'printed', 'printers', 'prints', 'prior', 'priorities', 'priority', 'prismacolor', 'prisoners', 'pristine', 'privacy', 'private', 'privately', 'priveledge', 'priviledge', 'privy', 'prix', 'prize', 'pro', 'proactive', 'probably', 'probe', 'problem', 'problems', 'procedure', 'procedures', 'proceed', 'proceeded', 'proceeding', 'proceeds', 'process', 'processed', 'processing', 'procure', 'procured', 'prodding', 'produce', 'produces', 'product', 'production', 'productive', 'products', 'profanity', 'profesh', 'profesional', 'professed', 'professes', 'profession', 'professional', 'professionalism', 'professionally', 'professionals', 'professors', 'profile', 'profiling', 'profit', 'profitable', 'profiteroles', 'profits', 'profoundly', 'profusely', 'program', 'programmable', 'programming', 'programs', 'progress', 'progression', 'progressive', 'progressively', 'project', 'projected', 'projects', 'prom', 'prominent', 'prominently', 'promise', 'promised', 'promises', 'promising', 'promos', 'promote', 'promoted', 'promoter', 'promoters', 'promotes', 'promoting', 'promotion', 'promotions', 'prompt', 'promptly', 'pronounce', 'pronounced', 'pronto', 'pronunciation', 'proof', 'prop', 'propane', 'proper', 'properly', 'properties', 'property', 'proportional', 'proportions', 'proposed', 'proprietor', 'proprietors', 'proprietress', 'props', 'prorate', 'pros', 'prosciutto', 'proscuitto', 'prosecco', 'prospective', 'protecting', 'protein', 'proteins', 'protip', 'protocol', 'protégé', 'proud', 'proudly', 'prove', 'proved', 'proven', 'provencal', 'provence', 'proverbial', 'proves', 'provide', 'provided', 'provider', 'providers', 'provides', 'providing', 'proving', 'provisionals', 'provisions', 'provolone', 'proximity', 'proxy', 'ps', 'pseudo', 'psyched', 'psycho', 'psychologically', 'psychologist', 'pub', 'pube', 'public', 'publication', 'publications', 'publicized', 'publicly', 'published', 'publisher', 'pubs', 'pucks', 'pudding', 'puddle', 'puddles', 'pudge', 'pueblo', 'puff', 'puffs', 'pug', 'puka', 'puked', 'puking', 'pull', 'pulled', 'pullers', 'pulling', 'pullman', 'pulls', 'pulp', 'pulverized', 'pumas', 'pump', 'pumped', 'pumpernickel', 'pumping', 'pumpkin', 'pumps', 'pun', 'punch', 'punched', 'punches', 'punctual', 'punctuated', 'pungent', 'punished', 'punishment', 'punked', 'puntini', 'pup', 'puppies', 'puppy', 'pups', 'pupusa', 'pupusas', 'purchase', 'purchased', 'purchaser', 'purchases', 'purchasing', 'pure', 'puree', 'purell', 'purely', 'purist', 'purista', 'purple', 'purpose', 'purposed', 'purposely', 'purposes', 'purse', 'purses', 'pursued', 'pursuit', 'purveyor', 'puréed', 'push', 'pushed', 'pushes', 'pushing', 'pushy', 'pussy', 'pussycat', 'put', 'puts', 'puttanesca', 'puttanesco', 'putting', 'pv', 'pyllo', 'pyramid', 'qc', 'qdoba', 'qhick', 'qt', 'quacks', 'quail', 'quaint', 'qualifier', 'qualifies', 'qualify', 'qualifying', 'qualities', 'quality', 'qualm', 'quandary', 'quantity', 'quarter', 'quarters', 'que', 'quebec', 'queen', 'queens', 'queer', 'quesadilla', 'quesadillas', 'quesadlla', 'quesedillas', 'quesitons', 'queso', 'quest', 'question', 'questionable', 'questionably', 'questioned', 'questioning', 'questions', 'quibble', 'quiche', 'quiches', 'quick', 'quickening', 'quicker', 'quickest', 'quickly', 'quiessence', 'quiet', 'quieter', 'quietly', 'quiktrip', 'quiktrips', 'quinoa', 'quintessential', 'quiona', 'quirkily', 'quirky', 'quit', 'quite', 'quitting', 'quiznos', 'quorn', 'quotas', 'quote', 'quoted', 'quotes', 'qver', 'qwest', 'ra', 'rabbit', 'rabbits', 'rabe', 'rabies', 'rabit', 'race', 'raced', 'races', 'raceway', 'rachael', 'rachel', 'racial', 'racing', 'racism', 'rack', 'rackin', 'racks', 'racquet', 'rad', 'radar', 'radiator', 'radio', 'radish', 'radishes', 'radius', 'raffles', 'rafts', 'rag', 'rage', 'rager', 'ragey', 'ragin', 'ragout', 'rai', 'rail', 'railroad', 'rain', 'rainbow', 'rainforest', 'raintree', 'raise', 'raised', 'raisin', 'raising', 'raj', 'rake', 'ralph', 'rama', 'ramada', 'ramadas', 'rambutans', 'ramen', 'ramikans', 'ramirez', 'ran', 'rana', 'ranch', 'ranchera', 'ranchero', 'rancheros', 'rancid', 'rancilio', 'random', 'randomly', 'randy', 'rang', 'range', 'ranged', 'ranges', 'ranging', 'rangoons', 'rank', 'ranks', 'ransacked', 'ransom', 'rant', 'rap', 'rapid', 'rare', 'rarely', 'rarer', 'rarity', 'rasberry', 'raspberries', 'raspberry', 'rat', 'ratatouillie', 'rate', 'rated', 'rates', 'rather', 'rating', 'ratings', 'ration', 'rations', 'rattled', 'rattles', 'rattling', 'rattlings', 'ratty', 'raucous', 'raunchy', 'ravaged', 'rave', 'raved', 'raven', 'raves', 'raving', 'ravings', 'ravioli', 'raviolis', 'raviolli', 'raw', 'rawk', 'rawness', 'rawr', 'ray', 'rays', 'razor', 'razpado', 'rb', 'rc', 'rd', 'rdh', 'rds', 're', 'reaaaaally', 'reach', 'reached', 'reaches', 'reaching', 'react', 'reacted', 'reaction', 'read', 'reader', 'readers', 'readily', 'reading', 'reads', 'ready', 'real', 'realistic', 'reality', 'realize', 'realized', 'realizing', 'realllllllly', 'reallllllly', 'reallly', 'really', 'realrider', 'realryder', 'realtors', 'realty', 'reappeared', 'reapplied', 'rear', 'reason', 'reasonable', 'reasonably', 'reasons', 'reassurance', 'reassurances', 'reassured', 'reassuring', 'rebar', 'rebate', 'rebel', 'rebook', 'rebuilding', 'rebuttal', 'rec', 'recall', 'recant', 'recapture', 'reccomend', 'reccommend', 'receipt', 'receipts', 'receive', 'received', 'receives', 'receiving', 'recent', 'recently', 'recept', 'receptacle', 'reception', 'receptionist', 'receptions', 'recesses', 'recession', 'recharging', 'reciept', 'recipe', 'recipes', 'recital', 'recitals', 'recite', 'recline', 'reclined', 'recliner', 'reclining', 'recognition', 'recognizable', 'recognize', 'recognized', 'recomend', 'recommend', 'recommendation', 'recommendations', 'recommended', 'recommending', 'recommends', 'record', 'recording', 'records', 'recover', 'recovered', 'recovering', 'recovery', 'recreate', 'recreation', 'rectify', 'recyclable', 'recycling', 'red', 'redbull', 'reddest', 'reddwarf', 'redeeming', 'redefine', 'redemption', 'redicolus', 'rediculous', 'redid', 'redneck', 'rednecks', 'redo', 'redone', 'reds', 'redseven', 'reduce', 'reduced', 'reduction', 'redux', 'reef', 'reeked', 'reeks', 'reeling', 'reese', 'ref', 'refer', 'reference', 'references', 'referral', 'referred', 'referring', 'refers', 'refill', 'refilled', 'refilling', 'refills', 'refine', 'refined', 'refinement', 'reflect', 'reflected', 'reflecting', 'reflection', 'reflections', 'reflects', 'reflex', 'refreshed', 'refreshing', 'refreshment', 'refried', 'refrigeration', 'refrigerator', 'refugees', 'refund', 'refunded', 'refuse', 'refused', 'refuses', 'refusing', 'reg', 'regal', 'regan', 'regard', 'regarded', 'regarding', 'regardless', 'regards', 'reggiano', 'regina', 'regio', 'region', 'regional', 'regions', 'register', 'registered', 'regoddamndiculously', 'regress', 'regret', 'regreted', 'regrettable', 'regrettably', 'regular', 'regularly', 'regulars', 'regulator', 'regulatory', 'regus', 'rehearsal', 'rehearsed', 'reheat', 'reheated', 'reimburse', 'reina', 'reincarnated', 'reinforcement', 'reinvest', 'reiterate', 'rejected', 'rejoice', 'rejuvanation', 'rejuvenated', 'rejuvenates', 'related', 'relating', 'relationship', 'relationships', 'relatively', 'relatives', 'relax', 'relaxation', 'relaxed', 'relaxing', 'relay', 'relayed', 'release', 'released', 'releases', 'releasing', 'relented', 'relevant', 'reliable', 'reliably', 'relic', 'relied', 'relief', 'relieved', 'relieves', 'relieving', 'religious', 'relish', 'relive', 'rellano', 'rellena', 'relleno', 'rellenos', 'relocated', 'reluctant', 'reluctantly', 'rely', 'remain', 'remained', 'remaining', 'remains', 'remake', 'remarkable', 'remarked', 'remedy', 'remember', 'remembered', 'remembering', 'remembers', 'remind', 'reminded', 'reminder', 'reminders', 'reminding', 'reminds', 'reminisced', 'reminiscent', 'reminiscing', 'remiss', 'remodeled', 'remodeling', 'remodelled', 'remodled', 'remolded', 'remorse', 'remote', 'remotely', 'removal', 'remove', 'removed', 'rename', 'renamed', 'renaming', 'rendered', 'renegade', 'renew', 'renewed', 'reno', 'renovated', 'renovation', 'renovations', 'rent', 'rental', 'rentals', 'rented', 'renters', 'rents', 'reopen', 'reopened', 'reordered', 'rep', 'repair', 'repaired', 'repairing', 'repairs', 'repartee', 'repast', 'repeat', 'repeated', 'repeatedly', 'repeating', 'repetitive', 'rephrase', 'replace', 'replaced', 'replacement', 'replacing', 'replant', 'replenish', 'replenishment', 'replica', 'replied', 'replies', 'reply', 'report', 'reported', 'representation', 'representative', 'represented', 'representing', 'represents', 'reprieve', 'reprinting', 'reps', 'reptile', 'reptiles', 'republic', 'republican', 'repulsive', 'reputable', 'reputation', 'req', 'request', 'requested', 'requesting', 'requests', 'require', 'required', 'requirement', 'requires', 'reschedule', 'rescheduled', 'rescue', 'rescued', 'research', 'researched', 'researching', 'reseated', 'resell', 'resemblance', 'resemble', 'resembled', 'reservation', 'reservations', 'reserve', 'reserved', 'residence', 'resident', 'residential', 'residents', 'resides', 'residue', 'resist', 'resisted', 'resisting', 'resling', 'resold', 'resolve', 'resolved', 'resonates', 'resort', 'resorts', 'resource', 'resources', 'respect', 'respectable', 'respected', 'respectful', 'respecting', 'respond', 'responded', 'responding', 'responds', 'response', 'responses', 'responsibilities', 'responsibility', 'responsible', 'responsive', 'rest', 'restaraunt', 'restauant', 'restaurant', 'restaurants', 'restaurateurs', 'resteraunt', 'resting', 'restless', 'resto', 'restock', 'restocking', 'restored', 'restrictions', 'restroom', 'restrooms', 'restuarant', 'resturant', 'resturaunt', 'result', 'resulting', 'results', 'retail', 'retailers', 'retain', 'retarded', 'retards', 'retarted', 'rethink', 'rethinking', 'retire', 'retirement', 'retreat', 'retrieve', 'retrieved', 'retro', 'return', 'returned', 'returning', 'returns', 'reuben', 'reunion', 'reunions', 'reusable', 'revamp', 'reveal', 'revealed', 'revealing', 'revel', 'revelation', 'revenge', 'revered', 'reverse', 'review', 'reviewed', 'reviewer', 'reviewers', 'reviewing', 'reviews', 'revisit', 'revitalization', 'revitalize', 'revive', 'revived', 'revolving', 'reward', 'rewarded', 'rewards', 'rewind', 'rey', 'reynolds', 'rhino', 'rhonda', 'rhyme', 'rhythm', 'rhythms', 'rib', 'ribbon', 'ribeeyeeeee', 'ribeye', 'ribs', 'rican', 'rice', 'rices', 'rich', 'richard', 'richardson', 'riches', 'richest', 'richman', 'richmond', 'richness', 'rick', 'rico', 'ricotta', 'rid', 'ridden', 'riddens', 'riddled', 'ride', 'rider', 'riders', 'rides', 'ridge', 'ridgemont', 'ridiculed', 'ridiculous', 'ridiculously', 'ridiculousness', 'riding', 'riesling', 'rifled', 'rifles', 'rig', 'rigatoni', 'right', 'righteous', 'rightful', 'rightly', 'rights', 'rigmarole', 'rim', 'ring', 'ringing', 'rings', 'rink', 'rinkukiu', 'rinse', 'rinsed', 'rio', 'rios', 'rip', 'riparian', 'ripe', 'ripened', 'ripest', 'ripoff', 'ripped', 'risers', 'rises', 'rising', 'risk', 'risks', 'risky', 'risotto', 'risser', 'rissotto', 'ristorant', 'rita', 'ritas', 'ritual', 'ritz', 'riva', 'rival', 'rivaled', 'rivals', 'rivas', 'river', 'riverview', 'rk8m1rxl50pb69_c2yqqtg', 'rl', 'rm', 'rnr', 'roach', 'road', 'roadhouse', 'roadhouses', 'roading', 'roads', 'roadshow', 'roadside', 'roadtrip', 'roadway', 'roam', 'roaring', 'roark', 'roast', 'roasted', 'roaster', 'roasting', 'roasts', 'rob', 'robata', 'robb', 'robbins', 'robe', 'robert', 'roberto', 'robes', 'robin', 'robotically', 'robust', 'robyn', 'rock', 'rockabilly', 'rocked', 'rocker', 'rockerij', 'rocket', 'rocketburger', 'rockets', 'rockin', 'rocking', 'rocknroll', 'rocks', 'rockstar', 'rod', 'rode', 'rodgering', 'rogue', 'roka', 'rokerij', 'role', 'roll', 'rollatini', 'rolled', 'roller', 'rolling', 'rolls', 'roma', 'romaine', 'roman', 'romance', 'romanelli', 'romano', 'romantic', 'rome', 'romper', 'ron', 'roof', 'roofing', 'roofs', 'rooftop', 'rooibos', 'room', 'roommate', 'rooms', 'roomy', 'roosevelt', 'roost', 'rooste', 'rooster', 'root', 'rootbeer', 'rooting', 'roots', 'ropa', 'rope', 'roped', 'ropes', 'rosa', 'rose', 'rosemary', 'rosie', 'rosita', 'ross', 'rot', 'rotary', 'rotate', 'rotated', 'rotates', 'rotating', 'rotation', 'rotisserie', 'rotten', 'rottie', 'rotting', 'rouge', 'rough', 'roughly', 'round', 'rounded', 'rounding', 'rounds', 'route', 'routed', 'routes', 'routine', 'roving', 'row', 'rowdy', 'rows', 'roxie', 'roy', 'royal', 'royale', 'royals', 'royalty', 'rpi', 'rr', 'rsvp', 'rub', 'rubbed', 'rubber', 'rubbery', 'rubbing', 'ruben', 'rubio', 'rubios', 'rubs', 'ruby', 'rude', 'rudely', 'rudest', 'rudy', 'rue', 'rueben', 'ruffians', 'rugby', 'rugged', 'rugger', 'ruin', 'ruined', 'ruining', 'ruins', 'rule', 'rules', 'rum', 'rumbi', 'rumbling', 'rumor', 'run', 'rundown', 'runner', 'running', 'runny', 'runs', 'runway', 'rupture', 'rural', 'rush', 'rushed', 'rushes', 'rushing', 'russell', 'russets', 'russian', 'rustic', 'rustica', 'rusticana', 'rustler', 'rustlers', 'rusty', 'rut', 'rutabaga', 'ruth', 'rx', 'ryan', 'rye', 'ryno', 'sa', 'sabor', 'sabzi', 'sack', 'sacked', 'sacks', 'sacred', 'sacrificed', 'sad', 'saddens', 'saddle', 'sadly', 'safe', 'safely', 'safety', 'safeway', 'saffron', 'sagacity', 'sage', 'sagging', 'saguaro', 'said', 'saigon', 'saint', 'saintly', 'saints', 'sakana', 'sake', 'sakebomber', 'sakes', 'sala', 'salad', 'salads', 'salami', 'salary', 'salat', 'salazar', 'salcido', 'salds', 'sale', 'salek', 'salem', 'sales', 'salesgirls', 'salesman', 'salesperson', 'saleswomen', 'saliva', 'salivate', 'salivates', 'salivating', 'sally', 'salmon', 'salmons', 'salon', 'salons', 'saloon', 'salsa', 'salsas', 'salscicia', 'salsiccia', 'salt', 'salted', 'saltier', 'saltiest', 'saltimbocca', 'saltine', 'saltiness', 'salty', 'salud', 'salute', 'salvador', 'salvage', 'salvation', 'sam', 'samburger', 'same', 'samich', 'sammich', 'samosas', 'sample', 'sampled', 'sampler', 'samples', 'sampling', 'samplings', 'samsung', 'samuri', 'san', 'sanctuary', 'sand', 'sandal', 'sandals', 'sandalwood', 'sanded', 'sandella', 'sanding', 'sando', 'sands', 'sandstone', 'sandstorm', 'sandwhich', 'sandwhiches', 'sandwich', 'sandwiched', 'sandwiches', 'sandy', 'sandys', 'sane', 'sang', 'sangria', 'sangrias', 'sanitary', 'sanitizing', 'sanity', 'sank', 'sans', 'santa', 'santan', 'sante', 'santi', 'santisi', 'sapling', 'sapporo', 'sar', 'sara', 'sarah', 'sarcasm', 'sarcastic', 'sarcastically', 'sarrc', 'sarsaparilla', 'sashimi', 'sat', 'satay', 'sate', 'satellite', 'satiate', 'satified', 'satisfaction', 'satisfied', 'satisfies', 'satisfy', 'satisfying', 'satisfyingly', 'satori', 'satuday', 'saturated', 'saturday', 'saturdays', 'sauce', 'sauced', 'saucers', 'sauces', 'saucey', 'sauerbraten', 'sauerkraut', 'sauna', 'saunas', 'saurkraut', 'sausage', 'sausages', 'sauteed', 'sautéed', 'sauvignon', 'save', 'saved', 'savers', 'saves', 'saving', 'savings', 'savor', 'savored', 'savoring', 'savory', 'savoy', 'savvy', 'saw', 'sawdust', 'sawed', 'saxophone', 'say', 'sayin', 'saying', 'says', 'sazerac', 'sb', 'sbux', 'scal', 'scale', 'scallion', 'scallions', 'scallop', 'scalloped', 'scallops', 'scamorza', 'scan', 'scandalesque', 'scandinavian', 'scanning', 'scans', 'scantily', 'scape', 'scardy', 'scare', 'scared', 'scarey', 'scarf', 'scarfing', 'scarier', 'scariest', 'scary', 'scathing', 'scattered', 'scenario', 'scene', 'scenery', 'scenes', 'scenic', 'scent', 'scented', 'schedule', 'scheduled', 'schedules', 'scheduling', 'scheme', 'schmancy', 'schmears', 'schmicks', 'schmoozeaz', 'schmucks', 'schneikies', 'schnitzel', 'school', 'schools', 'schreiner', 'sci', 'science', 'scientific', 'scissors', 'scoffed', 'scolded', 'scolding', 'scollops', 'scone', 'scones', 'scoop', 'scooped', 'scoops', 'scooter', 'scope', 'scorching', 'score', 'scored', 'scorpion', 'scorpions', 'scotch', 'scothes', 'scott', 'scottsadale', 'scottsdale', 'scottsdaley', 'scottsdalian', 'scottsdalish', 'scout', 'scow', 'scowl', 'scraggly', 'scramble', 'scrambled', 'scrambler', 'scramblers', 'scrambles', 'scrambling', 'scraped', 'scraping', 'scraps', 'scrapy', 'scratch', 'scratched', 'scratcher', 'scream', 'screamed', 'screaming', 'screams', 'screen', 'screening', 'screens', 'screw', 'screwed', 'screwing', 'screws', 'scrounge', 'scrub', 'scruffy', 'scrumptious', 'scrunched', 'sculpted', 'sculpture', 'sculptures', 'scuzy', 'sd', 'sdl', 'se', 'sea', 'seabase', 'seabass', 'seafood', 'seagulls', 'sealed', 'seamlessly', 'seams', 'seamus', 'sean', 'seann', 'sear', 'search', 'searched', 'searches', 'searching', 'seared', 'sears', 'season', 'seasonal', 'seasoned', 'seasoning', 'seasons', 'seat', 'seated', 'seating', 'seatings', 'seats', 'seattle', 'seaweed', 'sebastian', 'sec', 'secluded', 'second', 'secondly', 'seconds', 'secret', 'secretary', 'secretive', 'secretmenu', 'secrets', 'secs', 'section', 'sectioned', 'sections', 'secure', 'secured', 'security', 'sedate', 'sedated', 'sedation', 'sedona', 'see', 'seed', 'seeded', 'seeds', 'seedy', 'seeing', 'seek', 'seeking', 'seem', 'seemed', 'seems', 'seen', 'sees', 'segments', 'sekong', 'select', 'selected', 'selecting', 'selection', 'selectioned', 'selections', 'selects', 'self', 'sell', 'seller', 'sellers', 'selling', 'sells', 'selvedge', 'selves', 'semerdjian', 'semester', 'semi', 'sen', 'send', 'sending', 'sendoff', 'senior', 'seniors', 'senor', 'sens', 'sensation', 'sensational', 'sense', 'sensed', 'senses', 'sensitive', 'sensory', 'sensuous', 'sent', 'sentance', 'sentence', 'sentences', 'sentimental', 'separate', 'separately', 'separating', 'separation', 'seperate', 'sephora', 'september', 'sequence', 'sera', 'serbian', 'serene', 'series', 'serious', 'seriously', 'serously', 'serpentine', 'serptember', 'serranos', 'serums', 'serv', 'serve', 'served', 'server', 'servered', 'servers', 'serves', 'service', 'serviced', 'services', 'serving', 'servings', 'sesame', 'session', 'sessions', 'set', 'sets', 'setting', 'settle', 'settled', 'setup', 'setups', 'seven', 'sever', 'several', 'severe', 'severely', 'sewer', 'sex', 'sexiness', 'sexy', 'sf', 'sfo', 'sh', 'shabby', 'shabu', 'shack', 'shacked', 'shade', 'shaded', 'shades', 'shadow', 'shadows', 'shady', 'shae', 'shaft', 'shake', 'shaken', 'shaker', 'shakes', 'shaking', 'shall', 'shallot', 'shallots', 'shame', 'shamefully', 'shameless', 'shampoo', 'shampoos', 'shanghai', 'shank', 'shanks', 'shape', 'shaped', 'shapes', 'shaping', 'shar', 'share', 'shared', 'sharers', 'shares', 'sharing', 'sharon', 'sharp', 'sharpened', 'sharper', 'sharpie', 'shasta', 'shattered', 'shave', 'shaved', 'shaving', 'shawarma', 'shawn', 'shazam', 'shazzam', 'she', 'shea', 'sheared', 'shed', 'shedding', 'sheen', 'sheep', 'sheer', 'sheesh', 'sheet', 'sheets', 'sheila', 'shelf', 'shell', 'shellac', 'shelley', 'shelling', 'shells', 'shelter', 'sheltered', 'shelve', 'shelves', 'shelving', 'shenanigans', 'shep', 'shepard', 'shepards', 'shepherd', 'shepherds', 'sheppard', 'sheraton', 'sheriff', 'sherry', 'shift', 'shifts', 'shifty', 'shimp', 'shin', 'shinbay', 'shindig', 'shine', 'shiner', 'shines', 'shiney', 'shining', 'shins', 'shiny', 'ship', 'shipment', 'shipped', 'shipping', 'shirataki', 'shiraz', 'shirazi', 'shirt', 'shirts', 'shish', 'shishito', 'shit', 'shitake', 'shitaki', 'shithead', 'shittier', 'shitty', 'shmancy', 'shochu', 'shock', 'shocked', 'shocker', 'shocking', 'shockingly', 'shocks', 'shoe', 'shoes', 'shone', 'shook', 'shooshing', 'shoot', 'shooter', 'shooters', 'shooting', 'shoots', 'shop', 'shopaholics', 'shopkeepers', 'shoppe', 'shopped', 'shopper', 'shoppers', 'shopping', 'shops', 'short', 'shortage', 'shortbread', 'shortened', 'shortens', 'shorter', 'shortleashdogs', 'shortly', 'shorts', 'shorty', 'shot', 'shots', 'should', 'shoulder', 'shoulders', 'shouldn', 'shouldnt', 'shout', 'shouted', 'shouting', 'shoved', 'shovel', 'shovelfuls', 'shoveling', 'shoving', 'show', 'showcase', 'showcased', 'showed', 'shower', 'showering', 'showers', 'showing', 'showings', 'shown', 'shows', 'showstopper', 'shrapnel', 'shredded', 'shreds', 'shrimp', 'shrine', 'shrink', 'shrooms', 'shrugged', 'shu', 'shucks', 'shudder', 'shuffleboard', 'shuffled', 'shuffling', 'shui', 'shuro', 'shut', 'shuttle', 'shwarma', 'shy', 'shyt', 'si', 'siam', 'siblings', 'sick', 'sickening', 'sickest', 'sickly', 'side', 'sidebar', 'sidebarphx', 'sidecar', 'sided', 'sides', 'sidewalk', 'sideways', 'sidling', 'siebel', 'sift', 'sigh', 'sight', 'sights', 'sign', 'signage', 'signal', 'signaled', 'signals', 'signature', 'signed', 'significant', 'significantly', 'signing', 'signs', 'siiders', 'silberschlag', 'silence', 'silenced', 'silent', 'silently', 'silica', 'silk', 'silky', 'silly', 'silvana', 'silver', 'silvered', 'silvermine', 'silverton', 'silverware', 'sima', 'similar', 'similarities', 'similarly', 'simmered', 'simple', 'simplicity', 'simplify', 'simplistic', 'simply', 'simpson', 'simultaneously', 'sinatra', 'since', 'sincere', 'sincerely', 'sincerity', 'sinful', 'sinfully', 'sing', 'singapore', 'singers', 'singing', 'single', 'singles', 'singleton', 'sink', 'sinker', 'sinking', 'sinks', 'sinner', 'sinsr', 'sip', 'siphon', 'sipped', 'sipping', 'sir', 'sirloin', 'sissies', 'sissys', 'sister', 'sit', 'site', 'sites', 'sits', 'sitter', 'sitting', 'situated', 'situation', 'sivananda', 'six', 'sixteen', 'sixth', 'sixty', 'sizable', 'size', 'sized', 'sizes', 'sizing', 'sizzle', 'sizzler', 'sizzling', 'skarderud', 'skate', 'skateboarding', 'skating', 'skeptic', 'skeptical', 'skepticism', 'sketchbook', 'sketchy', 'skewed', 'skewer', 'skewers', 'ski', 'skill', 'skilled', 'skillet', 'skillets', 'skillfully', 'skills', 'skim', 'skimp', 'skimpy', 'skin', 'skinny', 'skins', 'skip', 'skipped', 'skipping', 'skirt', 'skirts', 'skits', 'skull', 'sky', 'skylights', 'skyline', 'slab', 'slacks', 'slam', 'slammed', 'slander', 'slang', 'slanged', 'slant', 'slap', 'slapped', 'slaps', 'slash', 'slated', 'slather', 'slathered', 'slave', 'slaw', 'sleazer', 'sleek', 'sleep', 'sleeping', 'sleepy', 'sleeve', 'sleeved', 'sleeves', 'slept', 'slew', 'slice', 'sliced', 'slices', 'slicing', 'slicker', 'slide', 'slider', 'sliders', 'sliding', 'slight', 'slighted', 'slightest', 'slightly', 'slim', 'slimmed', 'slimming', 'slimy', 'slingers', 'slip', 'slipped', 'slippers', 'slippery', 'sliver', 'slivers', 'sllluuuurrrpp', 'slogan', 'slop', 'slope', 'slopped', 'sloppy', 'slot', 'slotted', 'slow', 'slowed', 'slowest', 'slowing', 'slowly', 'slurpers', 'slurping', 'slurs', 'slushies', 'sm', 'smack', 'smacking', 'smacks', 'small', 'smaller', 'smallest', 'smallish', 'smalll', 'smancy', 'smart', 'smarts', 'smash', 'smashboxx', 'smashburger', 'smashed', 'smashing', 'smattering', 'smc', 'smear', 'smeared', 'smearing', 'smeeks', 'smell', 'smelled', 'smelling', 'smells', 'smelly', 'smile', 'smiled', 'smiles', 'smiley', 'smiling', 'smith', 'smoke', 'smoked', 'smokehouse', 'smokers', 'smokes', 'smokey', 'smokin', 'smoking', 'smoky', 'smooshy', 'smooth', 'smoother', 'smoothie', 'smoothies', 'smoothly', 'smore', 'smores', 'smother', 'smothered', 'smucker', 'snaaz', 'snack', 'snacking', 'snacks', 'snag', 'snagged', 'snagging', 'snails', 'snakes', 'snap', 'snapped', 'snapper', 'snappy', 'snaps', 'snarfed', 'snarking', 'snarl', 'snatched', 'sneak', 'sneaker', 'sneakers', 'sneaks', 'sneaky', 'sneeze', 'sneezed', 'snicker', 'snickerdoodle', 'snickered', 'snickers', 'sniff', 'sniffed', 'sniffling', 'sniffster', 'snikerdoodle', 'snob', 'snobbery', 'snobbish', 'snobbsdale', 'snobby', 'snobs', 'snoooty', 'snooty', 'snorting', 'snottily', 'snottsdale', 'snotty', 'snow', 'snowbirds', 'snowfairy', 'snubbed', 'so', 'soak', 'soaked', 'soaking', 'soap', 'soapy', 'soba', 'sober', 'soccer', 'social', 'socialize', 'socialized', 'socializing', 'society', 'sock', 'sockets', 'socks', 'soda', 'sodas', 'sodelicious', 'sodium', 'sofas', 'sofia', 'soft', 'softball', 'softdrink', 'softee', 'softened', 'softening', 'softer', 'softshell', 'software', 'soggy', 'sol', 'solar', 'sold', 'soldier', 'soldiered', 'sole', 'solely', 'solemnly', 'solicited', 'solicits', 'solid', 'solidly', 'solitaire', 'solitary', 'solitude', 'solo', 'solstice', 'solution', 'solutions', 'solve', 'solved', 'solvent', 'solvents', 'som', 'somber', 'sombra', 'sombreros', 'some', 'somebody', 'someday', 'somehow', 'somehwere', 'someone', 'someones', 'someplace', 'something', 'somethings', 'sometime', 'sometimes', 'somewhat', 'somewhere', 'sommelier', 'somtimes', 'son', 'sone', 'song', 'songs', 'sonic', 'sonny', 'sonora', 'sonoran', 'sons', 'sony', 'soo', 'soon', 'sooner', 'sooo', 'soooo', 'sooooo', 'soooooo', 'sooooooo', 'sooooooooo', 'soothing', 'sop', 'sopa', 'sopapilla', 'sopapillas', 'sophia', 'sophie', 'sophisticated', 'sophistication', 'sopping', 'sopranos', 'sorbet', 'sorbets', 'sordid', 'sore', 'sorento', 'sorrentino', 'sorrow', 'sorry', 'sort', 'sorta', 'sorted', 'sorting', 'sorts', 'souchong', 'souffle', 'souffles', 'sought', 'soul', 'souls', 'sound', 'sounded', 'sounding', 'sounds', 'soundtrack', 'soup', 'soups', 'soupy', 'sour', 'source', 'sourced', 'sources', 'sourcing', 'sourdough', 'sous', 'south', 'southbridge', 'southeast', 'southern', 'southwest', 'southwestern', 'soutwest', 'souvenier', 'souveniers', 'souvia', 'souvlaki', 'sox', 'soy', 'soynami', 'sp', 'spa', 'space', 'spaces', 'spacey', 'spacing', 'spacious', 'spackling', 'spades', 'spaetzle', 'spagetti', 'spaghetti', 'spain', 'spam', 'span', 'spandex', 'spandwex', 'spaniards', 'spanikopita', 'spanish', 'spare', 'spared', 'spark', 'sparked', 'sparkling', 'sparkly', 'sparse', 'spas', 'spashground', 'spastic', 'spat', 'spawn', 'spay', 'spaying', 'speak', 'speakeasy', 'speaker', 'speakers', 'speaking', 'speaks', 'spear', 'spearmint', 'special', 'specialist', 'specialists', 'speciality', 'specialize', 'specializes', 'specially', 'specialness', 'specials', 'specialties', 'specialtly', 'specialty', 'species', 'specifc', 'specific', 'specifically', 'specification', 'specifics', 'specified', 'speckled', 'spectacular', 'spectrum', 'speculate', 'speech', 'speed', 'speeds', 'speedy', 'spell', 'spelled', 'spelling', 'spellings', 'spencer', 'spend', 'spending', 'spends', 'spendy', 'spent', 'spewed', 'spice', 'spiced', 'spices', 'spicey', 'spicier', 'spiciness', 'spicoli', 'spicolli', 'spicy', 'spiddle', 'spider', 'spiderman', 'spieker', 'spiiiccyyyy', 'spiked', 'spiky', 'spill', 'spilled', 'spin', 'spinach', 'spinal', 'spinato', 'spinatos', 'spincach', 'spinning', 'spirit', 'spirits', 'spiritual', 'spiro', 'spit', 'spite', 'splash', 'splashed', 'splashing', 'splenda', 'splendid', 'splinter', 'split', 'splits', 'splitting', 'splleeeendid', 'splurge', 'splurged', 'splurges', 'splurging', 'spoil', 'spoiled', 'spoilt', 'spoke', 'spoken', 'sponge', 'spongy', 'spontaneous', 'spoon', 'spoonful', 'spoons', 'sporadic', 'spore', 'sport', 'sporting', 'sportman', 'sports', 'sportsman', 'spot', 'spotless', 'spotlessly', 'spots', 'spotted', 'spotty', 'spouse', 'spouses', 'spouting', 'spouts', 'sprawl', 'sprawled', 'sprawling', 'spray', 'sprayer', 'spread', 'spreads', 'spreadsheet', 'spring', 'springfield', 'springs', 'sprinkle', 'sprinkled', 'sprinkles', 'sprinkling', 'sprint', 'sprite', 'sprites', 'sprout', 'sprouts', 'spudnuts', 'spumoni', 'spun', 'spur', 'spy', 'sq', 'sqaw', 'square', 'squares', 'squash', 'squat', 'squaw', 'squeaky', 'squealing', 'squeegee', 'squeeking', 'squeeze', 'squeezed', 'squeezing', 'squid', 'squirming', 'squirrel', 'squirrels', 'squirt', 'squirted', 'squished', 'squishing', 'squishy', 'sriacha', 'sriracha', 'sslowest', 'ssssshhhhhh', 'st', 'stab', 'stabbed', 'stable', 'stack', 'stacked', 'stacking', 'stacks', 'stadium', 'stadiums', 'staff', 'staffed', 'staffer', 'staffperson', 'stage', 'stages', 'staggering', 'stained', 'staining', 'stainless', 'stains', 'stair', 'staircase', 'stairmaster', 'stairs', 'stake', 'stale', 'stalked', 'stalking', 'stall', 'stalled', 'stalls', 'stamina', 'stammered', 'stammering', 'stamp', 'stamped', 'stan', 'stand', 'standard', 'standards', 'standby', 'standing', 'standout', 'standouts', 'stands', 'stanley', 'staple', 'staples', 'star', 'starbuck', 'starbucks', 'starches', 'starchy', 'stare', 'stared', 'stares', 'stargazing', 'staring', 'stark', 'starr', 'stars', 'start', 'started', 'starter', 'starters', 'starting', 'startled', 'startlingly', 'starts', 'starve', 'starving', 'stash', 'stashed', 'state', 'stated', 'statement', 'states', 'stateside', 'static', 'stating', 'station', 'stationary', 'stationed', 'stations', 'statistics', 'statues', 'status', 'stave', 'stay', 'staycation', 'staycations', 'stayed', 'staying', 'stays', 'steady', 'steak', 'steakburger', 'steakhouse', 'steakhouses', 'steaks', 'steal', 'stealerships', 'stealing', 'steals', 'stealthy', 'steam', 'steamed', 'steamers', 'steaming', 'stedson', 'steel', 'steelhead', 'steen', 'steep', 'steeping', 'steepness', 'steer', 'steered', 'steinway', 'stella', 'stellar', 'stem', 'stemware', 'stench', 'step', 'stephen', 'stepped', 'stepper', 'stepping', 'steps', 'stepsister', 'stereo', 'stereotype', 'stereotypical', 'sterile', 'sterilized', 'steroids', 'stetson', 'steve', 'stew', 'stewart', 'stews', 'stick', 'sticker', 'stickers', 'stickiness', 'sticking', 'stickler', 'sticks', 'sticky', 'stiff', 'stiffy', 'stigma', 'stigmata', 'still', 'stilton', 'stimulating', 'stimuli', 'stingray', 'stingrays', 'stingy', 'stink', 'stinking', 'stinks', 'stinkweeds', 'stinky', 'stipulations', 'stir', 'stirred', 'stirrup', 'stitches', 'stitching', 'stl', 'stock', 'stocked', 'stocking', 'stockings', 'stocks', 'stoked', 'stole', 'stolen', 'stomach', 'stomachs', 'stomp', 'stomped', 'stomping', 'stone', 'stoned', 'stood', 'stool', 'stools', 'stop', 'stopped', 'stopping', 'stops', 'storage', 'store', 'stored', 'stores', 'stories', 'storm', 'stormed', 'storms', 'stormy', 'story', 'stouffer', 'stout', 'stracciatella', 'straight', 'straightaway', 'straightforward', 'strain', 'strained', 'strait', 'strand', 'stranded', 'strands', 'strange', 'strangely', 'stranger', 'strangers', 'strap', 'strapless', 'strapped', 'straps', 'strategic', 'strategy', 'stratified', 'straw', 'strawberries', 'strawberry', 'stray', 'strayed', 'streak', 'stream', 'streaming', 'streamliner', 'strebe', 'street', 'streets', 'streetwalkin', 'strength', 'strenuous', 'strep', 'stress', 'stressed', 'stressing', 'stretch', 'stretches', 'stretching', 'striaght', 'strict', 'strictly', 'stride', 'strike', 'strikes', 'string', 'stringier', 'strings', 'stringy', 'strip', 'stripe', 'striped', 'stripes', 'striping', 'stripped', 'stripper', 'strippers', 'stripping', 'strips', 'strives', 'stroganoff', 'stroke', 'strokes', 'stroll', 'strolled', 'stroller', 'strolling', 'strong', 'stronger', 'stronghold', 'strongly', 'strore', 'struck', 'structure', 'struggled', 'struggles', 'struggling', 'strummed', 'struts', 'stubborn', 'stubs', 'stuck', 'stucky', 'stud', 'studded', 'studebaker', 'student', 'students', 'studied', 'studio', 'studios', 'study', 'studying', 'stuff', 'stuffed', 'stuffing', 'stuffy', 'stumble', 'stumbled', 'stumps', 'stunk', 'stunned', 'stunner', 'stunning', 'stupendous', 'stupendously', 'stupid', 'stupidly', 'stupor', 'sturgeon', 'stutter', 'stuttering', 'style', 'styles', 'stylish', 'stylist', 'stylists', 'stylush', 'styrofoam', 'sub', 'subaru', 'subconcious', 'subdued', 'suberb', 'subject', 'sublime', 'submit', 'submitted', 'submitting', 'subpar', 'subs', 'subscriber', 'subscription', 'subsequent', 'subsequently', 'subset', 'substance', 'substandard', 'substantial', 'substantially', 'substitute', 'substituted', 'substitution', 'substitutions', 'subtle', 'subtleness', 'subtler', 'subtly', 'subtract', 'suburban', 'suburbia', 'suburbs', 'subway', 'subways', 'succeed', 'succeeded', 'succeeds', 'success', 'successful', 'successfully', 'succulent', 'succulents', 'such', 'sucha', 'suck', 'sucked', 'sucker', 'suckers', 'sucking', 'sucks', 'sud', 'sudden', 'suddenly', 'suds', 'sue', 'sued', 'suffer', 'suffered', 'suffering', 'suffers', 'suffice', 'sufficed', 'sufficiently', 'sugar', 'sugared', 'sugary', 'suggest', 'suggested', 'suggesting', 'suggestion', 'suggestions', 'suggests', 'suit', 'suitable', 'suite', 'suited', 'suites', 'suiting', 'suits', 'sul', 'sullivan', 'sum', 'sumac', 'sumibiyaki', 'summarize', 'summary', 'summer', 'summers', 'summertime', 'summery', 'summit', 'summitt', 'sumptuous', 'sums', 'sun', 'sunburn', 'sundae', 'sundaes', 'sundance', 'sunday', 'sundays', 'sundevil', 'sundried', 'sundries', 'sundrops', 'sunflower', 'sunglasses', 'sunken', 'sunny', 'sunridge', 'sunrise', 'suns', 'sunscreen', 'sunset', 'sunshine', 'sunsine', 'super', 'superb', 'superbowl', 'supercuts', 'superfantasticdeliciousness', 'superfood', 'superior', 'superman', 'supermarket', 'supermarkets', 'superstar', 'superstition', 'supervision', 'supervisor', 'supervisors', 'supped', 'supper', 'supplementation', 'supplements', 'supplier', 'suppliers', 'supplies', 'supply', 'support', 'supported', 'supporter', 'supporters', 'supporting', 'supportive', 'supports', 'suppose', 'supposed', 'supposedly', 'supreme', 'supremely', 'sur', 'surcharge', 'surcharges', 'sure', 'surefire', 'surely', 'surf', 'surface', 'surfaces', 'surfing', 'surgeries', 'surgery', 'surly', 'surname', 'surpassed', 'surpasses', 'surprise', 'surprised', 'surprises', 'surprising', 'surprisingly', 'surreal', 'surround', 'surrounded', 'surrounding', 'surroundings', 'surrounds', 'suruki', 'survive', 'survived', 'survives', 'susan', 'sushi', 'sushis', 'susie', 'suspect', 'suspected', 'suspended', 'suspenders', 'suspension', 'suspicion', 'suspicious', 'sustainability', 'sustainable', 'sustaining', 'susy', 'sutra', 'sutures', 'suv', 'sven', 'sw', 'swadee', 'swag', 'swallow', 'swamp', 'swanky', 'swap', 'swapped', 'swatting', 'swayed', 'swb', 'swear', 'swears', 'sweat', 'sweater', 'sweaters', 'sweating', 'sweatshops', 'sweaty', 'swede', 'sweden', 'swedish', 'sweeet', 'sweeping', 'sweet', 'sweeter', 'sweetest', 'sweetheart', 'sweeties', 'sweetish', 'sweetness', 'sweetrepublic', 'sweets', 'sweltering', 'swift', 'swill', 'swim', 'swimmer', 'swimming', 'swimsuits', 'swing', 'swinging', 'swipe', 'swiped', 'swirl', 'swirling', 'swirls', 'swiss', 'switch', 'switchbacks', 'switched', 'swivel', 'swollen', 'swoon', 'swooped', 'swordfish', 'swore', 'sworn', 'swung', 'sy', 'syd', 'syllables', 'symbol', 'symbols', 'sympathetic', 'sympathy', 'symphony', 'symptoms', 'sync', 'synergy', 'synthetic', 'syrup', 'syrups', 'sysco', 'system', 'systems', 'szechuan', 'tab', 'tabasco', 'table', 'tableau', 'tables', 'tableside', 'tablespoon', 'tablespoons', 'tablet', 'tabooli', 'tabs', 'tacked', 'tacky', 'taco', 'tacos', 'tact', 'tad', 'taffy', 'tag', 'tagged', 'tagline', 'taglines', 'tags', 'tahini', 'tahiti', 'tai', 'tail', 'tailgate', 'tailor', 'tailored', 'tailoring', 'tailors', 'tails', 'tainted', 'taiwanese', 'takamatsu', 'take', 'takeaway', 'taken', 'takeout', 'taker', 'takes', 'taking', 'tako', 'talavera', 'talent', 'talented', 'talents', 'talibanish', 'talisha', 'talk', 'talkative', 'talked', 'talking', 'talks', 'tall', 'tallest', 'tally', 'tam', 'tamale', 'tamales', 'tame', 'tamie', 'tammie', 'tampa', 'tampiquena', 'tampons', 'tan', 'tana', 'tandem', 'tandoori', 'tang', 'tangerine', 'tangible', 'tango', 'tangy', 'tank', 'tankard', 'tanks', 'tannat', 'tanning', 'tans', 'tantalizing', 'tanzy', 'taos', 'tap', 'tapas', 'tape', 'taped', 'tapenade', 'tapenades', 'tapioca', 'tapped', 'tapping', 'taps', 'taqueria', 'taquitos', 'tar', 'tara', 'tarantino', 'tarbell', 'tardy', 'targer', 'target', 'targets', 'tart', 'tartar', 'tartes', 'tartiflette', 'tartish', 'tarts', 'tartufa', 'tartufo', 'task', 'tasks', 'tassone', 'taste', 'tastebuds', 'tasted', 'tasteful', 'tastefully', 'tasteless', 'taster', 'tastes', 'tastey', 'tastier', 'tasties', 'tastiest', 'tastiness', 'tasting', 'tastings', 'tasty', 'tataki', 'tater', 'taters', 'tats', 'tattered', 'tattering', 'tattoo', 'tattooed', 'tattooer', 'tattooers', 'tattoos', 'tatts', 'tatum', 'tatziki', 'taught', 'taunts', 'tavern', 'tawnya', 'tax', 'taxes', 'taxi', 'taxicab', 'taxidermy', 'taylor', 'tazer', 'tc', 'tch', 'tchatchkies', 'tea', 'teach', 'teacher', 'teachers', 'teaches', 'teaching', 'teacup', 'teaks', 'teakwoods', 'teal', 'team', 'teams', 'teamwork', 'teapot', 'teapots', 'tear', 'tears', 'teas', 'teaspoon', 'teats', 'teavana', 'tech', 'technical', 'technically', 'technician', 'technicians', 'technique', 'techniques', 'techno', 'technology', 'techs', 'ted', 'teddy', 'teds', 'tee', 'teed', 'teeming', 'teen', 'teenage', 'teenager', 'teenagers', 'teenie', 'teens', 'teensy', 'teeny', 'teenytiny', 'tees', 'teese', 'teeth', 'teff', 'teharu', 'tejas', 'telegraph', 'telemarketers', 'telenovela', 'telephone', 'television', 'televisions', 'tell', 'tellin', 'telling', 'tells', 'telly', 'temp', 'tempe', 'temper', 'temperature', 'temperatures', 'tempermant', 'temporada', 'temporary', 'tempranillo', 'temps', 'temptation', 'tempted', 'tempting', 'tempur', 'tempura', 'ten', 'tenant', 'tend', 'tended', 'tendencies', 'tendency', 'tender', 'tenderbelly', 'tenderlion', 'tenderloin', 'tenderness', 'tenders', 'tendon', 'tendons', 'tends', 'tennis', 'tent', 'tents', 'tepan', 'tepary', 'tepenyaki', 'teppiniyaki', 'tequila', 'tequilas', 'tequilla', 'teresa', 'teriffic', 'teriyaki', 'term', 'termial', 'terminal', 'terms', 'terra', 'terrain', 'terrayki', 'terrazzo', 'terrible', 'terribly', 'terrier', 'terrific', 'terrified', 'terrill', 'territory', 'terrrific', 'tess', 'test', 'tested', 'testosterone', 'tests', 'tex', 'texan', 'texas', 'texasburgerguy', 'texaz', 'texmex', 'text', 'texted', 'texting', 'texts', 'textural', 'texture', 'textured', 'textures', 'tgf', 'tgw', 'th', 'tha', 'thai', 'thaiger', 'thailand', 'than', 'thang', 'thanh', 'thank', 'thanked', 'thankful', 'thankfully', 'thankgsiving', 'thanking', 'thanks', 'thanksgiving', 'thanksliving', 'that', 'thats', 'thawed', 'thawing', 'thay', 'the', 'theater', 'theaters', 'theatre', 'theatres', 'thee', 'thefts', 'their', 'theirs', 'theives', 'them', 'theme', 'themed', 'themes', 'themselves', 'then', 'theodosopoulos', 'theory', 'thepanko', 'theprice', 'ther', 'therapeutic', 'therapist', 'therapists', 'therapy', 'there', 'thereafter', 'thereby', 'therefore', 'therein', 'thereof', 'theres', 'thermostat', 'these', 'thestandard', 'they', 'theyre', 'thhe', 'thick', 'thicker', 'thickness', 'thier', 'thigh', 'thighs', 'thin', 'thing', 'thingies', 'things', 'thingy', 'thingys', 'think', 'thinker', 'thinkin', 'thinking', 'thinks', 'thinly', 'thinner', 'third', 'thirdly', 'thirsty', 'thirty', 'this', 'thit', 'tho', 'thole', 'thomas', 'thorough', 'thoroughfares', 'thoroughly', 'those', 'thou', 'though', 'thought', 'thoughtful', 'thoughts', 'thouhgt', 'thousand', 'thousands', 'thr', 'thrasher', 'thread', 'threading', 'threatened', 'threatening', 'three', 'threesome', 'threw', 'thrice', 'thrift', 'thrifting', 'thrifty', 'thrilled', 'thrilling', 'thrive', 'throat', 'throne', 'through', 'throughout', 'throught', 'throw', 'throwback', 'throwin', 'throwing', 'thrown', 'thru', 'thta', 'thumb', 'thumbs', 'thumping', 'thunder', 'thunderbird', 'thunk', 'thurs', 'thursday', 'thursdays', 'thus', 'thyme', 'ti', 'tiara', 'tibs', 'ticked', 'ticket', 'ticketing', 'tickets', 'tickled', 'ticoz', 'tidbits', 'tide', 'tidy', 'tie', 'tied', 'tiered', 'tiers', 'ties', 'tiffany', 'tiffanys', 'tiger', 'tigers', 'tight', 'tighter', 'tijuana', 'tika', 'tiki', 'tikil', 'tikka', 'tikki', 'til', 'tilapia', 'tile', 'tiler', 'till', 'tim', 'time', 'timed', 'timeless', 'timely', 'timer', 'timers', 'times', 'timeshare', 'timey', 'timing', 'timo', 'tin', 'tina', 'tines', 'tinga', 'tingling', 'tiniest', 'tinkering', 'tinkled', 'tins', 'tint', 'tiny', 'tinyurl', 'tip', 'tipalia', 'tipped', 'tipping', 'tips', 'tiramisu', 'tire', 'tired', 'tirelessly', 'tires', 'tiring', 'tish', 'tissue', 'tit', 'titan', 'title', 'tix', 'tj', 'tk', 'tlc', 'tlike', 'to', 'toast', 'toasted', 'toaster', 'toasts', 'toasty', 'tobacco', 'tobasco', 'toby', 'today', 'todays', 'todd', 'toddler', 'toddlers', 'toddy', 'toe', 'toenails', 'toes', 'toffee', 'tofu', 'together', 'togo', 'toilet', 'toilets', 'tokens', 'tokyo', 'told', 'tolerable', 'tolerance', 'tolerate', 'toliet', 'tolteca', 'tom', 'tomatillo', 'tomato', 'tomatoes', 'tomatos', 'tomb', 'tommy', 'tomorrow', 'ton', 'tone', 'toned', 'toners', 'tones', 'tongs', 'tongue', 'tongued', 'tonic', 'tonight', 'tonights', 'tons', 'tony', 'too', 'toof', 'took', 'tool', 'tools', 'tooooo', 'tooth', 'toothbrush', 'toothless', 'tootin', 'tootsie', 'tootzi', 'top', 'topic', 'topics', 'topped', 'topping', 'toppings', 'topps', 'tops', 'torch', 'torched', 'tore', 'tori', 'torment', 'torn', 'toro', 'torres', 'tort', 'torta', 'tortalini', 'tortas', 'tortellini', 'tortilla', 'tortillas', 'torture', 'torturous', 'toss', 'tossed', 'tosses', 'tossing', 'tostada', 'tostadas', 'tot', 'total', 'totaled', 'totally', 'toting', 'tots', 'tottie', 'totts', 'touch', 'touched', 'touches', 'touching', 'tough', 'tougher', 'tounge', 'tour', 'tourism', 'tourist', 'tourists', 'tourney', 'tours', 'touted', 'touting', 'tovar', 'tow', 'toward', 'towards', 'towed', 'towel', 'towels', 'tower', 'towers', 'towing', 'town', 'towne', 'towner', 'towners', 'townhomes', 'towns', 'toxin', 'toy', 'toys', 'tqla', 'tra', 'trace', 'track', 'tracking', 'tracks', 'tract', 'tractor', 'tracy', 'trade', 'trader', 'traders', 'trading', 'tradition', 'traditional', 'traditionally', 'traffic', 'tragus', 'trail', 'trailhead', 'trailings', 'trails', 'train', 'trained', 'trainer', 'trainers', 'training', 'trains', 'traipse', 'tranquil', 'transaction', 'transcendent', 'transcendental', 'transfer', 'transferred', 'transferring', 'transfers', 'transform', 'transformation', 'transformers', 'transients', 'transit', 'transitioning', 'translated', 'translates', 'translation', 'translations', 'transmission', 'transparency', 'transplant', 'transplanted', 'transplanting', 'transport', 'transported', 'transporting', 'trap', 'trapped', 'traps', 'trash', 'trashed', 'trashy', 'trauma', 'travel', 'traveled', 'traveler', 'travelers', 'traveling', 'travelling', 'travels', 'travelzoo', 'travis', 'tray', 'trays', 'treacherous', 'treachery', 'tread', 'treadmill', 'treasure', 'treasures', 'treat', 'treated', 'treating', 'treatment', 'treatments', 'treats', 'tree', 'treehouse', 'trees', 'trek', 'trekking', 'treks', 'tremendous', 'trend', 'trendier', 'trendy', 'trepidation', 'trepidations', 'tres', 'tri', 'triangles', 'triathlons', 'tribute', 'trick', 'tricked', 'tricks', 'tricky', 'tricycles', 'tried', 'tries', 'trifecta', 'trifled', 'trigger', 'trim', 'trimmed', 'trimmers', 'trinkets', 'trio', 'trip', 'tripe', 'triple', 'trips', 'trite', 'triva', 'trivia', 'troon', 'trophies', 'trophy', 'tropical', 'trot', 'trotted', 'trouble', 'troubled', 'trough', 'trousers', 'trout', 'truck', 'truckin', 'trucks', 'true', 'truely', 'truffle', 'truffled', 'truffles', 'truly', 'trumpet', 'trumps', 'trunk', 'trust', 'trusted', 'trusting', 'trustworthy', 'trusty', 'truth', 'truthfully', 'try', 'trying', 'tryst', 'tsa', 'tske', 'tso', 'tsoynami', 'tsoynamis', 'tty', 'tub', 'tube', 'tubs', 'tuck', 'tucked', 'tucker', 'tucson', 'tues', 'tuesday', 'tuesdays', 'tum', 'tumbled', 'tumeric', 'tummy', 'tumor', 'tums', 'tuna', 'tune', 'tuned', 'tunes', 'tunnel', 'tupperware', 'turbo', 'turbulence', 'turd', 'turkey', 'turkish', 'turn', 'turned', 'turner', 'turning', 'turnover', 'turns', 'turntable', 'turtle', 'tuscan', 'tuscana', 'tuscany', 'tush', 'tutorial', 'tutti', 'tv', 'tvs', 'twangy', 'twas', 'tweak', 'tweaker', 'tweek', 'tween', 'tweeples', 'tweeted', 'tweeter', 'tweets', 'tweeze', 'twelve', 'twenties', 'twenty', 'twice', 'twilight', 'twin', 'twinkling', 'twinkly', 'twins', 'twist', 'twisted', 'twisting', 'twisty', 'twitter', 'twix', 'two', 'twozels', 'twss', 'tx', 'tying', 'tyler', 'tylor', 'type', 'typed', 'types', 'typical', 'typically', 'tyson', 'tysoncrosbie', 'tzatziki', 'ua', 'uber', 'uchi', 'udder', 'udon', 'udupai', 'udupi', 'ufc', 'ugh', 'ugly', 'uh', 'uhh', 'uhhh', 'uk', 'ukrainian', 'ul', 'ulta', 'ultimate', 'ultimately', 'ultra', 'ultrasound', 'ultrasounds', 'um', 'umami', 'umberto', 'umbrella', 'umbrellaed', 'umbrellas', 'umbria', 'umm', 'ummm', 'ummmmmmmm', 'umph', 'umpteen', 'un', 'unable', 'unacceptable', 'unadulterated', 'unagi', 'unanimous', 'unanswered', 'unapologetic', 'unapologetically', 'unappealing', 'unappetizing', 'unassuming', 'unaware', 'unbearable', 'unbeatable', 'unbelievable', 'unbelievably', 'unborn', 'unbridled', 'uncanny', 'uncaring', 'uncle', 'unclear', 'uncles', 'uncluttered', 'uncomfortable', 'uncomfortabley', 'uncomplicated', 'uncooked', 'uncooperative', 'uncountable', 'uncouth', 'uncrowded', 'uncrumbled', 'uncut', 'undecided', 'under', 'underage', 'underaged', 'underarm', 'underarms', 'undercooked', 'underdone', 'underground', 'underhanded', 'underneath', 'underrated', 'underserved', 'understaffed', 'understand', 'understandable', 'understanding', 'understands', 'understated', 'understatement', 'understood', 'underwear', 'underwhelmed', 'underwhelming', 'underwritten', 'undeserving', 'undeterred', 'undies', 'undoubtedly', 'undr', 'undress', 'undrinkable', 'uneasy', 'uneaten', 'unedible', 'uneducated', 'unemployed', 'unemployment', 'unending', 'unenjoyably', 'unethical', 'unexceptional', 'unexpected', 'unexpectedly', 'unexplainably', 'unfamiliar', 'unfavorable', 'unfinished', 'unflattering', 'unflexible', 'unforgettable', 'unforgivable', 'unfortunate', 'unfortunately', 'unfounded', 'unfriendliness', 'unfriendly', 'unhappy', 'unhealthily', 'unhelpful', 'uni', 'unidentifiable', 'unidientifiable', 'uniform', 'uniformly', 'uniforms', 'unimaginable', 'uninspired', 'uninspiring', 'unintended', 'uninteresting', 'uninterupted', 'uninviting', 'union', 'unique', 'uniquely', 'uniqueness', 'unisex', 'unison', 'unit', 'unite', 'united', 'units', 'university', 'unkept', 'unknowingly', 'unknown', 'unleashing', 'unless', 'unlike', 'unlikely', 'unlimited', 'unlock', 'unlocked', 'unlucky', 'unmanipulated', 'unmarked', 'unmentionable', 'unmistakably', 'unnecessary', 'unnoticed', 'uno', 'unobstructed', 'unocal', 'unoccupied', 'unofficial', 'unorganized', 'unoriginal', 'unpalatable', 'unparalleled', 'unphogettable', 'unphoghetable', 'unpleasant', 'unpretentious', 'unpretentiously', 'unprocessed', 'unprofessional', 'unprofessionally', 'unreal', 'unrefined', 'unrelated', 'unrivaled', 'unsanitary', 'unsatisfied', 'unseasoned', 'unseen', 'unselfishly', 'unsolicited', 'unstopable', 'unstressed', 'unsuccessful', 'unsuccessfully', 'unsure', 'unsuspecting', 'unted', 'until', 'untill', 'untraditional', 'untrained', 'untried', 'unusable', 'unused', 'unusual', 'unusually', 'unvalidated', 'unwanted', 'unwarmed', 'unwelcome', 'unwilling', 'unwind', 'unyielding', 'uopx', 'up', 'upbeat', 'upbringings', 'upc', 'upcharge', 'upcharging', 'upchuck', 'upcoming', 'update', 'updated', 'updates', 'updating', 'upfront', 'upgrade', 'upgraded', 'upgrades', 'upgrading', 'uphill', 'upholstery', 'uploaded', 'upo', 'upon', 'upper', 'uppers', 'upping', 'uprooted', 'ups', 'upscale', 'upset', 'upsets', 'upside', 'upstaged', 'upstairs', 'uptight', 'uptown', 'ur', 'urban', 'urbanspoon', 'urchin', 'urge', 'urgent', 'urinal', 'urinates', 'urine', 'uruguay', 'us', 'usa', 'usage', 'usain', 'usairways', 'use', 'used', 'useful', 'useless', 'user', 'uses', 'using', 'usl', 'usps', 'usual', 'usually', 'usuals', 'utah', 'utensil', 'utensils', 'uterus', 'utility', 'utilize', 'utilizing', 'utmost', 'utter', 'uttered', 'utterly', 'uv', 'ux10', 'uye', 'va', 'vaca', 'vacant', 'vacation', 'vacationing', 'vacations', 'vacay', 'vaccilate', 'vaccination', 'vaccines', 'vacuum', 'vacuumed', 'vaguely', 'vain', 'val', 'valencia', 'valentine', 'valentines', 'valerie', 'valet', 'valeted', 'valets', 'valid', 'validated', 'validation', 'valle', 'valley', 'valomilk', 'valuable', 'value', 'values', 'vampire', 'vampiro', 'van', 'vancouver', 'vandalized', 'vang', 'vanilla', 'vanity', 'vans', 'vantage', 'vaporized', 'variance', 'variation', 'variations', 'varied', 'varietals', 'varieties', 'variety', 'various', 'vary', 'vases', 'vast', 'vat', 'vatican', 'vatoci', 'vatra', 'vault', 've', 'veal', 'veer', 'veerrrrrryyyyyyyyy', 'veg', 'vegan', 'veganized', 'vegas', 'vegetable', 'vegetables', 'vegetarian', 'vegetarians', 'veggie', 'veggies', 'vegie', 'vegiies', 'vegtable', 'vehicle', 'vehicles', 'veiled', 'vein', 'veins', 'velvet', 'velveta', 'velvety', 'vender', 'vendor', 'vendors', 'venerable', 'venice', 'venom', 'vent', 'ventilation', 'vents', 'venture', 'ventured', 'ventures', 'venue', 'venues', 'venyse', 'vera', 'verbal', 'verbally', 'verde', 'verdes', 'verdict', 'verduras', 'verge', 'verges', 'verisimilitude', 'veritable', 'verizon', 'vermicelli', 'vermont', 'vermonter', 'veronica', 'veronique', 'verrado', 'verse', 'versed', 'version', 'versions', 'versus', 'verts', 'very', 'vests', 'vet', 'veterans', 'veterinary', 'vets', 'vexing', 'vey', 'via', 'viad', 'viagra', 'vibe', 'vibrant', 'vibrate', 'vibrated', 'vic', 'vice', 'vicinity', 'victorian', 'vide', 'video', 'videogame', 'videos', 'vids', 'vieja', 'viejas', 'vien', 'viet', 'vietnam', 'vietnamese', 'vietri', 'view', 'viewing', 'views', 'vig', 'vigazz', 'vignettes', 'viking', 'vikings', 'villa', 'village', 'villas', 'vin', 'vinagerette', 'vinagrette', 'vinaigrette', 'vincent', 'vindaloo', 'vine', 'vinegar', 'vinegarette', 'vinegary', 'vines', 'vineyard', 'vingerette', 'vings', 'vino', 'vintage', 'vinyl', 'viola', 'violated', 'violation', 'violations', 'violence', 'violently', 'vip', 'vips', 'virgin', 'virginia', 'virus', 'viscous', 'visibility', 'visible', 'visibly', 'vision', 'visit', 'visited', 'visiting', 'visitor', 'visitors', 'visits', 'vista', 'vistal', 'visualize', 'visually', 'visuals', 'vitality', 'vitamin', 'vitamins', 'vittles', 'vivant', 'vivid', 'vochos', 'vodka', 'vodkas', 'voice', 'voiced', 'void', 'voided', 'voila', 'volcano', 'volleyball', 'volume', 'volumes', 'volunteer', 'volunteered', 'volunteering', 'volunteers', 'vomit', 'von', 'voodoo', 'voracious', 'vortex', 'vote', 'voted', 'voting', 'vouch', 'voucher', 'vouchers', 'vow', 'vowed', 'vs', 'vsc', 'vueve', 'vulgar', 'vulture', 'vultures', 'vw', 'wa', 'waaaaaaaaay', 'waaaaaay', 'waayy', 'wac', 'wach', 'wacky', 'wad', 'waders', 'waffle', 'waffles', 'waffling', 'wag', 'wager', 'wagged', 'wagyu', 'waikiki', 'waist', 'waisting', 'wait', 'waited', 'waiter', 'waiters', 'waiting', 'waitress', 'waitresses', 'waits', 'waitstaff', 'waitstand', 'waived', 'wake', 'wal', 'waldorf', 'walet', 'walgreens', 'walk', 'walkable', 'walked', 'walking', 'walks', 'walkway', 'walkways', 'wall', 'wallet', 'wallets', 'wallowing', 'wallpaper', 'wallpapers', 'walls', 'wally', 'walmart', 'walnut', 'walnuts', 'waltzed', 'wand', 'wander', 'wandered', 'wandering', 'wanna', 'wannabes', 'want', 'want_', 'wanted', 'wanting', 'wantons', 'wants', 'war', 'ward', 'wardrobe', 'wards', 'ware', 'warehouse', 'warehoused', 'warm', 'warmed', 'warmer', 'warmers', 'warming', 'warmly', 'warmth', 'warn', 'warned', 'warner', 'warning', 'warnings', 'warp', 'warrant', 'warrants', 'warranty', 'warriors', 'wars', 'wary', 'was', 'wasabe', 'wasabi', 'wash', 'washcloths', 'washday', 'washed', 'washer', 'washers', 'washes', 'washing', 'washington', 'washingtons', 'wasn', 'wasnt', 'wasp', 'waste', 'wastebaskets', 'wasted', 'waster', 'wasting', 'wasy', 'watch', 'watched', 'watcher', 'watchers', 'watches', 'watching', 'water', 'watered', 'waterfall', 'waterfalls', 'waterfront', 'watering', 'watermelon', 'waterproof', 'waters', 'waterslides', 'waterworks', 'watery', 'watt', 'wave', 'waved', 'wavelle', 'waving', 'wax', 'waxed', 'waxing', 'way', 'wayne', 'ways', 'wayward', 'wbc', 'wcg', 'we', 'weak', 'weakness', 'wealthier', 'weapon', 'wear', 'wearing', 'wears', 'weary', 'weather', 'weaving', 'web', 'website', 'websites', 'wed', 'wedding', 'weddings', 'wedge', 'wedges', 'wednesday', 'wednesdays', 'weds', 'wee', 'week', 'weekday', 'weekdays', 'weekend', 'weekends', 'weekly', 'weeknight', 'weeknights', 'weeks', 'wei', 'weigh', 'weighs', 'weight', 'weighted', 'weights', 'weihenstephaner', 'weil', 'weird', 'weirded', 'weirdest', 'weirdly', 'weirdo', 'weirdos', 'welcome', 'welcomed', 'welcomes', 'welcoming', 'well', 'wellness', 'wells', 'wendy', 'wendys', 'went', 'were', 'weren', 'werent', 'west', 'western', 'westgate', 'westin', 'westminster', 'westside', 'westward', 'wet', 'whaat', 'whack', 'whacked', 'whales', 'what', 'whatever', 'whatnot', 'whats', 'whatsoever', 'whatsosever', 'whatsover', 'wheat', 'wheel', 'wheeling', 'wheels', 'wheezed', 'when', 'whenever', 'where', 'whereupon', 'wherever', 'whether', 'whew', 'which', 'whiff', 'while', 'whilst', 'whim', 'whimsical', 'whines', 'whinin', 'whining', 'whinnying', 'whip', 'whipped', 'whips', 'whirl', 'whirlpools', 'whisked', 'whiskey', 'whiskeys', 'whisper', 'whispered', 'whispers', 'whistling', 'white', 'whiten', 'whites', 'whitesands', 'whitey', 'whitney', 'whiz', 'who', 'whoa', 'whoah', 'whoever', 'whole', 'wholeheartedly', 'wholly', 'whom', 'whooping', 'whopper', 'whopping', 'whore', 'whoreish', 'whoring', 'whose', 'why', 'wi', 'wich', 'wicked', 'wide', 'wider', 'widow', 'wiener', 'wierd', 'wife', 'wifey', 'wifi', 'wig', 'wiggle', 'wigs', 'wigwam', 'wih', 'wii', 'wiki', 'wikipedia', 'wil', 'wild', 'wildcat', 'wilderness', 'wildest', 'wildfish', 'wildflower', 'wildhorse', 'wildlife', 'wildly', 'will', 'willie', 'willing', 'willingfully', 'willow', 'willpower', 'wills', 'willy', 'willys', 'wilma', 'wilted', 'wimp', 'wimper', 'win', 'wind', 'window', 'windowpanes', 'windows', 'winds', 'windshield', 'windsor', 'windy', 'wine', 'wines', 'wing', 'wings', 'wink', 'winkie', 'winking', 'winky', 'winner', 'winners', 'winning', 'wino', 'winos', 'wins', 'winter', 'wipe', 'wiped', 'wiper', 'wipes', 'wiping', 'wire', 'wireless', 'wiring', 'wisconsin', 'wisdom', 'wise', 'wiseguy', 'wisely', 'wiser', 'wish', 'wished', 'wishful', 'wishing', 'witches', 'with', 'withdrawal', 'withheld', 'within', 'without', 'withstanding', 'witness', 'witnessed', 'wives', 'wiz', 'wizard', 'wks', 'wll', 'wobble', 'wobbly', 'woes', 'wok', 'woke', 'woken', 'wolfed', 'wolfpack', 'wolverine', 'woman', 'women', 'womens', 'won', 'wonder', 'wondered', 'wonderful', 'wonderfully', 'wonderfulness', 'wondering', 'wonderland', 'wonderous', 'wonders', 'wondrous', 'wongs', 'wont', 'wonton', 'wontons', 'woo', 'wood', 'wooden', 'woodlands', 'woods', 'woodworker', 'wooed', 'woohoo', 'wool', 'word', 'wordly', 'words', 'wore', 'work', 'worked', 'worker', 'workers', 'working', 'workmanship', 'workout', 'workouts', 'works', 'world', 'worlds', 'worldwide', 'worm', 'worn', 'worried', 'worries', 'worry', 'worrying', 'worse', 'worship', 'worst', 'worstershire', 'worth', 'worthless', 'worthwhile', 'worthy', 'wott', 'would', 'woulda', 'wouldn', 'wouldnt', 'wouldve', 'wound', 'wow', 'wowed', 'wowzer', 'wracking', 'wrap', 'wrapped', 'wrapper', 'wrappers', 'wrapping', 'wraps', 'wrath', 'wreck', 'wrestling', 'wrigley', 'wrigleyville', 'wrinkled', 'wrinkles', 'wrinkling', 'wrist', 'wristbands', 'write', 'writer', 'writers', 'writes', 'writing', 'written', 'wrkout', 'wrong', 'wrote', 'wtf', 'wth', 'wussies', 'wwe', 'www', 'würze', 'x2', 'xanax', 'xbox', 'xeriscape', 'xg8u6fz2e8hu0xq3hf7czg', 'xl', 'xlv', 'xmas', 'ya', 'yack', 'yah', 'yahoo', 'yakaguru', 'yakisoba', 'yall', 'yam', 'yang', 'yankin', 'yanks', 'yard', 'yards', 'yardsale', 'yasu', 'yawning', 'yay', 'yc', 'yea', 'yeah', 'year', 'yearly', 'yearning', 'yearnings', 'years', 'yeh', 'yell', 'yelled', 'yelling', 'yellow', 'yellowfin', 'yellowtail', 'yells', 'yelp', 'yelped', 'yelper', 'yelpers', 'yelping', 'yen', 'yep', 'yeppie', 'yer', 'yerba', 'yes', 'yesssss', 'yesterday', 'yet', 'yew', 'yielding', 'yikes', 'yin', 'yippee', 'ymca', 'yo', 'yodeling', 'yodels', 'yoga', 'yogalates', 'yogis', 'yogurt', 'yogurtini', 'yogurtland', 'yogurtology', 'yogurtopia', 'yogurts', 'yoli', 'yolk', 'yon', 'yoohoo', 'york', 'yorker', 'yorkie', 'you', 'youki', 'young', 'younger', 'youngest', 'your', 'youre', 'yours', 'yourself', 'yourselves', 'youth', 'youthful', 'youtube', 'yow', 'yowza', 'yr', 'yragui', 'yrs', 'yu', 'yuck', 'yucky', 'yuk', 'yukgejang', 'yukon', 'yum', 'yuma', 'yumm', 'yummie', 'yummier', 'yumminess', 'yummm', 'yummmm', 'yummmmmm', 'yummmmmmers', 'yummmmy', 'yummy', 'yumness', 'yung', 'yup', 'yupha', 'yuppies', 'yusefs', 'yuukk', 'yuuuummmmae', 'yuuuuummmmmyyy', 'yuuuuuuum', 'yuyuyummy', 'yuzu', 'yyyyy', 'z11', 'za', 'zabba', 'zach', 'zam', 'zanella', 'zankou', 'zappos', 'zatsiki', 'zen', 'zero', 'zest', 'zexperience', 'zha', 'zhou', 'zia', 'zihuatenejo', 'zilch', 'zin', 'zinburger', 'zinburgergeist', 'zinc', 'zinfandel', 'zing', 'zip', 'zipcar', 'zipper', 'zippers', 'zipps', 'ziti', 'zoe', 'zombi', 'zombies', 'zone', 'zones', 'zoning', 'zoo', 'zoyo', 'zucca', 'zucchini', 'zuchinni', 'zumba', 'zupa', 'zuzu', 'zwiebel', 'zzed', 'éclairs', 'école', 'ém']\n"
     ]
    }
   ],
   "source": [
    "# View features\n",
    "print((vect.get_feature_names()[500::]))"
   ]
  },
  {
   "cell_type": "markdown",
   "metadata": {},
   "source": [
    "[CountVectorizer documentation](http://scikit-learn.org/stable/modules/generated/sklearn.feature_extraction.text.CountVectorizer.html)"
   ]
  },
  {
   "cell_type": "markdown",
   "metadata": {},
   "source": [
    "One common method of reducing the number of features is converting all text to lowercase before generating features! Note that to a computer, `aPPle` is a different token/\"word\" than `apple`. So, by converting both to lowercase letters, it ensures fewer features will be generated. It might be useful not to convert them to lowercase if capitalization matters."
   ]
  },
  {
   "cell_type": "code",
   "execution_count": 541,
   "metadata": {},
   "outputs": [
    {
     "data": {
      "text/plain": [
       "['Almost',\n",
       " 'Aloe',\n",
       " 'Aloha',\n",
       " 'Along',\n",
       " 'Alongside',\n",
       " 'Alp',\n",
       " 'Already',\n",
       " 'Alright',\n",
       " 'Also',\n",
       " 'Although',\n",
       " 'Altic',\n",
       " 'Always',\n",
       " 'Amados',\n",
       " 'Amalfi',\n",
       " 'Amanda',\n",
       " 'Amaro',\n",
       " 'Amazing',\n",
       " 'Amazon',\n",
       " 'Ambassador',\n",
       " 'Amber',\n",
       " 'Ambiance',\n",
       " 'Ambrosia',\n",
       " 'Amenities',\n",
       " 'America',\n",
       " 'American',\n",
       " 'Americana',\n",
       " 'Americanized',\n",
       " 'Americano',\n",
       " 'Americanos',\n",
       " 'Americans',\n",
       " 'Amin',\n",
       " 'Amish',\n",
       " 'Amomi',\n",
       " 'Amore',\n",
       " 'Amphitheatre',\n",
       " 'Ample',\n",
       " 'Amtrack',\n",
       " 'Amuse',\n",
       " 'Amy',\n",
       " 'An',\n",
       " 'And',\n",
       " 'Andiamo',\n",
       " 'Andrea',\n",
       " 'Andrew',\n",
       " 'Andy',\n",
       " 'Angel',\n",
       " 'Angela',\n",
       " 'Angeles',\n",
       " 'Angello',\n",
       " 'Anibal',\n",
       " 'Animal',\n",
       " 'Animals',\n",
       " 'Anise',\n",
       " 'Ann',\n",
       " 'Anne',\n",
       " 'Annie',\n",
       " 'Annihilator',\n",
       " 'Anniversary',\n",
       " 'Annoying',\n",
       " 'Another',\n",
       " 'Ansel',\n",
       " 'Answer',\n",
       " 'Anthem',\n",
       " 'Anthony',\n",
       " 'Antiques',\n",
       " 'Antonio',\n",
       " 'Antono',\n",
       " 'Ants',\n",
       " 'Any',\n",
       " 'Anyhoo',\n",
       " 'Anyhow',\n",
       " 'Anyone',\n",
       " 'Anything',\n",
       " 'Anytime',\n",
       " 'Anyway',\n",
       " 'Anyways',\n",
       " 'Anywho',\n",
       " 'Ao',\n",
       " 'Apache',\n",
       " 'Apartment',\n",
       " 'Apology',\n",
       " 'Apothic',\n",
       " 'Appalachians',\n",
       " 'Apparel',\n",
       " 'Apparently',\n",
       " 'Appearances',\n",
       " 'Appears',\n",
       " 'Appetit',\n",
       " 'Appetite',\n",
       " 'Appetizer',\n",
       " 'Appetizers',\n",
       " 'Apple',\n",
       " 'Applebee',\n",
       " 'Applebees',\n",
       " 'Apples',\n",
       " 'Appreciated',\n",
       " 'Appreciation',\n",
       " 'Approximately',\n",
       " 'Apricot',\n",
       " 'April',\n",
       " 'Aqua',\n",
       " 'Arabic',\n",
       " 'Arai',\n",
       " 'Arbol',\n",
       " 'Arborio',\n",
       " 'Arcadia',\n",
       " 'Arcane',\n",
       " 'Architect',\n",
       " 'Arco',\n",
       " 'Are',\n",
       " 'Area',\n",
       " 'Aren',\n",
       " 'Arena',\n",
       " 'Argentine',\n",
       " 'Argyle',\n",
       " 'Ariel',\n",
       " 'Arigato',\n",
       " 'Arizona',\n",
       " 'Arizonan',\n",
       " 'Arizonans',\n",
       " 'Arkansas',\n",
       " 'Arlecchino',\n",
       " 'Armando',\n",
       " 'Armour',\n",
       " 'Arms',\n",
       " 'Army',\n",
       " 'Around',\n",
       " 'Arpege',\n",
       " 'Arriba',\n",
       " 'Arribas',\n",
       " 'Arrive',\n",
       " 'Arrived',\n",
       " 'Arrivederci',\n",
       " 'Arriving',\n",
       " 'Arrogant',\n",
       " 'Arrowhead',\n",
       " 'Art',\n",
       " 'Arthur',\n",
       " 'Artichoke',\n",
       " 'Artie',\n",
       " 'Artist',\n",
       " 'Artois',\n",
       " 'Arts',\n",
       " 'As',\n",
       " 'Asada',\n",
       " 'Asado',\n",
       " 'Asahi',\n",
       " 'Asaian',\n",
       " 'Ashamedly',\n",
       " 'Ashley',\n",
       " 'Ashtanga',\n",
       " 'Asia',\n",
       " 'Asiago',\n",
       " 'Asian',\n",
       " 'Asians',\n",
       " 'Aside',\n",
       " 'Ask',\n",
       " 'Asked',\n",
       " 'Asparagus',\n",
       " 'Ass',\n",
       " 'Association',\n",
       " 'At',\n",
       " 'Ate',\n",
       " 'Atlanta',\n",
       " 'Atlantic',\n",
       " 'Atmosphere',\n",
       " 'Atomic',\n",
       " 'Atoyac',\n",
       " 'Atri',\n",
       " 'Attendants',\n",
       " 'Attended',\n",
       " 'Attentive',\n",
       " 'Au',\n",
       " 'Aug',\n",
       " 'August',\n",
       " 'Aunt',\n",
       " 'Aussie',\n",
       " 'Austin',\n",
       " 'Australia',\n",
       " 'Australian',\n",
       " 'Authentic',\n",
       " 'Authentically',\n",
       " 'Author',\n",
       " 'Auto',\n",
       " 'Automotive',\n",
       " 'Autumn',\n",
       " 'Avacado',\n",
       " 'Avadado',\n",
       " 'Ave',\n",
       " 'Avenue',\n",
       " 'Average',\n",
       " 'Averaging',\n",
       " 'Avocado',\n",
       " 'Avoid',\n",
       " 'Avondale',\n",
       " 'Awakening',\n",
       " 'Away',\n",
       " 'Awaze',\n",
       " 'Awesome',\n",
       " 'Awesomely',\n",
       " 'Awful',\n",
       " 'Axe',\n",
       " 'Az',\n",
       " 'Azkaban',\n",
       " 'Azucena',\n",
       " 'BA',\n",
       " 'BABY',\n",
       " 'BACK',\n",
       " 'BAD',\n",
       " 'BAG',\n",
       " 'BALLS',\n",
       " 'BAM',\n",
       " 'BAR',\n",
       " 'BARE',\n",
       " 'BASIC',\n",
       " 'BBB',\n",
       " 'BBQ',\n",
       " 'BBs',\n",
       " 'BCBG',\n",
       " 'BDSM',\n",
       " 'BE',\n",
       " 'BEAN',\n",
       " 'BEAUTIFUL',\n",
       " 'BEEF',\n",
       " 'BEER',\n",
       " 'BEERS',\n",
       " 'BEETS',\n",
       " 'BEFORE',\n",
       " 'BENCHES',\n",
       " 'BEST',\n",
       " 'BETTER',\n",
       " 'BEWARE',\n",
       " 'BF',\n",
       " 'BFFs',\n",
       " 'BGF',\n",
       " 'BIG',\n",
       " 'BIG_ASS',\n",
       " 'BILL',\n",
       " 'BJ',\n",
       " 'BLACK',\n",
       " 'BLAND',\n",
       " 'BLEECH',\n",
       " 'BLISS',\n",
       " 'BLOWN',\n",
       " 'BLT',\n",
       " 'BMW',\n",
       " 'BMX',\n",
       " 'BNDMAPS',\n",
       " 'BO',\n",
       " 'BOB',\n",
       " 'BOCA',\n",
       " 'BOGO',\n",
       " 'BOLT',\n",
       " 'BOMB',\n",
       " 'BOTH',\n",
       " 'BOTTLES',\n",
       " 'BOWLS',\n",
       " 'BPA',\n",
       " 'BR',\n",
       " 'BREAKFAST',\n",
       " 'BS',\n",
       " 'BTW',\n",
       " 'BUG',\n",
       " 'BUILD',\n",
       " 'BURGER',\n",
       " 'BURGERS',\n",
       " 'BURRO',\n",
       " 'BUS',\n",
       " 'BUSINESS',\n",
       " 'BUT',\n",
       " 'BUY',\n",
       " 'BUZZKILL',\n",
       " 'BV500',\n",
       " 'BY',\n",
       " 'BYO',\n",
       " 'BYOB',\n",
       " 'Baaaaaaad',\n",
       " 'Baba',\n",
       " 'Babbo',\n",
       " 'Baby',\n",
       " 'Bacado',\n",
       " 'Back',\n",
       " 'Bacon',\n",
       " 'Bad',\n",
       " 'Bader',\n",
       " 'Baeley',\n",
       " 'Baffled',\n",
       " 'Bag',\n",
       " 'Bagel',\n",
       " 'Baggins',\n",
       " 'Baghlava',\n",
       " 'Bags',\n",
       " 'Bahama',\n",
       " 'Bahamas',\n",
       " 'Bahn',\n",
       " 'Bailey',\n",
       " 'Baileys',\n",
       " 'Baiz',\n",
       " 'Baja',\n",
       " 'Baked',\n",
       " 'Baker',\n",
       " 'Bakers',\n",
       " 'Bakery',\n",
       " 'Baklava',\n",
       " 'Ballet',\n",
       " 'Ballroom',\n",
       " 'Balls',\n",
       " 'Balsamic',\n",
       " 'Baltimore',\n",
       " 'Bam',\n",
       " 'Bamboo',\n",
       " 'Ban',\n",
       " 'Banana',\n",
       " 'Bananas',\n",
       " 'Band',\n",
       " 'Bandera',\n",
       " 'Bandido',\n",
       " 'Bandit',\n",
       " 'Bandito',\n",
       " 'Banfield',\n",
       " 'Bang',\n",
       " 'Bangkok',\n",
       " 'Bank',\n",
       " 'Bar',\n",
       " 'Barb',\n",
       " 'Barbara',\n",
       " 'Barbbacoa',\n",
       " 'Barber',\n",
       " 'Barbershop',\n",
       " 'Barcelona',\n",
       " 'Bare',\n",
       " 'Barely',\n",
       " 'Baristas',\n",
       " 'Bark',\n",
       " 'Barnes',\n",
       " 'Barney',\n",
       " 'Barq',\n",
       " 'Barr',\n",
       " 'Barramundi',\n",
       " 'Barrel',\n",
       " 'Barrio',\n",
       " 'Barro',\n",
       " 'Barry',\n",
       " 'Bars',\n",
       " 'Bartender',\n",
       " 'Bartholomew',\n",
       " 'Based',\n",
       " 'Baseline',\n",
       " 'Basha',\n",
       " 'Bashas',\n",
       " 'Basically',\n",
       " 'Basil',\n",
       " 'Basket',\n",
       " 'Baskin',\n",
       " 'Basmati',\n",
       " 'Bass',\n",
       " 'Baston',\n",
       " 'Bathe',\n",
       " 'Bathroom',\n",
       " 'Bathrooms',\n",
       " 'Batman',\n",
       " 'Batmobile',\n",
       " 'Baton',\n",
       " 'Batter',\n",
       " 'Bavaria',\n",
       " 'Bay',\n",
       " 'Be',\n",
       " 'Bea',\n",
       " 'Beach',\n",
       " 'Bean',\n",
       " 'Beans',\n",
       " 'Beard',\n",
       " 'Beards',\n",
       " 'Bears',\n",
       " 'Beast',\n",
       " 'Beat',\n",
       " 'Beatles',\n",
       " 'Beau',\n",
       " 'Beautiful',\n",
       " 'Beautifully',\n",
       " 'Beauty',\n",
       " 'Beaver',\n",
       " 'Because',\n",
       " 'Beckett',\n",
       " 'Becky',\n",
       " 'Bed',\n",
       " 'Beds',\n",
       " 'Beef',\n",
       " 'Beefy',\n",
       " 'Been',\n",
       " 'Beer',\n",
       " 'Beers',\n",
       " 'Beet',\n",
       " 'Beetle',\n",
       " 'Before',\n",
       " 'Beginning',\n",
       " 'Behind',\n",
       " 'Being',\n",
       " 'Beirut',\n",
       " 'Belgian',\n",
       " 'Believe',\n",
       " 'Bell',\n",
       " 'Bellini',\n",
       " 'Belltown',\n",
       " 'Belly',\n",
       " 'Belmont',\n",
       " 'Ben',\n",
       " 'Benches',\n",
       " 'Bend',\n",
       " 'Benedict',\n",
       " 'Benny',\n",
       " 'Beppo',\n",
       " 'Bergesson',\n",
       " 'Berlin',\n",
       " 'Berry',\n",
       " 'Berschler',\n",
       " 'Bert',\n",
       " 'Bertha',\n",
       " 'Berto',\n",
       " 'Besides',\n",
       " 'Best',\n",
       " 'Bethany',\n",
       " 'Bethel',\n",
       " 'Betito',\n",
       " 'Betitos',\n",
       " 'Better',\n",
       " 'Betty',\n",
       " 'Betunia',\n",
       " 'Between',\n",
       " 'Beverages',\n",
       " 'Beverly',\n",
       " 'Bevmo',\n",
       " 'Beware',\n",
       " 'Beyond',\n",
       " 'Biacoverde',\n",
       " 'Biagga',\n",
       " 'Biaggia',\n",
       " 'Biagio',\n",
       " 'Bialy',\n",
       " 'Bianco',\n",
       " 'Biancoverde',\n",
       " 'Biancoverdes',\n",
       " 'Bibimbap',\n",
       " 'Bicycles',\n",
       " 'Biet',\n",
       " 'Big',\n",
       " 'Bigger',\n",
       " 'Biiiiiiiiiiig',\n",
       " 'Bikini',\n",
       " 'Bikram',\n",
       " 'Bilbo',\n",
       " 'Bill',\n",
       " 'Billet',\n",
       " 'Biltmore',\n",
       " 'Bimbo',\n",
       " 'Bin',\n",
       " 'Bings',\n",
       " 'Binkley',\n",
       " 'Bird',\n",
       " 'Birthday',\n",
       " 'Biscuits',\n",
       " 'Bismark',\n",
       " 'Bison',\n",
       " 'Bisque',\n",
       " 'Bistro',\n",
       " 'Bitch',\n",
       " 'Black',\n",
       " 'Blackstone',\n",
       " 'Blah',\n",
       " 'Blake',\n",
       " 'Blanca',\n",
       " 'Blanco',\n",
       " 'Bland',\n",
       " 'Blank',\n",
       " 'Blankity',\n",
       " 'Blast',\n",
       " 'Blazer',\n",
       " 'Blech',\n",
       " 'Bleh',\n",
       " 'Blended',\n",
       " 'Blendini',\n",
       " 'Bless',\n",
       " 'Bleu',\n",
       " 'Bliss',\n",
       " 'Blockbuster',\n",
       " 'Blood',\n",
       " 'Bloody',\n",
       " 'Blossom',\n",
       " 'Blossoms',\n",
       " 'Blow',\n",
       " 'Blown',\n",
       " 'Blu',\n",
       " 'Blue',\n",
       " 'BlueMoon',\n",
       " 'Blueberry',\n",
       " 'Blues',\n",
       " 'Bluesman',\n",
       " 'Blvd',\n",
       " 'Bo',\n",
       " 'BoSa',\n",
       " 'Boa',\n",
       " 'Board',\n",
       " 'Boars',\n",
       " 'Boat',\n",
       " 'Bob',\n",
       " 'Boba',\n",
       " 'Bobbie',\n",
       " 'Bobby',\n",
       " 'Bocca',\n",
       " 'Bocce',\n",
       " 'Bock',\n",
       " 'Body',\n",
       " 'Bogi',\n",
       " 'Bolivia',\n",
       " 'Bolt',\n",
       " 'Bomb',\n",
       " 'Bombay',\n",
       " 'Bombero',\n",
       " 'Bomberos',\n",
       " 'Bombs',\n",
       " 'Bon',\n",
       " 'Bone',\n",
       " 'Boneless',\n",
       " 'Bonne',\n",
       " 'Bonnie',\n",
       " 'Bonus',\n",
       " 'Boo',\n",
       " 'Book',\n",
       " 'Booked',\n",
       " 'Bookmans',\n",
       " 'Boom',\n",
       " 'Boop',\n",
       " 'Boot',\n",
       " 'Border',\n",
       " 'Borders',\n",
       " 'Bosa',\n",
       " 'Bosco',\n",
       " 'Bosnia',\n",
       " 'Bosnian',\n",
       " 'Boss',\n",
       " 'Bostic',\n",
       " 'Boston',\n",
       " 'Botanical',\n",
       " 'Both',\n",
       " 'Botox',\n",
       " 'Bottle',\n",
       " 'Bottom',\n",
       " 'Bought',\n",
       " 'Boulangerie',\n",
       " 'Boulder',\n",
       " 'Boulders',\n",
       " 'Boullion',\n",
       " 'Bourban',\n",
       " 'Boutique',\n",
       " 'Bowl',\n",
       " 'Bowling',\n",
       " 'Box',\n",
       " 'Boxer',\n",
       " 'Boxing',\n",
       " 'Boy',\n",
       " 'Boyfriend',\n",
       " 'Boys',\n",
       " 'Brachetto',\n",
       " 'Brad',\n",
       " 'Braised',\n",
       " 'Braized',\n",
       " 'Brak',\n",
       " 'Branding',\n",
       " 'Brasserie',\n",
       " 'Brat',\n",
       " 'Braves',\n",
       " 'Bravo',\n",
       " 'Bray',\n",
       " 'Brazen',\n",
       " 'Brazilian',\n",
       " 'Bread',\n",
       " 'Breadfruit',\n",
       " 'Breakfast',\n",
       " 'Breast',\n",
       " 'Breasts',\n",
       " 'Breeze',\n",
       " 'Brenda',\n",
       " 'Brenden',\n",
       " 'Brewer',\n",
       " 'Brewery',\n",
       " 'Brewing',\n",
       " 'Bri',\n",
       " 'Brian',\n",
       " 'Brianna',\n",
       " 'Brick',\n",
       " 'Bridal',\n",
       " 'Bridge',\n",
       " 'Brie',\n",
       " 'Brien',\n",
       " 'Briggs',\n",
       " 'Brilliant',\n",
       " 'Bring',\n",
       " 'Brio',\n",
       " 'Brioche',\n",
       " 'Brioni',\n",
       " 'Brisket',\n",
       " 'Brit',\n",
       " 'British',\n",
       " 'Britishers',\n",
       " 'Britney',\n",
       " 'Brittan',\n",
       " 'Brittian',\n",
       " 'Brittle',\n",
       " 'Broadway',\n",
       " 'Broccolini',\n",
       " 'Broiled',\n",
       " 'Broken',\n",
       " 'Bronx',\n",
       " 'Brooklyn',\n",
       " 'Brookstone',\n",
       " 'Bros',\n",
       " 'Broth',\n",
       " 'Brother',\n",
       " 'Brothers',\n",
       " 'Brought',\n",
       " 'Brown',\n",
       " 'Brownie',\n",
       " 'Brownies',\n",
       " 'Bruce',\n",
       " 'Bruchetta',\n",
       " 'Bruder',\n",
       " 'Brule',\n",
       " 'Brulee',\n",
       " 'Brunch',\n",
       " 'Bruschetta',\n",
       " 'Brussel',\n",
       " 'Brussels',\n",
       " 'Brutus',\n",
       " 'Bryan',\n",
       " 'Brûlée',\n",
       " 'Bs',\n",
       " 'Btw',\n",
       " 'Buca',\n",
       " 'Bucatini',\n",
       " 'Bucca',\n",
       " 'Bucco',\n",
       " 'Buchanan',\n",
       " 'Bucket',\n",
       " 'Buckeye',\n",
       " 'Buckeyes',\n",
       " 'Buckhunt',\n",
       " 'Buckle',\n",
       " 'Bucks',\n",
       " 'Buckwheat',\n",
       " 'Buds',\n",
       " 'Budweiser',\n",
       " 'Bueno',\n",
       " 'Buffalo',\n",
       " 'Buffet',\n",
       " 'Bug',\n",
       " 'Bugtussel',\n",
       " 'Build',\n",
       " 'Bulgogi',\n",
       " 'Bulk',\n",
       " 'Bullriders',\n",
       " 'Bummer',\n",
       " 'Bun',\n",
       " 'Buns',\n",
       " 'Buon',\n",
       " 'Burch',\n",
       " 'Burger',\n",
       " 'Burgers',\n",
       " 'Burlington',\n",
       " 'Burmese',\n",
       " 'Burrata',\n",
       " 'Burratta',\n",
       " 'Burrito',\n",
       " 'Burritos',\n",
       " 'Burt',\n",
       " 'Burton',\n",
       " 'Busan',\n",
       " 'Bush',\n",
       " 'Business',\n",
       " 'Businesses',\n",
       " 'Bust',\n",
       " 'Busy',\n",
       " 'But',\n",
       " 'Butai',\n",
       " 'Butcher',\n",
       " 'Butka',\n",
       " 'Butter',\n",
       " 'Buttercream',\n",
       " 'Buttercrunch',\n",
       " 'Butters',\n",
       " 'Buttery',\n",
       " 'Buy',\n",
       " 'Buyer',\n",
       " 'Buzz',\n",
       " 'By',\n",
       " 'Bye',\n",
       " 'CA',\n",
       " 'CALIFORNIA',\n",
       " 'CALL',\n",
       " 'CALLE',\n",
       " 'CAN',\n",
       " 'CANAILLE',\n",
       " 'CANNOT',\n",
       " 'CAPS',\n",
       " 'CARE',\n",
       " 'CARES',\n",
       " 'CART',\n",
       " 'CASE',\n",
       " 'CASK',\n",
       " 'CAT',\n",
       " 'CAVEAT',\n",
       " 'CB',\n",
       " 'CC',\n",
       " 'CCA',\n",
       " 'CCO',\n",
       " 'CD',\n",
       " 'CDC',\n",
       " 'CDs',\n",
       " 'CENTS',\n",
       " 'CEO',\n",
       " 'CERTAIN',\n",
       " 'CFLs',\n",
       " 'CH',\n",
       " 'CHAIN',\n",
       " 'CHANCE',\n",
       " 'CHANDLER',\n",
       " 'CHANGE',\n",
       " 'CHARBROILED',\n",
       " 'CHARRED',\n",
       " 'CHEAP',\n",
       " 'CHECK',\n",
       " 'CHICAGO',\n",
       " 'CHINESE',\n",
       " 'CHZ',\n",
       " 'CIBO',\n",
       " 'CK',\n",
       " 'CLEAN',\n",
       " 'CLEARLY',\n",
       " 'CLINIC',\n",
       " 'CLOCK',\n",
       " 'CLOSED',\n",
       " 'CLOTHES',\n",
       " 'CO',\n",
       " 'CODE',\n",
       " 'COKE',\n",
       " 'COLD',\n",
       " 'COME',\n",
       " 'COMING',\n",
       " 'COMPETENT',\n",
       " 'COMPLETELY',\n",
       " 'CONSISTANCY',\n",
       " 'CONSISTENCY',\n",
       " 'CONTACT',\n",
       " 'COOL',\n",
       " 'CORNBREAD',\n",
       " 'COST',\n",
       " 'COSTS',\n",
       " 'COULD',\n",
       " 'CPC',\n",
       " 'CPH',\n",
       " 'CPR',\n",
       " 'CRAB',\n",
       " 'CRACKS',\n",
       " 'CRAFT',\n",
       " 'CRAVE',\n",
       " 'CRAZY',\n",
       " 'CRIB',\n",
       " 'CRRRAAZZYYY',\n",
       " 'CRUST',\n",
       " 'CUCUMBER',\n",
       " 'CURSING',\n",
       " 'CUSTOMER',\n",
       " 'CUZ',\n",
       " 'CVS',\n",
       " 'Cab',\n",
       " 'Cabbage',\n",
       " 'Cabela',\n",
       " 'Cabernet',\n",
       " 'Cactus',\n",
       " 'Caddilac',\n",
       " 'Cadillac',\n",
       " 'Caesar',\n",
       " 'Caesars',\n",
       " 'Cafe',\n",
       " 'Cafeteria',\n",
       " 'Caffe',\n",
       " 'Café',\n",
       " 'Cage',\n",
       " 'Cajun',\n",
       " 'Cajuns',\n",
       " 'Cake',\n",
       " 'Cakes',\n",
       " 'Cal',\n",
       " 'Calamari',\n",
       " 'Calamos',\n",
       " 'Cali',\n",
       " 'Caliente',\n",
       " 'California',\n",
       " 'Calimari',\n",
       " 'Call',\n",
       " 'Called',\n",
       " 'Calm',\n",
       " 'Calories',\n",
       " 'Calypso',\n",
       " 'Calzone',\n",
       " 'Came',\n",
       " 'Camelback',\n",
       " 'Camelbacks',\n",
       " 'Camelview',\n",
       " 'Camera',\n",
       " 'Cameras',\n",
       " 'Camp',\n",
       " 'Campbell',\n",
       " 'Camping',\n",
       " 'Campus',\n",
       " 'Camus',\n",
       " 'Can',\n",
       " 'Canada',\n",
       " 'Canadian',\n",
       " 'Canasta',\n",
       " 'Candied',\n",
       " 'Candy',\n",
       " 'Canes',\n",
       " 'Canidae',\n",
       " 'Canine',\n",
       " 'Cannibal',\n",
       " 'Cannot',\n",
       " 'Canoe',\n",
       " 'Cant',\n",
       " 'Canteen',\n",
       " 'Cantina',\n",
       " 'Canton',\n",
       " 'Cantonese',\n",
       " 'Canyon',\n",
       " 'Canyone',\n",
       " 'Capellini',\n",
       " 'Capezio',\n",
       " 'Capital',\n",
       " 'Capitol',\n",
       " 'Cappuccino',\n",
       " 'Caprese',\n",
       " 'Capri',\n",
       " 'Capriottis',\n",
       " 'Car',\n",
       " 'Caramel',\n",
       " 'Carbonara',\n",
       " 'Card',\n",
       " 'Cardinal',\n",
       " 'Cardinals',\n",
       " 'Cards',\n",
       " 'Care',\n",
       " 'Carefree',\n",
       " 'Careful',\n",
       " 'Carefully',\n",
       " 'Caribbean',\n",
       " 'Carl',\n",
       " 'Carla',\n",
       " 'Carlos',\n",
       " 'Carlsbad',\n",
       " 'Carlton',\n",
       " 'Carmel',\n",
       " 'Carmelized',\n",
       " 'Carne',\n",
       " 'Carnegie',\n",
       " 'Carniceria',\n",
       " 'Carnitas',\n",
       " 'Carol',\n",
       " 'Carolina',\n",
       " 'Caroline',\n",
       " 'Carpaccio',\n",
       " 'Carpet',\n",
       " 'Carrabba',\n",
       " 'Carribbean',\n",
       " 'Cars',\n",
       " 'Cartel',\n",
       " 'Cartwrights',\n",
       " 'Casa',\n",
       " 'Case',\n",
       " 'Casella',\n",
       " 'Casey',\n",
       " 'Cash',\n",
       " 'Cashew',\n",
       " 'Cashiers',\n",
       " 'Casie',\n",
       " 'Casita',\n",
       " 'Casserole',\n",
       " 'Castilla',\n",
       " 'Casual',\n",
       " 'Catch',\n",
       " 'Caucasians',\n",
       " 'Caught',\n",
       " 'Caution',\n",
       " 'Cavalleria',\n",
       " 'Cave',\n",
       " 'Caveat',\n",
       " 'Caviar',\n",
       " 'Ceaser',\n",
       " 'Celebrated',\n",
       " 'Celebrating',\n",
       " 'Celery',\n",
       " 'Celina',\n",
       " 'Celsius',\n",
       " 'CenPho',\n",
       " 'Center',\n",
       " 'Centers',\n",
       " 'Central',\n",
       " 'Centre',\n",
       " 'Cerignola',\n",
       " 'Certainly',\n",
       " 'Certificate',\n",
       " 'Certificates',\n",
       " 'Cesar',\n",
       " 'Ceviche',\n",
       " 'Cezanne',\n",
       " 'Cha',\n",
       " 'Chace',\n",
       " 'Chai',\n",
       " 'Chalet',\n",
       " 'Challenge',\n",
       " 'Chamber',\n",
       " 'Chambord',\n",
       " 'Champagne',\n",
       " 'Championship',\n",
       " 'Champong',\n",
       " 'Chance',\n",
       " 'Chancer',\n",
       " 'Chancers',\n",
       " 'Chances',\n",
       " 'Chandler',\n",
       " 'Chang',\n",
       " 'Change',\n",
       " 'Changes',\n",
       " 'Changing',\n",
       " 'Changs',\n",
       " 'Channel',\n",
       " 'Chanterelle',\n",
       " 'Chanterelles',\n",
       " 'Chaparral',\n",
       " 'Char',\n",
       " 'Chard',\n",
       " 'Chardonnay',\n",
       " 'Charged',\n",
       " 'Charleen',\n",
       " 'Charlene',\n",
       " 'Charleston',\n",
       " 'Charlie',\n",
       " 'Charlotte',\n",
       " 'Charred',\n",
       " 'Chased',\n",
       " 'Cheap',\n",
       " 'Cheaper',\n",
       " 'Checca',\n",
       " 'Check',\n",
       " 'Checked',\n",
       " 'Checklist',\n",
       " 'Cheddar',\n",
       " 'Cheers',\n",
       " 'Cheese',\n",
       " 'Cheesecake',\n",
       " 'Cheesesteak',\n",
       " 'Cheesy',\n",
       " 'Cheez',\n",
       " 'Chef',\n",
       " 'Chefs',\n",
       " 'Chelsea',\n",
       " 'Chemex',\n",
       " 'Cherry',\n",
       " 'Cherryblossom',\n",
       " 'Cheryl',\n",
       " 'Chew',\n",
       " 'Chewy',\n",
       " 'Chi',\n",
       " 'ChiChi',\n",
       " 'Chiang',\n",
       " 'Chianti',\n",
       " 'Chic',\n",
       " 'Chicago',\n",
       " 'Chicagoan',\n",
       " 'Chick',\n",
       " 'Chicken',\n",
       " 'Chicory',\n",
       " 'Chilaquiles',\n",
       " 'Child',\n",
       " 'Childcare',\n",
       " 'Children',\n",
       " 'Chile',\n",
       " 'Chilean',\n",
       " 'Chili',\n",
       " 'Chill',\n",
       " 'Chilulah',\n",
       " 'Chimi',\n",
       " 'Chimichanga',\n",
       " 'Chimmichurri',\n",
       " 'Chin',\n",
       " 'China',\n",
       " 'Chinaberry',\n",
       " 'Chinatown',\n",
       " 'Chinese',\n",
       " 'Chino',\n",
       " 'Chip',\n",
       " 'Chipolte',\n",
       " ...]"
      ]
     },
     "execution_count": 541,
     "metadata": {},
     "output_type": "execute_result"
    }
   ],
   "source": [
    "# Don't convert to lowercase.\n",
    "vect = CountVectorizer(lowercase=False)\n",
    "X_train_dtm = vect.fit_transform(X_train)\n",
    "X_train_dtm.shape\n",
    "vect.get_feature_names()[500::]"
   ]
  },
  {
   "cell_type": "markdown",
   "metadata": {},
   "source": [
    "<a id='countvectorizer-model'></a>\n",
    "\n",
    "\n",
    "### Using CountVectorizer in a Model\n",
    "![DTM](images/DTM.png)"
   ]
  },
  {
   "cell_type": "code",
   "execution_count": 542,
   "metadata": {},
   "outputs": [
    {
     "name": "stdout",
     "output_type": "stream",
     "text": [
      "0.9187866927592955\n"
     ]
    }
   ],
   "source": [
    "# Use default options for CountVectorizer.\n",
    "vect = CountVectorizer()\n",
    "\n",
    "# Create document-term matrices.\n",
    "X_train_dtm = vect.fit_transform(X_train)\n",
    "X_test_dtm = vect.transform(X_test)\n",
    "\n",
    "# Use Naive Bayes to predict the star rating.\n",
    "nb = MultinomialNB()\n",
    "nb.fit(X_train_dtm, y_train)\n",
    "y_pred_class = nb.predict(X_test_dtm)\n",
    "\n",
    "# Calculate accuracy.\n",
    "print((metrics.accuracy_score(y_test, y_pred_class)))"
   ]
  },
  {
   "cell_type": "code",
   "execution_count": 543,
   "metadata": {},
   "outputs": [
    {
     "data": {
      "text/plain": [
       "5    838\n",
       "1    184\n",
       "Name: stars, dtype: int64"
      ]
     },
     "execution_count": 543,
     "metadata": {},
     "output_type": "execute_result"
    }
   ],
   "source": [
    "y_test.value_counts()"
   ]
  },
  {
   "cell_type": "code",
   "execution_count": 544,
   "metadata": {},
   "outputs": [
    {
     "name": "stdout",
     "output_type": "stream",
     "text": [
      "Percent 5 Stars: 0.8199608610567515\n",
      "Percent 1 Stars: 0.18003913894324852\n"
     ]
    }
   ],
   "source": [
    "# Calculate null accuracy.\n",
    "y_test_binary = np.where(y_test==5, 1, 0) # five stars become 1, one stars become 0\n",
    "print('Percent 5 Stars:', y_test_binary.mean())\n",
    "print('Percent 1 Stars:', 1 - y_test_binary.mean())"
   ]
  },
  {
   "cell_type": "markdown",
   "metadata": {},
   "source": [
    "Our model predicted ~92% accuracy, which is an improvement over this baseline 82% accuracy (assuming our model always predicts 5 stars).\n",
    "\n",
    "Let's look more into how the vectorizer works.\n",
    "\n",
    "----------------------------------------------------"
   ]
  },
  {
   "cell_type": "markdown",
   "metadata": {},
   "source": [
    "Notice how the data was transformed into this sparse matrix with 1,022 datapoints and 16,825 features!\n",
    "   - Recall that vectorizations of text will be mostly zeros, since only a few unique words are in each document.\n",
    "   - For that reason, instead of storing all the zeros we only store non-zero values (inside the 'sparse matrix' data structure!).\n",
    "   - We have 3064 Yelp reviews in our training set.\n",
    "   - 16,825 unique words were found across all documents."
   ]
  },
  {
   "cell_type": "code",
   "execution_count": 545,
   "metadata": {},
   "outputs": [
    {
     "data": {
      "text/plain": [
       "<3064x16825 sparse matrix of type '<class 'numpy.int64'>'\n",
       "\twith 237720 stored elements in Compressed Sparse Row format>"
      ]
     },
     "execution_count": 545,
     "metadata": {},
     "output_type": "execute_result"
    }
   ],
   "source": [
    "X_train_dtm"
   ]
  },
  {
   "cell_type": "markdown",
   "metadata": {},
   "source": [
    " Let's take a look at the vocabulary that was generated, containing 16,825 unique words.\n",
    "   - 'vocabulary_' is a dictionary that converts each word to its index in the sparse matrix.\n",
    "   - For example, the word \"four\" is index #3230 in the sparse matrix."
   ]
  },
  {
   "cell_type": "code",
   "execution_count": 546,
   "metadata": {},
   "outputs": [
    {
     "data": {
      "text/plain": [
       "{'filly': 5773,\n",
       " 'only': 10362,\n",
       " 'reviews': 12465,\n",
       " 'nine': 10069,\n",
       " 'now': 10180,\n",
       " 'wow': 16612,\n",
       " 'do': 4631,\n",
       " 'miss': 9578,\n",
       " 'this': 15093,\n",
       " 'place': 11186,\n",
       " '24hrs': 136,\n",
       " 'drive': 4809,\n",
       " 'thru': 15136,\n",
       " 'or': 10413,\n",
       " 'walk': 16195,\n",
       " 'up': 15834,\n",
       " 'ridiculously': 12514,\n",
       " 'cheap': 2789,\n",
       " 'tasty': 14838,\n",
       " 'of': 10286,\n",
       " 'course': 3679,\n",
       " 'the': 15032,\n",
       " 'arizona': 1018,\n",
       " 'burritos': 2286,\n",
       " 'are': 1003,\n",
       " 'good': 6571,\n",
       " 'everything': 5342,\n",
       " 'is': 7956,\n",
       " 'used': 15885,\n",
       " 'to': 15228,\n",
       " 'love': 8899,\n",
       " 'one': 10354,\n",
       " 'combos': 3233,\n",
       " 'you': 16727,\n",
       " 'get': 6433,\n",
       " 'beef': 1564,\n",
       " 'burrito': 2285,\n",
       " 'taco': 14720,\n",
       " 'rice': 12489,\n",
       " 'and': 805,\n",
       " 'beans': 1528,\n",
       " 'for': 6028,\n",
       " 'under': 15683,\n",
       " 'color': 3213,\n",
       " 'me': 9301,\n",
       " 'silly': 13462,\n",
       " 'call': 2398,\n",
       " 'sally': 12808,\n",
       " 'they': 15067,\n",
       " 'have': 7023,\n",
       " 'bomb': 1902,\n",
       " 'horchata': 7345,\n",
       " 'too': 15281,\n",
       " 'really': 12038,\n",
       " 'fresh': 6154,\n",
       " 'flautas': 5882,\n",
       " 'rolled': 12622,\n",
       " 'tacos': 14721,\n",
       " 'breakfast': 2069,\n",
       " 'damn': 3999,\n",
       " 'here': 7149,\n",
       " 'whether': 16394,\n",
       " 'drunk': 4837,\n",
       " 'sober': 13745,\n",
       " 'my': 9868,\n",
       " 'husband': 7476,\n",
       " 'absolutely': 353,\n",
       " 'restaurant': 12410,\n",
       " 'anytime': 889,\n",
       " 'find': 5790,\n",
       " 'myself': 9871,\n",
       " 'craving': 3757,\n",
       " 'mexican': 9440,\n",
       " 'food': 6006,\n",
       " 'first': 5828,\n",
       " 'that': 15027,\n",
       " 'pops': 11347,\n",
       " 'in': 7619,\n",
       " 'head': 7042,\n",
       " 'salsa': 12814,\n",
       " 'blanca': 1780,\n",
       " 'we': 16306,\n",
       " 'always': 735,\n",
       " 'encountered': 5144,\n",
       " 'friendly': 6171,\n",
       " 'welcoming': 16355,\n",
       " 'staff': 14107,\n",
       " 'amazing': 752,\n",
       " 'fulfilling': 6251,\n",
       " 'what': 16377,\n",
       " 'more': 9735,\n",
       " 'could': 3655,\n",
       " 'ask': 1101,\n",
       " 'went': 16361,\n",
       " 'today': 15237,\n",
       " 'after': 563,\n",
       " 'lunch': 8945,\n",
       " 'got': 6605,\n",
       " 'usual': 15893,\n",
       " 'lime': 8707,\n",
       " 'basil': 1477,\n",
       " 'real': 12029,\n",
       " 'mint': 9540,\n",
       " 'chip': 2896,\n",
       " 'which': 16396,\n",
       " 'leaves': 8570,\n",
       " 'hubby': 7420,\n",
       " 'chocolate': 2914,\n",
       " 'guiness': 6820,\n",
       " 'four': 6089,\n",
       " 'peaks': 10866,\n",
       " 'hop': 7329,\n",
       " 'knot': 8348,\n",
       " 'best': 1657,\n",
       " 'ice': 7503,\n",
       " 'cream': 3766,\n",
       " 'phoenix': 11045,\n",
       " 'super': 14545,\n",
       " 'nice': 10041,\n",
       " 'give': 6481,\n",
       " 'us': 15879,\n",
       " 'bags': 1345,\n",
       " 'take': 14743,\n",
       " 'our': 10493,\n",
       " 'home': 7283,\n",
       " 'totally': 15327,\n",
       " 'dissapointed': 4585,\n",
       " 'had': 6868,\n",
       " 'purchased': 11785,\n",
       " 'coupon': 3676,\n",
       " 'from': 6195,\n",
       " 'travelzoo': 15435,\n",
       " 'try': 15520,\n",
       " 'out': 10496,\n",
       " 'given': 6483,\n",
       " 'its': 7980,\n",
       " 'location': 8814,\n",
       " 'would': 16606,\n",
       " 'thought': 15104,\n",
       " 'it': 7971,\n",
       " 'was': 16252,\n",
       " 'going': 6551,\n",
       " 'be': 1522,\n",
       " 'very': 16032,\n",
       " 'upscale': 15861,\n",
       " 'were': 16362,\n",
       " 'expecting': 5440,\n",
       " 'whole': 16429,\n",
       " 'lot': 8881,\n",
       " 'service': 13193,\n",
       " 'great': 6693,\n",
       " 'but': 2312,\n",
       " 'not': 10148,\n",
       " 'worth': 16601,\n",
       " 'itself': 7981,\n",
       " 'outdated': 10500,\n",
       " '80': 284,\n",
       " 'crab': 3721,\n",
       " 'cakes': 2387,\n",
       " 'appertizer': 933,\n",
       " 'cold': 3192,\n",
       " 'when': 16389,\n",
       " 'served': 13188,\n",
       " 'told': 15254,\n",
       " 'waiter': 16181,\n",
       " 'who': 16425,\n",
       " 'turn': 15556,\n",
       " 'chef': 2828,\n",
       " 'message': 9416,\n",
       " 'passed': 10776,\n",
       " 'back': 1310,\n",
       " 'she': 13272,\n",
       " 'appologized': 957,\n",
       " 'ordred': 10434,\n",
       " '12oz': 52,\n",
       " 'new': 10013,\n",
       " 'york': 16724,\n",
       " 'strip': 14358,\n",
       " 'ala': 646,\n",
       " 'carte': 2573,\n",
       " '29': 153,\n",
       " '95': 307,\n",
       " 'oz': 10602,\n",
       " 'pure': 11789,\n",
       " 'fat': 5622,\n",
       " 'price': 11555,\n",
       " 'expect': 5435,\n",
       " 'meat': 9318,\n",
       " 'than': 15015,\n",
       " 'ordered': 10428,\n",
       " 'wild': 16461,\n",
       " 'mushroom': 9844,\n",
       " 'pizza': 11174,\n",
       " 'ok': 10322,\n",
       " 'needs': 9972,\n",
       " 'an': 797,\n",
       " 'over': 10532,\n",
       " 'haul': 7014,\n",
       " 'major': 9048,\n",
       " 'way': 16300,\n",
       " 'if': 7534,\n",
       " 'want': 16220,\n",
       " 'make': 9051,\n",
       " 'any': 879,\n",
       " 'money': 9689,\n",
       " 'at': 1157,\n",
       " 'saturday': 12905,\n",
       " 'night': 10052,\n",
       " '7pm': 282,\n",
       " 'empty': 5125,\n",
       " 'think': 15082,\n",
       " 'highlight': 7186,\n",
       " 'meal': 9303,\n",
       " 'bottle': 1981,\n",
       " 'cabinet': 2365,\n",
       " 'costco': 3635,\n",
       " 'travel': 15428,\n",
       " 'recently': 12073,\n",
       " 'returned': 12444,\n",
       " 'trip': 15483,\n",
       " 'big': 1704,\n",
       " 'island': 7958,\n",
       " 'hi': 7168,\n",
       " 'arranged': 1038,\n",
       " 'throught': 15130,\n",
       " 'shopping': 13361,\n",
       " 'around': 1033,\n",
       " 'found': 6083,\n",
       " 'their': 15039,\n",
       " 'prices': 11559,\n",
       " 'phone': 11049,\n",
       " 'able': 340,\n",
       " 'all': 679,\n",
       " 'arrangements': 1040,\n",
       " 'airfair': 621,\n",
       " 'condo': 3394,\n",
       " 'car': 2505,\n",
       " 'didn': 4411,\n",
       " 'with': 16526,\n",
       " 'bs': 2197,\n",
       " 'on': 10352,\n",
       " 'hilo': 7206,\n",
       " 'adjust': 485,\n",
       " 'dates': 4053,\n",
       " 'according': 398,\n",
       " 'plan': 11196,\n",
       " 'being': 1599,\n",
       " 'accurate': 405,\n",
       " 'outstanding': 10527,\n",
       " 'value': 15939,\n",
       " 'gas': 6356,\n",
       " 'did': 4409,\n",
       " 'some': 13798,\n",
       " 'souvenier': 13885,\n",
       " 'kona': 8363,\n",
       " 'again': 573,\n",
       " 'saved': 12923,\n",
       " 've': 15968,\n",
       " 'shopped': 13358,\n",
       " 'years': 16679,\n",
       " 'becoming': 1555,\n",
       " 'groupie': 6766,\n",
       " 'been': 1567,\n",
       " 'couple': 3672,\n",
       " 'there': 15057,\n",
       " 'advantages': 520,\n",
       " 'rarely': 11967,\n",
       " 'busy': 2311,\n",
       " 'larger': 8478,\n",
       " 'groups': 6770,\n",
       " 'last': 8490,\n",
       " 'few': 5720,\n",
       " 'times': 15190,\n",
       " 'experienced': 5448,\n",
       " 'average': 1253,\n",
       " 'lousy': 8897,\n",
       " 'joining': 8119,\n",
       " 'already': 719,\n",
       " 'seated': 13085,\n",
       " 'group': 6765,\n",
       " '28': 152,\n",
       " 'high': 7181,\n",
       " 'school': 12990,\n",
       " 'hostess': 7369,\n",
       " 'wagged': 16174,\n",
       " 'her': 7142,\n",
       " 'finger': 5800,\n",
       " 'face': 5528,\n",
       " 'like': 8695,\n",
       " 'east': 4943,\n",
       " 'german': 6428,\n",
       " 'border': 1953,\n",
       " 'guard': 6800,\n",
       " 'waffle': 16169,\n",
       " 'house': 7390,\n",
       " 'waitress': 16184,\n",
       " 'poked': 11295,\n",
       " 'shoulder': 13376,\n",
       " 'attention': 1197,\n",
       " 'wife': 16449,\n",
       " 'chicken': 2855,\n",
       " 'dish': 4540,\n",
       " 'sent': 13162,\n",
       " 'as': 1080,\n",
       " 'measly': 9314,\n",
       " 'pieces': 11099,\n",
       " 'beers': 1571,\n",
       " 'tap': 14792,\n",
       " 'garbage': 6337,\n",
       " 'muffler': 9815,\n",
       " 'shop': 13354,\n",
       " 'town': 15357,\n",
       " 'shops': 13362,\n",
       " 'trust': 15513,\n",
       " 'mighty': 9482,\n",
       " 'them': 15042,\n",
       " 'greg': 6714,\n",
       " 'has': 6999,\n",
       " 'worked': 16580,\n",
       " 'multiple': 9824,\n",
       " 'cars': 2571,\n",
       " 'done': 4687,\n",
       " 'job': 8105,\n",
       " 'ever': 5333,\n",
       " 'issues': 7968,\n",
       " 'he': 7041,\n",
       " 'takes': 14748,\n",
       " 'care': 2525,\n",
       " 'problem': 11605,\n",
       " 'no': 10084,\n",
       " 'questions': 11856,\n",
       " 'asked': 1102,\n",
       " 'just': 8189,\n",
       " 'start': 14159,\n",
       " 'off': 10287,\n",
       " 'by': 2346,\n",
       " 'saying': 12940,\n",
       " 'egg': 5023,\n",
       " 'salad': 12788,\n",
       " 'sandwiches': 12862,\n",
       " 'probably': 11603,\n",
       " 'tried': 15473,\n",
       " 'sandwich': 12860,\n",
       " 'anywhere': 892,\n",
       " 'serves': 13192,\n",
       " 'sacks': 12762,\n",
       " 'far': 5600,\n",
       " 'entitled': 5217,\n",
       " 'dali': 3991,\n",
       " 'life': 8673,\n",
       " 'live': 8775,\n",
       " 'north': 10136,\n",
       " 'will': 16470,\n",
       " 'literally': 8770,\n",
       " 'many': 9120,\n",
       " 'miles': 9493,\n",
       " 'eat': 4949,\n",
       " 'top': 15293,\n",
       " 'wonderful': 16554,\n",
       " 'menu': 9396,\n",
       " 'whenever': 16390,\n",
       " 'order': 10427,\n",
       " 'comes': 3237,\n",
       " 'little': 8773,\n",
       " 'cookie': 3558,\n",
       " 'cookies': 3559,\n",
       " 'can': 2435,\n",
       " 'purchase': 11784,\n",
       " 'dough': 4722,\n",
       " 'also': 721,\n",
       " 'other': 10485,\n",
       " 'delicious': 4220,\n",
       " 'dessert': 4342,\n",
       " 'bars': 1458,\n",
       " 'salads': 12789,\n",
       " 'sale': 12796,\n",
       " 'well': 16356,\n",
       " 'eating': 4958,\n",
       " 'least': 8566,\n",
       " '14': 56,\n",
       " 'hope': 7330,\n",
       " 'never': 10012,\n",
       " 'go': 6532,\n",
       " 'away': 1275,\n",
       " 'saw': 12934,\n",
       " 'triple': 15485,\n",
       " 'so': 13738,\n",
       " 'decided': 4131,\n",
       " 'expectations': 5438,\n",
       " 'arrived': 1048,\n",
       " 'shocked': 13339,\n",
       " 'thursday': 15145,\n",
       " 'morning': 9742,\n",
       " 'line': 8724,\n",
       " 'extra': 5494,\n",
       " 'long': 8842,\n",
       " 'wait': 16179,\n",
       " 'patiently': 10810,\n",
       " 'don': 4682,\n",
       " 'needless': 9971,\n",
       " 'say': 12938,\n",
       " 'because': 1548,\n",
       " 'quickly': 11864,\n",
       " 'pork': 11358,\n",
       " 'chop': 2938,\n",
       " 'eggs': 5030,\n",
       " 'hash': 7000,\n",
       " 'browns': 2168,\n",
       " 'fabulous': 5526,\n",
       " 'toast': 15229,\n",
       " 'made': 8998,\n",
       " 'grape': 6659,\n",
       " 'jelly': 8061,\n",
       " 'recommend': 12097,\n",
       " 'anyone': 885,\n",
       " 'downtown': 4743,\n",
       " 'area': 1004,\n",
       " 'sure': 14583,\n",
       " 'bacon': 1324,\n",
       " 'hit': 7232,\n",
       " 'wine': 16492,\n",
       " 'down': 4732,\n",
       " 'wednesday': 16325,\n",
       " 'happenin': 6955,\n",
       " 'tastings': 14837,\n",
       " 'courtesy': 3685,\n",
       " 'kyot': 8401,\n",
       " 'wrong': 16639,\n",
       " 'event': 5330,\n",
       " 'minutes': 9546,\n",
       " 'maybe': 9272,\n",
       " 'spot': 14035,\n",
       " 'case': 2583,\n",
       " 'hoppin': 7339,\n",
       " 'walked': 16197,\n",
       " 'looks': 8855,\n",
       " 'possibly': 11391,\n",
       " 'manager': 9088,\n",
       " 'owner': 10590,\n",
       " 'then': 15047,\n",
       " 'pointed': 11285,\n",
       " 'towards': 15350,\n",
       " 'room': 12641,\n",
       " 'where': 16391,\n",
       " 'held': 7114,\n",
       " 'about': 343,\n",
       " 'tables': 14711,\n",
       " 'people': 10927,\n",
       " 'talk': 14757,\n",
       " 'early': 4926,\n",
       " 'bird': 1735,\n",
       " 'gets': 6435,\n",
       " 'worm': 16591,\n",
       " 'finish': 5808,\n",
       " 'table': 14709,\n",
       " 'sit': 13510,\n",
       " 'patio': 10812,\n",
       " 'said': 12778,\n",
       " 'yes': 16698,\n",
       " 'right': 12522,\n",
       " 'help': 7124,\n",
       " 'meantime': 9312,\n",
       " 'another': 850,\n",
       " 'woman': 16548,\n",
       " 'friend': 6167,\n",
       " 'took': 15283,\n",
       " 'nearby': 9954,\n",
       " '20': 107,\n",
       " 'later': 8498,\n",
       " 'looking': 8853,\n",
       " 'came': 2417,\n",
       " 'helped': 7125,\n",
       " 'yet': 16701,\n",
       " 'left': 8583,\n",
       " 'return': 12443,\n",
       " 'small': 13638,\n",
       " 'happy': 6963,\n",
       " 'hour': 7388,\n",
       " 'flier': 5905,\n",
       " 'handed': 6914,\n",
       " 'distance': 4592,\n",
       " 'even': 5327,\n",
       " 'come': 3234,\n",
       " 'know': 8351,\n",
       " 're': 12013,\n",
       " 'wondering': 16557,\n",
       " 'why': 16440,\n",
       " '15': 60,\n",
       " 'wanted': 16222,\n",
       " 'see': 13113,\n",
       " 'how': 7404,\n",
       " 'bad': 1326,\n",
       " 'frankly': 6118,\n",
       " 'same': 12833,\n",
       " 'full': 6252,\n",
       " 'detailed': 4352,\n",
       " 'menus': 9398,\n",
       " 'deals': 4093,\n",
       " 'ready': 12028,\n",
       " 'um': 15635,\n",
       " 'gave': 6375,\n",
       " '10': 16,\n",
       " 'seconds': 13096,\n",
       " 'ago': 587,\n",
       " 'enjoy': 5179,\n",
       " 'look': 8851,\n",
       " 'app': 913,\n",
       " 'specialty': 13945,\n",
       " 'appetizer': 938,\n",
       " 'much': 9807,\n",
       " 'whatever': 16378,\n",
       " 'deal': 4087,\n",
       " 'drink': 4801,\n",
       " 'section': 13103,\n",
       " 'claim': 3029,\n",
       " 'glasses': 6497,\n",
       " 'excited': 5387,\n",
       " 'wines': 16493,\n",
       " 'reality': 12031,\n",
       " 'consisted': 3467,\n",
       " 'three': 15116,\n",
       " 'different': 4427,\n",
       " 'weren': 16363,\n",
       " 'women': 16549,\n",
       " 'outside': 10525,\n",
       " 'leave': 8569,\n",
       " 'having': 7026,\n",
       " 'enough': 5189,\n",
       " 'shenanigans': 13295,\n",
       " '30': 162,\n",
       " 'since': 13482,\n",
       " 'next': 10031,\n",
       " 'door': 4699,\n",
       " 'sprouts': 14064,\n",
       " 'apps': 978,\n",
       " 'own': 10588,\n",
       " 'bet': 1660,\n",
       " 'plenty': 11250,\n",
       " 'experiences': 5449,\n",
       " 'continue': 3514,\n",
       " 'visit': 16107,\n",
       " 'happily': 6961,\n",
       " 'experience': 5447,\n",
       " 'caused': 2628,\n",
       " 'write': 16632,\n",
       " 'usually': 15894,\n",
       " 'instance': 7807,\n",
       " 'wish': 16521,\n",
       " 'actually': 447,\n",
       " 'review': 12460,\n",
       " 'poor': 11337,\n",
       " 'substandard': 14446,\n",
       " 'giving': 6486,\n",
       " 'understand': 15696,\n",
       " 'isn': 7962,\n",
       " 'better': 1667,\n",
       " 'talented': 14753,\n",
       " 'others': 10486,\n",
       " 'however': 7407,\n",
       " 'business': 2300,\n",
       " 'should': 13375,\n",
       " 'customer': 3946,\n",
       " 'cliched': 3082,\n",
       " 'less': 8626,\n",
       " 'star': 14146,\n",
       " 'oh': 10310,\n",
       " 'yeah': 16674,\n",
       " 'slapped': 13575,\n",
       " 'yelped': 16689,\n",
       " 'card': 2516,\n",
       " 'pepperoni': 10937,\n",
       " 'amazed': 749,\n",
       " 'herb': 7143,\n",
       " 'vegetable': 15976,\n",
       " 'garden': 6340,\n",
       " 'front': 6197,\n",
       " 'ingredients': 7747,\n",
       " 'these': 15065,\n",
       " 'days': 4067,\n",
       " 'dishes': 4541,\n",
       " 'cheese': 2818,\n",
       " 'platters': 11225,\n",
       " 'mouth': 9782,\n",
       " 'watering': 16285,\n",
       " 'speak': 13926,\n",
       " 'day': 4064,\n",
       " 'll': 8788,\n",
       " 'keep': 8244,\n",
       " 'adding': 469,\n",
       " 'stay': 14186,\n",
       " 'tuned': 15547,\n",
       " 'btw': 2198,\n",
       " 'decor': 4149,\n",
       " 'reminds': 12272,\n",
       " 'vig': 16066,\n",
       " 'definitely': 4188,\n",
       " 'spacious': 13898,\n",
       " 'dining': 4462,\n",
       " 'sushi': 14612,\n",
       " 'time': 15184,\n",
       " 'garlic': 6346,\n",
       " 'knots': 8350,\n",
       " 'favorite': 5643,\n",
       " 'alot': 716,\n",
       " 'panda': 10687,\n",
       " 'family': 5581,\n",
       " 'run': 12728,\n",
       " 'chinese': 2894,\n",
       " 'most': 9757,\n",
       " 'importantly': 7596,\n",
       " 'style': 14421,\n",
       " 'meals': 9304,\n",
       " 'personal': 10987,\n",
       " 'empress': 5122,\n",
       " 'sweeter': 14655,\n",
       " 'orange': 10415,\n",
       " 'flavor': 5884,\n",
       " 'melts': 9371,\n",
       " 'your': 16732,\n",
       " 'kung': 8396,\n",
       " 'pao': 10705,\n",
       " 'two': 15598,\n",
       " 'shrimp': 13403,\n",
       " 'leftovers': 8585,\n",
       " 'thanks': 15024,\n",
       " 'generous': 6407,\n",
       " 'portions': 11369,\n",
       " 'selection': 13131,\n",
       " 'sake': 12784,\n",
       " 'beer': 1570,\n",
       " 'everyone': 5340,\n",
       " 'else': 5078,\n",
       " 'checks': 2809,\n",
       " 'man': 9083,\n",
       " 'leaving': 8571,\n",
       " 'six': 13519,\n",
       " 'half': 6889,\n",
       " 'search': 13073,\n",
       " 'gotten': 6610,\n",
       " 'point': 11283,\n",
       " 'settled': 13205,\n",
       " 'decent': 4125,\n",
       " 'work': 16579,\n",
       " 'colleague': 3202,\n",
       " 'suggested': 14496,\n",
       " 'dine': 4454,\n",
       " 'corporate': 3610,\n",
       " 'meeting': 9348,\n",
       " 'while': 16398,\n",
       " 'realized': 12033,\n",
       " 'native': 9933,\n",
       " 'metro': 9435,\n",
       " 'thing': 15077,\n",
       " 'trusted': 15514,\n",
       " 'his': 7227,\n",
       " 'palate': 10656,\n",
       " 'sense': 13156,\n",
       " 'pleased': 11243,\n",
       " 'diners': 4458,\n",
       " 'predominately': 11467,\n",
       " 'asian': 1098,\n",
       " 'knew': 8337,\n",
       " 'market': 9165,\n",
       " 'things': 15079,\n",
       " 'signaled': 13445,\n",
       " 'thrilled': 15123,\n",
       " 'familiar': 5579,\n",
       " 'dim': 4448,\n",
       " 'sum': 14510,\n",
       " 'carts': 2578,\n",
       " 'rolling': 12624,\n",
       " 'through': 15128,\n",
       " 'party': 10768,\n",
       " 'shared': 13254,\n",
       " 'fantastic': 5596,\n",
       " 'succulent': 14469,\n",
       " 'orders': 10431,\n",
       " 'equally': 5244,\n",
       " 'veggies': 15981,\n",
       " 'brightly': 2120,\n",
       " 'colored': 3215,\n",
       " 'tastes': 14830,\n",
       " 'distinctive': 4598,\n",
       " 'hot': 7374,\n",
       " 'sour': 13871,\n",
       " 'soup': 13868,\n",
       " 'perfect': 10949,\n",
       " 'filled': 5766,\n",
       " 'kinds': 8310,\n",
       " 'mushrooms': 9845,\n",
       " 'etc': 5301,\n",
       " 'delighted': 4226,\n",
       " 'reminisced': 12273,\n",
       " 'dinners': 4466,\n",
       " 'chinatown': 2893,\n",
       " 'ny': 10224,\n",
       " 'comparable': 3290,\n",
       " 'close': 3108,\n",
       " 'regular': 12197,\n",
       " 'chandler': 2741,\n",
       " 'clear': 3067,\n",
       " 'side': 13428,\n",
       " 'world': 16588,\n",
       " 'figure': 5750,\n",
       " 'marco': 9133,\n",
       " 'polo': 11314,\n",
       " 'palace': 10653,\n",
       " 'prompt': 11671,\n",
       " 'rounded': 12678,\n",
       " 'hooray': 7326,\n",
       " 'stayed': 14189,\n",
       " 'hotel': 7377,\n",
       " 'tuscany': 15566,\n",
       " 'scallops': 12951,\n",
       " 'pasta': 10788,\n",
       " 'excellent': 5374,\n",
       " 'server': 13189,\n",
       " 'bliss': 1820,\n",
       " 'haven': 7024,\n",
       " 'quality': 11833,\n",
       " 'dinner': 4465,\n",
       " 'stupendous': 14413,\n",
       " 'every': 5336,\n",
       " 'cent': 2674,\n",
       " 'must': 9856,\n",
       " 'yin': 16705,\n",
       " 'yang': 16663,\n",
       " 'martini': 9195,\n",
       " 'creative': 3779,\n",
       " 'presented': 11514,\n",
       " 'smiles': 13664,\n",
       " 'smores': 13684,\n",
       " 'desert': 4315,\n",
       " 'hands': 6928,\n",
       " 'connosiuer': 3444,\n",
       " 'critical': 3821,\n",
       " 'college': 3209,\n",
       " 'kids': 8288,\n",
       " 'ra': 11887,\n",
       " 'mediocre': 9341,\n",
       " 'list': 8755,\n",
       " 'irk': 7938,\n",
       " 'during': 4891,\n",
       " 'co': 3145,\n",
       " 'workers': 16582,\n",
       " 'packed': 10616,\n",
       " 'extremely': 5503,\n",
       " 'meet': 9347,\n",
       " 'coworkers': 3708,\n",
       " 'tired': 15214,\n",
       " 'chill': 2878,\n",
       " 'past': 10787,\n",
       " 'friends': 6172,\n",
       " 'alone': 710,\n",
       " 'quite': 11877,\n",
       " 'bit': 1749,\n",
       " 'servings': 13197,\n",
       " 'obviously': 10256,\n",
       " 'low': 8911,\n",
       " 'zen': 16785,\n",
       " '32': 172,\n",
       " 'choice': 2922,\n",
       " 'sakebomber': 12785,\n",
       " 'loud': 8886,\n",
       " 'noises': 10098,\n",
       " 'trying': 15521,\n",
       " 'louder': 8887,\n",
       " 'music': 9848,\n",
       " 'person': 10985,\n",
       " 'overall': 10533,\n",
       " 'tip': 15207,\n",
       " 'priced': 11556,\n",
       " 'works': 16587,\n",
       " 'horrible': 7351,\n",
       " 'twice': 15586,\n",
       " 'gone': 6564,\n",
       " 'messing': 9420,\n",
       " 'starbucks': 14148,\n",
       " 'hard': 6969,\n",
       " 'believe': 1604,\n",
       " 'attitude': 1202,\n",
       " 'lady': 8427,\n",
       " 'doesn': 4648,\n",
       " 'ordering': 10429,\n",
       " 'someone': 13803,\n",
       " 'fix': 5846,\n",
       " 'known': 8356,\n",
       " 'ya': 16655,\n",
       " 'employees': 5117,\n",
       " 'rude': 12708,\n",
       " 'makes': 9055,\n",
       " 'anymore': 884,\n",
       " 'stopped': 14290,\n",
       " 'still': 14252,\n",
       " 'mom': 9679,\n",
       " 'goes': 6549,\n",
       " 'coffee': 3182,\n",
       " 'coast': 3151,\n",
       " 'deli': 4210,\n",
       " 'west': 16365,\n",
       " 'appalachians': 914,\n",
       " 'creams': 3771,\n",
       " 'pricy': 11566,\n",
       " 'apparently': 921,\n",
       " 'free': 6134,\n",
       " 'summer': 14515,\n",
       " 'kept': 8256,\n",
       " 'stars': 14158,\n",
       " 'frown': 6207,\n",
       " 'birthday': 1739,\n",
       " 'spirits': 13998,\n",
       " 'written': 16637,\n",
       " 'clarity': 3042,\n",
       " 'margaritas': 9140,\n",
       " 'strong': 14376,\n",
       " 'check': 2797,\n",
       " '18': 75,\n",
       " 'mahi': 9025,\n",
       " 'each': 4917,\n",
       " '24': 135,\n",
       " 'rancid': 11948,\n",
       " 'yup': 16765,\n",
       " 'fajitas': 5564,\n",
       " 'jumbo': 8173,\n",
       " 'charge': 2763,\n",
       " 'entree': 5222,\n",
       " 'pay': 10844,\n",
       " 'onions': 10360,\n",
       " 'once': 10353,\n",
       " 'week': 16329,\n",
       " 'asada': 1081,\n",
       " 'enchilada': 5138,\n",
       " 'avocado': 1260,\n",
       " 'lover': 8905,\n",
       " 'ripest': 12542,\n",
       " 'avocados': 1261,\n",
       " 'f724': 5521,\n",
       " 'bother': 1975,\n",
       " 'asking': 1104,\n",
       " 'entering': 5201,\n",
       " 'reply': 12331,\n",
       " 'spoke': 14020,\n",
       " 'acknowledged': 419,\n",
       " 'presence': 11511,\n",
       " 'ticket': 15153,\n",
       " 'happened': 6954,\n",
       " 'effort': 5020,\n",
       " 'tell': 14925,\n",
       " 'scathing': 12969,\n",
       " 'deplorable': 4288,\n",
       " 'sadly': 12768,\n",
       " 'dmv': 4628,\n",
       " 'modeled': 9641,\n",
       " 'agonizing': 588,\n",
       " 'depths': 4297,\n",
       " 'hell': 7117,\n",
       " 'musac': 9837,\n",
       " 'score': 13009,\n",
       " 'playing': 11233,\n",
       " 'voracious': 16143,\n",
       " 'stench': 14221,\n",
       " 'air': 619,\n",
       " 'spastic': 13921,\n",
       " 'children': 2869,\n",
       " 'running': 12731,\n",
       " 'version': 16028,\n",
       " 'politicians': 11310,\n",
       " 'campaigning': 2426,\n",
       " 'late': 8496,\n",
       " 'complete': 3331,\n",
       " 'emissions': 5104,\n",
       " 'test': 14990,\n",
       " 'those': 15101,\n",
       " 'dmvs': 4629,\n",
       " 'open': 10379,\n",
       " 'saturdays': 12906,\n",
       " 'map': 9121,\n",
       " 'precious': 11458,\n",
       " 'fortunate': 6071,\n",
       " 'near': 9953,\n",
       " 'seriously': 13180,\n",
       " 'entire': 5215,\n",
       " 'valley': 15936,\n",
       " 'receiving': 12071,\n",
       " 'such': 14471,\n",
       " 'magnificent': 9018,\n",
       " 'welcome': 16352,\n",
       " 'among': 781,\n",
       " 'painful': 10633,\n",
       " 'simplify': 13476,\n",
       " 'let': 8630,\n",
       " 'feel': 5678,\n",
       " 'constitutes': 3479,\n",
       " 'acceptable': 371,\n",
       " 'behavior': 1594,\n",
       " 'public': 11732,\n",
       " 'bathe': 1492,\n",
       " 'combination': 3227,\n",
       " 'water': 16280,\n",
       " 'soap': 13742,\n",
       " 'along': 711,\n",
       " 'massaging': 9221,\n",
       " 'skin': 13553,\n",
       " 'creates': 3775,\n",
       " 'outcome': 10499,\n",
       " 'pleasing': 11244,\n",
       " 'scrub': 13050,\n",
       " 'behind': 1595,\n",
       " 'ears': 4932,\n",
       " 'reference': 12142,\n",
       " 'website': 16318,\n",
       " 'notorious': 10164,\n",
       " 'http': 7416,\n",
       " 'www': 16645,\n",
       " 'craigslist': 3740,\n",
       " 'org': 10443,\n",
       " 'htf': 7414,\n",
       " '755891987': 278,\n",
       " 'html': 7415,\n",
       " 'waiting': 16183,\n",
       " 'tapping': 14800,\n",
       " 'foot': 6022,\n",
       " 'rocking': 12609,\n",
       " 'forth': 6070,\n",
       " 'chair': 2712,\n",
       " 'bouncing': 1999,\n",
       " 'leg': 8586,\n",
       " 'aren': 1006,\n",
       " 'faster': 5620,\n",
       " 'watching': 16279,\n",
       " 'clock': 3102,\n",
       " 'anxious': 877,\n",
       " 'leash': 8563,\n",
       " 'cannot': 2465,\n",
       " 'quietly': 11868,\n",
       " 'winter': 16506,\n",
       " 'fine': 5794,\n",
       " 'cute': 3953,\n",
       " 'monster': 9702,\n",
       " 'aisles': 634,\n",
       " 'honey': 7307,\n",
       " 'bun': 2261,\n",
       " 'squeezing': 14083,\n",
       " 'between': 1671,\n",
       " 'fingers': 5805,\n",
       " 'fake': 5566,\n",
       " 'falls': 5575,\n",
       " 'five': 5845,\n",
       " 'row': 12686,\n",
       " 'maintain': 9039,\n",
       " 'quiet': 11866,\n",
       " 'tones': 15272,\n",
       " 'ensure': 5197,\n",
       " 'appropriate': 973,\n",
       " 'conversations': 3541,\n",
       " 'taking': 14749,\n",
       " 'making': 9060,\n",
       " 'calls': 2404,\n",
       " 'sorry': 13851,\n",
       " 'stripping': 14366,\n",
       " 'popped': 11342,\n",
       " 'into': 7877,\n",
       " 'mind': 9515,\n",
       " 'failed': 5550,\n",
       " 'audition': 1218,\n",
       " 'le': 8539,\n",
       " 'girl': 6470,\n",
       " 'continued': 3515,\n",
       " 'conversation': 3539,\n",
       " 'woodworker': 16571,\n",
       " 'acknowledge': 418,\n",
       " 'humans': 7440,\n",
       " 'fact': 5540,\n",
       " 'sideways': 13435,\n",
       " 'disappear': 4490,\n",
       " 'quit': 11876,\n",
       " 'bumping': 2259,\n",
       " 'hitting': 7235,\n",
       " 'unless': 15770,\n",
       " 'flirting': 5917,\n",
       " 'need': 9966,\n",
       " 'level': 8636,\n",
       " 'brilliant': 2122,\n",
       " 'recipe': 12083,\n",
       " 'dashing': 4050,\n",
       " 'dreams': 4778,\n",
       " 'gutting': 6850,\n",
       " 'humanity': 7439,\n",
       " 'manage': 9084,\n",
       " 'painfully': 10634,\n",
       " 'lit': 8766,\n",
       " 'reeks': 12137,\n",
       " 'brother': 2158,\n",
       " 'old': 10328,\n",
       " 'gym': 6853,\n",
       " 'shoes': 13345,\n",
       " 'dad': 3979,\n",
       " 'dirty': 4486,\n",
       " 'underwear': 15703,\n",
       " 'award': 1271,\n",
       " ...}"
      ]
     },
     "execution_count": 546,
     "metadata": {},
     "output_type": "execute_result"
    }
   ],
   "source": [
    "# Let's take a look at the vocabulary that was generated, containing 16,825 unique words.\n",
    "#   'vocabulary_' is a dictionary that converts each word to its index in the sparse matrix.\n",
    "#   - For example, the word \"four\" is index #3230 in the sparse matrix.\n",
    "\n",
    "vect.vocabulary_"
   ]
  },
  {
   "cell_type": "code",
   "execution_count": 547,
   "metadata": {},
   "outputs": [],
   "source": [
    "# We will use this function below for simplicity.\n",
    "\n",
    "# Define a function that accepts a vectorizer and calculates the accuracy.\n",
    "def tokenize_test(vect):\n",
    "    X_train_dtm = vect.fit_transform(X_train)\n",
    "    print(('Features: ', X_train_dtm.shape[1]))\n",
    "    X_test_dtm = vect.transform(X_test)\n",
    "    nb = MultinomialNB()\n",
    "    nb.fit(X_train_dtm, y_train)\n",
    "    y_pred_class = nb.predict(X_test_dtm)\n",
    "    print(('Accuracy: ', metrics.accuracy_score(y_test, y_pred_class)))"
   ]
  },
  {
   "cell_type": "code",
   "execution_count": 548,
   "metadata": {},
   "outputs": [
    {
     "name": "stdout",
     "output_type": "stream",
     "text": [
      "('Features: ', 8783)\n",
      "('Accuracy: ', 0.9246575342465754)\n"
     ]
    }
   ],
   "source": [
    "# min_df ignores words that occur less than twice ('df' means \"document frequency\").\n",
    "vect = CountVectorizer(min_df=2, max_features=10000)\n",
    "tokenize_test(vect)"
   ]
  },
  {
   "cell_type": "markdown",
   "metadata": {},
   "source": [
    "### Exercises\n",
    "#### 1. Drug Reviews- Default Count Vectorizer"
   ]
  },
  {
   "cell_type": "code",
   "execution_count": 549,
   "metadata": {},
   "outputs": [],
   "source": [
    "drug_reviews=pd.read_table('./data/drugsComTrain_raw.tsv', sep='\\t')"
   ]
  },
  {
   "cell_type": "code",
   "execution_count": 550,
   "metadata": {},
   "outputs": [],
   "source": [
    "drug_reviews.rename(columns={\"Unnamed: 0\": \"User_ID\"}, inplace=True)"
   ]
  },
  {
   "cell_type": "code",
   "execution_count": 551,
   "metadata": {},
   "outputs": [],
   "source": [
    "drug_reviews.set_index('User_ID', inplace=True)"
   ]
  },
  {
   "cell_type": "code",
   "execution_count": 552,
   "metadata": {},
   "outputs": [],
   "source": [
    "drug_reviews_weightloss = drug_reviews[drug_reviews['condition']=='Weight Loss']"
   ]
  },
  {
   "cell_type": "code",
   "execution_count": 553,
   "metadata": {},
   "outputs": [
    {
     "data": {
      "text/html": [
       "<div>\n",
       "<style scoped>\n",
       "    .dataframe tbody tr th:only-of-type {\n",
       "        vertical-align: middle;\n",
       "    }\n",
       "\n",
       "    .dataframe tbody tr th {\n",
       "        vertical-align: top;\n",
       "    }\n",
       "\n",
       "    .dataframe thead th {\n",
       "        text-align: right;\n",
       "    }\n",
       "</style>\n",
       "<table border=\"1\" class=\"dataframe\">\n",
       "  <thead>\n",
       "    <tr style=\"text-align: right;\">\n",
       "      <th></th>\n",
       "      <th>drugName</th>\n",
       "      <th>condition</th>\n",
       "      <th>review</th>\n",
       "      <th>rating</th>\n",
       "      <th>date</th>\n",
       "      <th>usefulCount</th>\n",
       "      <th>ratings_simplified</th>\n",
       "    </tr>\n",
       "    <tr>\n",
       "      <th>User_ID</th>\n",
       "      <th></th>\n",
       "      <th></th>\n",
       "      <th></th>\n",
       "      <th></th>\n",
       "      <th></th>\n",
       "      <th></th>\n",
       "      <th></th>\n",
       "    </tr>\n",
       "  </thead>\n",
       "  <tbody>\n",
       "    <tr>\n",
       "      <td>164952</td>\n",
       "      <td>Phentermine / topiramate</td>\n",
       "      <td>Weight Loss</td>\n",
       "      <td>\"I have been on the Qysmia for 3 weeks now.  I...</td>\n",
       "      <td>8.0</td>\n",
       "      <td>December 25, 2015</td>\n",
       "      <td>38</td>\n",
       "      <td>3</td>\n",
       "    </tr>\n",
       "    <tr>\n",
       "      <td>145900</td>\n",
       "      <td>Qsymia</td>\n",
       "      <td>Weight Loss</td>\n",
       "      <td>\"My Dr agreed to over see putting me on Qsymia...</td>\n",
       "      <td>9.0</td>\n",
       "      <td>February 24, 2013</td>\n",
       "      <td>46</td>\n",
       "      <td>4</td>\n",
       "    </tr>\n",
       "    <tr>\n",
       "      <td>52117</td>\n",
       "      <td>Adipex-P</td>\n",
       "      <td>Weight Loss</td>\n",
       "      <td>\"I just started Adipex-P 37.5mg on March 6th, ...</td>\n",
       "      <td>8.0</td>\n",
       "      <td>March 10, 2011</td>\n",
       "      <td>7</td>\n",
       "      <td>3</td>\n",
       "    </tr>\n",
       "    <tr>\n",
       "      <td>145785</td>\n",
       "      <td>Qsymia</td>\n",
       "      <td>Weight Loss</td>\n",
       "      <td>\"Began taking Qsymia 3.75 in June 2013. Its on...</td>\n",
       "      <td>10.0</td>\n",
       "      <td>May 26, 2014</td>\n",
       "      <td>61</td>\n",
       "      <td>4</td>\n",
       "    </tr>\n",
       "    <tr>\n",
       "      <td>145840</td>\n",
       "      <td>Qsymia</td>\n",
       "      <td>Weight Loss</td>\n",
       "      <td>\"Made me jittery and could not sleep. Lost wei...</td>\n",
       "      <td>1.0</td>\n",
       "      <td>August 21, 2013</td>\n",
       "      <td>59</td>\n",
       "      <td>1</td>\n",
       "    </tr>\n",
       "  </tbody>\n",
       "</table>\n",
       "</div>"
      ],
      "text/plain": [
       "                         drugName    condition  \\\n",
       "User_ID                                          \n",
       "164952   Phentermine / topiramate  Weight Loss   \n",
       "145900                     Qsymia  Weight Loss   \n",
       "52117                    Adipex-P  Weight Loss   \n",
       "145785                     Qsymia  Weight Loss   \n",
       "145840                     Qsymia  Weight Loss   \n",
       "\n",
       "                                                    review  rating  \\\n",
       "User_ID                                                              \n",
       "164952   \"I have been on the Qysmia for 3 weeks now.  I...     8.0   \n",
       "145900   \"My Dr agreed to over see putting me on Qsymia...     9.0   \n",
       "52117    \"I just started Adipex-P 37.5mg on March 6th, ...     8.0   \n",
       "145785   \"Began taking Qsymia 3.75 in June 2013. Its on...    10.0   \n",
       "145840   \"Made me jittery and could not sleep. Lost wei...     1.0   \n",
       "\n",
       "                      date  usefulCount  ratings_simplified  \n",
       "User_ID                                                      \n",
       "164952   December 25, 2015           38                   3  \n",
       "145900   February 24, 2013           46                   4  \n",
       "52117       March 10, 2011            7                   3  \n",
       "145785        May 26, 2014           61                   4  \n",
       "145840     August 21, 2013           59                   1  "
      ]
     },
     "execution_count": 553,
     "metadata": {},
     "output_type": "execute_result"
    }
   ],
   "source": [
    "def transform_ratings_simplified(rating):\n",
    "    if rating <= 3:\n",
    "        return 1\n",
    "    elif rating > 3 and rating <= 6:\n",
    "        return 2 \n",
    "    elif rating >= 7 and rating<9:\n",
    "        return 3 \n",
    "    elif rating >=9:\n",
    "        return 4 \n",
    "\n",
    "#Applying transform method and assigning result to new column \"points_simplified\"\n",
    "drug_reviews_weightloss = drug_reviews_weightloss.assign(ratings_simplified = drug_reviews_weightloss['rating'].apply(transform_ratings_simplified))\n",
    "drug_reviews_weightloss.head()"
   ]
  },
  {
   "cell_type": "markdown",
   "metadata": {},
   "source": [
    "**Define X and Y, split into train/test (use `random_state`=1) and then convert them to DTMs.  Build a Naive Bayes model and calculate accuracy on the test set.**"
   ]
  },
  {
   "cell_type": "code",
   "execution_count": 554,
   "metadata": {},
   "outputs": [],
   "source": [
    "# Define X and y.\n",
    "X = drug_reviews_weightloss.review\n",
    "y = drug_reviews_weightloss.ratings_simplified"
   ]
  },
  {
   "cell_type": "code",
   "execution_count": 555,
   "metadata": {},
   "outputs": [],
   "source": [
    "# Split the new DataFrame into training and testing sets.\n",
    "X_train, X_test, y_train, y_test = train_test_split(X, y, random_state=1)"
   ]
  },
  {
   "cell_type": "code",
   "execution_count": 556,
   "metadata": {},
   "outputs": [],
   "source": [
    "# Use CountVectorizer to create document-term matrices from X_train and X_test.\n",
    "vect = CountVectorizer()\n",
    "X_train_dtm = vect.fit_transform(X_train)\n",
    "X_test_dtm = vect.transform(X_test)"
   ]
  },
  {
   "cell_type": "code",
   "execution_count": 557,
   "metadata": {},
   "outputs": [
    {
     "name": "stdout",
     "output_type": "stream",
     "text": [
      "0.7375415282392026\n"
     ]
    }
   ],
   "source": [
    "# Use Naive Bayes to predict the star rating.\n",
    "nb = MultinomialNB()\n",
    "nb.fit(X_train_dtm, y_train)\n",
    "y_pred_class = nb.predict(X_test_dtm)\n",
    "\n",
    "# Calculate accuracy.\n",
    "print((metrics.accuracy_score(y_test, y_pred_class)))"
   ]
  },
  {
   "cell_type": "markdown",
   "metadata": {},
   "source": [
    "**Compare to Baseline Accuracy**"
   ]
  },
  {
   "cell_type": "code",
   "execution_count": 558,
   "metadata": {},
   "outputs": [
    {
     "name": "stdout",
     "output_type": "stream",
     "text": [
      "4    582\n",
      "3    133\n",
      "1    106\n",
      "2     82\n",
      "Name: ratings_simplified, dtype: int64\n"
     ]
    },
    {
     "data": {
      "text/plain": [
       "0.6445182724252492"
      ]
     },
     "execution_count": 558,
     "metadata": {},
     "output_type": "execute_result"
    }
   ],
   "source": [
    "print(y_test.value_counts())\n",
    "582/len(y_test)"
   ]
  },
  {
   "cell_type": "markdown",
   "metadata": {},
   "source": [
    "**Add a prediction column to the original drug_reviews_weightloss dataset.  Using groupby, compare the average predictions vs. the actual ratings by drug name.**"
   ]
  },
  {
   "cell_type": "code",
   "execution_count": 559,
   "metadata": {},
   "outputs": [],
   "source": [
    "X_dtm = vect.transform(X)\n",
    "drug_reviews_weightloss['pred'] = nb.predict(X_dtm)"
   ]
  },
  {
   "cell_type": "code",
   "execution_count": 560,
   "metadata": {},
   "outputs": [
    {
     "data": {
      "text/html": [
       "<div>\n",
       "<style scoped>\n",
       "    .dataframe tbody tr th:only-of-type {\n",
       "        vertical-align: middle;\n",
       "    }\n",
       "\n",
       "    .dataframe tbody tr th {\n",
       "        vertical-align: top;\n",
       "    }\n",
       "\n",
       "    .dataframe thead th {\n",
       "        text-align: right;\n",
       "    }\n",
       "</style>\n",
       "<table border=\"1\" class=\"dataframe\">\n",
       "  <thead>\n",
       "    <tr style=\"text-align: right;\">\n",
       "      <th></th>\n",
       "      <th>rating</th>\n",
       "      <th>usefulCount</th>\n",
       "      <th>ratings_simplified</th>\n",
       "      <th>pred</th>\n",
       "    </tr>\n",
       "    <tr>\n",
       "      <th>drugName</th>\n",
       "      <th></th>\n",
       "      <th></th>\n",
       "      <th></th>\n",
       "      <th></th>\n",
       "    </tr>\n",
       "  </thead>\n",
       "  <tbody>\n",
       "    <tr>\n",
       "      <td>Megace</td>\n",
       "      <td>10.000000</td>\n",
       "      <td>68.000000</td>\n",
       "      <td>4.000000</td>\n",
       "      <td>4.000000</td>\n",
       "    </tr>\n",
       "    <tr>\n",
       "      <td>Lomaira</td>\n",
       "      <td>9.000000</td>\n",
       "      <td>3.000000</td>\n",
       "      <td>4.000000</td>\n",
       "      <td>4.000000</td>\n",
       "    </tr>\n",
       "    <tr>\n",
       "      <td>T-Diet</td>\n",
       "      <td>10.000000</td>\n",
       "      <td>72.000000</td>\n",
       "      <td>4.000000</td>\n",
       "      <td>4.000000</td>\n",
       "    </tr>\n",
       "    <tr>\n",
       "      <td>Phentride</td>\n",
       "      <td>8.000000</td>\n",
       "      <td>40.000000</td>\n",
       "      <td>3.000000</td>\n",
       "      <td>4.000000</td>\n",
       "    </tr>\n",
       "    <tr>\n",
       "      <td>Phentercot</td>\n",
       "      <td>9.500000</td>\n",
       "      <td>22.500000</td>\n",
       "      <td>4.000000</td>\n",
       "      <td>4.000000</td>\n",
       "    </tr>\n",
       "    <tr>\n",
       "      <td>Megace ES</td>\n",
       "      <td>9.666667</td>\n",
       "      <td>41.333333</td>\n",
       "      <td>4.000000</td>\n",
       "      <td>4.000000</td>\n",
       "    </tr>\n",
       "    <tr>\n",
       "      <td>Adipex-P</td>\n",
       "      <td>9.058824</td>\n",
       "      <td>60.588235</td>\n",
       "      <td>3.713725</td>\n",
       "      <td>3.917647</td>\n",
       "    </tr>\n",
       "    <tr>\n",
       "      <td>Phentermine</td>\n",
       "      <td>8.799339</td>\n",
       "      <td>32.317919</td>\n",
       "      <td>3.599505</td>\n",
       "      <td>3.856317</td>\n",
       "    </tr>\n",
       "    <tr>\n",
       "      <td>Megestrol</td>\n",
       "      <td>8.636364</td>\n",
       "      <td>33.272727</td>\n",
       "      <td>3.636364</td>\n",
       "      <td>3.636364</td>\n",
       "    </tr>\n",
       "    <tr>\n",
       "      <td>Victoza</td>\n",
       "      <td>8.142857</td>\n",
       "      <td>32.365079</td>\n",
       "      <td>3.253968</td>\n",
       "      <td>3.619048</td>\n",
       "    </tr>\n",
       "    <tr>\n",
       "      <td>Phentermine / topiramate</td>\n",
       "      <td>7.847390</td>\n",
       "      <td>43.751004</td>\n",
       "      <td>3.236948</td>\n",
       "      <td>3.566265</td>\n",
       "    </tr>\n",
       "    <tr>\n",
       "      <td>Liraglutide</td>\n",
       "      <td>7.903614</td>\n",
       "      <td>18.018072</td>\n",
       "      <td>3.222892</td>\n",
       "      <td>3.500000</td>\n",
       "    </tr>\n",
       "    <tr>\n",
       "      <td>Saxenda</td>\n",
       "      <td>8.294737</td>\n",
       "      <td>13.852632</td>\n",
       "      <td>3.357895</td>\n",
       "      <td>3.494737</td>\n",
       "    </tr>\n",
       "    <tr>\n",
       "      <td>Belviq</td>\n",
       "      <td>7.858268</td>\n",
       "      <td>56.272966</td>\n",
       "      <td>3.265092</td>\n",
       "      <td>3.480315</td>\n",
       "    </tr>\n",
       "    <tr>\n",
       "      <td>Qsymia</td>\n",
       "      <td>7.695652</td>\n",
       "      <td>52.613527</td>\n",
       "      <td>3.188406</td>\n",
       "      <td>3.478261</td>\n",
       "    </tr>\n",
       "    <tr>\n",
       "      <td>Lorcaserin</td>\n",
       "      <td>7.919897</td>\n",
       "      <td>56.090439</td>\n",
       "      <td>3.276486</td>\n",
       "      <td>3.465116</td>\n",
       "    </tr>\n",
       "    <tr>\n",
       "      <td>Belviq XR</td>\n",
       "      <td>8.333333</td>\n",
       "      <td>8.000000</td>\n",
       "      <td>3.333333</td>\n",
       "      <td>3.333333</td>\n",
       "    </tr>\n",
       "    <tr>\n",
       "      <td>Contrave</td>\n",
       "      <td>6.380228</td>\n",
       "      <td>20.171103</td>\n",
       "      <td>2.714829</td>\n",
       "      <td>3.068441</td>\n",
       "    </tr>\n",
       "    <tr>\n",
       "      <td>Bupropion / naltrexone</td>\n",
       "      <td>6.318352</td>\n",
       "      <td>20.138577</td>\n",
       "      <td>2.700375</td>\n",
       "      <td>3.063670</td>\n",
       "    </tr>\n",
       "    <tr>\n",
       "      <td>Fastin</td>\n",
       "      <td>7.171429</td>\n",
       "      <td>67.257143</td>\n",
       "      <td>2.971429</td>\n",
       "      <td>3.057143</td>\n",
       "    </tr>\n",
       "    <tr>\n",
       "      <td>Ionamin</td>\n",
       "      <td>7.285714</td>\n",
       "      <td>30.142857</td>\n",
       "      <td>3.000000</td>\n",
       "      <td>3.000000</td>\n",
       "    </tr>\n",
       "  </tbody>\n",
       "</table>\n",
       "</div>"
      ],
      "text/plain": [
       "                             rating  usefulCount  ratings_simplified      pred\n",
       "drugName                                                                      \n",
       "Megace                    10.000000    68.000000            4.000000  4.000000\n",
       "Lomaira                    9.000000     3.000000            4.000000  4.000000\n",
       "T-Diet                    10.000000    72.000000            4.000000  4.000000\n",
       "Phentride                  8.000000    40.000000            3.000000  4.000000\n",
       "Phentercot                 9.500000    22.500000            4.000000  4.000000\n",
       "Megace ES                  9.666667    41.333333            4.000000  4.000000\n",
       "Adipex-P                   9.058824    60.588235            3.713725  3.917647\n",
       "Phentermine                8.799339    32.317919            3.599505  3.856317\n",
       "Megestrol                  8.636364    33.272727            3.636364  3.636364\n",
       "Victoza                    8.142857    32.365079            3.253968  3.619048\n",
       "Phentermine / topiramate   7.847390    43.751004            3.236948  3.566265\n",
       "Liraglutide                7.903614    18.018072            3.222892  3.500000\n",
       "Saxenda                    8.294737    13.852632            3.357895  3.494737\n",
       "Belviq                     7.858268    56.272966            3.265092  3.480315\n",
       "Qsymia                     7.695652    52.613527            3.188406  3.478261\n",
       "Lorcaserin                 7.919897    56.090439            3.276486  3.465116\n",
       "Belviq XR                  8.333333     8.000000            3.333333  3.333333\n",
       "Contrave                   6.380228    20.171103            2.714829  3.068441\n",
       "Bupropion / naltrexone     6.318352    20.138577            2.700375  3.063670\n",
       "Fastin                     7.171429    67.257143            2.971429  3.057143\n",
       "Ionamin                    7.285714    30.142857            3.000000  3.000000"
      ]
     },
     "execution_count": 560,
     "metadata": {},
     "output_type": "execute_result"
    }
   ],
   "source": [
    "drug_reviews_weightloss.groupby('drugName').mean().sort_values('pred', ascending=False)"
   ]
  },
  {
   "cell_type": "markdown",
   "metadata": {},
   "source": [
    "**Predict the following with your model.**"
   ]
  },
  {
   "cell_type": "code",
   "execution_count": 561,
   "metadata": {},
   "outputs": [],
   "source": [
    "test= ['This drug sucks!','This drug did not work.', 'This drug worked for me','This drug is great!']"
   ]
  },
  {
   "cell_type": "code",
   "execution_count": 562,
   "metadata": {},
   "outputs": [],
   "source": [
    "test_dtm=vect.transform(test)"
   ]
  },
  {
   "cell_type": "code",
   "execution_count": 563,
   "metadata": {},
   "outputs": [
    {
     "data": {
      "text/plain": [
       "array([1, 1, 4, 4])"
      ]
     },
     "execution_count": 563,
     "metadata": {},
     "output_type": "execute_result"
    }
   ],
   "source": [
    "nb.predict(test_dtm)"
   ]
  },
  {
   "cell_type": "markdown",
   "metadata": {},
   "source": [
    "\n",
    "\n",
    "<a id='ngrams'></a>\n",
    "### N-Grams"
   ]
  },
  {
   "cell_type": "markdown",
   "metadata": {},
   "source": [
    "N-grams are features which consist of N consecutive words. This is useful because using the bag-of-words model, treating `data scientist` as a single feature has more meaning than having two independent features `data` and `scientist`!\n",
    "\n",
    "Example:\n",
    "```\n",
    "my cat is awesome\n",
    "Unigrams (1-grams): 'my', 'cat', 'is', 'awesome'\n",
    "Bigrams (2-grams): 'my cat', 'cat is', 'is awesome'\n",
    "Trigrams (3-grams): 'my cat is', 'cat is awesome'\n",
    "4-grams: 'my cat is awesome'\n",
    "```\n",
    "\n",
    "- **ngram_range:** tuple (min_n, max_n)\n",
    "- The lower and upper boundary of the range of n-values for different n-grams to be extracted. All values of n such that min_n <= n <= max_n will be used."
   ]
  },
  {
   "cell_type": "code",
   "execution_count": 564,
   "metadata": {},
   "outputs": [],
   "source": [
    "# Read yelp.csv into a DataFrame.\n",
    "path = './data/yelp.csv'\n",
    "yelp = pd.read_csv(path)\n",
    "\n",
    "# Create a new DataFrame that only contains the 5-star and 1-star reviews.\n",
    "yelp_best_worst = yelp[(yelp.stars==5) | (yelp.stars==1)]\n",
    "\n",
    "# Define X and y.\n",
    "X = yelp_best_worst.text\n",
    "y = yelp_best_worst.stars"
   ]
  },
  {
   "cell_type": "markdown",
   "metadata": {},
   "source": [
    "**Split data into train/test**"
   ]
  },
  {
   "cell_type": "code",
   "execution_count": 565,
   "metadata": {},
   "outputs": [],
   "source": [
    "# Split the new DataFrame into training and testing sets.\n",
    "X_train, X_test, y_train, y_test = train_test_split(X, y, random_state=1)"
   ]
  },
  {
   "cell_type": "code",
   "execution_count": 566,
   "metadata": {},
   "outputs": [
    {
     "data": {
      "text/plain": [
       "(3064, 169847)"
      ]
     },
     "execution_count": 566,
     "metadata": {},
     "output_type": "execute_result"
    }
   ],
   "source": [
    "# Include 1-grams and 2-grams.\n",
    "vect = CountVectorizer(ngram_range=(1, 2))\n",
    "X_train_dtm = vect.fit_transform(X_train)\n",
    "X_train_dtm.shape"
   ]
  },
  {
   "cell_type": "markdown",
   "metadata": {},
   "source": [
    "We can start to see how supplementing our features with n-grams can lead to more feature columns. When we produce n-grams from a document with $W$ words, we add an additional $(n-W+1)$ features (at most). That said, be careful — when we compute n-grams from an entire corpus, the number of _unique_ n-grams could be vastly higher than the number of _unique_ unigrams! This could cause an undesired feature explosion.\n",
    "\n",
    "Although we sometimes add important new features that have meaning such as `data scientist`, many of the new features will just be noise. So, particularly if we do not have much data, adding n-grams can actually decrease model performance. This is because if each n-gram is only present once or twice in the training set, we are effectively adding mostly noisy features to the mix."
   ]
  },
  {
   "cell_type": "code",
   "execution_count": 567,
   "metadata": {
    "scrolled": true
   },
   "outputs": [
    {
     "name": "stdout",
     "output_type": "stream",
     "text": [
      "['zone out', 'zone when', 'zones', 'zones dolls', 'zoning', 'zoning issues', 'zoo', 'zoo and', 'zoo is', 'zoo not', 'zoo the', 'zoo ve', 'zoyo', 'zoyo for', 'zucca', 'zucca appetizer', 'zucchini', 'zucchini and', 'zucchini bread', 'zucchini broccoli', 'zucchini carrots', 'zucchini fries', 'zucchini pieces', 'zucchini strips', 'zucchini veal', 'zucchini very', 'zucchini with', 'zuchinni', 'zuchinni again', 'zuchinni the', 'zumba', 'zumba class', 'zumba or', 'zumba yogalates', 'zupa', 'zupa flavors', 'zuzu', 'zuzu in', 'zuzu is', 'zuzu the', 'zwiebel', 'zwiebel kräuter', 'zzed', 'zzed in', 'éclairs', 'éclairs napoleons', 'école', 'école lenôtre', 'ém', 'ém all']\n"
     ]
    }
   ],
   "source": [
    "# Last 50 features\n",
    "print((vect.get_feature_names()[-50:]))"
   ]
  },
  {
   "cell_type": "markdown",
   "metadata": {},
   "source": [
    "<a id='stopwords'></a>\n",
    "\n",
    "### Stop-Word Removal\n",
    "\n",
    "- **What:** This process is used to remove common words that will likely appear in any text.\n",
    "- **Why:** Because common words exist in most documents, they likely only add noise to your model and should be removed.\n",
    "\n",
    "**What are stop words?**\n",
    "Stop words are some of the most common words in a language. They are used so that a sentence makes sense grammatically, such as prepositions and determiners, e.g., \"to,\" \"the,\" \"and.\" However, they are so commonly used that they are generally worthless for predicting the class of a document. Since \"a\" appears in spam and non-spam emails, for example, it would only contribute noise to our model.\n",
    "\n",
    "Example: \n",
    "\n",
    "> 1. Original sentence: \"The dog jumped over the fence\"  \n",
    "> 2. After stop-word removal: \"dog jumped over fence\"\n",
    "\n",
    "The fact that there is a fence and a dog jumped over it can be derived with or without stop words."
   ]
  },
  {
   "cell_type": "markdown",
   "metadata": {},
   "source": [
    "- **stop_words:** string {`english`}, list, or None (default)\n",
    "- If `english`, a built-in stop word list for English is used.\n",
    "- If a list, that list is assumed to contain stop words, all of which will be removed from the resulting tokens.\n",
    "- If None, no stop words will be used. `max_df` can be set to a value in the range [0.7, 1.0) to automatically detect and filter stop words based on intra corpus document frequency of terms. (If `max_df` = 0.7, then if > 70% of documents contain a word it will not be included in the feature set!)"
   ]
  },
  {
   "cell_type": "code",
   "execution_count": 568,
   "metadata": {},
   "outputs": [
    {
     "name": "stdout",
     "output_type": "stream",
     "text": [
      "('Features: ', 16528)\n",
      "('Accuracy: ', 0.9158512720156555)\n"
     ]
    },
    {
     "data": {
      "text/plain": [
       "{'analyzer': 'word',\n",
       " 'binary': False,\n",
       " 'decode_error': 'strict',\n",
       " 'dtype': numpy.int64,\n",
       " 'encoding': 'utf-8',\n",
       " 'input': 'content',\n",
       " 'lowercase': True,\n",
       " 'max_df': 1.0,\n",
       " 'max_features': None,\n",
       " 'min_df': 1,\n",
       " 'ngram_range': (1, 1),\n",
       " 'preprocessor': None,\n",
       " 'stop_words': 'english',\n",
       " 'strip_accents': None,\n",
       " 'token_pattern': '(?u)\\\\b\\\\w\\\\w+\\\\b',\n",
       " 'tokenizer': None,\n",
       " 'vocabulary': None}"
      ]
     },
     "execution_count": 568,
     "metadata": {},
     "output_type": "execute_result"
    }
   ],
   "source": [
    "# Remove English stop words.\n",
    "vect = CountVectorizer(stop_words='english')\n",
    "tokenize_test(vect)\n",
    "vect.get_params()"
   ]
  },
  {
   "cell_type": "code",
   "execution_count": 569,
   "metadata": {},
   "outputs": [
    {
     "name": "stdout",
     "output_type": "stream",
     "text": [
      "frozenset({'ie', 'where', 'hers', 'down', 'therein', 'done', 'seemed', 'four', 'became', 'through', 'due', 'thereupon', 'several', 'thereafter', 'while', 'latter', 'take', 'anywhere', 'upon', 'because', 'this', 'much', 'ever', 'yourselves', 'nor', 'call', 'noone', 'then', 'becomes', 'else', 'few', 'her', 'somewhere', 'ourselves', 'anyone', 'amoungst', 'may', 'last', 'how', 'see', 'that', 'can', 'fifty', 'hasnt', 'its', 'couldnt', 're', 'will', 'keep', 'twelve', 'against', 'however', 'along', 'over', 'although', 'fill', 'whereas', 'once', 'thereby', 'five', 'of', 'always', 'none', 'eg', 'other', 'below', 'more', 'they', 'himself', 'during', 'made', 'but', 'no', 'should', 'formerly', 'already', 'even', 'enough', 'hereafter', 'themselves', 'less', 'de', 'in', 'afterwards', 'sincere', 'under', 'the', 'above', 'here', 'you', 'do', 'mill', 'never', 'within', 'something', 'be', 'together', 'about', 'latterly', 'everyone', 'by', 'these', 'thru', 'anything', 'thin', 'yours', 'whenever', 'around', 'have', 'moreover', 'without', 'one', 'both', 'rather', 'everything', 'yet', 'myself', 'was', 'his', 'ltd', 'often', 'to', 'there', 'nothing', 'ours', 'bottom', 'though', 'hence', 'everywhere', 'might', 'indeed', 'cannot', 'after', 'least', 'am', 'otherwise', 'put', 'us', 'most', 'beforehand', 'etc', 'or', 'wherein', 'find', 'yourself', 'being', 'beyond', 'part', 'third', 'con', 'inc', 'via', 'well', 'un', 'has', 'others', 'whose', 'if', 'would', 'describe', 'forty', 'me', 'anyway', 'become', 'three', 'except', 'back', 'whom', 'when', 'two', 'with', 'give', 'whither', 'into', 'it', 'seeming', 'fire', 'whatever', 'move', 'all', 'so', 'had', 'not', 'empty', 'beside', 'therefore', 'toward', 'their', 'system', 'cry', 'co', 'either', 'sixty', 'namely', 'meanwhile', 'as', 'he', 'besides', 'now', 'interest', 'whereupon', 'nine', 'such', 'until', 'please', 'anyhow', 'on', 'off', 'nevertheless', 'next', 'sometime', 'and', 'behind', 'somehow', 'name', 'for', 'an', 'are', 'wherever', 'twenty', 'many', 'amount', 'someone', 'those', 'also', 'before', 'former', 'front', 'among', 'could', 'from', 'becoming', 'another', 'who', 'alone', 'seem', 'what', 'first', 'only', 'cant', 'whole', 'i', 'him', 'were', 'must', 'too', 'whoever', 'some', 'thus', 'herein', 'whereafter', 'per', 'bill', 'them', 'seems', 'our', 'up', 'ten', 'your', 'been', 'side', 'perhaps', 'mine', 'still', 'six', 'eight', 'herself', 'whereby', 'fifteen', 'nobody', 'out', 'thence', 'onto', 'she', 'full', 'between', 'top', 'amongst', 'mostly', 'itself', 'get', 'since', 'detail', 'very', 'every', 'a', 'whence', 'which', 'serious', 'nowhere', 'further', 'throughout', 'eleven', 'found', 'thick', 'towards', 'than', 'each', 'go', 'we', 'same', 'is', 'hereby', 'hereupon', 'any', 'neither', 'show', 'at', 'whether', 'own', 'again', 'almost', 'why', 'sometimes', 'across', 'hundred', 'elsewhere', 'my'})\n"
     ]
    }
   ],
   "source": [
    "# Set of stop words\n",
    "print((vect.get_stop_words()))"
   ]
  },
  {
   "cell_type": "markdown",
   "metadata": {},
   "source": [
    "<a id='cvec_opt'></a>\n",
    "### Other CountVectorizer Options"
   ]
  },
  {
   "cell_type": "markdown",
   "metadata": {},
   "source": [
    "- `max_features`: int or None, default=None\n",
    "- If not None, build a vocabulary that only consider the top `max_features` ordered by term frequency across the corpus. This allows us to keep more common n-grams and remove ones that may appear once. If we include words that only occur once, this can lead to said features being highly associated with a class and cause overfitting."
   ]
  },
  {
   "cell_type": "code",
   "execution_count": 570,
   "metadata": {},
   "outputs": [
    {
     "name": "stdout",
     "output_type": "stream",
     "text": [
      "('Features: ', 100)\n",
      "('Accuracy: ', 0.8698630136986302)\n"
     ]
    }
   ],
   "source": [
    "# Remove English stop words and only keep 100 features.\n",
    "vect = CountVectorizer(stop_words='english', max_features=100)\n",
    "tokenize_test(vect)"
   ]
  },
  {
   "cell_type": "code",
   "execution_count": 571,
   "metadata": {},
   "outputs": [
    {
     "name": "stdout",
     "output_type": "stream",
     "text": [
      "['amazing', 'area', 'atmosphere', 'awesome', 'bad', 'bar', 'best', 'better', 'big', 'came', 'cheese', 'chicken', 'clean', 'coffee', 'come', 'day', 'definitely', 'delicious', 'did', 'didn', 'dinner', 'don', 'eat', 'excellent', 'experience', 'favorite', 'feel', 'food', 'free', 'fresh', 'friendly', 'friends', 'going', 'good', 'got', 'great', 'happy', 'home', 'hot', 'hour', 'just', 'know', 'like', 'little', 'll', 'location', 'long', 'looking', 'lot', 'love', 'lunch', 'make', 'meal', 'menu', 'minutes', 'need', 'new', 'nice', 'night', 'order', 'ordered', 'people', 'perfect', 'phoenix', 'pizza', 'place', 'pretty', 'prices', 'really', 'recommend', 'restaurant', 'right', 'said', 'salad', 'sandwich', 'sauce', 'say', 'service', 'staff', 'store', 'sure', 'table', 'thing', 'things', 'think', 'time', 'times', 'took', 'town', 'tried', 'try', 've', 'wait', 'want', 'way', 'went', 'wine', 'work', 'worth', 'years']\n"
     ]
    }
   ],
   "source": [
    "# All 100 features\n",
    "print((vect.get_feature_names()))"
   ]
  },
  {
   "cell_type": "markdown",
   "metadata": {},
   "source": [
    "Just like with all other models, more features does not mean a better model. So, we must tune our feature generator to remove features whose predictive capability is none or very low.\n",
    "\n",
    "In this case, there is roughly a 1.6% increase in accuracy when we double the n-gram size and increase our max features by 1,000-fold. Note that if we restrict it to only unigrams, then the accuracy increases even more! So, bigrams were very likely adding more noise than signal. \n",
    "\n",
    "In the end, by only using 16,000 unigram features we came away with a much smaller, simpler, and easier-to-think-about model which also resulted in higher accuracy."
   ]
  },
  {
   "cell_type": "code",
   "execution_count": 572,
   "metadata": {},
   "outputs": [
    {
     "name": "stdout",
     "output_type": "stream",
     "text": [
      "1-grams and 2-grams, up to 100K features:\n",
      "('Features: ', 100000)\n",
      "('Accuracy: ', 0.8855185909980431)\n",
      "\n",
      "1-grams only, up to 100K features:\n",
      "('Features: ', 16825)\n",
      "('Accuracy: ', 0.9187866927592955)\n"
     ]
    }
   ],
   "source": [
    "# Include 1-grams and 2-grams, and limit the number of features.\n",
    "\n",
    "print('1-grams and 2-grams, up to 100K features:')\n",
    "vect = CountVectorizer(ngram_range=(1, 2), max_features=100000)\n",
    "tokenize_test(vect)\n",
    "\n",
    "print()\n",
    "print('1-grams only, up to 100K features:')\n",
    "vect = CountVectorizer(ngram_range=(1, 1), max_features=100000)\n",
    "tokenize_test(vect)"
   ]
  },
  {
   "cell_type": "markdown",
   "metadata": {},
   "source": [
    "- `min_df`: Float in range [0.0, 1.0] or int, default=1\n",
    "- When building the vocabulary ignore terms that have a document frequency strictly lower than the given threshold. This value is also called cut-off in the literature. If float, the parameter represents a proportion of documents, integer absolute counts."
   ]
  },
  {
   "cell_type": "code",
   "execution_count": 573,
   "metadata": {
    "scrolled": true
   },
   "outputs": [
    {
     "name": "stdout",
     "output_type": "stream",
     "text": [
      "('Features: ', 25524)\n",
      "('Accuracy: ', 0.9197651663405088)\n"
     ]
    }
   ],
   "source": [
    "# Include 1-grams and 2-grams, and only include terms that appear at least two times.\n",
    "vect = CountVectorizer(ngram_range=(1, 2), min_df=3)\n",
    "tokenize_test(vect)"
   ]
  },
  {
   "cell_type": "markdown",
   "metadata": {},
   "source": [
    "### Exercises\n",
    "#### 2. Drug Reviews- Stop Words and N-Grams"
   ]
  },
  {
   "cell_type": "code",
   "execution_count": 574,
   "metadata": {},
   "outputs": [],
   "source": [
    "# Define X and y.\n",
    "X = drug_reviews_weightloss.review\n",
    "y = drug_reviews_weightloss.ratings_simplified"
   ]
  },
  {
   "cell_type": "code",
   "execution_count": 575,
   "metadata": {},
   "outputs": [],
   "source": [
    "# Split the new DataFrame into training and testing sets.\n",
    "X_train, X_test, y_train, y_test = train_test_split(X, y, random_state=1)"
   ]
  },
  {
   "cell_type": "markdown",
   "metadata": {},
   "source": [
    "**Build a Count Vectorizer removing stop words, use 1-2 ngrams, and min_df=3. Build a model and calculate the accuracy on your test set.**"
   ]
  },
  {
   "cell_type": "code",
   "execution_count": 576,
   "metadata": {},
   "outputs": [],
   "source": [
    "# Use CountVectorizer to create document-term matrices from X_train and X_test.\n",
    "vect = CountVectorizer(stop_words='english', ngram_range=(1,2), min_df=3)\n",
    "X_train_dtm = vect.fit_transform(X_train)\n",
    "X_test_dtm = vect.transform(X_test)"
   ]
  },
  {
   "cell_type": "code",
   "execution_count": 577,
   "metadata": {},
   "outputs": [
    {
     "name": "stdout",
     "output_type": "stream",
     "text": [
      "0.7840531561461794\n"
     ]
    }
   ],
   "source": [
    "# Use Naive Bayes to predict the star rating.\n",
    "nb = MultinomialNB()\n",
    "nb.fit(X_train_dtm, y_train)\n",
    "y_pred_class = nb.predict(X_test_dtm)\n",
    "\n",
    "# Calculate accuracy.\n",
    "print((metrics.accuracy_score(y_test, y_pred_class)))"
   ]
  },
  {
   "cell_type": "markdown",
   "metadata": {},
   "source": [
    "**Add a new prediction column to the original weightloss dataset.  Compare the count of each drug in the dataset vs. the average predictions.  Do you notice anything?**"
   ]
  },
  {
   "cell_type": "code",
   "execution_count": 578,
   "metadata": {},
   "outputs": [],
   "source": [
    "X_dtm = vect.transform(X)\n",
    "drug_reviews_weightloss['pred2'] = nb.predict(X_dtm)"
   ]
  },
  {
   "cell_type": "code",
   "execution_count": 579,
   "metadata": {},
   "outputs": [
    {
     "data": {
      "text/plain": [
       "Phentermine                 1211\n",
       "Lorcaserin                   387\n",
       "Belviq                       381\n",
       "Bupropion / naltrexone       267\n",
       "Contrave                     263\n",
       "Adipex-P                     255\n",
       "Phentermine / topiramate     249\n",
       "Qsymia                       207\n",
       "Liraglutide                  166\n",
       "Saxenda                       95\n",
       "Victoza                       63\n",
       "Fastin                        35\n",
       "Megestrol                     11\n",
       "Ionamin                        7\n",
       "Megace ES                      3\n",
       "Belviq XR                      3\n",
       "Phentercot                     2\n",
       "Lomaira                        1\n",
       "Megace                         1\n",
       "Phentride                      1\n",
       "T-Diet                         1\n",
       "Name: drugName, dtype: int64"
      ]
     },
     "execution_count": 579,
     "metadata": {},
     "output_type": "execute_result"
    }
   ],
   "source": [
    "drug_reviews_weightloss.drugName.value_counts()"
   ]
  },
  {
   "cell_type": "code",
   "execution_count": 580,
   "metadata": {},
   "outputs": [
    {
     "data": {
      "text/html": [
       "<div>\n",
       "<style scoped>\n",
       "    .dataframe tbody tr th:only-of-type {\n",
       "        vertical-align: middle;\n",
       "    }\n",
       "\n",
       "    .dataframe tbody tr th {\n",
       "        vertical-align: top;\n",
       "    }\n",
       "\n",
       "    .dataframe thead th {\n",
       "        text-align: right;\n",
       "    }\n",
       "</style>\n",
       "<table border=\"1\" class=\"dataframe\">\n",
       "  <thead>\n",
       "    <tr style=\"text-align: right;\">\n",
       "      <th></th>\n",
       "      <th>rating</th>\n",
       "      <th>usefulCount</th>\n",
       "      <th>ratings_simplified</th>\n",
       "      <th>pred</th>\n",
       "      <th>pred2</th>\n",
       "    </tr>\n",
       "    <tr>\n",
       "      <th>drugName</th>\n",
       "      <th></th>\n",
       "      <th></th>\n",
       "      <th></th>\n",
       "      <th></th>\n",
       "      <th></th>\n",
       "    </tr>\n",
       "  </thead>\n",
       "  <tbody>\n",
       "    <tr>\n",
       "      <td>Megace</td>\n",
       "      <td>10.000000</td>\n",
       "      <td>68.000000</td>\n",
       "      <td>4.000000</td>\n",
       "      <td>4.000000</td>\n",
       "      <td>4.000000</td>\n",
       "    </tr>\n",
       "    <tr>\n",
       "      <td>Lomaira</td>\n",
       "      <td>9.000000</td>\n",
       "      <td>3.000000</td>\n",
       "      <td>4.000000</td>\n",
       "      <td>4.000000</td>\n",
       "      <td>4.000000</td>\n",
       "    </tr>\n",
       "    <tr>\n",
       "      <td>T-Diet</td>\n",
       "      <td>10.000000</td>\n",
       "      <td>72.000000</td>\n",
       "      <td>4.000000</td>\n",
       "      <td>4.000000</td>\n",
       "      <td>4.000000</td>\n",
       "    </tr>\n",
       "    <tr>\n",
       "      <td>Phentercot</td>\n",
       "      <td>9.500000</td>\n",
       "      <td>22.500000</td>\n",
       "      <td>4.000000</td>\n",
       "      <td>4.000000</td>\n",
       "      <td>4.000000</td>\n",
       "    </tr>\n",
       "    <tr>\n",
       "      <td>Megace ES</td>\n",
       "      <td>9.666667</td>\n",
       "      <td>41.333333</td>\n",
       "      <td>4.000000</td>\n",
       "      <td>4.000000</td>\n",
       "      <td>4.000000</td>\n",
       "    </tr>\n",
       "    <tr>\n",
       "      <td>Adipex-P</td>\n",
       "      <td>9.058824</td>\n",
       "      <td>60.588235</td>\n",
       "      <td>3.713725</td>\n",
       "      <td>3.917647</td>\n",
       "      <td>3.831373</td>\n",
       "    </tr>\n",
       "    <tr>\n",
       "      <td>Phentermine</td>\n",
       "      <td>8.799339</td>\n",
       "      <td>32.317919</td>\n",
       "      <td>3.599505</td>\n",
       "      <td>3.856317</td>\n",
       "      <td>3.766309</td>\n",
       "    </tr>\n",
       "    <tr>\n",
       "      <td>Megestrol</td>\n",
       "      <td>8.636364</td>\n",
       "      <td>33.272727</td>\n",
       "      <td>3.636364</td>\n",
       "      <td>3.636364</td>\n",
       "      <td>3.636364</td>\n",
       "    </tr>\n",
       "    <tr>\n",
       "      <td>Phentermine / topiramate</td>\n",
       "      <td>7.847390</td>\n",
       "      <td>43.751004</td>\n",
       "      <td>3.236948</td>\n",
       "      <td>3.566265</td>\n",
       "      <td>3.421687</td>\n",
       "    </tr>\n",
       "    <tr>\n",
       "      <td>Saxenda</td>\n",
       "      <td>8.294737</td>\n",
       "      <td>13.852632</td>\n",
       "      <td>3.357895</td>\n",
       "      <td>3.494737</td>\n",
       "      <td>3.378947</td>\n",
       "    </tr>\n",
       "    <tr>\n",
       "      <td>Victoza</td>\n",
       "      <td>8.142857</td>\n",
       "      <td>32.365079</td>\n",
       "      <td>3.253968</td>\n",
       "      <td>3.619048</td>\n",
       "      <td>3.349206</td>\n",
       "    </tr>\n",
       "    <tr>\n",
       "      <td>Lorcaserin</td>\n",
       "      <td>7.919897</td>\n",
       "      <td>56.090439</td>\n",
       "      <td>3.276486</td>\n",
       "      <td>3.465116</td>\n",
       "      <td>3.343669</td>\n",
       "    </tr>\n",
       "    <tr>\n",
       "      <td>Belviq</td>\n",
       "      <td>7.858268</td>\n",
       "      <td>56.272966</td>\n",
       "      <td>3.265092</td>\n",
       "      <td>3.480315</td>\n",
       "      <td>3.341207</td>\n",
       "    </tr>\n",
       "    <tr>\n",
       "      <td>Liraglutide</td>\n",
       "      <td>7.903614</td>\n",
       "      <td>18.018072</td>\n",
       "      <td>3.222892</td>\n",
       "      <td>3.500000</td>\n",
       "      <td>3.337349</td>\n",
       "    </tr>\n",
       "    <tr>\n",
       "      <td>Belviq XR</td>\n",
       "      <td>8.333333</td>\n",
       "      <td>8.000000</td>\n",
       "      <td>3.333333</td>\n",
       "      <td>3.333333</td>\n",
       "      <td>3.333333</td>\n",
       "    </tr>\n",
       "    <tr>\n",
       "      <td>Qsymia</td>\n",
       "      <td>7.695652</td>\n",
       "      <td>52.613527</td>\n",
       "      <td>3.188406</td>\n",
       "      <td>3.478261</td>\n",
       "      <td>3.328502</td>\n",
       "    </tr>\n",
       "    <tr>\n",
       "      <td>Fastin</td>\n",
       "      <td>7.171429</td>\n",
       "      <td>67.257143</td>\n",
       "      <td>2.971429</td>\n",
       "      <td>3.057143</td>\n",
       "      <td>3.028571</td>\n",
       "    </tr>\n",
       "    <tr>\n",
       "      <td>Ionamin</td>\n",
       "      <td>7.285714</td>\n",
       "      <td>30.142857</td>\n",
       "      <td>3.000000</td>\n",
       "      <td>3.000000</td>\n",
       "      <td>3.000000</td>\n",
       "    </tr>\n",
       "    <tr>\n",
       "      <td>Phentride</td>\n",
       "      <td>8.000000</td>\n",
       "      <td>40.000000</td>\n",
       "      <td>3.000000</td>\n",
       "      <td>4.000000</td>\n",
       "      <td>3.000000</td>\n",
       "    </tr>\n",
       "    <tr>\n",
       "      <td>Contrave</td>\n",
       "      <td>6.380228</td>\n",
       "      <td>20.171103</td>\n",
       "      <td>2.714829</td>\n",
       "      <td>3.068441</td>\n",
       "      <td>2.733840</td>\n",
       "    </tr>\n",
       "    <tr>\n",
       "      <td>Bupropion / naltrexone</td>\n",
       "      <td>6.318352</td>\n",
       "      <td>20.138577</td>\n",
       "      <td>2.700375</td>\n",
       "      <td>3.063670</td>\n",
       "      <td>2.719101</td>\n",
       "    </tr>\n",
       "  </tbody>\n",
       "</table>\n",
       "</div>"
      ],
      "text/plain": [
       "                             rating  usefulCount  ratings_simplified  \\\n",
       "drugName                                                               \n",
       "Megace                    10.000000    68.000000            4.000000   \n",
       "Lomaira                    9.000000     3.000000            4.000000   \n",
       "T-Diet                    10.000000    72.000000            4.000000   \n",
       "Phentercot                 9.500000    22.500000            4.000000   \n",
       "Megace ES                  9.666667    41.333333            4.000000   \n",
       "Adipex-P                   9.058824    60.588235            3.713725   \n",
       "Phentermine                8.799339    32.317919            3.599505   \n",
       "Megestrol                  8.636364    33.272727            3.636364   \n",
       "Phentermine / topiramate   7.847390    43.751004            3.236948   \n",
       "Saxenda                    8.294737    13.852632            3.357895   \n",
       "Victoza                    8.142857    32.365079            3.253968   \n",
       "Lorcaserin                 7.919897    56.090439            3.276486   \n",
       "Belviq                     7.858268    56.272966            3.265092   \n",
       "Liraglutide                7.903614    18.018072            3.222892   \n",
       "Belviq XR                  8.333333     8.000000            3.333333   \n",
       "Qsymia                     7.695652    52.613527            3.188406   \n",
       "Fastin                     7.171429    67.257143            2.971429   \n",
       "Ionamin                    7.285714    30.142857            3.000000   \n",
       "Phentride                  8.000000    40.000000            3.000000   \n",
       "Contrave                   6.380228    20.171103            2.714829   \n",
       "Bupropion / naltrexone     6.318352    20.138577            2.700375   \n",
       "\n",
       "                              pred     pred2  \n",
       "drugName                                      \n",
       "Megace                    4.000000  4.000000  \n",
       "Lomaira                   4.000000  4.000000  \n",
       "T-Diet                    4.000000  4.000000  \n",
       "Phentercot                4.000000  4.000000  \n",
       "Megace ES                 4.000000  4.000000  \n",
       "Adipex-P                  3.917647  3.831373  \n",
       "Phentermine               3.856317  3.766309  \n",
       "Megestrol                 3.636364  3.636364  \n",
       "Phentermine / topiramate  3.566265  3.421687  \n",
       "Saxenda                   3.494737  3.378947  \n",
       "Victoza                   3.619048  3.349206  \n",
       "Lorcaserin                3.465116  3.343669  \n",
       "Belviq                    3.480315  3.341207  \n",
       "Liraglutide               3.500000  3.337349  \n",
       "Belviq XR                 3.333333  3.333333  \n",
       "Qsymia                    3.478261  3.328502  \n",
       "Fastin                    3.057143  3.028571  \n",
       "Ionamin                   3.000000  3.000000  \n",
       "Phentride                 4.000000  3.000000  \n",
       "Contrave                  3.068441  2.733840  \n",
       "Bupropion / naltrexone    3.063670  2.719101  "
      ]
     },
     "execution_count": 580,
     "metadata": {},
     "output_type": "execute_result"
    }
   ],
   "source": [
    "drug_reviews_weightloss.groupby('drugName').mean().sort_values('pred2', ascending=False)"
   ]
  },
  {
   "cell_type": "markdown",
   "metadata": {},
   "source": [
    "**Score the following phrases for fun.**"
   ]
  },
  {
   "cell_type": "code",
   "execution_count": 581,
   "metadata": {},
   "outputs": [],
   "source": [
    "test= ['This drug sucks!','This drug did not work.', 'This drug worked for me','This drug is great!',\n",
    "      'Bupropion is awful']"
   ]
  },
  {
   "cell_type": "code",
   "execution_count": 582,
   "metadata": {},
   "outputs": [],
   "source": [
    "test_dtm=vect.transform(test)"
   ]
  },
  {
   "cell_type": "code",
   "execution_count": 583,
   "metadata": {},
   "outputs": [
    {
     "data": {
      "text/plain": [
       "array([4, 1, 4, 4, 1])"
      ]
     },
     "execution_count": 583,
     "metadata": {},
     "output_type": "execute_result"
    }
   ],
   "source": [
    "nb.predict(test_dtm)"
   ]
  },
  {
   "cell_type": "markdown",
   "metadata": {},
   "source": [
    "**View the observation from user_id 39159.  View the text and see why it is a 2 rating, compare it to your prediction.**"
   ]
  },
  {
   "cell_type": "code",
   "execution_count": 584,
   "metadata": {},
   "outputs": [
    {
     "data": {
      "text/html": [
       "<div>\n",
       "<style scoped>\n",
       "    .dataframe tbody tr th:only-of-type {\n",
       "        vertical-align: middle;\n",
       "    }\n",
       "\n",
       "    .dataframe tbody tr th {\n",
       "        vertical-align: top;\n",
       "    }\n",
       "\n",
       "    .dataframe thead th {\n",
       "        text-align: right;\n",
       "    }\n",
       "</style>\n",
       "<table border=\"1\" class=\"dataframe\">\n",
       "  <thead>\n",
       "    <tr style=\"text-align: right;\">\n",
       "      <th></th>\n",
       "      <th>drugName</th>\n",
       "      <th>condition</th>\n",
       "      <th>review</th>\n",
       "      <th>rating</th>\n",
       "      <th>date</th>\n",
       "      <th>usefulCount</th>\n",
       "      <th>ratings_simplified</th>\n",
       "      <th>pred</th>\n",
       "      <th>pred2</th>\n",
       "    </tr>\n",
       "    <tr>\n",
       "      <th>User_ID</th>\n",
       "      <th></th>\n",
       "      <th></th>\n",
       "      <th></th>\n",
       "      <th></th>\n",
       "      <th></th>\n",
       "      <th></th>\n",
       "      <th></th>\n",
       "      <th></th>\n",
       "      <th></th>\n",
       "    </tr>\n",
       "  </thead>\n",
       "  <tbody>\n",
       "    <tr>\n",
       "      <td>164952</td>\n",
       "      <td>Phentermine / topiramate</td>\n",
       "      <td>Weight Loss</td>\n",
       "      <td>\"I have been on the Qysmia for 3 weeks now.  I...</td>\n",
       "      <td>8.0</td>\n",
       "      <td>December 25, 2015</td>\n",
       "      <td>38</td>\n",
       "      <td>3</td>\n",
       "      <td>3</td>\n",
       "      <td>3</td>\n",
       "    </tr>\n",
       "    <tr>\n",
       "      <td>145900</td>\n",
       "      <td>Qsymia</td>\n",
       "      <td>Weight Loss</td>\n",
       "      <td>\"My Dr agreed to over see putting me on Qsymia...</td>\n",
       "      <td>9.0</td>\n",
       "      <td>February 24, 2013</td>\n",
       "      <td>46</td>\n",
       "      <td>4</td>\n",
       "      <td>4</td>\n",
       "      <td>4</td>\n",
       "    </tr>\n",
       "    <tr>\n",
       "      <td>52117</td>\n",
       "      <td>Adipex-P</td>\n",
       "      <td>Weight Loss</td>\n",
       "      <td>\"I just started Adipex-P 37.5mg on March 6th, ...</td>\n",
       "      <td>8.0</td>\n",
       "      <td>March 10, 2011</td>\n",
       "      <td>7</td>\n",
       "      <td>3</td>\n",
       "      <td>4</td>\n",
       "      <td>3</td>\n",
       "    </tr>\n",
       "    <tr>\n",
       "      <td>145785</td>\n",
       "      <td>Qsymia</td>\n",
       "      <td>Weight Loss</td>\n",
       "      <td>\"Began taking Qsymia 3.75 in June 2013. Its on...</td>\n",
       "      <td>10.0</td>\n",
       "      <td>May 26, 2014</td>\n",
       "      <td>61</td>\n",
       "      <td>4</td>\n",
       "      <td>4</td>\n",
       "      <td>4</td>\n",
       "    </tr>\n",
       "    <tr>\n",
       "      <td>145840</td>\n",
       "      <td>Qsymia</td>\n",
       "      <td>Weight Loss</td>\n",
       "      <td>\"Made me jittery and could not sleep. Lost wei...</td>\n",
       "      <td>1.0</td>\n",
       "      <td>August 21, 2013</td>\n",
       "      <td>59</td>\n",
       "      <td>1</td>\n",
       "      <td>1</td>\n",
       "      <td>1</td>\n",
       "    </tr>\n",
       "    <tr>\n",
       "      <td>145495</td>\n",
       "      <td>Qsymia</td>\n",
       "      <td>Weight Loss</td>\n",
       "      <td>\"I am a 28 year old female and my highest weig...</td>\n",
       "      <td>10.0</td>\n",
       "      <td>July 1, 2017</td>\n",
       "      <td>21</td>\n",
       "      <td>4</td>\n",
       "      <td>4</td>\n",
       "      <td>4</td>\n",
       "    </tr>\n",
       "    <tr>\n",
       "      <td>39159</td>\n",
       "      <td>Contrave</td>\n",
       "      <td>Weight Loss</td>\n",
       "      <td>\"I have been on Contrave for 3 weeks. I am 5&amp;q...</td>\n",
       "      <td>4.0</td>\n",
       "      <td>May 4, 2017</td>\n",
       "      <td>7</td>\n",
       "      <td>2</td>\n",
       "      <td>4</td>\n",
       "      <td>4</td>\n",
       "    </tr>\n",
       "    <tr>\n",
       "      <td>128860</td>\n",
       "      <td>Phentermine</td>\n",
       "      <td>Weight Loss</td>\n",
       "      <td>\"I was signed up to have the gastric sleeve pr...</td>\n",
       "      <td>10.0</td>\n",
       "      <td>July 22, 2014</td>\n",
       "      <td>57</td>\n",
       "      <td>4</td>\n",
       "      <td>4</td>\n",
       "      <td>4</td>\n",
       "    </tr>\n",
       "    <tr>\n",
       "      <td>164693</td>\n",
       "      <td>Phentermine / topiramate</td>\n",
       "      <td>Weight Loss</td>\n",
       "      <td>\"Let me start by saying I am 59 years old. Unt...</td>\n",
       "      <td>10.0</td>\n",
       "      <td>August 16, 2017</td>\n",
       "      <td>104</td>\n",
       "      <td>4</td>\n",
       "      <td>4</td>\n",
       "      <td>4</td>\n",
       "    </tr>\n",
       "    <tr>\n",
       "      <td>4685</td>\n",
       "      <td>Belviq</td>\n",
       "      <td>Weight Loss</td>\n",
       "      <td>\"I started 5/14/15 and after schpeel from my d...</td>\n",
       "      <td>8.0</td>\n",
       "      <td>May 17, 2015</td>\n",
       "      <td>38</td>\n",
       "      <td>3</td>\n",
       "      <td>3</td>\n",
       "      <td>3</td>\n",
       "    </tr>\n",
       "  </tbody>\n",
       "</table>\n",
       "</div>"
      ],
      "text/plain": [
       "                         drugName    condition  \\\n",
       "User_ID                                          \n",
       "164952   Phentermine / topiramate  Weight Loss   \n",
       "145900                     Qsymia  Weight Loss   \n",
       "52117                    Adipex-P  Weight Loss   \n",
       "145785                     Qsymia  Weight Loss   \n",
       "145840                     Qsymia  Weight Loss   \n",
       "145495                     Qsymia  Weight Loss   \n",
       "39159                    Contrave  Weight Loss   \n",
       "128860                Phentermine  Weight Loss   \n",
       "164693   Phentermine / topiramate  Weight Loss   \n",
       "4685                       Belviq  Weight Loss   \n",
       "\n",
       "                                                    review  rating  \\\n",
       "User_ID                                                              \n",
       "164952   \"I have been on the Qysmia for 3 weeks now.  I...     8.0   \n",
       "145900   \"My Dr agreed to over see putting me on Qsymia...     9.0   \n",
       "52117    \"I just started Adipex-P 37.5mg on March 6th, ...     8.0   \n",
       "145785   \"Began taking Qsymia 3.75 in June 2013. Its on...    10.0   \n",
       "145840   \"Made me jittery and could not sleep. Lost wei...     1.0   \n",
       "145495   \"I am a 28 year old female and my highest weig...    10.0   \n",
       "39159    \"I have been on Contrave for 3 weeks. I am 5&q...     4.0   \n",
       "128860   \"I was signed up to have the gastric sleeve pr...    10.0   \n",
       "164693   \"Let me start by saying I am 59 years old. Unt...    10.0   \n",
       "4685     \"I started 5/14/15 and after schpeel from my d...     8.0   \n",
       "\n",
       "                      date  usefulCount  ratings_simplified  pred  pred2  \n",
       "User_ID                                                                   \n",
       "164952   December 25, 2015           38                   3     3      3  \n",
       "145900   February 24, 2013           46                   4     4      4  \n",
       "52117       March 10, 2011            7                   3     4      3  \n",
       "145785        May 26, 2014           61                   4     4      4  \n",
       "145840     August 21, 2013           59                   1     1      1  \n",
       "145495        July 1, 2017           21                   4     4      4  \n",
       "39159          May 4, 2017            7                   2     4      4  \n",
       "128860       July 22, 2014           57                   4     4      4  \n",
       "164693     August 16, 2017          104                   4     4      4  \n",
       "4685          May 17, 2015           38                   3     3      3  "
      ]
     },
     "execution_count": 584,
     "metadata": {},
     "output_type": "execute_result"
    }
   ],
   "source": [
    "drug_reviews_weightloss.head(10)"
   ]
  },
  {
   "cell_type": "code",
   "execution_count": 585,
   "metadata": {},
   "outputs": [
    {
     "data": {
      "text/plain": [
       "'\"I have been on Contrave for 3 weeks. I am 5&quot;5, at 155 pounds. I think I have only lost 2 pounds. I work out with a personal trainer 3x a week and usually take long walks for other days not with trainer. My doctor recommended this prescription for me because I sit at a desk 10 hours a day and am typically very hungry and unable to stop my snacking. So far, I still crave foods. Not sure when the &#039;appetite supressant&#039; part will kick in, because it still has not done that. I have not noticed much differences so I will give it a little more time (until I finish the entire bottle supply) before asking DR. to change me to something else.\"'"
      ]
     },
     "execution_count": 585,
     "metadata": {},
     "output_type": "execute_result"
    }
   ],
   "source": [
    "drug_reviews_weightloss.review[39159]"
   ]
  },
  {
   "cell_type": "markdown",
   "metadata": {},
   "source": [
    "<a id='textblob'></a>\n",
    "## Introduction to TextBlob\n",
    "\n",
    "You should already have downloaded TextBlob, a Python library used to explore common NLP tasks. If you haven’t, please return to [this step](#textblob_install) for instructions on how to do so. We’ll be using this to organize our corpora for analysis.\n",
    "\n",
    "As mentioned earlier, you can read more on the [TextBlob website](https://textblob.readthedocs.io/en/dev/)."
   ]
  },
  {
   "cell_type": "code",
   "execution_count": 586,
   "metadata": {},
   "outputs": [
    {
     "name": "stderr",
     "output_type": "stream",
     "text": [
      "[nltk_data] Downloading package punkt to /Users/m339673/nltk_data...\n",
      "[nltk_data]   Package punkt is already up-to-date!\n",
      "[nltk_data] Downloading package wordnet to /Users/m339673/nltk_data...\n",
      "[nltk_data]   Package wordnet is already up-to-date!\n"
     ]
    },
    {
     "data": {
      "text/plain": [
       "True"
      ]
     },
     "execution_count": 586,
     "metadata": {},
     "output_type": "execute_result"
    }
   ],
   "source": [
    "import nltk\n",
    "nltk.download('punkt')\n",
    "nltk.download('wordnet')"
   ]
  },
  {
   "cell_type": "code",
   "execution_count": 587,
   "metadata": {
    "scrolled": true
   },
   "outputs": [
    {
     "name": "stdout",
     "output_type": "stream",
     "text": [
      "My wife took me here on my birthday for breakfast and it was excellent.  The weather was perfect which made sitting outside overlooking their grounds an absolute pleasure.  Our waitress was excellent and our food arrived quickly on the semi-busy Saturday morning.  It looked like the place fills up pretty quickly so the earlier you get here the better.\n",
      "\n",
      "Do yourself a favor and get their Bloody Mary.  It was phenomenal and simply the best I've ever had.  I'm pretty sure they only use ingredients from their garden and blend them fresh when you order it.  It was amazing.\n",
      "\n",
      "While EVERYTHING on the menu looks excellent, I had the white truffle scrambled eggs vegetable skillet and it was tasty and delicious.  It came with 2 pieces of their griddled bread with was amazing and it absolutely made the meal complete.  It was the best \"toast\" I've ever had.\n",
      "\n",
      "Anyway, I can't wait to go back!\n"
     ]
    }
   ],
   "source": [
    "# Print the first review.\n",
    "print((yelp_best_worst.text[0]))"
   ]
  },
  {
   "cell_type": "code",
   "execution_count": 588,
   "metadata": {},
   "outputs": [],
   "source": [
    "# Save it as a TextBlob object.\n",
    "review = TextBlob(yelp_best_worst.text[0])"
   ]
  },
  {
   "cell_type": "code",
   "execution_count": 589,
   "metadata": {},
   "outputs": [
    {
     "data": {
      "text/plain": [
       "WordList(['My', 'wife', 'took', 'me', 'here', 'on', 'my', 'birthday', 'for', 'breakfast', 'and', 'it', 'was', 'excellent', 'The', 'weather', 'was', 'perfect', 'which', 'made', 'sitting', 'outside', 'overlooking', 'their', 'grounds', 'an', 'absolute', 'pleasure', 'Our', 'waitress', 'was', 'excellent', 'and', 'our', 'food', 'arrived', 'quickly', 'on', 'the', 'semi-busy', 'Saturday', 'morning', 'It', 'looked', 'like', 'the', 'place', 'fills', 'up', 'pretty', 'quickly', 'so', 'the', 'earlier', 'you', 'get', 'here', 'the', 'better', 'Do', 'yourself', 'a', 'favor', 'and', 'get', 'their', 'Bloody', 'Mary', 'It', 'was', 'phenomenal', 'and', 'simply', 'the', 'best', 'I', \"'ve\", 'ever', 'had', 'I', \"'m\", 'pretty', 'sure', 'they', 'only', 'use', 'ingredients', 'from', 'their', 'garden', 'and', 'blend', 'them', 'fresh', 'when', 'you', 'order', 'it', 'It', 'was', 'amazing', 'While', 'EVERYTHING', 'on', 'the', 'menu', 'looks', 'excellent', 'I', 'had', 'the', 'white', 'truffle', 'scrambled', 'eggs', 'vegetable', 'skillet', 'and', 'it', 'was', 'tasty', 'and', 'delicious', 'It', 'came', 'with', '2', 'pieces', 'of', 'their', 'griddled', 'bread', 'with', 'was', 'amazing', 'and', 'it', 'absolutely', 'made', 'the', 'meal', 'complete', 'It', 'was', 'the', 'best', 'toast', 'I', \"'ve\", 'ever', 'had', 'Anyway', 'I', 'ca', \"n't\", 'wait', 'to', 'go', 'back'])"
      ]
     },
     "execution_count": 589,
     "metadata": {},
     "output_type": "execute_result"
    }
   ],
   "source": [
    "# List the words.\n",
    "review.words"
   ]
  },
  {
   "cell_type": "code",
   "execution_count": 590,
   "metadata": {},
   "outputs": [
    {
     "data": {
      "text/plain": [
       "[Sentence(\"My wife took me here on my birthday for breakfast and it was excellent.\"),\n",
       " Sentence(\"The weather was perfect which made sitting outside overlooking their grounds an absolute pleasure.\"),\n",
       " Sentence(\"Our waitress was excellent and our food arrived quickly on the semi-busy Saturday morning.\"),\n",
       " Sentence(\"It looked like the place fills up pretty quickly so the earlier you get here the better.\"),\n",
       " Sentence(\"Do yourself a favor and get their Bloody Mary.\"),\n",
       " Sentence(\"It was phenomenal and simply the best I've ever had.\"),\n",
       " Sentence(\"I'm pretty sure they only use ingredients from their garden and blend them fresh when you order it.\"),\n",
       " Sentence(\"It was amazing.\"),\n",
       " Sentence(\"While EVERYTHING on the menu looks excellent, I had the white truffle scrambled eggs vegetable skillet and it was tasty and delicious.\"),\n",
       " Sentence(\"It came with 2 pieces of their griddled bread with was amazing and it absolutely made the meal complete.\"),\n",
       " Sentence(\"It was the best \"toast\" I've ever had.\"),\n",
       " Sentence(\"Anyway, I can't wait to go back!\")]"
      ]
     },
     "execution_count": 590,
     "metadata": {},
     "output_type": "execute_result"
    }
   ],
   "source": [
    "# List the sentences.\n",
    "review.sentences"
   ]
  },
  {
   "cell_type": "code",
   "execution_count": 591,
   "metadata": {},
   "outputs": [
    {
     "data": {
      "text/plain": [
       "TextBlob(\"my wife took me here on my birthday for breakfast and it was excellent.  the weather was perfect which made sitting outside overlooking their grounds an absolute pleasure.  our waitress was excellent and our food arrived quickly on the semi-busy saturday morning.  it looked like the place fills up pretty quickly so the earlier you get here the better.\n",
       "\n",
       "do yourself a favor and get their bloody mary.  it was phenomenal and simply the best i've ever had.  i'm pretty sure they only use ingredients from their garden and blend them fresh when you order it.  it was amazing.\n",
       "\n",
       "while everything on the menu looks excellent, i had the white truffle scrambled eggs vegetable skillet and it was tasty and delicious.  it came with 2 pieces of their griddled bread with was amazing and it absolutely made the meal complete.  it was the best \"toast\" i've ever had.\n",
       "\n",
       "anyway, i can't wait to go back!\")"
      ]
     },
     "execution_count": 591,
     "metadata": {},
     "output_type": "execute_result"
    }
   ],
   "source": [
    "# Some string methods are available.\n",
    "review.lower()"
   ]
  },
  {
   "cell_type": "markdown",
   "metadata": {},
   "source": [
    "<a id='stem'></a>\n",
    "## Stemming and Lemmatization\n",
    "\n",
    "Stemming is a crude process of removing common endings from sentences, such as \"s\", \"es\", \"ly\", \"ing\", and \"ed\".\n",
    "\n",
    "- **What:** Reduce a word to its base/stem/root form.\n",
    "- **Why:** This intelligently reduces the number of features by grouping together (hopefully) related words.\n",
    "- **Notes:**\n",
    "    - Stemming uses a simple and fast rule-based approach.\n",
    "    - Stemmed words are usually not shown to users (used for analysis/indexing).\n",
    "    - Some search engines treat words with the same stem as synonyms."
   ]
  },
  {
   "cell_type": "code",
   "execution_count": 592,
   "metadata": {},
   "outputs": [
    {
     "name": "stdout",
     "output_type": "stream",
     "text": [
      "['my', 'wife', 'took', 'me', 'here', 'on', 'my', 'birthday', 'for', 'breakfast', 'and', 'it', 'was', 'excel', 'the', 'weather', 'was', 'perfect', 'which', 'made', 'sit', 'outsid', 'overlook', 'their', 'ground', 'an', 'absolut', 'pleasur', 'our', 'waitress', 'was', 'excel', 'and', 'our', 'food', 'arriv', 'quick', 'on', 'the', 'semi-busi', 'saturday', 'morn', 'it', 'look', 'like', 'the', 'place', 'fill', 'up', 'pretti', 'quick', 'so', 'the', 'earlier', 'you', 'get', 'here', 'the', 'better', 'do', 'yourself', 'a', 'favor', 'and', 'get', 'their', 'bloodi', 'mari', 'it', 'was', 'phenomen', 'and', 'simpli', 'the', 'best', 'i', 've', 'ever', 'had', 'i', \"'m\", 'pretti', 'sure', 'they', 'onli', 'use', 'ingredi', 'from', 'their', 'garden', 'and', 'blend', 'them', 'fresh', 'when', 'you', 'order', 'it', 'it', 'was', 'amaz', 'while', 'everyth', 'on', 'the', 'menu', 'look', 'excel', 'i', 'had', 'the', 'white', 'truffl', 'scrambl', 'egg', 'veget', 'skillet', 'and', 'it', 'was', 'tasti', 'and', 'delici', 'it', 'came', 'with', '2', 'piec', 'of', 'their', 'griddl', 'bread', 'with', 'was', 'amaz', 'and', 'it', 'absolut', 'made', 'the', 'meal', 'complet', 'it', 'was', 'the', 'best', 'toast', 'i', 've', 'ever', 'had', 'anyway', 'i', 'ca', \"n't\", 'wait', 'to', 'go', 'back']\n"
     ]
    }
   ],
   "source": [
    "# Initialize stemmer.\n",
    "stemmer = SnowballStemmer('english')\n",
    "\n",
    "# Stem each word.\n",
    "print([stemmer.stem(word) for word in review.words])"
   ]
  },
  {
   "cell_type": "markdown",
   "metadata": {},
   "source": [
    "Some examples you can see are \"excellent\" stemmed to \"excel\" and \"amazing\" stemmed to \"amaz\"."
   ]
  },
  {
   "cell_type": "markdown",
   "metadata": {},
   "source": [
    "Lemmatization is a more refined process that uses specific language and grammar rules to derive the root of a word.  \n",
    "\n",
    "This is useful for words that do not share an obvious root such as \"better\" and \"best\".\n",
    "\n",
    "- **What:** Lemmatization derives the canonical form (\"lemma\") of a word.\n",
    "- **Why:** It can be better than stemming.\n",
    "- **Notes:** Uses a dictionary-based approach (slower than stemming)."
   ]
  },
  {
   "cell_type": "code",
   "execution_count": 593,
   "metadata": {},
   "outputs": [
    {
     "name": "stdout",
     "output_type": "stream",
     "text": [
      "['My', 'wife', 'took', 'me', 'here', 'on', 'my', 'birthday', 'for', 'breakfast', 'and', 'it', 'wa', 'excellent', 'The', 'weather', 'wa', 'perfect', 'which', 'made', 'sitting', 'outside', 'overlooking', 'their', 'ground', 'an', 'absolute', 'pleasure', 'Our', 'waitress', 'wa', 'excellent', 'and', 'our', 'food', 'arrived', 'quickly', 'on', 'the', 'semi-busy', 'Saturday', 'morning', 'It', 'looked', 'like', 'the', 'place', 'fill', 'up', 'pretty', 'quickly', 'so', 'the', 'earlier', 'you', 'get', 'here', 'the', 'better', 'Do', 'yourself', 'a', 'favor', 'and', 'get', 'their', 'Bloody', 'Mary', 'It', 'wa', 'phenomenal', 'and', 'simply', 'the', 'best', 'I', \"'ve\", 'ever', 'had', 'I', \"'m\", 'pretty', 'sure', 'they', 'only', 'use', 'ingredient', 'from', 'their', 'garden', 'and', 'blend', 'them', 'fresh', 'when', 'you', 'order', 'it', 'It', 'wa', 'amazing', 'While', 'EVERYTHING', 'on', 'the', 'menu', 'look', 'excellent', 'I', 'had', 'the', 'white', 'truffle', 'scrambled', 'egg', 'vegetable', 'skillet', 'and', 'it', 'wa', 'tasty', 'and', 'delicious', 'It', 'came', 'with', '2', 'piece', 'of', 'their', 'griddled', 'bread', 'with', 'wa', 'amazing', 'and', 'it', 'absolutely', 'made', 'the', 'meal', 'complete', 'It', 'wa', 'the', 'best', 'toast', 'I', \"'ve\", 'ever', 'had', 'Anyway', 'I', 'ca', \"n't\", 'wait', 'to', 'go', 'back']\n"
     ]
    }
   ],
   "source": [
    "# Assume every word is a noun.\n",
    "print([word.lemmatize() for word in review.words])"
   ]
  },
  {
   "cell_type": "markdown",
   "metadata": {},
   "source": [
    "Some examples you can see are \"filled\" lemmatized to \"fill\" and \"was\" lemmatized to \"wa\".\n"
   ]
  },
  {
   "cell_type": "code",
   "execution_count": 594,
   "metadata": {},
   "outputs": [
    {
     "name": "stdout",
     "output_type": "stream",
     "text": [
      "['My', 'wife', 'take', 'me', 'here', 'on', 'my', 'birthday', 'for', 'breakfast', 'and', 'it', 'be', 'excellent', 'The', 'weather', 'be', 'perfect', 'which', 'make', 'sit', 'outside', 'overlook', 'their', 'ground', 'an', 'absolute', 'pleasure', 'Our', 'waitress', 'be', 'excellent', 'and', 'our', 'food', 'arrive', 'quickly', 'on', 'the', 'semi-busy', 'Saturday', 'morning', 'It', 'look', 'like', 'the', 'place', 'fill', 'up', 'pretty', 'quickly', 'so', 'the', 'earlier', 'you', 'get', 'here', 'the', 'better', 'Do', 'yourself', 'a', 'favor', 'and', 'get', 'their', 'Bloody', 'Mary', 'It', 'be', 'phenomenal', 'and', 'simply', 'the', 'best', 'I', \"'ve\", 'ever', 'have', 'I', \"'m\", 'pretty', 'sure', 'they', 'only', 'use', 'ingredients', 'from', 'their', 'garden', 'and', 'blend', 'them', 'fresh', 'when', 'you', 'order', 'it', 'It', 'be', 'amaze', 'While', 'EVERYTHING', 'on', 'the', 'menu', 'look', 'excellent', 'I', 'have', 'the', 'white', 'truffle', 'scramble', 'egg', 'vegetable', 'skillet', 'and', 'it', 'be', 'tasty', 'and', 'delicious', 'It', 'come', 'with', '2', 'piece', 'of', 'their', 'griddle', 'bread', 'with', 'be', 'amaze', 'and', 'it', 'absolutely', 'make', 'the', 'meal', 'complete', 'It', 'be', 'the', 'best', 'toast', 'I', \"'ve\", 'ever', 'have', 'Anyway', 'I', 'ca', \"n't\", 'wait', 'to', 'go', 'back']\n"
     ]
    }
   ],
   "source": [
    "# Assume every word is a verb.\n",
    "print([word.lemmatize(pos='v') for word in review.words])"
   ]
  },
  {
   "cell_type": "markdown",
   "metadata": {},
   "source": [
    "Some examples you can see are \"was\" lemmatized to \"be\" and \"arrived\" lemmatized to \"arrive\"."
   ]
  },
  {
   "cell_type": "markdown",
   "metadata": {},
   "source": [
    "**More Lemmatization and Stemming Examples**\n",
    "\n",
    "|Lemmatization|Stemming|\n",
    "|-------------|---------|\n",
    "|shouted → shout|badly → bad|\n",
    "|best → good|computing → comput|\n",
    "|better → good|computed → comput|\n",
    "|good → good|wipes → wip|\n",
    "|wiping → wipe|wiped → wip|\n",
    "|hidden → hide|wiping → wip|"
   ]
  },
  {
   "cell_type": "markdown",
   "metadata": {},
   "source": [
    "### Activity: Knowledge Check\n",
    "- What other words or phrases might cause problems with stemming? Why?\n",
    "- What other words or phrases might cause problems with lemmatization? Why?\n",
    "\n",
    "- Please review the following [discussion](https://nlp.stanford.edu/IR-book/html/htmledition/stemming-and-lemmatization-1.html).\n",
    "\n",
    "----\n",
    "\n"
   ]
  },
  {
   "cell_type": "code",
   "execution_count": 595,
   "metadata": {},
   "outputs": [],
   "source": [
    "# Define a function that accepts text and returns a list of lemmas.\n",
    "def split_into_lemmas(text):\n",
    "    text = text.lower()\n",
    "    words = TextBlob(text).words\n",
    "    return [word.lemmatize() for word in words]"
   ]
  },
  {
   "cell_type": "code",
   "execution_count": 596,
   "metadata": {},
   "outputs": [
    {
     "name": "stdout",
     "output_type": "stream",
     "text": [
      "('Features: ', 7797)\n",
      "('Accuracy: ', 0.7308970099667774)\n"
     ]
    }
   ],
   "source": [
    "# Use split_into_lemmas as the feature extraction function (Warning: SLOW!).\n",
    "vect = CountVectorizer(analyzer=split_into_lemmas, decode_error='replace')\n",
    "tokenize_test(vect)"
   ]
  },
  {
   "cell_type": "code",
   "execution_count": 597,
   "metadata": {},
   "outputs": [
    {
     "name": "stdout",
     "output_type": "stream",
     "text": [
      "['yall', 'yap', 'yard', 'yawning', 'yay', 'yea', 'yeah', 'year', 'yearly', 'yeh', 'yelling', 'yep', 'yes', 'yesterday', 'yet', 'yikes', 'yippie', 'ymca', 'yo', 'yo-yo', 'yoga', 'yogurt', 'you', 'youa', 'young', 'younger', 'youngest', 'your', 'yourself', 'youth', 'youthful', 'yr', 'yuck', 'yummy', 'yup', 'zantrex', 'zero', 'zip', 'zipped', 'zoloft', 'zombie', 'zone', 'zoned', 'zquil', 'zumba', 'zyban', 'zzzquil', '⚠️', '⚠️⚠️⚠️', '❤️']\n"
     ]
    }
   ],
   "source": [
    "# Last 50 features\n",
    "print((vect.get_feature_names()[-50:]))"
   ]
  },
  {
   "cell_type": "markdown",
   "metadata": {},
   "source": [
    "With all the available options for `CountVectorizer()`, you may wonder how to decide which to use! It's true that you can sometimes reason about which preprocessing techniques might work best. However, you will often not know for sure without trying out many different combinations and comparing their accuracies. \n",
    "\n",
    "> Keep in mind that you should constantly be thinking about the result of each preprocessing step instead of blindly trying them without thinking. Does each type of preprocessing \"makes sense\" with the input data you are using? Is it likely to keep intact the signal and remove noise?"
   ]
  },
  {
   "cell_type": "markdown",
   "metadata": {},
   "source": [
    "### Class Walkthrough\n",
    "#### 3. Drug Reviews- Lemmas"
   ]
  },
  {
   "cell_type": "code",
   "execution_count": 598,
   "metadata": {},
   "outputs": [],
   "source": [
    "# Define X and y.\n",
    "X = drug_reviews_weightloss.review\n",
    "y = drug_reviews_weightloss.ratings_simplified"
   ]
  },
  {
   "cell_type": "code",
   "execution_count": 599,
   "metadata": {},
   "outputs": [],
   "source": [
    "# Split the new DataFrame into training and testing sets.\n",
    "X_train, X_test, y_train, y_test = train_test_split(X, y, random_state=1)"
   ]
  },
  {
   "cell_type": "code",
   "execution_count": 600,
   "metadata": {},
   "outputs": [],
   "source": [
    "# Use CountVectorizer to create document-term matrices from X_train and X_test.\n",
    "vect_drugs = CountVectorizer(analyzer=split_into_lemmas, decode_error='replace', stop_words='english', ngram_range=(1,2), min_df=3)\n",
    "X_train_dtm = vect_drugs.fit_transform(X_train)\n",
    "X_test_dtm = vect_drugs.transform(X_test)"
   ]
  },
  {
   "cell_type": "code",
   "execution_count": 601,
   "metadata": {},
   "outputs": [
    {
     "name": "stdout",
     "output_type": "stream",
     "text": [
      "0.7375415282392026\n"
     ]
    }
   ],
   "source": [
    "# Use Naive Bayes to predict the star rating.\n",
    "nb = MultinomialNB()\n",
    "nb.fit(X_train_dtm, y_train)\n",
    "y_pred_class = nb.predict(X_test_dtm)\n",
    "\n",
    "# Calculate accuracy.\n",
    "print((metrics.accuracy_score(y_test, y_pred_class)))"
   ]
  },
  {
   "cell_type": "markdown",
   "metadata": {},
   "source": [
    "<a id='tfidf'></a>\n",
    "## Term Frequency–Inverse Document Frequency (TF–IDF)\n",
    "\n",
    "While a Count Vectorizer simply totals up the number of times a \"word\" appears in a document, the more complex TF-IDF Vectorizer analyzes the uniqueness of words between documents to find distinguishing characteristics. \n",
    "     \n",
    "- **What:** Term frequency–inverse document frequency (TF–IDF) computes the \"relative frequency\" with which a word appears in a document, compared to its frequency across all documents.\n",
    "- **Why:** It's more useful than \"term frequency\" for identifying \"important\" words in each document (high frequency in that document, low frequency in other documents).\n",
    "- **Notes:** It's used for search-engine scoring, text summarization, and document clustering."
   ]
  },
  {
   "cell_type": "markdown",
   "metadata": {},
   "source": [
    "#### What is TF-IDF?\n",
    "\n",
    "- **Term Frequency** is equivalent to CountVectorizer features, just the number of times a word appears in the document (i.e. count).\n",
    "\n",
    "\n",
    "- **Document Frequency** is the percentage of documents that a particular word appears in. \n",
    "\n",
    "\n",
    "    - For example, “the” would be 100% while “Tesla” or \"penguin\" is much lower.  \n",
    "\n",
    "\n",
    "- **Inverse Document Frequency** is just 1/Document Frequency.\n",
    "\n",
    "\n",
    "- **TF-IDF** uses the product of two intermediate values, the Term Frequency and Inverse Document Frequency.\n",
    "    - TF-IDF = Term Frequency * Inverse Document Frequency\n",
    "    \n",
    "    - TF-IDF = Term Frequency / Document Frequency"
   ]
  },
  {
   "cell_type": "code",
   "execution_count": 602,
   "metadata": {},
   "outputs": [],
   "source": [
    "# Example documents\n",
    "simple_train = ['call you tonight', 'Call me a cab', 'please call me... PLEASE!']"
   ]
  },
  {
   "cell_type": "code",
   "execution_count": 603,
   "metadata": {},
   "outputs": [
    {
     "data": {
      "text/html": [
       "<div>\n",
       "<style scoped>\n",
       "    .dataframe tbody tr th:only-of-type {\n",
       "        vertical-align: middle;\n",
       "    }\n",
       "\n",
       "    .dataframe tbody tr th {\n",
       "        vertical-align: top;\n",
       "    }\n",
       "\n",
       "    .dataframe thead th {\n",
       "        text-align: right;\n",
       "    }\n",
       "</style>\n",
       "<table border=\"1\" class=\"dataframe\">\n",
       "  <thead>\n",
       "    <tr style=\"text-align: right;\">\n",
       "      <th></th>\n",
       "      <th>cab</th>\n",
       "      <th>call</th>\n",
       "      <th>me</th>\n",
       "      <th>please</th>\n",
       "      <th>tonight</th>\n",
       "      <th>you</th>\n",
       "    </tr>\n",
       "  </thead>\n",
       "  <tbody>\n",
       "    <tr>\n",
       "      <td>0</td>\n",
       "      <td>0</td>\n",
       "      <td>1</td>\n",
       "      <td>0</td>\n",
       "      <td>0</td>\n",
       "      <td>1</td>\n",
       "      <td>1</td>\n",
       "    </tr>\n",
       "    <tr>\n",
       "      <td>1</td>\n",
       "      <td>1</td>\n",
       "      <td>1</td>\n",
       "      <td>1</td>\n",
       "      <td>0</td>\n",
       "      <td>0</td>\n",
       "      <td>0</td>\n",
       "    </tr>\n",
       "    <tr>\n",
       "      <td>2</td>\n",
       "      <td>0</td>\n",
       "      <td>1</td>\n",
       "      <td>1</td>\n",
       "      <td>2</td>\n",
       "      <td>0</td>\n",
       "      <td>0</td>\n",
       "    </tr>\n",
       "  </tbody>\n",
       "</table>\n",
       "</div>"
      ],
      "text/plain": [
       "   cab  call  me  please  tonight  you\n",
       "0    0     1   0       0        1    1\n",
       "1    1     1   1       0        0    0\n",
       "2    0     1   1       2        0    0"
      ]
     },
     "execution_count": 603,
     "metadata": {},
     "output_type": "execute_result"
    }
   ],
   "source": [
    "# Term frequency\n",
    "vect = CountVectorizer()\n",
    "tf = pd.DataFrame(vect.fit_transform(simple_train).toarray(), columns=vect.get_feature_names())\n",
    "tf"
   ]
  },
  {
   "cell_type": "code",
   "execution_count": 604,
   "metadata": {},
   "outputs": [
    {
     "data": {
      "text/html": [
       "<div>\n",
       "<style scoped>\n",
       "    .dataframe tbody tr th:only-of-type {\n",
       "        vertical-align: middle;\n",
       "    }\n",
       "\n",
       "    .dataframe tbody tr th {\n",
       "        vertical-align: top;\n",
       "    }\n",
       "\n",
       "    .dataframe thead th {\n",
       "        text-align: right;\n",
       "    }\n",
       "</style>\n",
       "<table border=\"1\" class=\"dataframe\">\n",
       "  <thead>\n",
       "    <tr style=\"text-align: right;\">\n",
       "      <th></th>\n",
       "      <th>cab</th>\n",
       "      <th>call</th>\n",
       "      <th>me</th>\n",
       "      <th>please</th>\n",
       "      <th>tonight</th>\n",
       "      <th>you</th>\n",
       "    </tr>\n",
       "  </thead>\n",
       "  <tbody>\n",
       "    <tr>\n",
       "      <td>0</td>\n",
       "      <td>1</td>\n",
       "      <td>3</td>\n",
       "      <td>2</td>\n",
       "      <td>1</td>\n",
       "      <td>1</td>\n",
       "      <td>1</td>\n",
       "    </tr>\n",
       "  </tbody>\n",
       "</table>\n",
       "</div>"
      ],
      "text/plain": [
       "   cab  call  me  please  tonight  you\n",
       "0    1     3   2       1        1    1"
      ]
     },
     "execution_count": 604,
     "metadata": {},
     "output_type": "execute_result"
    }
   ],
   "source": [
    "# Document frequency\n",
    "vect = CountVectorizer(binary=True)\n",
    "df = vect.fit_transform(simple_train).toarray().sum(axis=0)\n",
    "pd.DataFrame(df.reshape(1, 6), columns=vect.get_feature_names())"
   ]
  },
  {
   "cell_type": "code",
   "execution_count": 605,
   "metadata": {},
   "outputs": [
    {
     "data": {
      "text/html": [
       "<div>\n",
       "<style scoped>\n",
       "    .dataframe tbody tr th:only-of-type {\n",
       "        vertical-align: middle;\n",
       "    }\n",
       "\n",
       "    .dataframe tbody tr th {\n",
       "        vertical-align: top;\n",
       "    }\n",
       "\n",
       "    .dataframe thead th {\n",
       "        text-align: right;\n",
       "    }\n",
       "</style>\n",
       "<table border=\"1\" class=\"dataframe\">\n",
       "  <thead>\n",
       "    <tr style=\"text-align: right;\">\n",
       "      <th></th>\n",
       "      <th>cab</th>\n",
       "      <th>call</th>\n",
       "      <th>me</th>\n",
       "      <th>please</th>\n",
       "      <th>tonight</th>\n",
       "      <th>you</th>\n",
       "    </tr>\n",
       "  </thead>\n",
       "  <tbody>\n",
       "    <tr>\n",
       "      <td>0</td>\n",
       "      <td>0.0</td>\n",
       "      <td>0.333333</td>\n",
       "      <td>0.0</td>\n",
       "      <td>0.0</td>\n",
       "      <td>1.0</td>\n",
       "      <td>1.0</td>\n",
       "    </tr>\n",
       "    <tr>\n",
       "      <td>1</td>\n",
       "      <td>1.0</td>\n",
       "      <td>0.333333</td>\n",
       "      <td>0.5</td>\n",
       "      <td>0.0</td>\n",
       "      <td>0.0</td>\n",
       "      <td>0.0</td>\n",
       "    </tr>\n",
       "    <tr>\n",
       "      <td>2</td>\n",
       "      <td>0.0</td>\n",
       "      <td>0.333333</td>\n",
       "      <td>0.5</td>\n",
       "      <td>2.0</td>\n",
       "      <td>0.0</td>\n",
       "      <td>0.0</td>\n",
       "    </tr>\n",
       "  </tbody>\n",
       "</table>\n",
       "</div>"
      ],
      "text/plain": [
       "   cab      call   me  please  tonight  you\n",
       "0  0.0  0.333333  0.0     0.0      1.0  1.0\n",
       "1  1.0  0.333333  0.5     0.0      0.0  0.0\n",
       "2  0.0  0.333333  0.5     2.0      0.0  0.0"
      ]
     },
     "execution_count": 605,
     "metadata": {},
     "output_type": "execute_result"
    }
   ],
   "source": [
    "# Term frequency–inverse document frequency (simple version)\n",
    "tf/df"
   ]
  },
  {
   "cell_type": "markdown",
   "metadata": {},
   "source": [
    "The higher the TF–IDF value, the more \"important\" the word is to that specific document. Here, \"cab\" is the most important and unique word in document 1, while \"please\" is the most important and unique word in document 2. TF–IDF is often used for training as a replacement for word count."
   ]
  },
  {
   "cell_type": "code",
   "execution_count": 606,
   "metadata": {},
   "outputs": [
    {
     "data": {
      "text/html": [
       "<div>\n",
       "<style scoped>\n",
       "    .dataframe tbody tr th:only-of-type {\n",
       "        vertical-align: middle;\n",
       "    }\n",
       "\n",
       "    .dataframe tbody tr th {\n",
       "        vertical-align: top;\n",
       "    }\n",
       "\n",
       "    .dataframe thead th {\n",
       "        text-align: right;\n",
       "    }\n",
       "</style>\n",
       "<table border=\"1\" class=\"dataframe\">\n",
       "  <thead>\n",
       "    <tr style=\"text-align: right;\">\n",
       "      <th></th>\n",
       "      <th>cab</th>\n",
       "      <th>call</th>\n",
       "      <th>me</th>\n",
       "      <th>please</th>\n",
       "      <th>tonight</th>\n",
       "      <th>you</th>\n",
       "    </tr>\n",
       "  </thead>\n",
       "  <tbody>\n",
       "    <tr>\n",
       "      <td>0</td>\n",
       "      <td>0.000000</td>\n",
       "      <td>0.385372</td>\n",
       "      <td>0.000000</td>\n",
       "      <td>0.000000</td>\n",
       "      <td>0.652491</td>\n",
       "      <td>0.652491</td>\n",
       "    </tr>\n",
       "    <tr>\n",
       "      <td>1</td>\n",
       "      <td>0.720333</td>\n",
       "      <td>0.425441</td>\n",
       "      <td>0.547832</td>\n",
       "      <td>0.000000</td>\n",
       "      <td>0.000000</td>\n",
       "      <td>0.000000</td>\n",
       "    </tr>\n",
       "    <tr>\n",
       "      <td>2</td>\n",
       "      <td>0.000000</td>\n",
       "      <td>0.266075</td>\n",
       "      <td>0.342620</td>\n",
       "      <td>0.901008</td>\n",
       "      <td>0.000000</td>\n",
       "      <td>0.000000</td>\n",
       "    </tr>\n",
       "  </tbody>\n",
       "</table>\n",
       "</div>"
      ],
      "text/plain": [
       "        cab      call        me    please   tonight       you\n",
       "0  0.000000  0.385372  0.000000  0.000000  0.652491  0.652491\n",
       "1  0.720333  0.425441  0.547832  0.000000  0.000000  0.000000\n",
       "2  0.000000  0.266075  0.342620  0.901008  0.000000  0.000000"
      ]
     },
     "execution_count": 606,
     "metadata": {},
     "output_type": "execute_result"
    }
   ],
   "source": [
    "# TfidfVectorizer\n",
    "vect = TfidfVectorizer()\n",
    "pd.DataFrame(vect.fit_transform(simple_train).toarray(), columns=vect.get_feature_names())"
   ]
  },
  {
   "cell_type": "markdown",
   "metadata": {},
   "source": [
    "**More details:** [TF–IDF is about what matters](http://planspace.org/20150524-tfidf_is_about_what_matters/)"
   ]
  },
  {
   "cell_type": "markdown",
   "metadata": {},
   "source": [
    "<a id='yelp_tfidf'></a>\n",
    "## Using TF–IDF to Summarize a Yelp Review\n",
    "\n",
    "Reddit's autotldr uses the [SMMRY](http://smmry.com/about) algorithm, which is based on TF–IDF."
   ]
  },
  {
   "cell_type": "code",
   "execution_count": 607,
   "metadata": {},
   "outputs": [],
   "source": [
    "# Read yelp.csv into a DataFrame.\n",
    "path = './data/yelp.csv'\n",
    "yelp = pd.read_csv(path)\n",
    "\n",
    "# Create a new DataFrame that only contains the 5-star and 1-star reviews.\n",
    "yelp_best_worst = yelp[(yelp.stars==5) | (yelp.stars==1)]\n",
    "\n",
    "# Define X and y.\n",
    "X = yelp_best_worst.text\n",
    "y = yelp_best_worst.stars"
   ]
  },
  {
   "cell_type": "markdown",
   "metadata": {},
   "source": [
    "**Split data into train/test**"
   ]
  },
  {
   "cell_type": "code",
   "execution_count": 608,
   "metadata": {},
   "outputs": [],
   "source": [
    "# Split the new DataFrame into training and testing sets.\n",
    "X_train, X_test, y_train, y_test = train_test_split(X, y, random_state=1)"
   ]
  },
  {
   "cell_type": "code",
   "execution_count": 609,
   "metadata": {},
   "outputs": [
    {
     "data": {
      "text/plain": [
       "(10000, 28880)"
      ]
     },
     "execution_count": 609,
     "metadata": {},
     "output_type": "execute_result"
    }
   ],
   "source": [
    "# Create a document-term matrix using TF–IDF.\n",
    "vect = TfidfVectorizer(stop_words='english')\n",
    "\n",
    "# Fit transform Yelp data.\n",
    "dtm = vect.fit_transform(yelp.text)\n",
    "features = vect.get_feature_names()\n",
    "dtm.shape"
   ]
  },
  {
   "cell_type": "code",
   "execution_count": 610,
   "metadata": {},
   "outputs": [
    {
     "name": "stdout",
     "output_type": "stream",
     "text": [
      "('Features: ', 16528)\n",
      "('Accuracy: ', 0.8199608610567515)\n"
     ]
    }
   ],
   "source": [
    "vect = TfidfVectorizer(stop_words='english')\n",
    "tokenize_test(vect)"
   ]
  },
  {
   "cell_type": "code",
   "execution_count": 611,
   "metadata": {},
   "outputs": [],
   "source": [
    "def summarize():\n",
    "    \n",
    "    # Choose a random review that is at least 300 characters.\n",
    "    review_length = 0\n",
    "    while review_length < 300:\n",
    "        review_id = np.random.randint(0, len(yelp))\n",
    "        review_text = yelp.text[review_id]\n",
    "        #review_text = unicode(yelp.text[review_id], 'utf-8')\n",
    "        review_length = len(review_text)\n",
    "    \n",
    "    # Create a dictionary of words and their TF–IDF scores.\n",
    "    word_scores = {}\n",
    "    for word in TextBlob(review_text).words:\n",
    "        word = word.lower()\n",
    "        if word in features:\n",
    "            word_scores[word] = dtm[review_id, features.index(word)]\n",
    "    \n",
    "    # Print words with the top five TF–IDF scores.\n",
    "    print('TOP SCORING WORDS:')\n",
    "    top_scores = sorted(list(word_scores.items()), key=lambda x: x[1], reverse=True)[:5]\n",
    "    for word, score in top_scores:\n",
    "        print(word)\n",
    "    \n",
    "    # Print five random words.\n",
    "    print(('\\n' + 'RANDOM WORDS:'))\n",
    "    random_words = np.random.choice(list(word_scores.keys()), size=5, replace=False)\n",
    "    for word in random_words:\n",
    "        print(word)\n",
    "    \n",
    "    # Print the review.\n",
    "    print(('\\n' + review_text))"
   ]
  },
  {
   "cell_type": "code",
   "execution_count": 612,
   "metadata": {},
   "outputs": [
    {
     "name": "stdout",
     "output_type": "stream",
     "text": [
      "TOP SCORING WORDS:\n",
      "woot\n",
      "unknowingly\n",
      "half\n",
      "intrigued\n",
      "happy\n",
      "\n",
      "RANDOM WORDS:\n",
      "try\n",
      "drinks\n",
      "did\n",
      "woot\n",
      "cinnamon\n",
      "\n",
      "Tonight I finally tried this place. I went during happy hour (unknowingly) so I was VERY happy to see that drinks were 2-4-1. WOOT! What a great deal. I ordered a half and half order of their spicy and cinnamon fries. My God they were tasty! I LOVED the decor here too. Only 4 stars because I didn't really get to try the food, but it definitely had me intrigued. I will be back, Fez!\n"
     ]
    }
   ],
   "source": [
    "summarize()"
   ]
  },
  {
   "cell_type": "markdown",
   "metadata": {},
   "source": [
    "#### Combining tfidf and count vectorizer"
   ]
  },
  {
   "cell_type": "code",
   "execution_count": 613,
   "metadata": {},
   "outputs": [],
   "source": [
    "vect_tfidf = TfidfVectorizer(stop_words='english', min_df=3)\n",
    "\n",
    "# Create document-term matrices.\n",
    "X_train_dtm_tfidf = vect_tfidf.fit_transform(X_train)\n",
    "X_test_dtm_tfidf = vect_tfidf.transform(X_test)"
   ]
  },
  {
   "cell_type": "code",
   "execution_count": 614,
   "metadata": {},
   "outputs": [],
   "source": [
    "vect_counts = CountVectorizer(stop_words='english', min_df=3, ngram_range=(1, 2))\n",
    "\n",
    "X_train_dtm_counts = vect_counts.fit_transform(X_train)\n",
    "X_test_dtm_counts = vect_counts.transform(X_test)"
   ]
  },
  {
   "cell_type": "code",
   "execution_count": 615,
   "metadata": {},
   "outputs": [],
   "source": [
    "import scipy.sparse\n",
    "\n",
    "vect_train = scipy.sparse.hstack([X_train_dtm_tfidf, X_train_dtm_counts])\n",
    "vect_test = scipy.sparse.hstack([X_test_dtm_tfidf, X_test_dtm_counts])"
   ]
  },
  {
   "cell_type": "code",
   "execution_count": 616,
   "metadata": {},
   "outputs": [
    {
     "name": "stdout",
     "output_type": "stream",
     "text": [
      "0.9315068493150684\n"
     ]
    }
   ],
   "source": [
    "# Use Naive Bayes to predict the star rating.\n",
    "nb = MultinomialNB()\n",
    "nb.fit(vect_train, y_train)\n",
    "y_pred_class = nb.predict(vect_test)\n",
    "\n",
    "# Calculate accuracy.\n",
    "print((metrics.accuracy_score(y_test, y_pred_class)))"
   ]
  },
  {
   "cell_type": "markdown",
   "metadata": {},
   "source": [
    "### Class Walkthrough\n",
    "#### 4. Drug Reviews- tfidf"
   ]
  },
  {
   "cell_type": "code",
   "execution_count": 617,
   "metadata": {},
   "outputs": [],
   "source": [
    "# Define X and y.\n",
    "X = drug_reviews_weightloss.review\n",
    "y = drug_reviews_weightloss.ratings_simplified"
   ]
  },
  {
   "cell_type": "code",
   "execution_count": 618,
   "metadata": {},
   "outputs": [],
   "source": [
    "# Split the new DataFrame into training and testing sets.\n",
    "X_train, X_test, y_train, y_test = train_test_split(X, y, random_state=1)"
   ]
  },
  {
   "cell_type": "code",
   "execution_count": 619,
   "metadata": {},
   "outputs": [],
   "source": [
    "# Use CountVectorizer to create document-term matrices from X_train and X_test.\n",
    "vect = TfidfVectorizer(stop_words='english', min_df=3, ngram_range=(1, 2))\n",
    "X_train_dtm = vect.fit_transform(X_train)\n",
    "X_test_dtm = vect.transform(X_test)"
   ]
  },
  {
   "cell_type": "code",
   "execution_count": 620,
   "metadata": {},
   "outputs": [
    {
     "name": "stdout",
     "output_type": "stream",
     "text": [
      "0.6445182724252492\n"
     ]
    }
   ],
   "source": [
    "# Use Naive Bayes to predict the star rating.\n",
    "nb = MultinomialNB()\n",
    "nb.fit(X_train_dtm, y_train)\n",
    "y_pred_class = nb.predict(X_test_dtm)\n",
    "\n",
    "# Calculate accuracy.\n",
    "print((metrics.accuracy_score(y_test, y_pred_class)))"
   ]
  },
  {
   "cell_type": "markdown",
   "metadata": {},
   "source": [
    "<a id='sentiment'></a>\n",
    "## Sentiment Analysis\n",
    "\n",
    "Understanding how positive or negative a review is. There are many ways in practice to compute a sentiment value. For example:\n",
    "\n",
    "- Have a list of \"positive\" words and a list of \"negative\" words and count how many occur in a document. \n",
    "- Train a classifier given many examples of \"positive\" documents and \"negative\" documents. \n",
    "    - Note that this technique is often just an automated way to derive the first (e.g., using bag-of-words with logistic regression, a coefficient is assigned to each word!).\n",
    "\n",
    "For the most accurate sentiment analysis, you will want to train a custom sentiment model based on documents that are particular to your application. Generic models (such as the one we are about to use!) often do not work as well as hoped.\n",
    "\n",
    "As we will do below, always make sure you double-check that the algorithm is working by manually verifying that scores correctly correspond to positive/negative reviews! Otherwise, you may be using numbers that are not accurate."
   ]
  },
  {
   "cell_type": "code",
   "execution_count": 621,
   "metadata": {},
   "outputs": [
    {
     "name": "stdout",
     "output_type": "stream",
     "text": [
      "My wife took me here on my birthday for breakfast and it was excellent.  The weather was perfect which made sitting outside overlooking their grounds an absolute pleasure.  Our waitress was excellent and our food arrived quickly on the semi-busy Saturday morning.  It looked like the place fills up pretty quickly so the earlier you get here the better.\n",
      "\n",
      "Do yourself a favor and get their Bloody Mary.  It was phenomenal and simply the best I've ever had.  I'm pretty sure they only use ingredients from their garden and blend them fresh when you order it.  It was amazing.\n",
      "\n",
      "While EVERYTHING on the menu looks excellent, I had the white truffle scrambled eggs vegetable skillet and it was tasty and delicious.  It came with 2 pieces of their griddled bread with was amazing and it absolutely made the meal complete.  It was the best \"toast\" I've ever had.\n",
      "\n",
      "Anyway, I can't wait to go back!\n"
     ]
    }
   ],
   "source": [
    "print(review)"
   ]
  },
  {
   "cell_type": "code",
   "execution_count": 622,
   "metadata": {},
   "outputs": [
    {
     "data": {
      "text/plain": [
       "0.40246913580246907"
      ]
     },
     "execution_count": 622,
     "metadata": {},
     "output_type": "execute_result"
    }
   ],
   "source": [
    "# Polarity ranges from -1 (most negative) to 1 (most positive).\n",
    "review.sentiment.polarity"
   ]
  },
  {
   "cell_type": "code",
   "execution_count": 623,
   "metadata": {},
   "outputs": [],
   "source": [
    "# Define a function that accepts text and returns the polarity.\n",
    "def detect_sentiment(text):\n",
    "    return TextBlob(text).sentiment.polarity\n",
    "    #return TextBlob(text).sentiment.polarity"
   ]
  },
  {
   "cell_type": "code",
   "execution_count": 624,
   "metadata": {},
   "outputs": [],
   "source": [
    "# Create a new DataFrame column for sentiment (Warning: SLOW!).\n",
    "yelp['sentiment'] = yelp.text.apply(detect_sentiment)"
   ]
  },
  {
   "cell_type": "code",
   "execution_count": 625,
   "metadata": {},
   "outputs": [
    {
     "data": {
      "text/plain": [
       "<matplotlib.axes._subplots.AxesSubplot at 0x1a380e5310>"
      ]
     },
     "execution_count": 625,
     "metadata": {},
     "output_type": "execute_result"
    },
    {
     "data": {
      "image/png": "[encoded data removed]",
      "text/plain": [
       "<Figure size 432x288 with 1 Axes>"
      ]
     },
     "metadata": {
      "needs_background": "light"
     },
     "output_type": "display_data"
    }
   ],
   "source": [
    "# Box plot of sentiment grouped by stars\n",
    "yelp.boxplot(column='sentiment', by='stars')"
   ]
  },
  {
   "cell_type": "code",
   "execution_count": 626,
   "metadata": {},
   "outputs": [
    {
     "data": {
      "text/plain": [
       "254    Our server Gary was awesome. Food was amazing....\n",
       "347    3 syllables for this place. \\nA-MAZ-ING!\\n\\nTh...\n",
       "420                                    LOVE the food!!!!\n",
       "459    Love it!!! Wish we still lived in Arizona as C...\n",
       "679                                     Excellent burger\n",
       "Name: text, dtype: object"
      ]
     },
     "execution_count": 626,
     "metadata": {},
     "output_type": "execute_result"
    }
   ],
   "source": [
    "# Reviews with most positive sentiment\n",
    "yelp[yelp.sentiment == 1].text.head()"
   ]
  },
  {
   "cell_type": "code",
   "execution_count": 627,
   "metadata": {},
   "outputs": [
    {
     "data": {
      "text/plain": [
       "773     This was absolutely horrible. I got the suprem...\n",
       "1517                  Nasty workers and over priced trash\n",
       "3266    Absolutely awful... these guys have NO idea wh...\n",
       "4766                                       Very bad food!\n",
       "5812        I wouldn't send my worst enemy to this place.\n",
       "Name: text, dtype: object"
      ]
     },
     "execution_count": 627,
     "metadata": {},
     "output_type": "execute_result"
    }
   ],
   "source": [
    "# Reviews with most negative sentiment\n",
    "yelp[yelp.sentiment == -1].text.head()"
   ]
  },
  {
   "cell_type": "code",
   "execution_count": 628,
   "metadata": {},
   "outputs": [],
   "source": [
    "# Widen the column display.\n",
    "pd.set_option('max_colwidth', 500)"
   ]
  },
  {
   "cell_type": "code",
   "execution_count": 629,
   "metadata": {},
   "outputs": [
    {
     "data": {
      "text/html": [
       "<div>\n",
       "<style scoped>\n",
       "    .dataframe tbody tr th:only-of-type {\n",
       "        vertical-align: middle;\n",
       "    }\n",
       "\n",
       "    .dataframe tbody tr th {\n",
       "        vertical-align: top;\n",
       "    }\n",
       "\n",
       "    .dataframe thead th {\n",
       "        text-align: right;\n",
       "    }\n",
       "</style>\n",
       "<table border=\"1\" class=\"dataframe\">\n",
       "  <thead>\n",
       "    <tr style=\"text-align: right;\">\n",
       "      <th></th>\n",
       "      <th>business_id</th>\n",
       "      <th>date</th>\n",
       "      <th>review_id</th>\n",
       "      <th>stars</th>\n",
       "      <th>text</th>\n",
       "      <th>type</th>\n",
       "      <th>user_id</th>\n",
       "      <th>cool</th>\n",
       "      <th>useful</th>\n",
       "      <th>funny</th>\n",
       "      <th>sentiment</th>\n",
       "    </tr>\n",
       "  </thead>\n",
       "  <tbody>\n",
       "    <tr>\n",
       "      <td>390</td>\n",
       "      <td>106JT5p8e8Chtd0CZpcARw</td>\n",
       "      <td>2009-08-06</td>\n",
       "      <td>KowGVoP_gygzdSu6Mt3zKQ</td>\n",
       "      <td>5</td>\n",
       "      <td>RIP AZ Coffee Connection.  :(  I stopped by two days ago unaware that they had closed.  I am severely bummed.  This place is irreplaceable!  Damn you, Starbucks and McDonalds!</td>\n",
       "      <td>review</td>\n",
       "      <td>jKeaOrPyJ-dI9SNeVqrbww</td>\n",
       "      <td>1</td>\n",
       "      <td>0</td>\n",
       "      <td>0</td>\n",
       "      <td>-0.302083</td>\n",
       "    </tr>\n",
       "  </tbody>\n",
       "</table>\n",
       "</div>"
      ],
      "text/plain": [
       "                business_id        date               review_id  stars  \\\n",
       "390  106JT5p8e8Chtd0CZpcARw  2009-08-06  KowGVoP_gygzdSu6Mt3zKQ      5   \n",
       "\n",
       "                                                                                                                                                                                text  \\\n",
       "390  RIP AZ Coffee Connection.  :(  I stopped by two days ago unaware that they had closed.  I am severely bummed.  This place is irreplaceable!  Damn you, Starbucks and McDonalds!   \n",
       "\n",
       "       type                 user_id  cool  useful  funny  sentiment  \n",
       "390  review  jKeaOrPyJ-dI9SNeVqrbww     1       0      0  -0.302083  "
      ]
     },
     "execution_count": 629,
     "metadata": {},
     "output_type": "execute_result"
    }
   ],
   "source": [
    "# Negative sentiment in a 5-star review\n",
    "yelp[(yelp.stars == 5) & (yelp.sentiment < -0.3)].head(1)"
   ]
  },
  {
   "cell_type": "code",
   "execution_count": 630,
   "metadata": {},
   "outputs": [
    {
     "data": {
      "text/html": [
       "<div>\n",
       "<style scoped>\n",
       "    .dataframe tbody tr th:only-of-type {\n",
       "        vertical-align: middle;\n",
       "    }\n",
       "\n",
       "    .dataframe tbody tr th {\n",
       "        vertical-align: top;\n",
       "    }\n",
       "\n",
       "    .dataframe thead th {\n",
       "        text-align: right;\n",
       "    }\n",
       "</style>\n",
       "<table border=\"1\" class=\"dataframe\">\n",
       "  <thead>\n",
       "    <tr style=\"text-align: right;\">\n",
       "      <th></th>\n",
       "      <th>business_id</th>\n",
       "      <th>date</th>\n",
       "      <th>review_id</th>\n",
       "      <th>stars</th>\n",
       "      <th>text</th>\n",
       "      <th>type</th>\n",
       "      <th>user_id</th>\n",
       "      <th>cool</th>\n",
       "      <th>useful</th>\n",
       "      <th>funny</th>\n",
       "      <th>sentiment</th>\n",
       "    </tr>\n",
       "  </thead>\n",
       "  <tbody>\n",
       "    <tr>\n",
       "      <td>1781</td>\n",
       "      <td>53YGfwmbW73JhFiemNeyzQ</td>\n",
       "      <td>2012-06-22</td>\n",
       "      <td>Gi-4O3EhE175vujbFGDIew</td>\n",
       "      <td>1</td>\n",
       "      <td>If you like the stuck up Scottsdale vibe this is a good place for you. The food isn't impressive. Nice outdoor seating.</td>\n",
       "      <td>review</td>\n",
       "      <td>Hqgx3IdJAAaoQjvrUnbNvw</td>\n",
       "      <td>0</td>\n",
       "      <td>1</td>\n",
       "      <td>2</td>\n",
       "      <td>0.766667</td>\n",
       "    </tr>\n",
       "  </tbody>\n",
       "</table>\n",
       "</div>"
      ],
      "text/plain": [
       "                 business_id        date               review_id  stars  \\\n",
       "1781  53YGfwmbW73JhFiemNeyzQ  2012-06-22  Gi-4O3EhE175vujbFGDIew      1   \n",
       "\n",
       "                                                                                                                         text  \\\n",
       "1781  If you like the stuck up Scottsdale vibe this is a good place for you. The food isn't impressive. Nice outdoor seating.   \n",
       "\n",
       "        type                 user_id  cool  useful  funny  sentiment  \n",
       "1781  review  Hqgx3IdJAAaoQjvrUnbNvw     0       1      2   0.766667  "
      ]
     },
     "execution_count": 630,
     "metadata": {},
     "output_type": "execute_result"
    }
   ],
   "source": [
    "# Positive sentiment in a 1-star review\n",
    "yelp[(yelp.stars == 1) & (yelp.sentiment > 0.5)].head(1)"
   ]
  },
  {
   "cell_type": "code",
   "execution_count": 631,
   "metadata": {},
   "outputs": [],
   "source": [
    "# Reset the column display width.\n",
    "pd.reset_option('max_colwidth')"
   ]
  },
  {
   "cell_type": "markdown",
   "metadata": {},
   "source": [
    "<a id='add_feat'></a>\n",
    "## Bonus: Adding Features to a Document-Term Matrix"
   ]
  },
  {
   "cell_type": "markdown",
   "metadata": {},
   "source": [
    "Here, we will add additional features to our `CountVectorizer()`-generated feature set to hopefully improve our model.\n",
    "\n",
    "To make the best models, you will want to supplement the auto-generated features with new features you think might be important. After all, `CountVectorizer()` typically lowercases text and removes all associations between words. Or, you may have metadata to add in addition to just the text.\n",
    "\n",
    "> Remember: Although you may have hundreds of thousands of features, each data point is extremely sparse. So, if you add in a new feature, e.g., one that detects if the text is all capital letters, this new feature can still have a huge effect on the model outcome!"
   ]
  },
  {
   "cell_type": "code",
   "execution_count": 632,
   "metadata": {},
   "outputs": [],
   "source": [
    "# Create a DataFrame that only contains the 5-star and 1-star reviews.\n",
    "yelp_best_worst = yelp[(yelp.stars==5) | (yelp.stars==1)]\n",
    "\n",
    "# define X and y\n",
    "feature_cols = ['text', 'sentiment', 'cool', 'useful', 'funny']\n",
    "X = yelp_best_worst[feature_cols]\n",
    "y = yelp_best_worst.stars\n",
    "\n",
    "# split into training and testing sets\n",
    "X_train, X_test, y_train, y_test = train_test_split(X, y, random_state=1)"
   ]
  },
  {
   "cell_type": "code",
   "execution_count": 633,
   "metadata": {},
   "outputs": [
    {
     "name": "stdout",
     "output_type": "stream",
     "text": [
      "(3064, 16825)\n",
      "(1022, 16825)\n"
     ]
    }
   ],
   "source": [
    "# Use CountVectorizer with text column only.\n",
    "vect = CountVectorizer()\n",
    "X_train_dtm = vect.fit_transform(X_train.text)\n",
    "X_test_dtm = vect.transform(X_test.text)\n",
    "print((X_train_dtm.shape))\n",
    "print((X_test_dtm.shape))"
   ]
  },
  {
   "cell_type": "code",
   "execution_count": 634,
   "metadata": {},
   "outputs": [
    {
     "data": {
      "text/plain": [
       "(3064, 4)"
      ]
     },
     "execution_count": 634,
     "metadata": {},
     "output_type": "execute_result"
    }
   ],
   "source": [
    "# Shape of other four feature columns\n",
    "X_train.drop('text', axis=1).shape"
   ]
  },
  {
   "cell_type": "code",
   "execution_count": 635,
   "metadata": {},
   "outputs": [
    {
     "data": {
      "text/plain": [
       "(3064, 4)"
      ]
     },
     "execution_count": 635,
     "metadata": {},
     "output_type": "execute_result"
    }
   ],
   "source": [
    "# Cast other feature columns to float and convert to a sparse matrix.\n",
    "extra = sp.sparse.csr_matrix(X_train.drop('text', axis=1).astype(float))\n",
    "extra.shape"
   ]
  },
  {
   "cell_type": "code",
   "execution_count": 636,
   "metadata": {},
   "outputs": [
    {
     "data": {
      "text/plain": [
       "(3064, 16829)"
      ]
     },
     "execution_count": 636,
     "metadata": {},
     "output_type": "execute_result"
    }
   ],
   "source": [
    "# Combine sparse matrices.\n",
    "X_train_dtm_extra = sp.sparse.hstack((X_train_dtm, extra))\n",
    "X_train_dtm_extra.shape"
   ]
  },
  {
   "cell_type": "code",
   "execution_count": 637,
   "metadata": {},
   "outputs": [
    {
     "data": {
      "text/plain": [
       "(1022, 16829)"
      ]
     },
     "execution_count": 637,
     "metadata": {},
     "output_type": "execute_result"
    }
   ],
   "source": [
    "# Repeat for testing set.\n",
    "extra = sp.sparse.csr_matrix(X_test.drop('text', axis=1).astype(float))\n",
    "X_test_dtm_extra = sp.sparse.hstack((X_test_dtm, extra))\n",
    "X_test_dtm_extra.shape"
   ]
  },
  {
   "cell_type": "code",
   "execution_count": 638,
   "metadata": {},
   "outputs": [
    {
     "name": "stderr",
     "output_type": "stream",
     "text": [
      "/Users/m339673/opt/anaconda3/lib/python3.7/site-packages/sklearn/linear_model/logistic.py:432: FutureWarning: Default solver will be changed to 'lbfgs' in 0.22. Specify a solver to silence this warning.\n",
      "  FutureWarning)\n"
     ]
    },
    {
     "name": "stdout",
     "output_type": "stream",
     "text": [
      "0.9178082191780822\n"
     ]
    }
   ],
   "source": [
    "# Use logistic regression with text column only.\n",
    "logreg = LogisticRegression(C=1e9)\n",
    "logreg.fit(X_train_dtm, y_train)\n",
    "y_pred_class = logreg.predict(X_test_dtm)\n",
    "print((metrics.accuracy_score(y_test, y_pred_class)))"
   ]
  },
  {
   "cell_type": "code",
   "execution_count": 639,
   "metadata": {},
   "outputs": [
    {
     "name": "stdout",
     "output_type": "stream",
     "text": [
      "0.9227005870841487\n"
     ]
    }
   ],
   "source": [
    "# Use logistic regression with all features.\n",
    "logreg = LogisticRegression(C=1e9)\n",
    "logreg.fit(X_train_dtm_extra, y_train)\n",
    "y_pred_class = logreg.predict(X_test_dtm_extra)\n",
    "print((metrics.accuracy_score(y_test, y_pred_class)))"
   ]
  },
  {
   "cell_type": "markdown",
   "metadata": {},
   "source": [
    "### Exercises\n",
    "#### 5. Drug Reviews- Combining Text and non-Text"
   ]
  },
  {
   "cell_type": "code",
   "execution_count": 640,
   "metadata": {},
   "outputs": [],
   "source": [
    "# Define X and y.\n",
    "feature_cols = ['drugName', 'review']\n",
    "X = drug_reviews_weightloss[feature_cols]\n",
    "y = drug_reviews_weightloss.ratings_simplified"
   ]
  },
  {
   "cell_type": "code",
   "execution_count": 641,
   "metadata": {},
   "outputs": [],
   "source": [
    "X=pd.merge(pd.get_dummies(X.drugName), X.review, left_index=True, right_index=True)"
   ]
  },
  {
   "cell_type": "code",
   "execution_count": 642,
   "metadata": {},
   "outputs": [],
   "source": [
    "# Split the new DataFrame into training and testing sets.\n",
    "X_train, X_test, y_train, y_test = train_test_split(X, y, random_state=1)"
   ]
  },
  {
   "cell_type": "markdown",
   "metadata": {},
   "source": [
    "**Use CountVectorizer with text column only. Use min_df=3, stop words and ngram range from 1 to 2. Convert to DTMs**"
   ]
  },
  {
   "cell_type": "code",
   "execution_count": 643,
   "metadata": {},
   "outputs": [],
   "source": [
    "vect = CountVectorizer(stop_words='english', min_df=3, ngram_range=(1,2))\n",
    "X_train_dtm = vect.fit_transform(X_train.review)\n",
    "X_test_dtm = vect.transform(X_test.review)"
   ]
  },
  {
   "cell_type": "markdown",
   "metadata": {},
   "source": [
    "**Cast other feature columns to float and convert to a sparse matrix. Combine sparce matrices and repeat for test set.**"
   ]
  },
  {
   "cell_type": "code",
   "execution_count": 644,
   "metadata": {},
   "outputs": [],
   "source": [
    "# Cast other feature columns to float and convert to a sparse matrix.\n",
    "extra = sp.sparse.csr_matrix(X_train.drop('review', axis=1).astype(float))"
   ]
  },
  {
   "cell_type": "code",
   "execution_count": 645,
   "metadata": {},
   "outputs": [
    {
     "data": {
      "text/plain": [
       "(2706, 10391)"
      ]
     },
     "execution_count": 645,
     "metadata": {},
     "output_type": "execute_result"
    }
   ],
   "source": [
    "# Combine sparse matrices.\n",
    "X_train_dtm_extra = sp.sparse.hstack((X_train_dtm, extra))\n",
    "X_train_dtm_extra.shape"
   ]
  },
  {
   "cell_type": "code",
   "execution_count": 646,
   "metadata": {},
   "outputs": [
    {
     "data": {
      "text/plain": [
       "(903, 10391)"
      ]
     },
     "execution_count": 646,
     "metadata": {},
     "output_type": "execute_result"
    }
   ],
   "source": [
    "# Repeat for testing set.\n",
    "extra = sp.sparse.csr_matrix(X_test.drop('review', axis=1).astype(float))\n",
    "X_test_dtm_extra = sp.sparse.hstack((X_test_dtm, extra))\n",
    "X_test_dtm_extra.shape"
   ]
  },
  {
   "cell_type": "markdown",
   "metadata": {},
   "source": [
    "**Build a logistic regression model with just the text features**"
   ]
  },
  {
   "cell_type": "code",
   "execution_count": 647,
   "metadata": {},
   "outputs": [
    {
     "name": "stderr",
     "output_type": "stream",
     "text": [
      "/Users/m339673/opt/anaconda3/lib/python3.7/site-packages/sklearn/linear_model/logistic.py:432: FutureWarning: Default solver will be changed to 'lbfgs' in 0.22. Specify a solver to silence this warning.\n",
      "  FutureWarning)\n",
      "/Users/m339673/opt/anaconda3/lib/python3.7/site-packages/sklearn/linear_model/logistic.py:469: FutureWarning: Default multi_class will be changed to 'auto' in 0.22. Specify the multi_class option to silence this warning.\n",
      "  \"this warning.\", FutureWarning)\n"
     ]
    },
    {
     "name": "stdout",
     "output_type": "stream",
     "text": [
      "0.7973421926910299\n"
     ]
    }
   ],
   "source": [
    "# Use logistic regression with text column only.\n",
    "logreg = LogisticRegression(C=1e9)\n",
    "logreg.fit(X_train_dtm, y_train)\n",
    "y_pred_class = logreg.predict(X_test_dtm)\n",
    "print((metrics.accuracy_score(y_test, y_pred_class)))"
   ]
  },
  {
   "cell_type": "markdown",
   "metadata": {},
   "source": [
    "**Build a logistic regression model with all features.**"
   ]
  },
  {
   "cell_type": "code",
   "execution_count": 648,
   "metadata": {},
   "outputs": [
    {
     "name": "stdout",
     "output_type": "stream",
     "text": [
      "0.8028792912513842\n"
     ]
    }
   ],
   "source": [
    "# Use logistic regression with all features.\n",
    "logreg = LogisticRegression(C=1e9)\n",
    "logreg.fit(X_train_dtm_extra, y_train)\n",
    "y_pred_class = logreg.predict(X_test_dtm_extra)\n",
    "print((metrics.accuracy_score(y_test, y_pred_class)))"
   ]
  },
  {
   "cell_type": "markdown",
   "metadata": {},
   "source": [
    "\n",
    "\n",
    "<a id='more_textblob'></a>\n",
    "## Bonus: Fun TextBlob Features"
   ]
  },
  {
   "cell_type": "code",
   "execution_count": 649,
   "metadata": {},
   "outputs": [
    {
     "data": {
      "text/plain": [
       "TextBlob(\"15 minutes late\")"
      ]
     },
     "execution_count": 649,
     "metadata": {},
     "output_type": "execute_result"
    }
   ],
   "source": [
    "# Spelling correction\n",
    "TextBlob('15 minuets late').correct()"
   ]
  },
  {
   "cell_type": "code",
   "execution_count": 650,
   "metadata": {},
   "outputs": [
    {
     "data": {
      "text/plain": [
       "[('part', 0.9929478138222849), ('parrot', 0.007052186177715092)]"
      ]
     },
     "execution_count": 650,
     "metadata": {},
     "output_type": "execute_result"
    }
   ],
   "source": [
    "# Spellcheck\n",
    "Word('parot').spellcheck()"
   ]
  },
  {
   "cell_type": "code",
   "execution_count": 651,
   "metadata": {},
   "outputs": [
    {
     "data": {
      "text/plain": [
       "['tip laterally',\n",
       " 'enclose with a bank',\n",
       " 'do business with a bank or keep an account at a bank',\n",
       " 'act as the banker in a game or in gambling',\n",
       " 'be in the banking business',\n",
       " 'put into a bank account',\n",
       " 'cover with ashes so to control the rate of burning',\n",
       " 'have confidence or faith in']"
      ]
     },
     "execution_count": 651,
     "metadata": {},
     "output_type": "execute_result"
    }
   ],
   "source": [
    "# Definitions\n",
    "Word('bank').define('v')"
   ]
  },
  {
   "cell_type": "code",
   "execution_count": 652,
   "metadata": {},
   "outputs": [
    {
     "data": {
      "text/plain": [
       "'es'"
      ]
     },
     "execution_count": 652,
     "metadata": {},
     "output_type": "execute_result"
    }
   ],
   "source": [
    "# Language identification\n",
    "TextBlob('Hola amigos').detect_language()"
   ]
  },
  {
   "cell_type": "markdown",
   "metadata": {},
   "source": [
    "<a id='conclusion'></a>\n",
    "## Conclusion\n",
    "\n",
    "- NLP is a gigantic field.\n",
    "- Understanding the basics broadens the types of data you can work with.\n",
    "- Simple techniques go a long way.\n",
    "- Use scikit-learn for NLP whenever possible.\n",
    "\n",
    "While we used SKLearn and TextBlob today, another popular python NLP library is [Spacy](https://spacy.io)."
   ]
  }
 ],
 "metadata": {
  "kernelspec": {
   "display_name": "Python 3",
   "language": "python",
   "name": "python3"
  },
  "language_info": {
   "codemirror_mode": {
    "name": "ipython",
    "version": 3
   },
   "file_extension": ".py",
   "mimetype": "text/x-python",
   "name": "python",
   "nbconvert_exporter": "python",
   "pygments_lexer": "ipython3",
   "version": "3.7.4"
  }
 },
 "nbformat": 4,
 "nbformat_minor": 2
}
