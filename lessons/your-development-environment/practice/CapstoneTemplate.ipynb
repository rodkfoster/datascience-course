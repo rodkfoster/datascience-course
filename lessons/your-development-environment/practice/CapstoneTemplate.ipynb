{
 "cells": [
  {
   "cell_type": "markdown",
   "metadata": {},
   "source": [
    "# Challenge 1\n",
    "\n",
    "**Goal** - Create a template for the class to use for building their capstone\n",
    "\n",
    "**Requirements** - A successful project template at minimum includes sections to:\n",
    "\n",
    ">1. Introduce the writer (of the capstone, not the template)\n",
    ">2. Overviews the problem or area being investigated by the Capstone\n",
    ">3. Succinctly captures the question being investigated\n",
    ">4. Provides an overview of the data being used to answer the question\n",
    ">5. Concludes with a summarized overview of the findings.\n",
    "\n",
    "Here's a [cheat sheet](https://github.com/adam-p/markdown-here/wiki/Markdown-Here-Cheatsheet) to get you started on Markdown formatting. \n",
    "\n",
    "To submit - \n",
    ">1. Fork the ClassChallenge repo then clone it to your computer\n",
    ">2. Complete the template on your computer\n",
    ">3. Rename it to {Your Name}-CapstoneTemplate.ipynb\n",
    ">4. Send it to your online repo\n",
    ">     - git add .\n",
    ">     - git commit -m \"Capstone Template Submission\"\n",
    ">     - git push\n",
    ">5. Submission has two options - Slack the Instructional Team the link to your submission in your repo ***or*** figure out the pull request process"
   ]
  },
  {
   "cell_type": "code",
   "execution_count": null,
   "metadata": {},
   "outputs": [],
   "source": [
    "# Maybe switch a Cell to Markdown and use it for the introduction with each area in a new cell"
   ]
  },
  {
   "cell_type": "code",
   "execution_count": null,
   "metadata": {},
   "outputs": [],
   "source": [
    "# Leave a few blocks open and use these comments that start with a Hash to leave space for the Data Science Workflow "
   ]
  },
  {
   "cell_type": "code",
   "execution_count": null,
   "metadata": {},
   "outputs": [],
   "source": [
    "# Findings shouldn't necessarily be in comments... should they?"
   ]
  },
  {
   "cell_type": "markdown",
   "metadata": {},
   "source": [
    "## This is my area for MAChine learning"
   ]
  },
  {
   "cell_type": "code",
   "execution_count": null,
   "metadata": {},
   "outputs": [],
   "source": []
  }
 ],
 "metadata": {
  "kernelspec": {
   "display_name": "Python 3",
   "language": "python",
   "name": "python3"
  },
  "language_info": {
   "codemirror_mode": {
    "name": "ipython",
    "version": 3
   },
   "file_extension": ".py",
   "mimetype": "text/x-python",
   "name": "python",
   "nbconvert_exporter": "python",
   "pygments_lexer": "ipython3",
   "version": "3.7.3"
  }
 },
 "nbformat": 4,
 "nbformat_minor": 2
}
