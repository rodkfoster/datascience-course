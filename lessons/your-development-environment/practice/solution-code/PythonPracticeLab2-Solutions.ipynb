{
 "cells": [
  {
   "cell_type": "markdown",
   "metadata": {},
   "source": [
    "<img src=\"http://imgur.com/1ZcRyrc.png\" style=\"float: left; margin: 20px; height: 55px\">\n",
    "\n",
    "# Python Practice Lab 2 Solutions\n",
    "\n",
    "_Author: Bryce Peake (Washington DC) Steven Longstreet (Washington DC)_\n",
    "\n",
    "---\n"
   ]
  },
  {
   "cell_type": "markdown",
   "metadata": {},
   "source": [
    "# Overview\n",
    "\n",
    "This Python lab is an overview of python concepts covered in class pre-work, practiced in [First Homework](python-dtypes.ipynb) and reviewed in the [Python Practice Lab 1](PythonPracticeLab1.ipynb) "
   ]
  },
  {
   "cell_type": "markdown",
   "metadata": {},
   "source": [
    "## Exercises\n",
    "\n",
    "Answer the questions or complete the tasks outlined in bold below, use the specific method described if applicable."
   ]
  },
  {
   "cell_type": "markdown",
   "metadata": {},
   "source": [
    "**What is 10 to the power of 6?**"
   ]
  },
  {
   "cell_type": "code",
   "execution_count": 65,
   "metadata": {
    "ExecuteTime": {
     "end_time": "2019-10-16T00:46:50.963144Z",
     "start_time": "2019-10-16T00:46:50.960390Z"
    }
   },
   "outputs": [
    {
     "data": {
      "text/plain": [
       "1000000"
      ]
     },
     "execution_count": 65,
     "metadata": {},
     "output_type": "execute_result"
    }
   ],
   "source": [
    "10 ** 6"
   ]
  },
  {
   "cell_type": "markdown",
   "metadata": {},
   "source": [
    "**Split this string:**\n",
    "\n",
    "    \"Hi there Sam!\"\n",
    "    \n",
    "**into a list.**"
   ]
  },
  {
   "cell_type": "code",
   "execution_count": 66,
   "metadata": {
    "ExecuteTime": {
     "end_time": "2019-10-16T00:47:02.301881Z",
     "start_time": "2019-10-16T00:47:02.299846Z"
    }
   },
   "outputs": [],
   "source": [
    "x = \"Hi there Sam!\""
   ]
  },
  {
   "cell_type": "code",
   "execution_count": 67,
   "metadata": {
    "ExecuteTime": {
     "end_time": "2019-10-16T00:47:02.866376Z",
     "start_time": "2019-10-16T00:47:02.863534Z"
    }
   },
   "outputs": [
    {
     "data": {
      "text/plain": [
       "['Hi', 'there', 'Sam!']"
      ]
     },
     "execution_count": 67,
     "metadata": {},
     "output_type": "execute_result"
    }
   ],
   "source": [
    "x.split()"
   ]
  },
  {
   "cell_type": "markdown",
   "metadata": {},
   "source": [
    "**Given the objects:**\n",
    "\n",
    "    pet = \"dog\"\n",
    "    name = \"Bridget\"\n",
    "    weight = 18\n",
    "\n",
    "**Use a string formatting method of your choice (f-string, .format() etc) to print the following string:**\n",
    "\n",
    "    Bridget the dog is 18lbs. "
   ]
  },
  {
   "cell_type": "code",
   "execution_count": 2,
   "metadata": {
    "ExecuteTime": {
     "end_time": "2020-01-13T06:23:25.919220Z",
     "start_time": "2020-01-13T06:23:25.914234Z"
    }
   },
   "outputs": [],
   "source": [
    "pet = \"dog\"\n",
    "name = \"Bridget\"\n",
    "weight = 18"
   ]
  },
  {
   "cell_type": "code",
   "execution_count": 3,
   "metadata": {
    "ExecuteTime": {
     "end_time": "2020-01-13T06:23:26.280254Z",
     "start_time": "2020-01-13T06:23:26.272276Z"
    }
   },
   "outputs": [
    {
     "name": "stdout",
     "output_type": "stream",
     "text": [
      "Bridget the dog is 18lbs.\n"
     ]
    }
   ],
   "source": [
    "print(f\"{name} the {pet} is {weight}lbs.\")\n",
    "\n",
    "# Alternatively an older way is \n",
    "print(\"{} the {} is {}lbs.\".format(name, pet, weight))"
   ]
  },
  {
   "cell_type": "markdown",
   "metadata": {},
   "source": [
    "**Below is a nested list (a list with lists in it), use indexing to return the word \"hello\"**\n",
    "\n",
    "*Tip: You'll need multiple [ ] to accomplish this task*"
   ]
  },
  {
   "cell_type": "code",
   "execution_count": 5,
   "metadata": {
    "ExecuteTime": {
     "end_time": "2020-01-13T06:23:53.708861Z",
     "start_time": "2020-01-13T06:23:53.702877Z"
    }
   },
   "outputs": [],
   "source": [
    "lst = [1,2,[3,4],[5,[100,200,['hello']],23,11],1,7]"
   ]
  },
  {
   "cell_type": "code",
   "execution_count": 6,
   "metadata": {
    "ExecuteTime": {
     "end_time": "2020-01-13T06:23:53.971158Z",
     "start_time": "2020-01-13T06:23:53.958192Z"
    }
   },
   "outputs": [
    {
     "data": {
      "text/plain": [
       "'hello'"
      ]
     },
     "execution_count": 6,
     "metadata": {},
     "output_type": "execute_result"
    }
   ],
   "source": [
    "lst[3][1][2][0]"
   ]
  },
  {
   "cell_type": "markdown",
   "metadata": {},
   "source": [
    "**Given this nested dictionary, return the word \"hello\". Remember how to use a \"key\" to return a \"value\" in dictionaries, this will be annoying/tricky**"
   ]
  },
  {
   "cell_type": "code",
   "execution_count": 7,
   "metadata": {
    "ExecuteTime": {
     "end_time": "2020-01-13T06:24:07.185797Z",
     "start_time": "2020-01-13T06:24:07.180811Z"
    }
   },
   "outputs": [],
   "source": [
    "d = {'k1':[1,2,3,{'tricky':['oh','man','inception',{'target':[1,2,3,'hello']}]}]}"
   ]
  },
  {
   "cell_type": "code",
   "execution_count": 8,
   "metadata": {
    "ExecuteTime": {
     "end_time": "2020-01-13T06:24:07.523893Z",
     "start_time": "2020-01-13T06:24:07.517908Z"
    }
   },
   "outputs": [
    {
     "data": {
      "text/plain": [
       "'hello'"
      ]
     },
     "execution_count": 8,
     "metadata": {},
     "output_type": "execute_result"
    }
   ],
   "source": [
    "d['k1'][3]['tricky'][3]['target'][3]"
   ]
  },
  {
   "cell_type": "markdown",
   "metadata": {},
   "source": [
    "**What is the main difference between a tuple and a list?**"
   ]
  },
  {
   "cell_type": "code",
   "execution_count": 23,
   "metadata": {
    "collapsed": true
   },
   "outputs": [],
   "source": [
    "# knowledge based answer below\n",
    "\n",
    "#tuples are immutable - they can't be changed!"
   ]
  },
  {
   "cell_type": "markdown",
   "metadata": {},
   "source": [
    "**Create a function that accepts an email address and returns the email website domain. Your input will be in the form of a string such as: **\n",
    "\n",
    "    user@bryceisgreatatdatascience.com\n",
    "    \n",
    "**So for example, passing \"user@domain.com\" would return: domain.com**"
   ]
  },
  {
   "cell_type": "code",
   "execution_count": 68,
   "metadata": {
    "ExecuteTime": {
     "end_time": "2019-10-16T00:50:06.221382Z",
     "start_time": "2019-10-16T00:50:06.218665Z"
    }
   },
   "outputs": [],
   "source": [
    "# Build your function \n",
    "\n",
    "def domainFinder(x):\n",
    "    return x.split('@')[1]"
   ]
  },
  {
   "cell_type": "code",
   "execution_count": 71,
   "metadata": {
    "ExecuteTime": {
     "end_time": "2019-10-16T00:50:41.527069Z",
     "start_time": "2019-10-16T00:50:41.523225Z"
    }
   },
   "outputs": [
    {
     "data": {
      "text/plain": [
       "'bryceisgreatatdatascience.com'"
      ]
     },
     "execution_count": 71,
     "metadata": {},
     "output_type": "execute_result"
    }
   ],
   "source": [
    "#Test your function here\n",
    "domainFinder('user@bryceisgreatatdatascience.com')\n"
   ]
  },
  {
   "cell_type": "markdown",
   "metadata": {},
   "source": [
    "**Create a basic function that returns True if the word 'astronaut' is contained in the input string. Don't worry about edge cases like a punctuation being attached to the word dog, but do account for capitalization.**"
   ]
  },
  {
   "cell_type": "code",
   "execution_count": 73,
   "metadata": {
    "ExecuteTime": {
     "end_time": "2019-10-16T00:51:21.530147Z",
     "start_time": "2019-10-16T00:51:21.527932Z"
    }
   },
   "outputs": [],
   "source": [
    "# Build it here:\n",
    "def findAstronaut(x):\n",
    "    lst = x.lower().split()\n",
    "    return \"astronaut\" in lst"
   ]
  },
  {
   "cell_type": "code",
   "execution_count": 76,
   "metadata": {
    "ExecuteTime": {
     "end_time": "2019-10-16T00:51:51.218756Z",
     "start_time": "2019-10-16T00:51:51.215802Z"
    }
   },
   "outputs": [
    {
     "data": {
      "text/plain": [
       "True"
      ]
     },
     "execution_count": 76,
     "metadata": {},
     "output_type": "execute_result"
    }
   ],
   "source": [
    "# Test it here\n",
    "findAstronaut('Is there an Astronaut here?')"
   ]
  },
  {
   "cell_type": "markdown",
   "metadata": {},
   "source": [
    "**Create a function that counts the number of times the word \"dog\" occurs in a string. Again ignore edge cases.**"
   ]
  },
  {
   "cell_type": "code",
   "execution_count": 77,
   "metadata": {
    "ExecuteTime": {
     "end_time": "2019-10-16T00:52:54.433745Z",
     "start_time": "2019-10-16T00:52:54.431745Z"
    }
   },
   "outputs": [],
   "source": [
    "# Build it\n",
    "def countDog(st):\n",
    "    count = 0\n",
    "    for word in st.lower().split():\n",
    "        if word == 'dog':\n",
    "            count += 1\n",
    "    return count   "
   ]
  },
  {
   "cell_type": "code",
   "execution_count": 78,
   "metadata": {
    "ExecuteTime": {
     "end_time": "2019-10-16T00:52:54.872845Z",
     "start_time": "2019-10-16T00:52:54.870184Z"
    }
   },
   "outputs": [
    {
     "data": {
      "text/plain": [
       "2"
      ]
     },
     "execution_count": 78,
     "metadata": {},
     "output_type": "execute_result"
    }
   ],
   "source": [
    "# Test it\n",
    "countDog('This dog runs faster than the other dog dude!')"
   ]
  },
  {
   "cell_type": "code",
   "execution_count": 1,
   "metadata": {
    "ExecuteTime": {
     "end_time": "2020-01-08T02:44:05.230990Z",
     "start_time": "2020-01-08T02:44:05.226966Z"
    }
   },
   "outputs": [],
   "source": [
    "#Why might it be helpful to test out multiple version of your functions input?\n",
    "\n"
   ]
  },
  {
   "cell_type": "code",
   "execution_count": 79,
   "metadata": {
    "ExecuteTime": {
     "end_time": "2019-10-16T00:53:23.729575Z",
     "start_time": "2019-10-16T00:53:23.727626Z"
    }
   },
   "outputs": [],
   "source": [
    "#Can you update your function to accept both a target word & a target string(sentence)?\n",
    "def countDog2(word, sentence):\n",
    "    return sentence.lower().count(word)  "
   ]
  },
  {
   "cell_type": "code",
   "execution_count": 80,
   "metadata": {
    "ExecuteTime": {
     "end_time": "2019-10-16T00:53:24.246113Z",
     "start_time": "2019-10-16T00:53:24.244091Z"
    }
   },
   "outputs": [],
   "source": [
    "#Don't make it harder on yourself - assign a sentence to a variable\n",
    "sentence = \"Bridget is a Sheltie, not a Pomeranian, a real live sheltie\""
   ]
  },
  {
   "cell_type": "code",
   "execution_count": 82,
   "metadata": {
    "ExecuteTime": {
     "end_time": "2019-10-16T00:53:39.941195Z",
     "start_time": "2019-10-16T00:53:39.938235Z"
    }
   },
   "outputs": [
    {
     "data": {
      "text/plain": [
       "1"
      ]
     },
     "execution_count": 82,
     "metadata": {},
     "output_type": "execute_result"
    }
   ],
   "source": [
    "# Test it out here\n",
    "countDog2(\"pomeranian\", sentence)"
   ]
  },
  {
   "cell_type": "markdown",
   "metadata": {},
   "source": [
    "**Use lambda expressions and the filter() function to filter out words from a list that don't start with the letter 'd'. For example:**\n",
    "\n",
    "    seq = ['dinosaur','dog','table','dinner','@onodke']\n",
    "\n",
    "**should be filtered down to:**\n",
    "\n",
    "    ['dinosaur', 'dog', 'dinner']"
   ]
  },
  {
   "cell_type": "markdown",
   "metadata": {},
   "source": [
    "### Hold up - Lambda's weren't covered in the prework. \n",
    "\n",
    "As you get further into Python & Data Science you will hear many terms & techniques referenced. One of the most important skills to teach you starts [here](www.google.com)\n",
    "\n",
    "Not to be cheeky - but between Maths (Statistics, Linear Algebra, Calculus), core machine learning tasks (Regression, Classification, Clustering, Diminsionality Reduction), bespoke areas of data science (forecasting, natural language processing, image computing), techniques (Neural Nets, semi-supervised learning, reinforced learning) etc \n",
    "\n",
    "Well.... there just isn't time to cover everything and many of these are changing fields. Once you start layering on business applications - Science, Business, Defense etc.\n",
    "\n",
    "Lambda's are amazing anonymous functions either inside other functions or serving a simple purpose within your code base (if you used the same lambda multiple times you may want to consider making it a proper named function). \n",
    "\n",
    "**Use your research skills & the power of your classmates to answer the above questions**"
   ]
  },
  {
   "cell_type": "code",
   "execution_count": null,
   "metadata": {},
   "outputs": [],
   "source": []
  },
  {
   "cell_type": "code",
   "execution_count": 57,
   "metadata": {
    "ExecuteTime": {
     "end_time": "2019-10-16T00:33:59.297750Z",
     "start_time": "2019-10-16T00:33:59.295845Z"
    }
   },
   "outputs": [],
   "source": [
    "seq = ['dinosaur','dog','table','dinner','@onodke']"
   ]
  },
  {
   "cell_type": "code",
   "execution_count": 88,
   "metadata": {
    "ExecuteTime": {
     "end_time": "2019-10-16T00:56:07.588692Z",
     "start_time": "2019-10-16T00:56:07.585954Z"
    }
   },
   "outputs": [
    {
     "data": {
      "text/plain": [
       "['table', '@onodke']"
      ]
     },
     "execution_count": 88,
     "metadata": {},
     "output_type": "execute_result"
    }
   ],
   "source": [
    "# Add your lambda function here\n",
    "list(filter(lambda word: word[0]!='d',seq))\n"
   ]
  }
 ],
 "metadata": {
  "kernelspec": {
   "display_name": "Python 3",
   "language": "python",
   "name": "python3"
  },
  "language_info": {
   "codemirror_mode": {
    "name": "ipython",
    "version": 3
   },
   "file_extension": ".py",
   "mimetype": "text/x-python",
   "name": "python",
   "nbconvert_exporter": "python",
   "pygments_lexer": "ipython3",
   "version": "3.7.3"
  }
 },
 "nbformat": 4,
 "nbformat_minor": 1
}
