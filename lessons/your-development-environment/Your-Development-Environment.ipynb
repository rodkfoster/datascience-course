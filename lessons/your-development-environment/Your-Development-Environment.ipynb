{
 "cells": [
  {
   "cell_type": "markdown",
   "metadata": {
    "slideshow": {
     "slide_type": "notes"
    }
   },
   "source": [
    "**Interactive slideshow:** This notebook can be displayed as interactive slides that can also execute python in real time. To view it as a slideshow in your browser, first install the RISE plugin for jupyter notebooks\n",
    "\n",
    "`conda install -c conda-forge rise`\n",
    "\n",
    "Once installed use alt+r to start the slideshow\n",
    "\n",
    "Highly recommend you toggle off the header and toolbar to maximize real estate on the screen\n",
    "\n",
    "\n",
    "> To toggle off the slideshow cell formatting, click the `CellToolbar` button, then `View --> Cell Toolbar --> None`."
   ]
  },
  {
   "cell_type": "markdown",
   "metadata": {
    "slideshow": {
     "slide_type": "slide"
    }
   },
   "source": [
    "<img src=\"http://imgur.com/1ZcRyrc.png\" style=\"float: left; margin: 20px; height: 55px\">\n",
    "\n",
    "## Your Development Environment\n",
    "\n",
    "_Authors: Kiefer Katovich, Dave Yerrington, Sam Stack, Kevin McCullough, Steven Longstreet_"
   ]
  },
  {
   "cell_type": "markdown",
   "metadata": {
    "slideshow": {
     "slide_type": "slide"
    }
   },
   "source": [
    "## Student Pre-Work \n",
    "\n",
    "**Mac**\n",
    "- Install [Homebrew](http://brew.sh/).\n",
    "- Install Git (after installing Homebrew, type \"brew install git\").  \n",
    "\n",
    "**Windows**  \n",
    "- Install [Git Bash](https://git-for-windows.github.io/)\n",
    "\n",
    "\n",
    "\n",
    "\n",
    "\n",
    "\n"
   ]
  },
  {
   "cell_type": "markdown",
   "metadata": {
    "slideshow": {
     "slide_type": "slide"
    }
   },
   "source": [
    "\n",
    "### Learning Objectives\n",
    "\n",
    "The purpose of this lesson is to introduce students to the basic toolset used for the Data Science Fundamentals class. These include Command Line, Git & Git Hub Enterprise, Jupyter Notebooks and Spyder an interactive development environment (IDE).\n",
    "Understanding these tools allows students to:\n",
    "- Retrieve and access a local copy of class resources on a student's own computer\n",
    "- Interact with lessons through jupyter & spyder on their computer\n",
    "- Save the output of class or project progress on a student's own online repository\n",
    "- Collaborate with the Instructional team or their classmates on projects, capstones, labs or challenges\n",
    "\n",
    "#### Part 1: Using the Command Line\n",
    "_After this lesson, you will be able to:_\n",
    "- Create folders and files using the command line (mkdir, touch).\n",
    "- Change directories and list directory content (cd, ls).\n",
    "- Check the current working directory (pwd).\n",
    "\n",
    "\n",
    "#### Part 2: Git and GitHub\n",
    "*After this lesson, you will be able to:*\n",
    "- Use and explain common Git commands, including `init`, `add`, `commit`, `push`, `pull`, and `clone`.\n",
    "- Distinguish between local and remote repositories.\n",
    "- Create, copy, and delete repositories locally or on GitHub.\n",
    "- Clone remote repositories.\n",
    "- Establish Secure Shell connections to remote repositories."
   ]
  },
  {
   "cell_type": "markdown",
   "metadata": {
    "slideshow": {
     "slide_type": "slide"
    }
   },
   "source": [
    "### Demonstration - What is the purpose of today's class?\n",
    "\n",
    "If a student is successful in today's lesson they will be able to\n",
    "1. Accessing class resources\n",
    "2. Collaborate with other students and the instructional team\n",
    "\n",
    "#### The instructional team is going to show you how the cmd line, git, github, jupyter and slack work together in class.\n",
    "\n",
    "1. Using the command line to navigate to a folder\n",
    "2. Using git in the command line to download online resources onto the Lead's machine (git clone)\n",
    "3. Running some code in Jupyter then running into **\"a problem\"**\n",
    "4. Saving progress (git add/ git commit) and uploading code online for review (git push) - using the command line\n",
    "5. Reaching out to the instructional team with a link to the resource and an issue (slack)\n",
    "\n",
    "#### In the time it takes to overview the command line below - the instructional team is going to\n",
    "1. Provide feedback on the Lead's **\"problem\"**\n",
    "2. Add a resource through a **pull request** to let you determine if it should go in your code base\n",
    "3. Once those items are ready - the instructional team will respond back to the Lead in slack\n"
   ]
  },
  {
   "cell_type": "markdown",
   "metadata": {
    "slideshow": {
     "slide_type": "slide"
    }
   },
   "source": [
    "## Lesson Guide\n",
    "\n",
    "---\n",
    "### [Part 1: Using the Command Line](#command)\n",
    "- [Introduction](#introduction)\n",
    "- [Command Line](#command_line)\n",
    "- [Paths](#paths)\n",
    "- [Editing and Examining Files](#editing_files)\n",
    "- [Finding Files](#finding_files)\n",
    "- [Independent Practice](#independent_practice)\n",
    "- [Environments for Data Science](#ide)\n",
    "- [Conclusion](#conclusion)\n",
    "\n",
    "### [Part 2: Git and GitHub](#git_github)\n",
    "- [Introduction](#introduction2)  \n",
    "- [Git Basics](#git_basics) \n",
    "- [GitHub & GitHub Enterprise Accounts](#gh_ghe_accounts)\n",
    "- [Creating and Cloning Repos](#making_cloning) \n",
    "- [Pulling](#pulling)  \n",
    "- [Secure Shell (SSH)](#ssh) \n",
    "- [Independent Practice](#independent_practice2)  \n",
    "- [Conclusion](#conclusion2)"
   ]
  },
  {
   "cell_type": "markdown",
   "metadata": {
    "slideshow": {
     "slide_type": "slide"
    }
   },
   "source": [
    "<a id='command'></a>\n",
    "## Using the Command Line\n",
    "\n",
    "<a id='introduction'></a>\n",
    "\n",
    "####  What is a GUI?\n",
    "\n",
    "---\n",
    "\n",
    "There was a time when computers didn't come with a graphical user interface (GUI, pronounced \"gooey\"). Instead, everyone interacted with the computer using text commands in what we call a command-line interface (CLI).\n",
    "\n",
    "![Dos](./assets/dos_wikimedia.png)\n",
    "*Image from Wikimedia*\n",
    "\n",
    "Today, the command line still exists, even though you may have never seen it as a casual computer user. However, knowing basic CLI commands is a useful skill.\n",
    "\n",
    "This CLI is the gateway to your operating system and can perform many of the same actions without a graphical interface. It is also facilitated by what we call a \"shell.\""
   ]
  },
  {
   "cell_type": "markdown",
   "metadata": {
    "slideshow": {
     "slide_type": "slide"
    }
   },
   "source": [
    "<a id='command_line'></a>\n",
    "\n",
    "\n",
    "## Why Command Line?\n",
    "\n",
    "---\n",
    "\n",
    "Everything you can do in a windowed environment, you can do in the terminal — and faster. When you use the mouse, click on buttons, confirm operations, or wait for windows to load, you waste time! Terminal commands can assist you with:\n",
    "\n",
    "* Running processes\n",
    "* Finding files\n",
    "* Substring match of file contents\n",
    "* Assessing performance\n",
    "* Remote operations\n",
    "* Web browsing\n",
    "* Installing packages\n",
    "* Managing your development environment"
   ]
  },
  {
   "cell_type": "markdown",
   "metadata": {
    "slideshow": {
     "slide_type": "slide"
    }
   },
   "source": [
    "## What Is a Shell?\n",
    "\n",
    "---\n",
    "\n",
    "A shell is a type of command-line program that contains a simple, text-based user interface, enabling us to access all of an operating system's services. It is, put simply, a program that accepts text as an input and translates that text into the appropriate functions you want your computer to run.\n",
    "\n",
    "*Taken from Just for Fun: [Type like a hacker](http://hackertyper.com/)*\n",
    "\n",
    "Running applications, checking settings such as free hard drive space, and even web browsing can all happen from the shell."
   ]
  },
  {
   "cell_type": "markdown",
   "metadata": {
    "slideshow": {
     "slide_type": "slide"
    }
   },
   "source": [
    "**Windows Users**\n",
    "\n",
    "In Windows, you can access a shell in several ways:\n",
    "+ **Windows Command Prompt:** A legacy DOS-based shell. Press `Win-R` to open a Run dialog. Then, enter `cmd` to open the shell.\n",
    "+ **Windows PowerShell:** The official Windows-native shell and scripting language, intended to replace the antiquated Command Prompt.\n",
    "+ **Windows Subsystem for Linux:** New to Windows 10, this allows you to run Ubuntu (a popular Linux distribution) natively in Windows. [You must turn on this Windows feature manually.](https://docs.microsoft.com/en-us/windows/wsl/install-win10)"
   ]
  },
  {
   "cell_type": "markdown",
   "metadata": {
    "slideshow": {
     "slide_type": "slide"
    }
   },
   "source": [
    "**Windows Users**\n",
    "\n",
    "In this class, we will use a popular UNIX shell called `bash`. If you have not already, we recommend installing [Git Bash](https://git-for-windows.github.io/).\n",
    "\n",
    "**What Is Git Bash?**\n",
    "Git Bash provides a set of executables that emulate `bash` commands in the Windows shells.\n",
    "\n",
    "**Why?**\n",
    "Since UNIX is the prefered operating system for programmers and developers alike, almost all of the lessons at GA have been written for interaction with UNIX.  \n",
    "\n",
    "**Pro Tip:** UNIX commands and Windows commands are not polar opposites — in fact, most of their commands and interactions are quite similar."
   ]
  },
  {
   "cell_type": "markdown",
   "metadata": {
    "slideshow": {
     "slide_type": "slide"
    }
   },
   "source": [
    "## Forget Finder — Get Fast at Using Your Laptop\n",
    "\n",
    "---\n",
    "\n",
    "#### Opening and Closing Terminal\n",
    "\n",
    "First, we need to launch the command prompt. We do this by using Spotlight:\n",
    "\n",
    "- ⌘ (Command) + Space\n",
    "- \"Terminal\"\n",
    "- Enter\n",
    "\n",
    "Notice that you can actually hit enter as soon as the field autocompletes. Get used to taking shortcuts — don't type the whole word out if you don't have to, and avoid using your mouse if you can open or use an app with just keyboard shortcuts. It may seem hard right now, but, when you get used to it, it will save you hours of time cumulatively."
   ]
  },
  {
   "cell_type": "markdown",
   "metadata": {
    "slideshow": {
     "slide_type": "slide"
    }
   },
   "source": [
    "<a id='paths'></a>\n",
    "\n",
    "## Paths\n",
    "\n",
    "---\n",
    "\n",
    "Every file or folder in a file system can be read, written, and deleted by referencing its position inside that system. When we talk about the position of a file or a folder in a file system, we refer to its \"path.\" There are two different kinds of paths we can use to refer to a file — **absolute paths** and **relative paths**.\n",
    "\n",
    "**Directory** is an important term that is typically used interchangeably with *folder*. Technically, a folder contains the files themselves, whereas a directory is just a listing of them (e.g. a student directory). That said, when we say \"navigate to your project directory,\" think of it as \"navigate to your project folder.\""
   ]
  },
  {
   "cell_type": "markdown",
   "metadata": {
    "slideshow": {
     "slide_type": "slide"
    }
   },
   "source": [
    "### What Is an Absolute Path?\n",
    "\n",
    "All files can created, updated, or deleted using the command line interface. We do this by referencing **paths**; either relative or absolute.\n",
    "\n",
    "An absolute path is the specific location of a file or folder as accessed from the root directory, typically shown as `/`. The root directory is the starting point from which all other folders are defined and is not usually the same as your **home** directory, which is normally found at `/Users/[Your Username]`."
   ]
  },
  {
   "cell_type": "markdown",
   "metadata": {
    "slideshow": {
     "slide_type": "slide"
    }
   },
   "source": [
    "### Working With UNIX Commands and File Paths\n",
    "\n",
    "Typing **`cd`** — a command for \"change directory\" — with no parameters takes us to our home directory.\n",
    "\n",
    "```bash\n",
    "cd\n",
    "```\n",
    "\n",
    "If we type in `pwd` — a command for \"print working directory\" — from that folder, we can see where we are in relation to the root directory. The `pwd` command will always give you the absolute path of your current location.\n",
    "\n",
    "Here's an example of absolute path:\n",
    "\n",
    "```bash\n",
    "open /Users/Lucy/desktop/a/b/c/file.txt\n",
    "```\n",
    "\n",
    "Notice that this path starts from `/` directory, which is a root directory for every Linux/Unix machine."
   ]
  },
  {
   "cell_type": "markdown",
   "metadata": {
    "slideshow": {
     "slide_type": "slide"
    }
   },
   "source": [
    "### What Is a Relative Path?\n",
    "\n",
    "A relative path is a reference to a file or folder **relative** to your current position or the present working directory (pwd). If we are in the folder `/a/b/` and we want to open the file that has the absolute path `/a/b/c/file.txt`, we can simply type:\n",
    "\n",
    "```bash\n",
    "open c/file.txt\n",
    "```\n",
    "\n",
    "or\n",
    "\n",
    "```bash\n",
    "open ./c/file.txt\n",
    "```\n",
    "\n",
    "We can also use the absolute path at any time by adding a slash to the beginning of the relative path. The absolute path is the same for a file or a folder, regardless of the current working directory, but relative paths differ based on directory. Directory structures are laid out like so: `directory/subdirectory/subsubdirectory`.\n",
    "\n",
    "**Check:** What is the difference between an absolute path and a relative path?"
   ]
  },
  {
   "cell_type": "markdown",
   "metadata": {
    "slideshow": {
     "slide_type": "slide"
    }
   },
   "source": [
    "### Instructional Demo:\n",
    "\n",
    "In the following slides the instructor will demonstrate many commands in the cmd line and explain what they do. At the end will be our first exercise of the night to explore the command line on our own!"
   ]
  },
  {
   "cell_type": "markdown",
   "metadata": {
    "slideshow": {
     "slide_type": "slide"
    }
   },
   "source": [
    "\n",
    "### Navigating Using the Command Prompt\n",
    "\n",
    "* Changing directories\n",
    "* Listing files\n",
    "* Creating directories and files\n",
    "* Removing files\n",
    "\n",
    "The tilde (`~`) character is an alias for your home directory. Use it to quickly return home.\n",
    "\n",
    "```bash\n",
    "cd ~\n",
    "```\n",
    "\n",
    "Or, even more simply, you can type:\n",
    "\n",
    "```bash\n",
    "cd\n",
    "```\n",
    "\n",
    "The tilde is useful for shortening paths that would otherwise be absolute. For example, to navigate to your desktop, you can type:\n",
    "\n",
    "```bash\n",
    "cd ~/Desktop\n",
    "```\n"
   ]
  },
  {
   "cell_type": "markdown",
   "metadata": {
    "slideshow": {
     "slide_type": "slide"
    }
   },
   "source": [
    "### Special Navigation commands\n",
    "\n",
    "The dot (.) means \"right here\".\n",
    "\n",
    "The double dot (..) means \"one directory up\". For example:\n"
   ]
  },
  {
   "cell_type": "markdown",
   "metadata": {
    "slideshow": {
     "slide_type": "slide"
    }
   },
   "source": [
    "The `ls` command lists files and directories in the current folder.\n",
    "```bash\n",
    "ls\n",
    "```\n",
    "\n",
    "It can also be used to list files located in any directory. For example, to list your applications, you can type:\n",
    "```bash\n",
    "ls ~/Desktop\n",
    "```"
   ]
  },
  {
   "cell_type": "markdown",
   "metadata": {
    "slideshow": {
     "slide_type": "slide"
    }
   },
   "source": [
    "To make a new directory, type:\n",
    "```bash\n",
    "mkdir folder\n",
    "```\n",
    "\n",
    "To create a new file, type:\n",
    "```bash\n",
    "touch file1\n",
    "```\n",
    "\n",
    "To remove a file, type:\n",
    "```bash\n",
    "rm file1\n",
    "```"
   ]
  },
  {
   "cell_type": "markdown",
   "metadata": {
    "slideshow": {
     "slide_type": "slide"
    }
   },
   "source": [
    "### General Format for Commands\n",
    "\n",
    "`<command> -<options> <arguments>`\n",
    "* `<command>` is the action we want the computer to take.\n",
    "* `<options>` (or \"flags\") modify the behavior of the command.\n",
    "* `<arguments>` are the things we want the command to act on."
   ]
  },
  {
   "cell_type": "markdown",
   "metadata": {
    "slideshow": {
     "slide_type": "slide"
    }
   },
   "source": [
    "### Using Wildcards in the Command Prompt\n",
    "\n",
    "The wildcard symbol (`*`) is useful for using commands to operate on multiple\n",
    "files. To provide an example, first create a folder on your desktop and add some\n",
    "files.\n",
    "```bash\n",
    "mkdir ~/Desktop/example_folder\n",
    "cd ~/Desktop/example_folder\n",
    "touch cat.txt\n",
    "touch dog.txt\n",
    "touch bird.txt\n",
    "touch fish.txt\n",
    "```\n",
    "\n",
    "You can then use the wildcard `*` to operate on subsets of files. List any\n",
    "file with \"i\" in the file name, for example:\n",
    "```bash\n",
    "ls *i*\n",
    "```\n",
    "\n",
    "Or, remove any file with \"d\":\n",
    "```bash\n",
    "rm *d*\n",
    "ls\n",
    "```\n",
    "\n",
    "Now - Try to delete your example_folder\n",
    "\n",
    "\n",
    "\n",
    "OK - so directories are different\n",
    "\n",
    "```bash\n",
    "rm -r example_folder\n",
    "```\n",
    "\n",
    "If you have files in the folder you will be prompted before deleting each one. \n",
    "\n",
    "```bash\n",
    "rm -rf example_folder\n",
    "```\n",
    "\n",
    "In the above example, the \"example_folder\" directory, along with all files and directories within that directory, would be deleted with no prompt or message."
   ]
  },
  {
   "cell_type": "markdown",
   "metadata": {
    "slideshow": {
     "slide_type": "slide"
    }
   },
   "source": [
    "### How Do You Know How a Command is Used?\n",
    "To learn how to use a command (or to refresh your memory), all commands have help pages.\n",
    "\n",
    "On Mac/Linux\n",
    "```bash\n",
    "man <command>\n",
    "```\n",
    "\n",
    "On Windows/Git Bash (works for most commands\n",
    "```bash\n",
    "<command> --help\n",
    "```\n",
    "Pick a command and see what you can figure out. We'll use ls as an example in a moment"
   ]
  },
  {
   "cell_type": "markdown",
   "metadata": {
    "slideshow": {
     "slide_type": "slide"
    }
   },
   "source": [
    "### Hidden Directories Can Also Be Found\n",
    "\n",
    "There are hidden directories all over your file system — mainly to save you from youself. Using the parameters `-lha` to `ls`, we can find these directories.\n",
    "\n",
    "```bash\n",
    "ls -lha\n",
    "```\n",
    "<pre>\n",
    "-l: &nbsp;&nbsp; One entry per line.\n",
    "-h: &nbsp;&nbsp; When used with the -l option, use unit suffixes: byte, kilobyte, megabyte, etc.\n",
    "-a: &nbsp;&nbsp; Include directory entries whose names begin with a dot (.).\n",
    "</pre>"
   ]
  },
  {
   "cell_type": "markdown",
   "metadata": {
    "slideshow": {
     "slide_type": "slide"
    }
   },
   "source": [
    "<a id='editing_files'></a>\n",
    "\n",
    "## Editing and Examining Files\n",
    "\n",
    "---\n",
    "\n",
    "At times it's helpful to edit files in a pinch. We can accomplish this by using the terminal editor `nano`.\n",
    "\n",
    "Use the following syntax to edit files from the terminal with `nano`:\n",
    "\n",
    "`nano [filename]`\n",
    "\n",
    "These hotkeys are available:\n",
    "\n",
    "* **ctrl-w**: Search within file.\n",
    "* **ctrl-o**: Save file as [filename].\n",
    "* **ctrl-x**: Exit editor.\n",
    "\n",
    "*The bottom of the editor contains the most common operations.*"
   ]
  },
  {
   "cell_type": "markdown",
   "metadata": {
    "slideshow": {
     "slide_type": "slide"
    }
   },
   "source": [
    "### Editing a file\n",
    "\n",
    "Using nano, write the following to fish.txt\n",
    "\n",
    "```bash\n",
    "nano fish.txt\n",
    "```\n",
    "\n",
    "```bash \n",
    "This is the first line!\n",
    "This is second.\n",
    "The third line comes next.\n",
    "And now four.\n",
    "```"
   ]
  },
  {
   "cell_type": "markdown",
   "metadata": {
    "slideshow": {
     "slide_type": "slide"
    }
   },
   "source": [
    "### Echo File Content to the Terminal\n",
    "\n",
    "`echo` is a command that outputs the strings it is being passed as arguments\n",
    "\n",
    "Sometimes it's nice to view the contents of files as text. There are a variety of ways to do this. The commands `cat`, `head`, and `tail` will allow us to view the entire or partial contents of a target file.\n",
    "\n",
    "The `cat` command is typically used to quickly display short files. (`cat` is also used for concatenating files, hence its name!)\n",
    "\n",
    "```\n",
    "cat /etc/passwd\n",
    "```\n",
    "\n",
    "Traditionally, the /etc/passwd file is used to keep track of every registered user with access to a system.\n",
    "\n",
    "**Only the first few lines of a file**\n",
    "\n",
    "This command is useful when looking at files that might be too large to open in a traditional editor such as Sublime or Atom.\n",
    "```\n",
    "head /etc/passwd\n",
    "```\n",
    "\n",
    "**Only the last few lines of a file**\n",
    "```\n",
    "tail /etc/passwd\n",
    "```\n",
    "\n",
    "You can also pass the paramter `-n` to `head` and `tail` to control the amount of output displayed."
   ]
  },
  {
   "cell_type": "markdown",
   "metadata": {
    "slideshow": {
     "slide_type": "slide"
    }
   },
   "source": [
    "### Searching Inside Files: `grep`\n",
    "\n",
    "The `grep` command will search within files and traverse within subdirectories.\n",
    "\n",
    "**Find all files with the word \"the\" inside.**\n",
    "```\n",
    "grep -r \"the\" *\n",
    "```\n",
    "\n",
    "Omitting `-r` will cause `grep` to only look within the current subdirectory.\n",
    "Using `-i` will make `grep` ignore the casing of characters, but at the expense of efficiency.\n"
   ]
  },
  {
   "cell_type": "markdown",
   "metadata": {
    "slideshow": {
     "slide_type": "slide"
    }
   },
   "source": [
    "<a id='finding_files'></a>\n",
    "\n",
    "## Finding Files\n",
    "\n",
    "---\n",
    "\n",
    "By far, the most useful operation from the terminal is finding files. `locate` finds files all over your file system.  The `find` command will find files relative to the current working directory but needs to be used in conjunction with a pipe operation.\n",
    "\n",
    "### Finding All Notebook Files Within Subdirectories of the Current Working Directory\n",
    "`find . | grep ipynb`\n",
    "\n",
    "### Finding Specific File(s) Within the Entire System\n",
    "`locate nanorc`\n",
    "\n",
    "### Finding Specific File(s) With a Substring Match\n",
    "`locate log`"
   ]
  },
  {
   "cell_type": "markdown",
   "metadata": {
    "slideshow": {
     "slide_type": "slide"
    }
   },
   "source": [
    "### Miscellaneous Trick: Counting the Number of Lines in a File\n",
    "\n",
    "At times, you may not want to load an entire file in memory. Using a combination of `head`, `tail`, `cat`, and a new command, `wc`, you can quickly assess the various size characteristics of any file.\n",
    "\n",
    "#### Find the number of lines in a file:\n",
    "```bash\n",
    "cat /etc/passwd | wc -l\n",
    "```\n",
    "\n",
    "#### Find the number of words in a file:\n",
    "```bash\n",
    "cat /etc/test.txt | wc -w\n",
    "```"
   ]
  },
  {
   "cell_type": "markdown",
   "metadata": {
    "slideshow": {
     "slide_type": "slide"
    }
   },
   "source": [
    "### Have Questions About \"piping\"?\n",
    "Here's some optional (but highly recommended) reading about pipe and I/O redirection on the command line:\n",
    "\n",
    "\n",
    "* [I/O redirection](http://linuxcommand.org/lc3_lts0070.php)\n",
    "* [Good examples of piping commands together](http://unix.stackexchange.com/questions/30759/whats-a-good-example-of-piping-commands-together)\n"
   ]
  },
  {
   "cell_type": "markdown",
   "metadata": {
    "slideshow": {
     "slide_type": "slide"
    }
   },
   "source": [
    "<a id='independent_practice'></a>\n",
    "\n",
    "## Exercise 1 - Using the command line - 25 minutes\n",
    "\n",
    "---\n",
    "\n",
    "### Complete [Exercise 1 using the command line](./Development-Environment-Labs.ipynb) . \n",
    "- **Note** If you finish early you can go to [Extra cmd line practice](Command_line.md) or explore the other practice options at the bottom of the Development-Environment-Labs page.\n",
    "\n",
    "**Reference** - [Common commands can be found here](./Development-Environment-Labs.ipynb#commands)"
   ]
  },
  {
   "cell_type": "markdown",
   "metadata": {
    "slideshow": {
     "slide_type": "slide"
    }
   },
   "source": [
    "<a id='ide'></a>\n",
    "## Intro to Development Environments\n",
    "\n",
    "In addition to being able to write commands in the Unix OS(mac) or Windows OS(PC) command langauge in the terminal, we can also execute commands in a variaty of languages like Python, Java and Git in terminal/command line as well.\n",
    "\n",
    "In your terminal, you can enter into a Python shell by simply typing `python`.\n",
    "\n",
    "Within the Python shell, we can execute Python expressions\n",
    "\n",
    "```python\n",
    ">>> # assigning a variable\n",
    ">>> x = 'hello world'\n",
    "\n",
    ">>> # printing a variables contents\n",
    ">>> print(x)\n",
    "hello world\n",
    "```\n",
    "\n",
    "Writing and trouble shooting alot of code in the terminal can be tedious, as it is hard to write several line scripts.  Almost all developers don't actually write their scripts in the command line; instead they use text editors or development environments to write their code.\n",
    "\n",
    "Try writing a `for loop` in the Python shell\n",
    "\n",
    "```python\n",
    "listo = [1, 5, 9]\n",
    "\n",
    "for item in listo:\n",
    "    print(itm)\n",
    "```\n",
    "\n",
    "We made an error in the second line of the `for loop` but we still have to rewrite the entire loop and we can't go back and just edit out mistake inline."
   ]
  },
  {
   "cell_type": "markdown",
   "metadata": {
    "slideshow": {
     "slide_type": "slide"
    }
   },
   "source": [
    "## Common Environments for Data Science\n",
    "\n",
    "The Anaconda distribution we installed earlier comes with two useful Python-based development environments, `Spyder` and `Jupyter`. A common third-party environment is `PyCharm`.\n",
    "\n",
    "**Jupyter Notebooks**\n",
    "\n",
    "Jupyter uses cell based execution, which means you can run all the code in a cell simultaneously. Jupyter notebooks also have markdown and slide show integration, which means they make great blog and instructional resources!  _All of the lessons in this class have been written in a Jupyter Notebook_.\n",
    "\n",
    "Jupyter Notebooks open in your default browser and can be opened from the Anaconda Navigator or from the command line by executing ```jupyter notebook```.\n",
    "\n",
    "- [28 Jupyter Notebook tips, tricks and shortcuts](https://www.dataquest.io/blog/jupyter-notebook-tips-tricks-shortcuts/)\n",
    "- [Markdown Cheatsheet](https://github.com/adam-p/markdown-here/wiki/Markdown-Here-Cheatsheet)\n",
    "\n",
    "**Spyder IDE (Integrated Development Environment)**\n",
    "\n",
    "Spyder has a selection-based execution which allows you to run all the code that you have _selected_ simultaneously.  Spyder is very similar to R Studio, supports Jupyter notebooks, and has several customizable windows for displaying output, variables, and computer usage.\n",
    "\n",
    "Syder is desktop software that opens in its own window. It can be opened from the Anaconda Navigator or from the command line by executing ```spyder```.\n",
    "\n",
    "- [Introduction to Spyder (Video)](https://www.youtube.com/watch?v=8JiWEZEnJ40)\n",
    "\n",
    "**PyCharm IDE (by JetBrains)**\n",
    "\n",
    "PyCharm is an excellent fully-featured commercial IDE for writing Python code files. It has a free-of-charge Community Edition which has no restrictions. PyCharm is often used for developing larger Python applications. However, it offers powerful features that other environments lack such as debugging capabilities, intelligent code refactoring, and integration with Git.\n",
    "\n",
    "- [Free PyCharm Community Edition](https://www.jetbrains.com/pycharm/download)\n",
    "\n",
    "\n",
    "> An IDE (Integrated Development Environment) is a program that provides an all-in-one environment to programmers. For example, often in development you will open many programs all at once, e.g. Finder, a text editor, debugging terminal, a terminal window for displaying output, and a graphics editor. An IDE will provide all of these (and more!) inside a single application. That said, IDEs are often sluggish. So, many professional Python programmers prefer a plain text editor.\n",
    "\n",
    "None of these environments is better than the other; you will even find many Python developers who only use a text editor to edit their code! That said, often Jupyter Notebook is preferred for quick experimentation and initial data exploration, whereas Spyder and Pycharm are preferred for writing non-notebook code files."
   ]
  },
  {
   "cell_type": "markdown",
   "metadata": {
    "slideshow": {
     "slide_type": "slide"
    }
   },
   "source": [
    "### Text Editors\n",
    "\n",
    "In addition to IDEs, developers also use text editors to create or edit code and files. Text editors or more commonly used for files that are executed via the command line, as well as for software and website development.  \n",
    "\n",
    "Some common text editors that you may see or use include\n",
    "- [Sublime](https://www.sublimetext.com/)\n",
    "- [Atom](https://atom.io/)\n",
    "- [Notepad++](https://notepad-plus-plus.org/) (Windows)\n",
    "- [Vim](http://www.vim.org/)\n"
   ]
  },
  {
   "cell_type": "markdown",
   "metadata": {
    "slideshow": {
     "slide_type": "slide"
    }
   },
   "source": [
    "##  [Exercise 2: Get Familiar with Jupyter Notebooks (20 minutes)](./Development-Environment-Labs.ipynb#Exercise2)\n",
    "\n",
    "_Instructor Note: Begin this session by showing the class how to open a Jupyter Notebook and close by opening a Sypder session and running a few lines of code to show the difference between notebooks and traditional IDE's_\n",
    "\n",
    "#### Purpose:\n",
    "Most of the work we will be doing in class will be in the form of a jupyter notebook - lessons, exercises, breakouts, projects etc. Notebooks are helpful in analytics and data science for their ability to combine code & documentation (formatted in the MarkDown language) with a preserved output. They can be exported as pdf, py files and more.\n",
    "\n",
    "The Jupyter Notebook is an open-source web application that allows you to create and share documents that contain live code, equations, visualizations and narrative text. Uses include: data cleaning and transformation, numerical simulation, statistical modeling, data visualization, machine learning, and much more.\n",
    "\n"
   ]
  },
  {
   "cell_type": "markdown",
   "metadata": {
    "slideshow": {
     "slide_type": "slide"
    }
   },
   "source": [
    "<a id='conclusion'></a>\n",
    "\n",
    "##  Lesson Review : Command Line\n",
    "\n",
    "---\n",
    "\n",
    "Today, we learned about the command line and some of its common commands.  We also learned about file structures, absolute paths, and relative paths.\n",
    "\n",
    "Additionally, we reviewed running Python in the command line as well as in other environments. There is an additional [Jupyter Notebook exercise](./practice/ipynb_practice1.ipynb) available if you want to practice working in the Jupyter IDE.\n",
    "\n",
    "In time, you might find that simple operations are actually faster to perform from the command line."
   ]
  },
  {
   "cell_type": "markdown",
   "metadata": {
    "slideshow": {
     "slide_type": "slide"
    }
   },
   "source": [
    "###  Lesson Break"
   ]
  },
  {
   "cell_type": "markdown",
   "metadata": {
    "slideshow": {
     "slide_type": "slide"
    }
   },
   "source": [
    "<a id=\"introduction2\"></a>\n",
    "## Git vs. GitHub and Version Control, an Introduction \n",
    "\n",
    "\n",
    "First things first — Git is not GitHub. This is a common mistake people make."
   ]
  },
  {
   "cell_type": "markdown",
   "metadata": {
    "slideshow": {
     "slide_type": "slide"
    }
   },
   "source": [
    "#### What is Git?\n",
    "\n",
    "[Git](https://git-scm.com/) is:\n",
    "\n",
    "- A program you run from the command line.\n",
    "- A distributed version control system.\n",
    "\n",
    "Programmers use Git so that they can keep a history of all changes made to their code. This means that they can roll back changes (or switch to older versions) as far back as when they started using Git in their project.\n",
    "\n",
    "A code base in Git is referred to as a **repository**, or **repo**, for short.\n",
    "\n",
    "Git was created by Linus Torvalds, the creator of the Linux kernel."
   ]
  },
  {
   "cell_type": "markdown",
   "metadata": {
    "slideshow": {
     "slide_type": "slide"
    }
   },
   "source": [
    "#### What is GitHub?\n",
    "\n",
    "[GitHub](https://github.com/) is:\n",
    "\n",
    "- A hosting service for Git repositories.\n",
    "- A web interface to explore Git repositories.\n",
    "- A social network of programmers.\n",
    "\n",
    "Some other points to note: \n",
    "\n",
    "- We all have individual GitHub accounts and will be storing our code there.\n",
    "- You can follow users and star your favorite projects.\n",
    "- Developers frequently use Github to share and collaborate on open-source code.\n",
    "- GitHub uses Git."
   ]
  },
  {
   "cell_type": "markdown",
   "metadata": {
    "slideshow": {
     "slide_type": "slide"
    }
   },
   "source": [
    "#### What is GitHub Enterprise (GHE)?\n",
    "[GitHub Enterprise](https://enterprise.github.com/home) Is:\n",
    "\n",
    "- Professional application of GitHub\n",
    "- All repository data is stored on private and/or local machines and networks.\n",
    "\n",
    "Where GitHub is the _public_, 'Social Network' for programming and programmers, Github Enterprise is the _private_, professional application of GitHub.  Because, GitHub and GitHub Enterprise have a similar structure and are based off the `git` language, interacting with the two is is almost identical."
   ]
  },
  {
   "cell_type": "markdown",
   "metadata": {
    "slideshow": {
     "slide_type": "slide"
    }
   },
   "source": [
    "**Additional information on [GitHub.com vs GitHub Enterprise](https://enterprise.github.com/downloads/en/comvsenterprise-082415.pdf)**\n",
    "\n",
    "Over the course of this class we will be interacting with both GitHub and GitHub Enterprise(GHE).  You will set up a GHE account for sharing course materials and as a private repo for you to store your own works-in-progress.  \n",
    "\n",
    "You will also setup a GitHub account as a location for you to host projects and work that you want to exhibit or share. "
   ]
  },
  {
   "cell_type": "markdown",
   "metadata": {
    "slideshow": {
     "slide_type": "slide"
    }
   },
   "source": [
    "#### Can you use Git without GitHub?\n",
    "\n",
    "Think about this quote: “Git is software. GitHub is a company that happens to use Git software.” So yes, you can certainly use Git without GitHub!\n",
    "\n",
    "Your local repository consists of three \"trees\" that are maintained by Git.\n",
    "\n",
    "- **Working Directory**: holds the actual files.\n",
    "- **Index**: acts as a staging area.\n",
    "- **HEAD**: points to the last commit you've made.\n",
    "\n",
    "![workflow](assets/workflow.png)\n",
    "\n",
    "\n",
    "\n",
    "#### Understanding git commands\n",
    "\n",
    "The working directory is your local machine. When you want to take a snapshot (for versioning) you first need to **add** a file or files to be tracked (git add myFile.txt or git add . to add \"the current directory) which moves them to the **index**. You can move files in and out of the index. When you have it ready you commit it to the versioning history with git commit. This will take a snapshot of your files and put a marker at the most recent version called \"The Head\".\n",
    "\n",
    "- **Note** - In our class we teach the command `git commit -m \"Your commit message here\"`. Without the -m arguement git will open your default text editor for you to document the changes you are making. This can be frustrating for new students but eventually is a great skills to learn.\n",
    "\n",
    "My favorite [git cheat sheet](http://ndpsoftware.com/git-cheatsheet.html#loc=remote_repo;) shows which git commands move information between git levels. It also has a fantastic, and slightly whimsical, [guide to escape git troubles](http://justinhileman.info/article/git-pretty/git-pretty.png)"
   ]
  },
  {
   "cell_type": "markdown",
   "metadata": {
    "slideshow": {
     "slide_type": "slide"
    }
   },
   "source": [
    "<a name=\"pulling\"></a>\n",
    "## Collaborating with Team's using Git\n",
    "\n",
    "#### What's a \"Pull Request\"?\n",
    "Often times when we are working on a project with other collaborators we all can't work on the same repo at the same time so we have these things called _branches_.  With branches we can create a branch off of the main repo or \"Master Branch\", perform our work whether that be additions or alterations and then merge the changes we made on _our_ branch back into the master.  \n",
    "\n",
    "You can probably think of a few ways that multiple people trying to merge their work can get messy.  Fortunately, we have Pull Requests as means of queing and validating merges.  Rather than having your branch merge automatically, your request will go through an administrator who can review your changes and additions and approve or deny your request.  \n",
    "\n",
    "![Branches](assets/branches.jpg)\n",
    "\n",
    "_Even though we are trying to **push** our information into the master, it is called a pull request because we are making a request to the administrator to **pull** or branch into the master._"
   ]
  },
  {
   "cell_type": "markdown",
   "metadata": {
    "slideshow": {
     "slide_type": "slide"
    }
   },
   "source": [
    "#### GitHub Example Project\n",
    "\n",
    "A company is building onto their website and adding a few new features.  They are assigning a team of engineers to complete the task.  \n",
    "\n",
    "Engineer 1 is responsible for redoing the home page.\n",
    "Engineer 2 is responsible for reworking content pages 1 & 2\n",
    "Engineer 3 is responsible for reworking content pages 3 & 4\n",
    "\n",
    "In this situation the master branch would probably be a copy of the files and scripts for the original website.  As this is the master copy it is best not to make any edits to it until those changes have been vetted.\n",
    "\n",
    "The engineer team starts by making branch off of the master called '`project_1`'.\n",
    "\n",
    "From '`project_1`' the team of engineers would probably create their own branches to perform their tasks in.\n",
    "\n",
    "- Engineer 1 : '`project_1_homepage`'\n",
    "- Engineer 2 : '`project_1_content1_2`'\n",
    "- Engineer 3 : '`project_1_content3_4`'\n",
    "\n",
    "\n",
    "Once each engineer completed their task they would merge the changes from their branch into '`project_1`'.  \n",
    "\n",
    "Now that all of the individual work has been compiled they can test the website and make sure that there are no bugs or issues then merge '`project_1`' back into the master copy."
   ]
  },
  {
   "cell_type": "markdown",
   "metadata": {
    "slideshow": {
     "slide_type": "slide"
    }
   },
   "source": [
    "#### What about commands?\n",
    "\n",
    "There are also a variety of commands you can use in Git. You can take a look at a list of the available commands by running:\n",
    "\n",
    "```bash\n",
    "$ git help -a\n",
    "```\n",
    "\n",
    "Even though there are lots of commands, in the course, we will really only need about 10.\n",
    "\n",
    "---"
   ]
  },
  {
   "cell_type": "markdown",
   "metadata": {
    "slideshow": {
     "slide_type": "slide"
    }
   },
   "source": [
    "<a id=\"making_cloning\"></a>\n",
    "## Making and Cloning Repositories: [Exercise 3 Code-Along (20 min)](./Development-Environment-Labs.ipynb#Exercise3)\n",
    "\n",
    "When using Git, GitHub and GHE it is common to have your repositories in several locations.  Typically when we use GitHub and GHE we will have two repository locations, **Remote** and **Local**.\n",
    "- **Remote:** Repositories that are not stored in our current location/machine. Usually where we store the repo.\n",
    "- **Local:** Repositories that are stored on our current machine. Usually where we work on the repo.\n",
    "\n",
    "\n",
    "In this lesson you will learn to make your own copies of class resources in your personal remote repository (fork) then copy them down onto your machine (clone)\n",
    "\n",
    "##### When you are done - clone down today's lesson. If you finish early - begin the extra practice at the bottom of the notebook."
   ]
  },
  {
   "cell_type": "markdown",
   "metadata": {
    "slideshow": {
     "slide_type": "slide"
    }
   },
   "source": [
    "#### The .git folder\n",
    "\n",
    "Now that we've made a git folder let's explore it. We can look at the contents of today's lesson folder using this command:\n",
    "\n",
    "```bash\n",
    "ls -A\n",
    "```\n",
    "\n",
    "We should see that there is now a hidden folder called `.git`. This is where all of the information about your repository is stored. There is no need for you to make any changes to this folder. You can control all of the Git flow using `git` commands.\n",
    "\n",
    "#### Moving or deleting a git folder\n",
    "\n",
    "The .git file maintains your snapshot (commit) history on your machine. Thus, where ever it goes, so does your changes! You can move the .git folder to another location and your bash/terminal/powershell will still treat it as a git folder\n",
    "\n",
    "- **To delete a folder locally** - simply delete it as you would normally or through the command line.\n",
    "\n",
    "- **To delete a folder online** - select settings in the repo and follow the instructions at the bottom of the page. \n",
    "\n",
    "#### Demo: Creating, moving and deleting a folder locally & online (5 minutes("
   ]
  },
  {
   "cell_type": "markdown",
   "metadata": {
    "slideshow": {
     "slide_type": "slide"
    }
   },
   "source": [
    "<a id=\"git_basics\"></a>\n",
    "## [Let's Git into it!: Code-Along (25 min)](./Development-Environment-Labs.ipynb#Exercise4)\n",
    "\n",
    "\n",
    "### Purpose\n",
    "\n",
    "In this exercise you will learn commands to allow you to create repositories for projects, capstone and other collaborative efforts. These will allow you to share your work with the instructional team for help and support throughout class, keep versioning (locally and backed up online) and build skills necessary to interact with team\n",
    "\n",
    "\n",
    "In git there are several basic operations:\n",
    "- **Init** - This initializes or create a new repository (turn on the ability for file tracking)\n",
    "- **Add** -  Adds a change in the working directory to the staging area\n",
    "- **Commit** - Captures a snapshot of the project's currently staged changes. Committed snapshots can be thought of as “safe” versions of a project—Git will never change them unless you explicitly ask it to. \n",
    "- **Push** - used to upload local repository content to a remote repository\n",
    "- **Pull** - Fetch and download content from a remote repository and immediately update the local repository to match that content.\n",
    "    -**Note** Technically it's a combination of a fetch and a merge command\n",
    "- **Clone** - Clones a repository into a newly created directory\n",
    "- **Status** - Displays the state of the working directory and the staging area.\n",
    "\n",
    "\n",
    "Some advanced operations:\n",
    "- **Branching**\n",
    "- **Merging**\n",
    "- **Rebasing**\n",
    "\n",
    "To learn more about how these and other git commands work across your local machine (workspace & index) and an online repo check out [my favorite git cheat sheet](http://ndpsoftware.com/git-cheatsheet.html#loc=remote_repo). It includes a flowchart for [recovering from git mistakes as well](http://justinhileman.info/article/git-pretty/git-pretty.png)\n",
    "\n",
    "\n",
    "\n"
   ]
  },
  {
   "cell_type": "markdown",
   "metadata": {
    "slideshow": {
     "slide_type": "slide"
    }
   },
   "source": [
    "<a id=\"gh_ghe_accounts\"></a>\n",
    "## 'Git' on GitHub and GitHub Enterprise:\n",
    "\n",
    "For those of you that have not already set up your GitHub and GitHub Enterprise accounts, lets take a minute to do that now.\n",
    "\n",
    "Account creation for both is simple.  Create a _Username_, and provide an _email_ & _password_.\n",
    "\n",
    "_Keep in mind while you **can** use the same email, username and password for both accounts, they are **wholly separate**._\n",
    "\n",
    "**[GitHub](https://github.com/)**\n",
    " _This is yours_\n",
    " \n",
    "**[GitHub Enterprise for General Assembly](https://git.generalassemb.ly/join?source=header)**\n",
    "_This is ours_\n",
    "\n",
    "You can use a GitHub account to create a GitHub Enterprise account, but that will be **your** enterprise; in that, you will not be able to use it to access the General Assembly Enterprise GitHub.\n",
    "\n",
    "If in the future you join another GitHub Enterprise you will also need to create another account for said enterprise. "
   ]
  },
  {
   "cell_type": "markdown",
   "metadata": {
    "slideshow": {
     "slide_type": "slide"
    }
   },
   "source": [
    "By now, you have have noticed that you are being prompted quite a bit for your password when interacting with GitHub or GitHub Enterprise via Git.  There are two ways to work around this. \n",
    "\n",
    "**[Caching your password in Git](https://help.github.com/articles/caching-your-github-password-in-git/)**\n",
    "\n",
    "or\n",
    "\n",
    "**Using SSH and SSH Agent** (_recommended_)  \n",
    "You can use the guide in the [SSH Setup Guide](.//SSH-setup.ipynb) or those available on github\n",
    "- [Working with SSH key passphrases](https://help.github.com/articles/working-with-ssh-key-passphrases/)\n",
    "- [Generating a new SSH key and adding it to the ssh-agent](https://help.github.com/articles/generating-a-new-ssh-key-and-adding-it-to-the-ssh-agent/)\n",
    "- [Adding a new SSH key to your GitHub account](https://help.github.com/articles/adding-a-new-ssh-key-to-your-github-account/)"
   ]
  },
  {
   "cell_type": "markdown",
   "metadata": {
    "slideshow": {
     "slide_type": "slide"
    }
   },
   "source": [
    "<a id=\"ssh\"></a>\n",
    "\n",
    "#### Secure Shell (SSH)\n",
    "\n",
    "SSH, or Secure SHell, is a common means of adding an additional layer of security.  Simply put, SSH is used to establish authenticity between a client and a server so that a secure connection can be formed.  This can be useful for secure file sharing or remote application access.  \n",
    "\n",
    "#### How SSH works\n",
    "\n",
    "The SSH process at a high level is relatively simple.  \n",
    "1. Client makes a request to the server.\n",
    "2. Server responds asking for authentication.\n",
    "3. Client provides authentication.\n",
    "4. If authentication is correct, a connection is established.\n",
    "\n",
    "**Note:** An SSH Agent can be used to avoid being prompted for a password every time you push or pull to Github."
   ]
  },
  {
   "cell_type": "markdown",
   "metadata": {},
   "source": [
    "#### Independent Practice (15 mins)\n",
    "\n",
    "Repeat the steps to make a repository for your **capstone** starting from the creation of the remote repo, to create a _local_ and _remote_ repository with your GitHub Enterprise account.  \n",
    "\n",
    "\n",
    "If you have extra time feel free to try to set up an SSH.  If you have any issues there are [SSH troubleshooting guides](#ssh_trouble) at the end of the lesson."
   ]
  },
  {
   "cell_type": "markdown",
   "metadata": {
    "slideshow": {
     "slide_type": "slide"
    }
   },
   "source": [
    "#### How we will use GitHub in this class.\n",
    "\n",
    "\n",
    "\n",
    "For the most part ,our use of GitHub in this class will be much more linear.  \n",
    "\n",
    "We will have a central class repository where all of the lesson materials are housed.  You will create a Forked version of the master repo which will be yours to do as you please.  \n",
    "![fork](assets/fork.png)\n",
    "- Forked repos are essentually personal copies of repositories.\n",
    "- If the original is updated you can pull those changes to your copy via ```git pull upstream master```.\n",
    "\n",
    "Once we have a forked copy, we will clone the fork to our machines to make a local copy.\n",
    "\n",
    "Most of your git commands will be pulling updates from the main class repo to your local and pushing changes make on your local to your remote version.\n",
    "\n",
    "![fork](assets/ForkClone.png)"
   ]
  },
  {
   "cell_type": "markdown",
   "metadata": {
    "slideshow": {
     "slide_type": "slide"
    }
   },
   "source": [
    "<a id=\"independent_practice2\"></a>\n",
    "## Assess: Independent Practice (10 min)\n",
    "- With a partner take turns explaining the following commands.  Pretend that they are unfamiliar with Git and this is their first exposure to it.\n",
    "- `init`, `add`, `commit`, `push`, `pull`, and `clone`.\n",
    "\n",
    "<a id=\"conclusion2\"></a>\n",
    "## Lesson Review : Git and GitHub\n",
    "Do you feel comfortable with Git, GitHub and GitHub Enterprise? As we'll be using them in alot a lot of our coursework, let's make sure you are! \n",
    "\n",
    "We understand that Git and GitHub can be difficult to mentally grasp initially, so if you have an questions about the following or other Git aspects please ask now.\n",
    "\n",
    "- Basic Git commands, `init`, `add`, `commit`, `push`, `pull`, and `clone`\n",
    "- Local and Remote epositories\n",
    "- Cloning, Branching, Merging and Pull Requests\n",
    "- Installing Git\n"
   ]
  },
  {
   "cell_type": "markdown",
   "metadata": {
    "slideshow": {
     "slide_type": "slide"
    }
   },
   "source": [
    "### More useful Git tips\n",
    "\n",
    "*Get the status relative to the remote version*\n",
    "\n",
    "```\n",
    "git remote update\n",
    "git status\n",
    "```\n",
    "\n",
    "*Setup the upstream remote*\n",
    "\n",
    "```\n",
    "git remote add upstream <origin URL>\n",
    "```\n",
    "\n",
    "*Configure your name and email address*\n",
    "\n",
    "```\n",
    "git config --global user.name \"John Doe\"\n",
    "git config --global user.email johndoe@example.com\n",
    "```"
   ]
  },
  {
   "cell_type": "markdown",
   "metadata": {
    "collapsed": true,
    "slideshow": {
     "slide_type": "slide"
    }
   },
   "source": [
    "<a id='ssh_trouble'></a>\n",
    "#### Additional SSH Troubleshooting:\n",
    "\n",
    "**Access Denied**  \n",
    "If you receive a message about \"access denied,\" please notify an instructor or you can read [these instructions for diagnosing the issue.](https://help.github.com/articles/error-permission-denied-publickey/)\n",
    "\n",
    "**HTTPS to SSH switch**  \n",
    "If you're switching from HTTPS to SSH, you'll now need to update your remote repository URLs. For more information, see [Changing a remote's URL.](https://help.github.com/articles/changing-a-remote-s-url/)"
   ]
  }
 ],
 "metadata": {
  "celltoolbar": "Slideshow",
  "kernelspec": {
   "display_name": "Python 3",
   "language": "python",
   "name": "python3"
  },
  "language_info": {
   "codemirror_mode": {
    "name": "ipython",
    "version": 3
   },
   "file_extension": ".py",
   "mimetype": "text/x-python",
   "name": "python",
   "nbconvert_exporter": "python",
   "pygments_lexer": "ipython3",
   "version": "3.7.3"
  }
 },
 "nbformat": 4,
 "nbformat_minor": 1
}
