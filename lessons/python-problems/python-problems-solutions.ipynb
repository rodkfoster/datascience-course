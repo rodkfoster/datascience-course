{
 "cells": [
  {
   "cell_type": "markdown",
   "metadata": {},
   "source": [
    "<img src=\"http://imgur.com/1ZcRyrc.png\" style=\"float: left; margin: 20px; height: 55px\">\n",
    "\n",
    "# Python Practice Problems - Solutions\n",
    "\n",
    "---\n"
   ]
  },
  {
   "cell_type": "markdown",
   "metadata": {},
   "source": [
    "## 1: Leet Speak\n",
    "Write a function called `to_leet_speak` that converts any string of characters to \"leet speak.\" \"Leet\" is a made-up internet language in which you replace characters with symbols that look like those characters.\n",
    "\n",
    "Example: `to_leet_speak(i am elite)` --> `\"! @M 31!73\"`\n",
    "\n",
    "The the English-to-leet dictionary is given to you below. You should use this in your soltuion."
   ]
  },
  {
   "cell_type": "code",
   "execution_count": 1,
   "metadata": {},
   "outputs": [],
   "source": [
    "leet_dict = {'A' : '@', 'B' : '8', 'C' : '(', 'D' : 'D', 'E' : '3',\n",
    "             'F' : 'F', 'G' : '6', 'H' : '#', 'I' : '!', 'J' : 'J',\n",
    "             'K' : 'K', 'L' : '1', 'M' : 'M', 'N' : 'N', 'O' : '0',\n",
    "             'P' : 'P', 'Q' : 'Q', 'R' : 'R', 'S' : '$', 'T' : '7',\n",
    "             'U' : 'U', 'V' : 'V', 'W' : 'W', 'X' : 'X', 'Y' : 'Y',\n",
    "             'Z' : '2'}"
   ]
  },
  {
   "cell_type": "code",
   "execution_count": 2,
   "metadata": {},
   "outputs": [],
   "source": [
    "def to_leet_speak(words):\n",
    "    word_out = ''\n",
    "    for char in words.upper():\n",
    "        word_out += leet_dict[char]\n",
    "    return word_out"
   ]
  },
  {
   "cell_type": "code",
   "execution_count": 3,
   "metadata": {},
   "outputs": [
    {
     "data": {
      "text/plain": [
       "'@V0(@D0'"
      ]
     },
     "execution_count": 3,
     "metadata": {},
     "output_type": "execute_result"
    }
   ],
   "source": [
    "to_leet_speak('avocado')"
   ]
  },
  {
   "cell_type": "code",
   "execution_count": 4,
   "metadata": {},
   "outputs": [
    {
     "data": {
      "text/plain": [
       "'!10V3PY7#0N'"
      ]
     },
     "execution_count": 4,
     "metadata": {},
     "output_type": "execute_result"
    }
   ],
   "source": [
    "to_leet_speak('ilovepython')"
   ]
  },
  {
   "cell_type": "code",
   "execution_count": 5,
   "metadata": {},
   "outputs": [],
   "source": [
    "# This alternate solution works with non-alphabet characters. I included that feature as\n",
    "# part of my example by accident, but it isn't required for full credit. Sorry for any \n",
    "# confusion!\n",
    "def to_leet_speak2(words):\n",
    "    word_out = ''\n",
    "    for char in words.upper():\n",
    "        word_out += leet_dict.get(char, char)\n",
    "    return word_out"
   ]
  },
  {
   "cell_type": "code",
   "execution_count": 6,
   "metadata": {},
   "outputs": [
    {
     "data": {
      "text/plain": [
       "'! 10V3 70 (0D3!'"
      ]
     },
     "execution_count": 6,
     "metadata": {},
     "output_type": "execute_result"
    }
   ],
   "source": [
    "to_leet_speak2(\"i love to code!\")"
   ]
  },
  {
   "cell_type": "markdown",
   "metadata": {},
   "source": [
    "## 2: Catalan Numbers\n",
    "Write a function that returns the $n$th Catalan number. Catalan numbers are defined as follows:\n",
    "\n",
    "$$ C_n = \\prod_{k=2}^n \\frac{n + k}{k} $$\n",
    "\n",
    "Where the big $\\Pi$ stands for \"product\". For example, the fourth Catalan number is calculated like this:\n",
    "\n",
    "$$ C_4 = \\frac{4 + 2}{2} \\cdot \\frac{4 + 3}{3} \\cdot \\frac{4 + 4}{4} = 3\\cdot\\frac{7}{3}\\cdot2 = 14$$"
   ]
  },
  {
   "cell_type": "code",
   "execution_count": 7,
   "metadata": {},
   "outputs": [],
   "source": [
    "def catalan(n):\n",
    "    catnum = 1\n",
    "    for k in range(2, n + 1):\n",
    "        catnum *= (n + k)/k\n",
    "    return catnum"
   ]
  },
  {
   "cell_type": "code",
   "execution_count": 8,
   "metadata": {},
   "outputs": [
    {
     "data": {
      "text/plain": [
       "14.0"
      ]
     },
     "execution_count": 8,
     "metadata": {},
     "output_type": "execute_result"
    }
   ],
   "source": [
    "catalan(4)"
   ]
  },
  {
   "cell_type": "code",
   "execution_count": 9,
   "metadata": {},
   "outputs": [
    {
     "data": {
      "text/plain": [
       "41.99999999999999"
      ]
     },
     "execution_count": 9,
     "metadata": {},
     "output_type": "execute_result"
    }
   ],
   "source": [
    "catalan(5)"
   ]
  },
  {
   "cell_type": "markdown",
   "metadata": {},
   "source": [
    "## 3: Anti-Vowels\n",
    "Write a function that takes in a string, and returns only the non-vowel characters.\n",
    "\n",
    "Example: `antivowel(\"This is my text message!\")` --> `\"Ths s my txt mssg!\"`"
   ]
  },
  {
   "cell_type": "code",
   "execution_count": 10,
   "metadata": {},
   "outputs": [],
   "source": [
    "def antivowel(words):\n",
    "    str_out = ''\n",
    "    for char in words:\n",
    "        if not char.lower() in 'aeiou':\n",
    "            str_out += char\n",
    "    return str_out"
   ]
  },
  {
   "cell_type": "code",
   "execution_count": 11,
   "metadata": {},
   "outputs": [
    {
     "data": {
      "text/plain": [
       "'Ths s my txt mssg!'"
      ]
     },
     "execution_count": 11,
     "metadata": {},
     "output_type": "execute_result"
    }
   ],
   "source": [
    "antivowel('This is my text message!')"
   ]
  },
  {
   "cell_type": "markdown",
   "metadata": {},
   "source": [
    "## 4: Advanced Vowel Remover\n",
    "Write a function that takes in a string, and removes the vowels. If the word is only one vowel long (ie, \"I\" or \"a\"), leave it as is.\n",
    "\n",
    "Example: `advantivowel(\"This is a text message!\")` --> `\"Ths s a txt mssg!\"`\n",
    "\n",
    "Hint: The `.split()` method on strings might be useful here."
   ]
  },
  {
   "cell_type": "code",
   "execution_count": 12,
   "metadata": {},
   "outputs": [],
   "source": [
    "def advantivowel(words):\n",
    "    str_out = []\n",
    "    for w in words.split():\n",
    "        if len(w) == 1:\n",
    "            str_out.append(w)\n",
    "        else:\n",
    "            str_out.append(antivowel(w))\n",
    "    return ' '.join(str_out)"
   ]
  },
  {
   "cell_type": "code",
   "execution_count": 13,
   "metadata": {},
   "outputs": [
    {
     "data": {
      "text/plain": [
       "'Ths s a txt mssg!'"
      ]
     },
     "execution_count": 13,
     "metadata": {},
     "output_type": "execute_result"
    }
   ],
   "source": [
    "advantivowel('This is a text message!')"
   ]
  },
  {
   "cell_type": "code",
   "execution_count": 14,
   "metadata": {},
   "outputs": [
    {
     "data": {
      "text/plain": [
       "'Hr s n i w u'"
      ]
     },
     "execution_count": 14,
     "metadata": {},
     "output_type": "execute_result"
    }
   ],
   "source": [
    "advantivowel(\"Here is an i owe u\")"
   ]
  },
  {
   "cell_type": "code",
   "execution_count": 15,
   "metadata": {},
   "outputs": [
    {
     "data": {
      "text/plain": [
       "\"I m srry. I cn't lt y d tht, Dv.\""
      ]
     },
     "execution_count": 15,
     "metadata": {},
     "output_type": "execute_result"
    }
   ],
   "source": [
    "advantivowel(\"I am sorry. I can't let you do that, Dave.\")"
   ]
  }
 ],
 "metadata": {
  "kernelspec": {
   "display_name": "Python 3",
   "language": "python",
   "name": "python3"
  },
  "language_info": {
   "codemirror_mode": {
    "name": "ipython",
    "version": 3
   },
   "file_extension": ".py",
   "mimetype": "text/x-python",
   "name": "python",
   "nbconvert_exporter": "python",
   "pygments_lexer": "ipython3",
   "version": "3.7.3"
  }
 },
 "nbformat": 4,
 "nbformat_minor": 4
}
