{
 "cells": [
  {
   "cell_type": "markdown",
   "metadata": {},
   "source": [
    "<img src=\"http://imgur.com/1ZcRyrc.png\" style=\"float: left; margin: 20px; height: 55px\">\n",
    "\n",
    "# Python Practice Problems\n",
    "\n",
    "---"
   ]
  },
  {
   "cell_type": "markdown",
   "metadata": {},
   "source": [
    "## 1: Leet Speak\n",
    "Write a function called `to_leet_speak` that converts any string of characters to \"leet speak.\" \"Leet\" is a made-up internet language in which you replace characters with symbols that look like those characters.\n",
    "\n",
    "Example: `to_leet_speak(i am elite)` --> `\"! @M 31!73\"`\n",
    "\n",
    "The the English-to-leet dictionary is given to you below. You should use this in your soltuion."
   ]
  },
  {
   "cell_type": "code",
   "execution_count": 2,
   "metadata": {},
   "outputs": [],
   "source": [
    "leet_dict = {'A' : '@', 'B' : '8', 'C' : '(', 'D' : 'D', 'E' : '3',\n",
    "             'F' : 'F', 'G' : '6', 'H' : '#', 'I' : '!', 'J' : 'J',\n",
    "             'K' : 'K', 'L' : '1', 'M' : 'M', 'N' : 'N', 'O' : '0',\n",
    "             'P' : 'P', 'Q' : 'Q', 'R' : 'R', 'S' : '$', 'T' : '7',\n",
    "             'U' : 'U', 'V' : 'V', 'W' : 'W', 'X' : 'X', 'Y' : 'Y',\n",
    "             'Z' : '2'}"
   ]
  },
  {
   "cell_type": "code",
   "execution_count": 3,
   "metadata": {},
   "outputs": [],
   "source": [
    "def to_leet_speak(words):\n",
    "    pass"
   ]
  },
  {
   "cell_type": "markdown",
   "metadata": {},
   "source": [
    "## 2: Catalan Numbers\n",
    "Write a function that returns the $n$th Catalan number. Catalan numbers are defined as follows:\n",
    "\n",
    "$$ C_n = \\prod_{k=2}^n \\frac{n + k}{k} $$\n",
    "\n",
    "Where the big $\\Pi$ stands for \"product\". For example, the fourth Catalan number is calculated like this:\n",
    "\n",
    "$$ C_4 = \\frac{4 + 2}{2} \\cdot \\frac{4 + 3}{3} \\cdot \\frac{4 + 4}{4} = 3\\cdot\\frac{7}{3}\\cdot2 = 14$$"
   ]
  },
  {
   "cell_type": "code",
   "execution_count": 4,
   "metadata": {},
   "outputs": [],
   "source": [
    "def catalan(k):\n",
    "    pass"
   ]
  },
  {
   "cell_type": "markdown",
   "metadata": {},
   "source": [
    "## 3: Anti-Vowels\n",
    "Write a function that takes in a string, and returns only the non-vowel characters.\n",
    "\n",
    "Example: `antivowel(\"This is my text message!\")` --> `\"Ths s my txt mssg!\"`"
   ]
  },
  {
   "cell_type": "code",
   "execution_count": null,
   "metadata": {},
   "outputs": [],
   "source": [
    "def antivowel(words):\n",
    "    pass"
   ]
  },
  {
   "cell_type": "markdown",
   "metadata": {},
   "source": [
    "## 4: Advanced Vowel Remover\n",
    "Write a function that takes in a string, and removes the vowels. If the word is only one vowel long (ie, \"I\" or \"a\"), leave it as is.\n",
    "\n",
    "Example: `advantivowel(\"This is a text message!\")` --> `\"Ths s a txt mssg!\"`\n",
    "\n",
    "Hint: The `.split()` method on strings might be useful here."
   ]
  },
  {
   "cell_type": "code",
   "execution_count": 5,
   "metadata": {},
   "outputs": [],
   "source": [
    "def advantivowel(words):\n",
    "    pass"
   ]
  }
 ],
 "metadata": {
  "kernelspec": {
   "display_name": "Python 3",
   "language": "python",
   "name": "python3"
  },
  "language_info": {
   "codemirror_mode": {
    "name": "ipython",
    "version": 3
   },
   "file_extension": ".py",
   "mimetype": "text/x-python",
   "name": "python",
   "nbconvert_exporter": "python",
   "pygments_lexer": "ipython3",
   "version": "3.7.3"
  }
 },
 "nbformat": 4,
 "nbformat_minor": 4
}
