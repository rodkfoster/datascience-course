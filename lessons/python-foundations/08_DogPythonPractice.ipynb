{
 "cells": [
  {
   "cell_type": "markdown",
   "metadata": {},
   "source": [
    "# Dog Practice\n",
    "Author: Bryce Peake\n",
    "\n",
    "For this group exercise, you'll re-enforce python skills by thinking through possible use cases."
   ]
  },
  {
   "cell_type": "code",
   "execution_count": null,
   "metadata": {},
   "outputs": [],
   "source": [
    "#Starter list - but there's something wrong. Fix it. \n",
    "\n",
    "dogs = {\"beagle\", \"collie\", healer, \"pug\")\n"
   ]
  },
  {
   "cell_type": "markdown",
   "metadata": {},
   "source": [
    "## Create a problem...\n",
    "that would require you to use a for loop on this list. Write the problem in the cell below"
   ]
  },
  {
   "cell_type": "code",
   "execution_count": null,
   "metadata": {},
   "outputs": [],
   "source": [
    "#Now write the for loop\n",
    "\n"
   ]
  },
  {
   "cell_type": "markdown",
   "metadata": {},
   "source": [
    "## Describe a situation where...\n",
    "you would turn the object in position 3 into the key of a dictionary where the values are that dog's characteristics. "
   ]
  },
  {
   "cell_type": "code",
   "execution_count": null,
   "metadata": {},
   "outputs": [],
   "source": [
    "#Now turn the object in position 3 \n",
    "#into a dictionary\n",
    "\n"
   ]
  },
  {
   "cell_type": "markdown",
   "metadata": {},
   "source": [
    "# CHALLENGE!\n",
    "- Write a function that turns each object of the list into a dictionary where the values of that dictionary are the dog's characteristics.\n",
    "\n",
    "- Create a list of other dogs, and apply your function to that list as well. \n",
    "\n",
    "- If you're unable to do this challenge, simply create a list of dog dictionaries, where the values are the dog's characteristics. "
   ]
  },
  {
   "cell_type": "code",
   "execution_count": null,
   "metadata": {},
   "outputs": [],
   "source": [
    "#Write your function\n",
    "\n",
    "\n",
    "#Pass your list to your function \n",
    "#(beware of the one dictionary object that already exists!)\n",
    "\n"
   ]
  },
  {
   "cell_type": "markdown",
   "metadata": {},
   "source": [
    "## In what case...\n",
    "would you need to iterate over each of the keys using a for loop. Describe the case below. "
   ]
  },
  {
   "cell_type": "code",
   "execution_count": null,
   "metadata": {},
   "outputs": [],
   "source": [
    "# Your for loop here\n",
    "\n",
    "\n"
   ]
  },
  {
   "cell_type": "code",
   "execution_count": null,
   "metadata": {},
   "outputs": [],
   "source": [
    "# Turn your loop into a list comprehension\n",
    "\n",
    "\n"
   ]
  },
  {
   "cell_type": "code",
   "execution_count": null,
   "metadata": {},
   "outputs": [],
   "source": [
    "# Turn your list comp into a lambda function\n",
    "\n",
    "\n"
   ]
  },
  {
   "cell_type": "markdown",
   "metadata": {},
   "source": [
    "## Write a problem below... \n",
    "that gives you a reason to iterate over the values in each of the dictionary objects in list dogs. \n"
   ]
  },
  {
   "cell_type": "code",
   "execution_count": null,
   "metadata": {},
   "outputs": [],
   "source": [
    "# Create a for loop that does this\n",
    "\n",
    "\n"
   ]
  },
  {
   "cell_type": "code",
   "execution_count": null,
   "metadata": {},
   "outputs": [],
   "source": [
    "# Turn your for loop into a dictionary comprehension\n",
    "\n",
    "\n"
   ]
  },
  {
   "cell_type": "markdown",
   "metadata": {},
   "source": [
    "## CHALLENGE!\n",
    "Use all of your python powers to check if any of the values in your list of dog dictionaries are _*also*_ associated with other keys. Print a list of dogs that share descriptive words, and print a list of dogs that do not share descriptive words. If none of your dogs share descriptions, write both loops anyways and be sure to give us an output that indicates that there are no matches. "
   ]
  },
  {
   "cell_type": "code",
   "execution_count": null,
   "metadata": {},
   "outputs": [],
   "source": [
    "#Challenge time! You can do it!\n",
    "\n",
    "\n"
   ]
  }
 ],
 "metadata": {
  "kernelspec": {
   "display_name": "Python 3",
   "language": "python",
   "name": "python3"
  },
  "language_info": {
   "codemirror_mode": {
    "name": "ipython",
    "version": 3
   },
   "file_extension": ".py",
   "mimetype": "text/x-python",
   "name": "python",
   "nbconvert_exporter": "python",
   "pygments_lexer": "ipython3",
   "version": "3.7.3"
  }
 },
 "nbformat": 4,
 "nbformat_minor": 2
}
