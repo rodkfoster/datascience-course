{
 "cells": [
  {
   "cell_type": "markdown",
   "metadata": {},
   "source": [
    "# Some additional Concepts\n",
    "\n",
    "_Instructor:_ Steven Longstreet General Assembly (DC)\n",
    "\n",
    "---\n",
    "While the focus of this course is data science utilizing python there are some great functions to learn and build into your tool kit. Here we will look at:\n",
    "\n",
    "1. List Comprehensions\n",
    "2. Lambda Functions\n",
    "3. Map & Filter - common users of lambda\n",
    "4. Enumerate\n",
    "5. Classes & Methods"
   ]
  },
  {
   "cell_type": "markdown",
   "metadata": {},
   "source": [
    "## List Comprehensions\n",
    "\n",
    "List comprehensions allow us to construct lists in a simplified method - similar to how mathmaticians note lists.\n",
    "\n",
    "As a starting point let's look at building a list with a for loop"
   ]
  },
  {
   "cell_type": "code",
   "execution_count": null,
   "metadata": {
    "ExecuteTime": {
     "end_time": "2020-01-13T04:31:01.380615Z",
     "start_time": "2020-01-13T04:31:01.371639Z"
    }
   },
   "outputs": [],
   "source": [
    "# Here I have a simply list. \n",
    "\n",
    "items = [1, 2, 3, 4, 5]\n",
    "\n",
    "# I want to square the values so let's build the appropriate for loop. However, I know how 1 squares so we can leave that alone\n",
    "squared_for= []\n",
    "for i in items:\n",
    "    if i >1:\n",
    "        squared_for.append(i**2)\n",
    "\n",
    "print(squared_for)\n",
    "\n",
    "# Easy peezy lemon squeezy right? But that took alot of work!"
   ]
  },
  {
   "cell_type": "markdown",
   "metadata": {},
   "source": [
    "With list comprehensions I realized I'm partially a visual learner. Aarshay Jain wrote an article that made this so simple for me to understand with [colors](https://www.analyticsvidhya.com/blog/2016/01/python-tutorial-list-comprehension-examples/)\n",
    "\n",
    "#### Lets look at the for loop\n",
    "\n",
    "> <span style=\"color:blue\">for (set of values to iterate):</span>\n",
    "\n",
    "> <span style=\"color:red\">....if (conditional filtering): </span>\n",
    "\n",
    "> <span style=\"color:black\">........output_expression()</span>\n",
    "\n",
    "\n",
    "We can do the same thing with a **list comprehension** in the following format\n",
    "\n",
    "> List comprehension = [<span style=\"color:black\">output_expression()</span> <span style=\"color:blue\">for (set of values to iterate):</span> <span style=\"color:red\">if (conditional filtering): </span>]\n",
    "\n",
    "#### Lets try rebuilding our for loop"
   ]
  },
  {
   "cell_type": "code",
   "execution_count": null,
   "metadata": {
    "ExecuteTime": {
     "end_time": "2020-01-13T04:08:30.076071Z",
     "start_time": "2020-01-13T04:08:30.068094Z"
    }
   },
   "outputs": [],
   "source": [
    "squared_lc=[i**2 for i in items if i>1]\n",
    "print(squared_lc)"
   ]
  },
  {
   "cell_type": "code",
   "execution_count": null,
   "metadata": {
    "ExecuteTime": {
     "end_time": "2020-01-13T04:09:26.844101Z",
     "start_time": "2020-01-13T04:09:26.839118Z"
    }
   },
   "outputs": [],
   "source": [
    "# How do I know i made a list?\n",
    "type(squared_lc)"
   ]
  },
  {
   "cell_type": "markdown",
   "metadata": {},
   "source": [
    "### Much simplier\n",
    "\n",
    "There's also a clear advantage. In addition to being more compact, list comprehensions are faster than an explicit for loop in building a list.\n",
    "\n",
    "#### Why?\n",
    "\n",
    "In calling .append() on a list you cause the list object to grow in increments which makes space for new elements individually. A list comprehension gathers all elements first before creating the list and does it in one go!\n",
    "\n",
    "You might be thinking \"Great! I should use the list comprehension for everything!\"\n",
    "\n",
    "Well.... no. The mistake is thinking you can use a list comprehension just because it gives you a one-line loop. If you don't **need** a list you are probably wasting cycles building a list object that you then discard again. Just stick to a normal for loop in that case."
   ]
  },
  {
   "cell_type": "code",
   "execution_count": null,
   "metadata": {
    "ExecuteTime": {
     "end_time": "2020-01-13T04:10:58.779806Z",
     "start_time": "2020-01-13T04:10:58.772824Z"
    }
   },
   "outputs": [],
   "source": [
    "#What if I tried a dictionary?\n",
    "squared_dc={i:i**2 for i in items if i>1}\n",
    "print(squared_dc)\n",
    "type(squared_dc)"
   ]
  },
  {
   "cell_type": "code",
   "execution_count": null,
   "metadata": {
    "ExecuteTime": {
     "end_time": "2020-01-13T04:11:39.527322Z",
     "start_time": "2020-01-13T04:11:39.520342Z"
    }
   },
   "outputs": [],
   "source": [
    "#What if I went for a tuple?\n",
    "squared_tc=(i**2 for i in items if i>1)\n",
    "print(squared_tc)\n",
    "type(squared_tc)"
   ]
  },
  {
   "cell_type": "code",
   "execution_count": null,
   "metadata": {
    "ExecuteTime": {
     "end_time": "2020-01-13T04:18:51.047254Z",
     "start_time": "2020-01-13T04:18:51.042266Z"
    }
   },
   "outputs": [],
   "source": [
    "hasattr(str, '__iter__')"
   ]
  },
  {
   "cell_type": "markdown",
   "metadata": {},
   "source": [
    "### Down the rabbit hole\n",
    "\n",
    "There are so many areas to learn within Python to not only build good code but faster, optimized code. To understand generators you first need to understand a few other terms.\n",
    "\n",
    "- Iterable: For something to be iterable it must be a “sequence” of data, you can iterate over using a loop. It could be simply a list of integers like `[1, 2, 3, 4, 5]` or a string ` \"Hello There\" `. It’s possible to iterate over other types of data like strings, dicts, tuples, sets, etc. If an item has the iter() method can be used as an iterable. Check it by using the **hasattr()** function such as \n",
    "    - `hasattr(list, '__iter__')` \n",
    "    - `hasattr(bool, '__iter__')`\n",
    "\n"
   ]
  },
  {
   "cell_type": "code",
   "execution_count": null,
   "metadata": {
    "ExecuteTime": {
     "end_time": "2020-01-13T04:21:55.901642Z",
     "start_time": "2020-01-13T04:21:55.895652Z"
    }
   },
   "outputs": [],
   "source": [
    "# Let's try those out\n",
    "print(hasattr(list, '__iter__'))\n",
    "hasattr(bool, '__iter__')"
   ]
  },
  {
   "cell_type": "markdown",
   "metadata": {},
   "source": [
    "#### Let's move onto our next term\n",
    "- Iterator: Iterator protocol is implemented whenever you iterate over a sequence of data. For example, when you use a for loop the following is happening on a background:\n",
    "    - The `iter()` method transforms the object converting it to an iterator object.\n",
    "    - The `next()` method is called on the iterator object to get the next element of the sequence.\n",
    "    - A `StopIteration exception` is raised when there are no elements left to call.\n",
    "\n"
   ]
  },
  {
   "cell_type": "code",
   "execution_count": null,
   "metadata": {
    "ExecuteTime": {
     "end_time": "2020-01-13T04:24:08.101576Z",
     "start_time": "2020-01-13T04:24:08.093597Z"
    }
   },
   "outputs": [],
   "source": [
    "# Playing with iter()\n",
    "\n",
    "list=[1,2,3,4,5]\n",
    "\n",
    "list_iterator=iter(list)\n",
    "\n",
    "print(\"Let's see what list_iterator looks like\")\n",
    "print(list_iterator)\n"
   ]
  },
  {
   "cell_type": "code",
   "execution_count": null,
   "metadata": {
    "ExecuteTime": {
     "end_time": "2020-01-13T04:25:28.198110Z",
     "start_time": "2020-01-13T04:25:28.187138Z"
    }
   },
   "outputs": [],
   "source": [
    "# the next() method lets us step through the iterable. Keep running this cell 6 times to find the \"StopIteration\"\n",
    "\n",
    "next(list_iterator)"
   ]
  },
  {
   "cell_type": "markdown",
   "metadata": {},
   "source": [
    "#### Now for our final term  Generator:\n",
    "\n",
    "- Generator: provide a convenient way to implement the iterator protocol. Generator is an iterable created using a function with a yield statement. The main advantage of generator over a list is that it takes much less memory. \n",
    "\n",
    "The main feature of generator is evaluating the elements on demand. When you call a normal function with a `return` statement the function is terminated whenever it encounters a return statement. In a function with a `yield` statement the state of the function is “saved” from the last call and can be picked up the next time you call a generator function.\n",
    "\n",
    "To learn more about generators - check out [this article and be prepared to code along](https://realpython.com/introduction-to-python-generators/)"
   ]
  },
  {
   "cell_type": "markdown",
   "metadata": {},
   "source": [
    "## Lambda Functions\n",
    "\n",
    "Lambda's are a single-line function declared with no name, which can have any number of arguments, but it can only have one expression. Other languages call them anonymous functions which is tied pretty well with when we use them. They are anonymous as they aren't bound to a name (i.e. def name() ). You  use lambda functions when you aren't going to use a function twice in a program, within a function or when you never plan to call it again. There's no need to define it and tell it what to return. Essentially they are just normal functions and even act like it.\n",
    "\n",
    "### Format\n",
    "\n",
    "> **lambda** *argument*: manipulator(*argument*)\n",
    "\n",
    "Lambda's are often used as part of functions, areas that expect to receive functions and often with other functions like filter() & map() which are fairly handy (which we'll get to soon)\n",
    "\n",
    "Lets start by seeing how this works with our items list"
   ]
  },
  {
   "cell_type": "code",
   "execution_count": null,
   "metadata": {
    "ExecuteTime": {
     "end_time": "2020-01-13T04:31:05.723777Z",
     "start_time": "2020-01-13T04:31:05.717796Z"
    },
    "scrolled": true
   },
   "outputs": [],
   "source": [
    "squared_lambda=list(map(lambda x: x**2, items))\n",
    "print(squared_lambda)"
   ]
  },
  {
   "cell_type": "code",
   "execution_count": null,
   "metadata": {},
   "outputs": [],
   "source": [
    "# You can compare this to a function as well\n",
    "\n",
    "def sqr(list):\n",
    "    sqr_list= []\n",
    "    for i in list:\n",
    "        sqr_list.append(i**2)\n",
    "    return sqr_list\n",
    "\n",
    "sqr(items)"
   ]
  },
  {
   "cell_type": "code",
   "execution_count": null,
   "metadata": {},
   "outputs": [],
   "source": [
    "# Why did you create a list? Play around with the below and you tell me. Send any questions over slack on the class page\n",
    "\n",
    "def square(list):\n",
    "    for i in list:\n",
    "        yield i ** 2\n",
    "        \n",
    "list(square(items))"
   ]
  },
  {
   "cell_type": "markdown",
   "metadata": {},
   "source": [
    "Lambda should be a part of your knowledge base. However - the bigger the knowledge you build in python the better you'll know when to apply different approaches.\n",
    "\n",
    "#### Do we need lambda?\n",
    "\n",
    "No, we don’t absolutely need lambda; we could get along without it which is why we're covering it here. At the same time in some situations lambda makes writing code a bit easier and a little cleaner. Mainly when function is fairly simple, and it is going to be used only once or for easier calculations within named functions.\n",
    "\n",
    "Since functions are normally created to reduce code duplication or modularize code - if you're only using it once - consider lambda.\n",
    "\n",
    "Here are some more readings to work on building your lambda skills\n",
    "- [Lambda's in Python](https://realpython.com/python-lambda/)\n",
    "- [Lambda's explained with examples](https://www.afternerd.com/blog/python-lambdas/)\n",
    "- [Hacker Rank with Lambda's](https://www.hackerrank.com/challenges/map-and-lambda-expression/problem)\n",
    "\n",
    "Can it get simplier than lambda? Sure! Let's assume you've already imported numpy for the same approach"
   ]
  },
  {
   "cell_type": "code",
   "execution_count": null,
   "metadata": {},
   "outputs": [],
   "source": [
    "import numpy as np\n",
    "\n",
    "#That lets you use it for vector math - even simpler!\n",
    "squared_np=np.array(items)**2\n",
    "print(squared_np)\n",
    "\n",
    "# And if you need it back as a list when you're done - no problem!\n",
    "squared_np=list(squared_np)\n",
    "print(squared_np)\n"
   ]
  },
  {
   "cell_type": "markdown",
   "metadata": {},
   "source": [
    "## Map & Filter\n",
    "\n",
    "These are functions often used with lambda and are fantastic for helping us manipulate our data.\n",
    "\n",
    "#### Map\n",
    "I used map above to target or map my lambda function to a list of inputs. It takes the simple form of\n",
    "\n",
    "> **map**(function_you_want_to_apply, Input_List)\n",
    "\n",
    "#### Filter\n",
    "\n",
    "Filter allows us to apply a condition across a list. If that condition returns true then we capture it in the list\n",
    "\n",
    "> **filter**(filtering_function, Input_List)\n",
    "\n",
    "While filter may seem similar to a for loop, as a built in python function it is faster\n",
    "\n",
    "[Go ahead and practice with map, filter and reduce](https://www.learnpython.org/en/Map,_Filter,_Reduce)\n"
   ]
  },
  {
   "cell_type": "code",
   "execution_count": null,
   "metadata": {},
   "outputs": [],
   "source": [
    "# I used map above so lets look at filter\n",
    "\n",
    "Greater_than_2 = list(filter(lambda x: x > 2, items))\n",
    "print(Greater_than_2)"
   ]
  },
  {
   "cell_type": "markdown",
   "metadata": {},
   "source": [
    "## Enumerate\n",
    "\n",
    "The enumerate function adds a counter to an iterable. For every element a tuple is constructed with (counter, element) - essentially index/value. It takes the form\n",
    "\n",
    "> **enumerate**(sequence, start=0)\n",
    "\n",
    "Notice it starts at zero but you can also tell it to start somewhere else. \n",
    "\n",
    "Why would we use enumerate? Let's look at a few examples"
   ]
  },
  {
   "cell_type": "code",
   "execution_count": null,
   "metadata": {},
   "outputs": [],
   "source": [
    "# Iterate through a list while keeping track of the list items' indices\n",
    "pets = ('Dogs', 'Cats', 'Turtles', 'Rabbits')\n",
    "\n",
    "for i, pet in enumerate(pets):\n",
    "    print (i, pet.lower())"
   ]
  },
  {
   "cell_type": "code",
   "execution_count": null,
   "metadata": {},
   "outputs": [],
   "source": [
    "# Create a dictionary for substituing strings with an index\n",
    "menu = ['pizza', 'pasta', 'salad', 'nachos']\n",
    "dict(enumerate(menu))"
   ]
  },
  {
   "cell_type": "markdown",
   "metadata": {},
   "source": [
    "## Classes & Methods\n",
    "\n",
    "There are a few concepts to understand with classes. First a class is a particular kind of object meeting a preset determination of information.\n",
    "\n",
    "**Object:** \n",
    ">an instance of data with values and type\n",
    "\n",
    "**Class:**\n",
    ">defines the object. It's a means of bundling data and functionality together. Creating a new class creates a new type of object, allowing new instances of that type to be made. Each class instance can have attributes attached to it for maintaining its state. Class instances can also have methods (defined by its class) for modifying its state.\n",
    "\n",
    "**Method**\n",
    ">A function that 'belongs to' an object. \n",
    "*Note:* Methods are not unique to classes in python as other object types can have methods as well such as lists, dictionaries etc.\n",
    "\n",
    "**What's the difference between a function and a method?**\n",
    "> **Function**: a piece of code that is called by name. It can be passed data to operate on (i.e., the parameters) and can optionally return data (the return value). All data that is passed to a function is explicitly passed. \n",
    "\n",
    "> **Method**: a piece of code that is called by name that is associated with an object. The data comes from an object instantiated around its class"
   ]
  },
  {
   "cell_type": "code",
   "execution_count": null,
   "metadata": {},
   "outputs": [],
   "source": [
    "# For this example we're going back to pets. \n",
    "\n",
    "class Pet:\n",
    "\n",
    "    def __init__(self, name, species):\n",
    "        self.name = name\n",
    "        self.species = species\n",
    "\n",
    "    def Name(self):\n",
    "        return self.name\n",
    "\n",
    "    def Species(self):\n",
    "        return self.species\n",
    "\n",
    "    def __str__(self):\n",
    "        return \"%s is a %s\" % (self.name, self.species)"
   ]
  },
  {
   "cell_type": "markdown",
   "metadata": {},
   "source": [
    "Let's break that down line by line\n",
    "\n",
    "Class Pet:\n",
    "> I'm telling python I want to create a new class called \"Pet\"\n",
    "\n",
    "def __init__(self, name, species):\n",
    "        self.name = name\n",
    "        self.species = species\n",
    "        \n",
    ">When a class is instantiated the __init__ serves as the constructor of the class to assign its initial values. Thus *self* refers to that instance of the object allowing us to set values. Here it adds the name and species\n",
    "\n",
    "We can create methods that work against this data. Here I made some basic ones.\n",
    "\n",
    "1. Return the name\n",
    "2. Return the species\n",
    "3. Use the __str__ will let the str() built in function call it through the print statement to push back some representation of the object"
   ]
  },
  {
   "cell_type": "code",
   "execution_count": null,
   "metadata": {},
   "outputs": [],
   "source": [
    "# Let's use an example\n",
    "\n",
    "Bada=Pet('Bada','Good Dog')"
   ]
  },
  {
   "cell_type": "code",
   "execution_count": null,
   "metadata": {},
   "outputs": [],
   "source": [
    "# Let's call some methods\n",
    "print(Bada.name)\n",
    "print(Bada.species)"
   ]
  },
  {
   "cell_type": "code",
   "execution_count": null,
   "metadata": {},
   "outputs": [],
   "source": [
    "# Ok but what if I just want to print bada? This is where __str__ comes in\n",
    "\n",
    "print(Bada)"
   ]
  },
  {
   "cell_type": "markdown",
   "metadata": {},
   "source": [
    "If you like the concept of class then push it further with inheritance, abstract classes\n",
    "\n",
    "- [Python Documentation](https://docs.python.org/3.3/tutorial/classes.html)\n",
    "- [Less technical approach](https://jeffknupp.com/blog/2014/06/18/improve-your-python-python-classes-and-object-oriented-programming/)\n"
   ]
  },
  {
   "cell_type": "code",
   "execution_count": null,
   "metadata": {},
   "outputs": [],
   "source": []
  }
 ],
 "metadata": {
  "kernelspec": {
   "display_name": "Python 3",
   "language": "python",
   "name": "python3"
  },
  "language_info": {
   "codemirror_mode": {
    "name": "ipython",
    "version": 3
   },
   "file_extension": ".py",
   "mimetype": "text/x-python",
   "name": "python",
   "nbconvert_exporter": "python",
   "pygments_lexer": "ipython3",
   "version": "3.7.3"
  }
 },
 "nbformat": 4,
 "nbformat_minor": 2
}
