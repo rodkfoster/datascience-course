{
 "cells": [
  {
   "cell_type": "markdown",
   "metadata": {},
   "source": [
    "<img src=\"http://imgur.com/1ZcRyrc.png\" style=\"float: left; margin: 20px; height: 55px\">\n",
    "\n",
    "# Introduction to Python: Control Flow\n",
    "\n",
    "_Authors: Kiefer Katovich (San Francisco), Dave Yerrington (San Francisco), Joseph Nelson (Washington, D.C.), Sam Stack (Washington, D.C.)_\n",
    "\n",
    "---"
   ]
  },
  {
   "cell_type": "markdown",
   "metadata": {},
   "source": [
    "\n",
    "### Learning Objectives\n",
    " \n",
    "####  Python Iterations, Control Flow, and Functions\n",
    "**After this lesson, you will be able to:**\n",
    "- Understand `Python` control flow and conditional programming.  \n",
    "- Implement `for` and `while` loops to iterate through data structures.\n",
    "- Apply `if… else` conditional statements.\n",
    "- Create functions to perform repetitive actions.\n",
    "- Demonstrate error handling using `try, except` statements.\n",
    "- Combine control flow and conditional statements to solve the classic \"FizzBuzz\" code challenge.\n",
    "- Use `Python` control flow and functions to help us parse, clean, edit, and analyze the Coffee Preferences data set.\n",
    "---"
   ]
  },
  {
   "cell_type": "markdown",
   "metadata": {},
   "source": [
    "### Lesson Guide\n",
    "\n",
    "#### Python Iterations, Control Flow, and Functions\n",
    "- [`if… else` Statements](#if_else_statements)\n",
    "- [Iterating With `for` Loops](#for_loops)\n",
    "- [FizzBuzz](#fizz_buzz)\n",
    "- [Functions](#functions)\n",
    "- [`while` Loops](#while_loops)\n",
    "- [Practice Control Flow on the Coffee Preference Data Set](#coffee_preference)\n",
    "- [Conclusion](#conclusion)\n",
    "----"
   ]
  },
  {
   "cell_type": "markdown",
   "metadata": {},
   "source": [
    "<a id='py_i'></a>\n",
    "## Part 2: Python Iterations, Control Flow, and Functions\n",
    "\n",
    "We've gone over how data can exist within the Python language. Now, let's look at the core ways of interacting with it.\n",
    "\n",
    "- `if… elif… else` statements.\n",
    "- `for` and `while` loops.\n",
    "- Error handling with `try` and `except`.\n",
    "- Functions."
   ]
  },
  {
   "cell_type": "markdown",
   "metadata": {},
   "source": [
    "<a id='if_else_statements'></a>\n",
    "\n",
    "# `if… else` Statements\n",
    "\n",
    "---\n",
    "\n",
    "In Python, **indentation matters**! This is especially true when we look at the control structures in this lesson. In each case, a block of indented code is only sometimes run. There will always be a condition in the line preceding the indented block that determines whether the indented code is run or skipped.\n",
    "\n",
    "#### `if` Statement\n",
    "\n",
    "The simplest example of a control structure is the `if` statement. We start with `if`, followed by something that can evaluate to `True` or `False` (such as any of the comparison operators we discussed earlier).\n",
    "\n",
    "\n",
    "Consider the following pseudocode for making French Toast:\n",
    "\n",
    "1. Dip the bread in eggs.\n",
    "\n",
    "2. Cook the bread for three minutes on each side.\n",
    "\n",
    "\n",
    "Now consider the following conditional process:\n",
    "1. Dip the bread in eggs.\n",
    "\n",
    "2. If the bread is thicker, dip the bread again until it's soaked through.\n",
    "\n",
    "3. Cook the bread for three minutes.\n",
    "\n",
    "4. Check if the bread is brown on the bottom. If not, keep cooking the bread.\n",
    "\n",
    "5. Flip the bread, and repeat Steps 3 and 4.\n",
    "\n",
    "\n",
    "The program needs to make a choice based on if the bread is thicker, and if the bread is brown.\n",
    "\n",
    "How does a computer say \"yes\" or \"no\"?  **Booleans**\n",
    "\n",
    "    Is the bread sliced? True\n",
    "\n",
    "    Is the bread brown? False\n",
    "\n",
    "\n",
    "This pseudocode could handle the thickness:\n",
    "\n",
    "    if bread_thick== True:\n",
    "        Dunk the bread longer\n",
    "        \n",
    "The syntax for if statements is as follows:\n",
    "    \n",
    "    if <expression>:\n",
    "        Run these lines if condition is True.\n",
    "        These lines are indented.\n",
    "\n",
    "    Unindented things always happen."
   ]
  },
  {
   "cell_type": "code",
   "execution_count": null,
   "metadata": {},
   "outputs": [],
   "source": [
    "if 1 == 1:\n",
    "    print('The integer 1 is equal to the integer 1.')\n",
    "    print('Is the next indented line run, too?')"
   ]
  },
  {
   "cell_type": "code",
   "execution_count": null,
   "metadata": {},
   "outputs": [],
   "source": [
    "if 'one' == 'two':\n",
    "    print(\"The string 'one' is equal to the string 'two'.\")\n",
    "\n",
    "print('---')\n",
    "print('These two lines are not indented, so they are always run next.')"
   ]
  },
  {
   "cell_type": "markdown",
   "metadata": {},
   "source": [
    "#### Comparison Operators\n",
    "The following are comparison operators which allow a statement to be avaluated to True or False:\n",
    "\n",
    "    < Less than\n",
    "    > Greater than\n",
    "    <= Less than or equal to\n",
    "    >= Greater than or equal to\n",
    "    == Equal to\n",
    "    != Not Equal to"
   ]
  },
  {
   "cell_type": "code",
   "execution_count": null,
   "metadata": {},
   "outputs": [],
   "source": [
    "print(\"3 < 5 is...\", (3 < 5))\n",
    "\n",
    "print(\"13 >= 13 is...\", (13 >= 13))  \n",
    "\n",
    "print(\"50 > 100 is...\", (50 > 100))\n",
    "\n",
    "print(\"'d' < 'a' is...\", (\"d\" < \"a\"))\n",
    "\n",
    "# Equality operator\n",
    "print(\"5 == 5 is...\", 5 == 5)\n",
    "\n",
    "print(\"6 == 3 is...\", 6 == 3)\n",
    "\n",
    "print(\"'5' == 5 is...\", \"5\" == 5)\n",
    "\n",
    "# Inequality operator\n",
    "print(\"5 != 5 is...\", (5 != 5))\n",
    "\n",
    "print(\"6 != 5 is...\", (6 != 5))\n",
    "\n",
    "print(\"'5' != 5 is...\", (\"5\" != 5))"
   ]
  },
  {
   "cell_type": "markdown",
   "metadata": {},
   "source": [
    "#### Logical Operators  \n",
    "What if we need to check multiple things that must all be True?\n",
    "` To make a pb&j sandwich, we need peanut butter, jelly and bread.`\n",
    "\n",
    "Or, what if we check multiple things and only one thing needs to be True?\n",
    "`To make a fruit salad, we only need oranges, or apples, or strawberries.`"
   ]
  },
  {
   "cell_type": "code",
   "execution_count": null,
   "metadata": {},
   "outputs": [],
   "source": [
    "peanut_butter = True\n",
    "jelly = True\n",
    "bread = True\n",
    "\n",
    "if peanut_butter and jelly and bread:\n",
    "    print('Make a pbj sandwich.')"
   ]
  },
  {
   "cell_type": "code",
   "execution_count": null,
   "metadata": {
    "ExecuteTime": {
     "end_time": "2020-01-13T03:20:21.607463Z",
     "start_time": "2020-01-13T03:20:21.602475Z"
    }
   },
   "outputs": [],
   "source": [
    "oranges = False\n",
    "apples = False\n",
    "strawberries = False\n",
    "if oranges or apples or strawberries:\n",
    "    print(\"Make a fruit salad.\")"
   ]
  },
  {
   "cell_type": "markdown",
   "metadata": {},
   "source": [
    "#### `if` ... `else`\n",
    "\n",
    "In many cases, you may want to run some code if the expression evaluates to `True` and some different code if it evaluates to `False`. This is done using `else`. Note how it is at the same indentation level as the `if` statement, followed by a colon, followed by a code block. Let's see it in action."
   ]
  },
  {
   "cell_type": "code",
   "execution_count": null,
   "metadata": {},
   "outputs": [],
   "source": [
    "if 50 < 30:\n",
    "    print(\"50 < 30.\")\n",
    "else:\n",
    "    print(\"50 >= 30.\")\n",
    "    print(\"The else code block was run instead of the first block.\")\n",
    "\n",
    "print('---')\n",
    "print('These two lines are not indented, so they are always run next.')"
   ]
  },
  {
   "cell_type": "markdown",
   "metadata": {},
   "source": [
    "#### `if` ... `elif` ... `else`\n",
    "\n",
    "Sometimes, you might want to run one specific code block out of several. For example, perhaps we provide the user with three choices and want something different to happen with each one.\n",
    "\n",
    "`elif` stands for `else if`. It belongs on a line between the initial `if` statement and an (optional) `else`. "
   ]
  },
  {
   "cell_type": "code",
   "execution_count": null,
   "metadata": {},
   "outputs": [],
   "source": [
    "health = 25\n",
    "\n",
    "if health > 70:\n",
    "    print('You are in great health!')\n",
    "elif health > 40:\n",
    "    print('Your health is average.')\n",
    "    print('Exercise and eat healthily!')\n",
    "elif health >20: \n",
    "    print('Your health is low.')\n",
    "    print('Please see a doctor now.')\n",
    "else:\n",
    "    print('Bruh.... got an ER nearby?')\n",
    "\n",
    "print('---')\n",
    "print('These two lines are not indented, so they are always run next.')"
   ]
  },
  {
   "cell_type": "markdown",
   "metadata": {},
   "source": [
    "This code works by evaluating each condition in order. If a condition evaluates to `True`, the rest are skipped.\n",
    "\n",
    "**Let's walk through the code.** First, we let `health = 55`. We move to the next line at the same indentation level — the `if`. We evaluate `health > 70` to be `False`, so its code block is skipped. Next, the interpreter moves to the next line at the same outer indentation level, which happens to be the `elif`. It evaluates its expression, `health > 40`, to be `True`, so its code block is run. Now, because a code block was run, the rest of the `if` statement is skipped."
   ]
  },
  {
   "cell_type": "markdown",
   "metadata": {},
   "source": [
    "![](./assets/if-flow.png)"
   ]
  },
  {
   "cell_type": "markdown",
   "metadata": {},
   "source": [
    "### Exercises (Target 15 minutes):\n",
    "\n",
    "#### 1. Suitcase\n",
    "\n",
    "Write an `if… else` statement to check whether or not the suitcase weighs more than 50 pounds."
   ]
  },
  {
   "cell_type": "code",
   "execution_count": null,
   "metadata": {},
   "outputs": [],
   "source": [
    "weight = float(eval(input(\"How many pounds does your suitcase weigh?\")))\n",
    "print(weight)\n"
   ]
  },
  {
   "cell_type": "code",
   "execution_count": null,
   "metadata": {},
   "outputs": [],
   "source": [
    "# Enter your code here\n",
    "\n"
   ]
  },
  {
   "cell_type": "markdown",
   "metadata": {},
   "source": [
    "#### 2. Wild Wild Weather\n",
    "\n",
    "Print out these recommendations based on the weather conditions, in one if type statement:\n",
    "\n",
    "1. The temperature is higher than 60 degrees and it is raining: Bring an umbrella. \n",
    "2. The temperature is lower than or equal to 60 degrees and it is raining: Bring an umbrella and a jacket. \n",
    "3. The temperature is higher than 60 degrees and the sun is shining: Wear a T-shirt. \n",
    "4. The temperature is lower than or equal to 60 degrees and the sun is shining: Bring a jacket."
   ]
  },
  {
   "cell_type": "code",
   "execution_count": null,
   "metadata": {},
   "outputs": [],
   "source": [
    "temperature = float(input('What is the temperature (F)? '))\n",
    "weather = input('What is the weather (rain or shine)? ')\n"
   ]
  },
  {
   "cell_type": "markdown",
   "metadata": {},
   "source": [
    "#### 3. And/Or\n",
    "\n",
    "Compare variables and print out statements accordingly:"
   ]
  },
  {
   "cell_type": "code",
   "execution_count": null,
   "metadata": {},
   "outputs": [],
   "source": [
    "x = True\n",
    "y = 'Trees'\n",
    "a = True\n",
    "b = \"\"\n",
    "\n",
    "#1. Check if x and b are both True. If they are, print \"Both of these are True.\"\n",
    "\n",
    "#2. Check if y or a is False. If one is, print \"One of these is False.\"\n",
    "\n",
    "#3. Check if either x or y is False. If one is, print out \"One is False.\"\n",
    "\n",
    "#4. Then, only if either x or y is False, check if x is greater than y. \n",
    "# If it is, print out \"x is greater than y.\"\n",
    "\n"
   ]
  },
  {
   "cell_type": "markdown",
   "metadata": {},
   "source": [
    "---\n",
    "<a id='for_loops'></a>\n",
    "# `for` Loops\n",
    "\n",
    "\n",
    "One of the primary purposes of using a programming language is to automate repetitive tasks. One such means in Python is the `for` loop.\n",
    "\n",
    "The `for` loop allows you to perform a task repeatedly on every element within an object, such as every name in a list.\n",
    "\n",
    "This situation isn't so bad, but image there were 1,000 items to print in the following list:\n",
    "```\n",
    "visible_colors = [\"red\", \"orange\", \"yellow\", \"green\", \"blue\", \"violet\"]\n",
    "print(visible_colors[0])\n",
    "print(visible_colors[1])\n",
    "print(visible_colors[2])\n",
    "print(visible_colors[3])\n",
    "print(visible_colors[4])\n",
    "print(visible_colors[5])\n",
    "```\n",
    "\n",
    "\n",
    "Let's see how the pseudocode works:\n",
    "\n",
    "```\n",
    "    For each individual object in the list\n",
    "        perform task_A on said object.\n",
    "        Once task_A has been completed, move to next object in the list.\n",
    "```\n",
    "\n",
    "Once again, indentation matters:"
   ]
  },
  {
   "cell_type": "code",
   "execution_count": null,
   "metadata": {
    "ExecuteTime": {
     "end_time": "2020-01-13T03:25:35.723155Z",
     "start_time": "2020-01-13T03:25:35.716175Z"
    }
   },
   "outputs": [],
   "source": [
    "#import time #Time lets us add a delay to our code. Remove comments to see it in action\n",
    "\n",
    "for name in [\"Tom\", \"Deborah\", \"Murray\", \"Axel\"]:\n",
    "    print(\"Now appearing in the Refreshment Room...\")  # in the loop\n",
    "    print(name)                                        # in the loop\n",
    "    #time.sleep(1)\n",
    "print(\"THUNDEROUS APPLAUSE!\")                      # OUTSIDE the loop"
   ]
  },
  {
   "cell_type": "code",
   "execution_count": null,
   "metadata": {
    "ExecuteTime": {
     "end_time": "2020-01-13T03:26:43.238458Z",
     "start_time": "2020-01-13T03:26:43.228486Z"
    }
   },
   "outputs": [],
   "source": [
    "visible_colors = [\"red\", \"orange\", \"yellow\", \"green\", \"blue\", \"violet\"]\n",
    "\n",
    "for i in visible_colors:\n",
    "    print(i)\n",
    "\n",
    "    \n",
    "# Essentially the for loop is writing the outputs below for us 1 by 1\n",
    "print(\"---------\")    \n",
    "i=0\n",
    "print(\"Now with index 0:\", visible_colors[i])\n",
    "\n",
    "#i increments by 1\n",
    "i=1\n",
    "print(\"Now with index 1:\",visible_colors[i])\n",
    "\n",
    "#i increments by 1\n",
    "i=2\n",
    "print(\"Now with index 2:\",visible_colors[i])\n"
   ]
  },
  {
   "cell_type": "code",
   "execution_count": null,
   "metadata": {
    "ExecuteTime": {
     "end_time": "2020-01-13T03:26:52.625340Z",
     "start_time": "2020-01-13T03:26:52.619355Z"
    }
   },
   "outputs": [],
   "source": [
    "names = ['Alex', 'Brian', 'Catherine']\n",
    "\n",
    "for name in names:\n",
    "    print(name + ' Is Awesome!')"
   ]
  },
  {
   "cell_type": "markdown",
   "metadata": {},
   "source": [
    "This process of cycling through a list item by item is known as \"iteration.\" \n",
    "\n",
    "We can also combine `if... else` statements and `for` loops:"
   ]
  },
  {
   "cell_type": "code",
   "execution_count": null,
   "metadata": {
    "ExecuteTime": {
     "end_time": "2020-01-13T03:26:58.686122Z",
     "start_time": "2020-01-13T03:26:58.680138Z"
    }
   },
   "outputs": [],
   "source": [
    "for i in names:\n",
    "    if i == 'Brian':\n",
    "        print(i + ' Is REALLY AWESOME!')\n",
    "    else:\n",
    "        print(i + ' Is Awesome!')"
   ]
  },
  {
   "cell_type": "markdown",
   "metadata": {},
   "source": [
    "You can also loop through characters in a string:"
   ]
  },
  {
   "cell_type": "code",
   "execution_count": null,
   "metadata": {
    "ExecuteTime": {
     "end_time": "2020-01-13T03:27:03.670783Z",
     "start_time": "2020-01-13T03:27:03.664800Z"
    }
   },
   "outputs": [],
   "source": [
    "my_string = \"Hello, world!\"\n",
    "\n",
    "for character in my_string:\n",
    "    print(character)"
   ]
  },
  {
   "cell_type": "markdown",
   "metadata": {},
   "source": [
    "Using range can be helpful in certain scenarios:"
   ]
  },
  {
   "cell_type": "code",
   "execution_count": null,
   "metadata": {
    "ExecuteTime": {
     "end_time": "2020-01-13T03:27:21.534981Z",
     "start_time": "2020-01-13T03:27:21.528997Z"
    }
   },
   "outputs": [],
   "source": [
    "guest_list = [\"Fred\", \"Cho\", \"Brandi\", \"Yuna\", \"Nanda\", \"Denise\"]\n",
    "#len(guest_list)\n",
    "#print(range(len(guest_list)))\n",
    "print(guest_list)"
   ]
  },
  {
   "cell_type": "code",
   "execution_count": null,
   "metadata": {
    "ExecuteTime": {
     "end_time": "2020-01-13T03:27:49.113010Z",
     "start_time": "2020-01-13T03:27:49.107027Z"
    }
   },
   "outputs": [],
   "source": [
    "#Let's use a for loop to modify the values of our list\n",
    "for guest in range(len(guest_list)):\n",
    "    guest_list[guest] = guest_list[guest].upper()\n",
    "\n",
    "print(\"The guest_list is\", guest_list)"
   ]
  },
  {
   "cell_type": "markdown",
   "metadata": {},
   "source": [
    "### Exercises (10 minutes)\n",
    "\n",
    "#### 4. For the Love of Python"
   ]
  },
  {
   "cell_type": "code",
   "execution_count": null,
   "metadata": {},
   "outputs": [],
   "source": [
    "#1. Write a for loop that iterates from number 1 to number 15.\n",
    "\n",
    "#2. Iterate from 1 to 15, printing whether the number is odd or even.  Hint(9 % 5 == 4)\n",
    "\n",
    "#3. Iterate through the following list of animals and print each one in all caps.\n",
    "animals = ['duck', 'rat', 'boar', 'slug', 'mammoth', 'gazelle']\n",
    "\n",
    "\n"
   ]
  },
  {
   "cell_type": "markdown",
   "metadata": {},
   "source": [
    "---\n",
    "<a id='functions'></a>\n",
    "# `try` / `except`\n",
    "---\n",
    "\n",
    "Sometimes, code throws a runtime error. For example, division by zero or using a keyword as a variable name."
   ]
  },
  {
   "cell_type": "code",
   "execution_count": null,
   "metadata": {},
   "outputs": [],
   "source": [
    "1 / 0"
   ]
  },
  {
   "cell_type": "code",
   "execution_count": null,
   "metadata": {},
   "outputs": [],
   "source": [
    "print('a' - 'b')"
   ]
  },
  {
   "cell_type": "markdown",
   "metadata": {},
   "source": [
    "These errors are called **exceptions**. Exceptions are serious errors that are **thrown** when the computer cannot continue because the expression cannot be evaluated properly. For example:\n",
    "\n",
    "+ Using the addition operator to add a string and a non-string.\n",
    "+ Using an undefined name.\n",
    "+ Opening a file that does not exist."
   ]
  },
  {
   "cell_type": "markdown",
   "metadata": {},
   "source": [
    "Luckily, our program does not have to be this fragile. By wrapping a code block with `try`, we can \"catch\" exceptions. If an exception occurs, instead of exiting, the computer immediately executes the matching `except` block and continues the program."
   ]
  },
  {
   "cell_type": "code",
   "execution_count": null,
   "metadata": {},
   "outputs": [],
   "source": [
    "try:\n",
    "    1 / 0\n",
    "    print('not executed due to the exception')\n",
    "except:\n",
    "    print('Divide by zero!')\n",
    "\n",
    "print('Program keeps executing!')"
   ]
  },
  {
   "cell_type": "markdown",
   "metadata": {},
   "source": [
    "Sometimes, you might want to do nothing in the event of an exception. However, an indented code block is still required! So, you can use the keyword `pass`."
   ]
  },
  {
   "cell_type": "code",
   "execution_count": null,
   "metadata": {
    "scrolled": true
   },
   "outputs": [],
   "source": [
    "try:\n",
    "    print('a' - 'b')\n",
    "except:\n",
    "    pass\n",
    "\n",
    "print('Program keeps executing!')"
   ]
  },
  {
   "cell_type": "markdown",
   "metadata": {},
   "source": [
    "We can also catch specific exceptions and use try/except in more ways, but we'll keep it brief for this introduction!"
   ]
  },
  {
   "cell_type": "markdown",
   "metadata": {},
   "source": [
    "---\n",
    "<a id='functions'></a>\n",
    "# Functions\n",
    "---\n",
    "\n",
    "Similar to the way we can use `for` loops as a means of performing repetitive tasks on a series of objects, we can also create functions to perform repetitive tasks. Functions are simply reusable pieces of code. Within a function, we can write a large block of action and then call the function whenever we want to use it.  \n",
    "\n",
    "\n",
    "\n",
    "Let's make some pseudocode:\n",
    "```\n",
    "    Define the function name and the requirements it needs.\n",
    "        Perform actions.\n",
    "        Optional: Return output.\n",
    "```\n",
    "\n",
    "A function is defined like this:\n",
    "\n",
    "```python\n",
    "def function_name(arguments):\n",
    "    # Do things here.\n",
    "    return value\n",
    "```\n",
    "\n",
    "We start with `def` and the name of our function, then a set of parentheses. The terms we put in the parentheses will be passed into the function and stored in those variables. Finally, if we want to store the results of the function, we use `return`, which will let us take some value and store it once the function has run, like this:\n",
    "\n",
    "```python\n",
    "x = function_name(20)\n",
    "```\n",
    "\n",
    "Whatever follows `return` when the function is defined will be passed out of the function and stored in `x`.\n",
    "\n",
    "Let's create a function that takes two numbers as arguments and returns their sum, difference, and product. "
   ]
  },
  {
   "cell_type": "markdown",
   "metadata": {},
   "source": [
    "Let's create a function that takes two numbers as arguments and returns their sum, difference, and product. "
   ]
  },
  {
   "cell_type": "code",
   "execution_count": null,
   "metadata": {},
   "outputs": [],
   "source": [
    "def arithmetic(num1, num2):\n",
    "    print(num1 + num2)\n",
    "    print(num1 - num2)\n",
    "    print(num1 * num2)"
   ]
  },
  {
   "cell_type": "code",
   "execution_count": null,
   "metadata": {},
   "outputs": [],
   "source": [
    "arithmetic(0,2)"
   ]
  },
  {
   "cell_type": "markdown",
   "metadata": {},
   "source": [
    "Once we define the function, it will exist until we reset our kernel, close our notebook, or overwrite it."
   ]
  },
  {
   "cell_type": "code",
   "execution_count": null,
   "metadata": {},
   "outputs": [],
   "source": [
    "arithmetic(4,10)"
   ]
  },
  {
   "cell_type": "markdown",
   "metadata": {},
   "source": [
    "### Parameters\n",
    "Parameters are variables that are passed through a function.  For example, in the function below, `product` is a parameter."
   ]
  },
  {
   "cell_type": "code",
   "execution_count": null,
   "metadata": {
    "ExecuteTime": {
     "end_time": "2020-01-13T03:31:22.281497Z",
     "start_time": "2020-01-13T03:31:22.274515Z"
    }
   },
   "outputs": [],
   "source": [
    "def print_order(product):\n",
    "    print(\"Thank you for ordering the \"+ product +\".\")\n",
    "\n",
    "print_order(\"Hanging Planter\")\n",
    "\n",
    "print_order(\"Shell Mirror\")\n",
    "\n",
    "print_order(\"Modern Shag Rug\")\n"
   ]
  },
  {
   "cell_type": "markdown",
   "metadata": {},
   "source": [
    "You can pass default values to a parameter."
   ]
  },
  {
   "cell_type": "code",
   "execution_count": null,
   "metadata": {
    "ExecuteTime": {
     "end_time": "2020-01-13T03:34:05.055740Z",
     "start_time": "2020-01-13T03:34:05.050753Z"
    }
   },
   "outputs": [],
   "source": [
    "# Unless changed the tax_rate will remain set at 10%\n",
    "def price_function(price, tax_rate=0.10):\n",
    "    \"\"\"This is an example of documentation in your function - a docstring\n",
    "        price - price of the item\n",
    "        tax_rate - tax for the sale (default is 0.10)\"\"\"\n",
    "    return(price+price*tax_rate)"
   ]
  },
  {
   "cell_type": "code",
   "execution_count": null,
   "metadata": {
    "ExecuteTime": {
     "end_time": "2020-01-13T03:34:05.700018Z",
     "start_time": "2020-01-13T03:34:05.694032Z"
    }
   },
   "outputs": [],
   "source": [
    "#To see a docstring in a function or class, move your cursor between the () below\n",
    "#When they turn green hit shift+tab to see the documentation\n",
    "\n",
    "price_function(10, tax_rate=.1)"
   ]
  },
  {
   "cell_type": "code",
   "execution_count": null,
   "metadata": {},
   "outputs": [],
   "source": [
    "price_function()"
   ]
  },
  {
   "cell_type": "markdown",
   "metadata": {},
   "source": [
    "Assign the value to a variable"
   ]
  },
  {
   "cell_type": "code",
   "execution_count": null,
   "metadata": {
    "ExecuteTime": {
     "end_time": "2020-01-13T03:34:10.988863Z",
     "start_time": "2020-01-13T03:34:10.982880Z"
    }
   },
   "outputs": [],
   "source": [
    "total_price = price_function(10,.15)\n",
    "total_price+3"
   ]
  },
  {
   "cell_type": "markdown",
   "metadata": {},
   "source": [
    "There is no limit to the number of parameters you can use. Take advantage of this to make functions as flexible as necessary."
   ]
  },
  {
   "cell_type": "code",
   "execution_count": null,
   "metadata": {
    "ExecuteTime": {
     "end_time": "2020-01-13T03:34:24.541598Z",
     "start_time": "2020-01-13T03:34:24.535614Z"
    }
   },
   "outputs": [],
   "source": [
    "def greet_user(firstName, lastName, year, city):\n",
    "    print(\"Hello\", firstName, lastName, \"born in\", year, \"from\", city,  \"!\")\n",
    "\n",
    "greet_user(\"Bruce\", \"Willis\", 1955, \"Philadelphia\")\n"
   ]
  },
  {
   "cell_type": "markdown",
   "metadata": {},
   "source": [
    "If statements (and any python code that you want to repeat) can be part of a function. Notice the sub-indentation."
   ]
  },
  {
   "cell_type": "code",
   "execution_count": null,
   "metadata": {
    "ExecuteTime": {
     "end_time": "2020-01-13T03:34:43.219231Z",
     "start_time": "2020-01-13T03:34:43.214244Z"
    }
   },
   "outputs": [],
   "source": [
    "def order(order_amount):\n",
    "    if order_amount >= 30:\n",
    "        print(\"It's your lucky day! There is no shipping charge for orders over $30.00.\")\n",
    "    else:\n",
    "        print(\"There will be a $5.00 shipping charge for this order.\")"
   ]
  },
  {
   "cell_type": "code",
   "execution_count": null,
   "metadata": {
    "ExecuteTime": {
     "end_time": "2020-01-13T03:34:43.696953Z",
     "start_time": "2020-01-13T03:34:43.692963Z"
    }
   },
   "outputs": [],
   "source": [
    "order(40)"
   ]
  },
  {
   "cell_type": "markdown",
   "metadata": {},
   "source": [
    "#### Miscellanous Function Examples\n",
    "\n",
    "Write a function that takes the length of a side of a square as an argument and returns its area."
   ]
  },
  {
   "cell_type": "code",
   "execution_count": null,
   "metadata": {},
   "outputs": [],
   "source": [
    "def area_triangle(height, width):\n",
    "    return height + (0.5*width)\n",
    "\n",
    "print(area_triangle(2, 6))"
   ]
  },
  {
   "cell_type": "markdown",
   "metadata": {},
   "source": [
    "Write a function that takes a string as an argument and returns a tuple consisting of two elements:\n",
    "\n",
    "- A list of all of the characters in the string.\n",
    "- A count of the number of characters in the string."
   ]
  },
  {
   "cell_type": "code",
   "execution_count": null,
   "metadata": {
    "ExecuteTime": {
     "end_time": "2020-01-13T03:35:05.573425Z",
     "start_time": "2020-01-13T03:35:05.566443Z"
    }
   },
   "outputs": [],
   "source": [
    "def list_and_count(word):\n",
    "    list_of_characters = []\n",
    "    for char in word:\n",
    "        list_of_characters.append(char)\n",
    "    return list_of_characters, len(word)\n",
    "\n",
    "print(list_and_count('Lisa Simpson'))"
   ]
  },
  {
   "cell_type": "markdown",
   "metadata": {},
   "source": [
    "### Exercises (25 minutes):\n",
    "\n",
    "#### 5. Thanks a Latte\n",
    "Imagine that you are tasked with creating a program to calculate the total amount, including sales tax, for each item at a coffee shop.\n",
    "\n",
    "Consider the following 2 functions.\n",
    "\n",
    "```\n",
    "def latte_total():\n",
    "    price = 5.50\n",
    "    sales_tax_rate = .10\n",
    "    total_amount = price + (price * sales_tax_rate)\n",
    "    print(\"The total is $\", total_amount)\n",
    "\n",
    "latte_total()\n",
    "\n",
    "def americano_total():\n",
    "    price = 4.75\n",
    "    sales_tax_rate = .10\n",
    "    total_amount = price + (price * sales_tax_rate)\n",
    "    print(\"The total is $\", total_amount)\n",
    "\n",
    "americano_total()\n",
    "```\n",
    "\n",
    "Now make a function that is flexible enough for any product.  Print both the product name as well as the total amount, in one sentence."
   ]
  },
  {
   "cell_type": "code",
   "execution_count": null,
   "metadata": {},
   "outputs": [],
   "source": []
  },
  {
   "cell_type": "code",
   "execution_count": null,
   "metadata": {},
   "outputs": [],
   "source": []
  },
  {
   "cell_type": "markdown",
   "metadata": {},
   "source": [
    "#### 6. High Low\n",
    "\n",
    "Write a function called high_low(), that prints \"High!\" if a variable\n",
    "my_number is greater than 10, and \"Low!\" if it isn't."
   ]
  },
  {
   "cell_type": "code",
   "execution_count": null,
   "metadata": {},
   "outputs": [],
   "source": []
  },
  {
   "cell_type": "code",
   "execution_count": null,
   "metadata": {},
   "outputs": [],
   "source": []
  },
  {
   "cell_type": "markdown",
   "metadata": {},
   "source": [
    "#### 7. Blackjack\n",
    "\n",
    "Write a function called blackjack() with 2 parameters, dealer_hand and player_hand.  \n",
    "\n",
    "- If the player_hand is greater than the dealer_hand, the player wins. \n",
    "- If the dealer_hand is greater than the player_hand, the dealer wins.  \n",
    "- However, if any hand is >21 that person loses. \n",
    "- If the player hand is 21, the player wins, if the dealer hand is 21, the dealer wins.\n",
    "- Considering all of the other rules, if there is a tie, there is a \"push\"."
   ]
  },
  {
   "cell_type": "code",
   "execution_count": null,
   "metadata": {},
   "outputs": [],
   "source": [
    "\n",
    "    "
   ]
  },
  {
   "cell_type": "code",
   "execution_count": null,
   "metadata": {},
   "outputs": [],
   "source": []
  },
  {
   "cell_type": "markdown",
   "metadata": {},
   "source": [
    "---\n",
    "<a id='while_loops'></a>\n",
    "# `while` Loops\n",
    "---\n",
    "\n",
    "\n",
    "`while` loops are a different means of performing repetitive tasks/iteration. The function of a `for` loop is to perform tasks over a _finite list_. The function of a `while` loop is to perform a repetitive task until a _specific threshold or criteria point is met_. Keep in mind that this can be relatively dangerous, as it is easy to create a loop that never meets your criteria and runs forever.\n",
    "\n",
    "_We say \"list,\" but we're not just talking about a Python list data type. We're including any data type where information can be iterated through._\n",
    "\n",
    "Let's look at some pseudocode:\n",
    "\n",
    "```\n",
    "    While <something> is True:\n",
    "        Run some code.\n",
    "        If you're done, set the <something> to False.\n",
    "        Otherwise, repeat.\n",
    "```\n",
    "\n",
    "<img src=\"./assets/while-loop.png\" />\n",
    "\n",
    "\n",
    "\n",
    "An example of an infinite `while` loop:\n",
    "\n",
    "```python\n",
    "x = 0\n",
    "while x < 10:\n",
    "    print x\n",
    "```\n",
    "\n",
    "Because the value assigned to `x` never changes and always remains less than 10, this loop will print \"`x`\" infinitely until you force-kill the kernel. \n",
    "\n",
    "We can fix this infinity loop by including a incrementation for `x` within it.\n",
    "\n",
    "```python\n",
    "x = 0\n",
    "while x < 10:\n",
    "    print x\n",
    "    x = x+1\n",
    "```\n",
    "\n"
   ]
  },
  {
   "cell_type": "code",
   "execution_count": null,
   "metadata": {},
   "outputs": [],
   "source": [
    "## Filling a glass of water\n",
    "drink = 0\n",
    "glass_capacity = 12\n",
    "\n",
    "\n",
    "while drink < glass_capacity:\n",
    "    drink += 1 # Here is where we add more water.\n",
    "    print(drink)"
   ]
  },
  {
   "cell_type": "markdown",
   "metadata": {
    "collapsed": true
   },
   "source": [
    "\n",
    "<a name=\"conclusion\"></a>\n",
    "## Lesson Summary\n",
    "\n",
    "\n",
    "Let's review what we learned today. We:\n",
    "\n",
    "- Reviewed `Python` control flow and conditional programming. \n",
    "- Implemented `for` and `while` loops to iterate through data structures.\n",
    "- Applied `if… else` conditional statements.\n",
    "- Created functions to perform repetitive actions.\n",
    "- Demonstrated error handling using `try, except` statements.\n",
    "- Combined control flow and conditional statements to solve the classic \"FizzBuzz\" code challenge.\n",
    "- Optional: Used `Python` control flow and functions to help us parse, clean, edit, and analyze the Coffee Preferences data set.\n",
    "\n",
    "\n",
    "\n",
    "# Recaps and Requests\n",
    "Take a moment to write down the answers to the following for yourself:\n",
    "\n",
    "1. What parts of the Python material covered today do I feel like I know very well right now?\n",
    "2. What parts of the Python material covered today were a struggle?\n",
    "\n",
    "We'll each share what caused us some trouble today and take a few minutes to review anything that's outstanding. If you noticed that you really mastered something that somebody else found especially challenging, take some time to reach out and offer some help!\n",
    "\n",
    "....\n",
    "\n",
    "### Additional Resources\n",
    "\n",
    "- [Learn Python on Codecademy](https://www.codecademy.com/learn/python)\n",
    "- [Learn Python the Hard Way](https://learnpythonthehardway.org)\n",
    "- [Python Data Types and Variables](http://www.python-course.eu/variables.php)\n",
    "- [Python IF… ELIF… ELSE Statements](https://www.tutorialspoint.com/python/python_if_else.htm)\n",
    "- [Python Loops](https://www.tutorialspoint.com/python/python_loops.htm)\n",
    "- [Python Control Flow](https://python.swaroopch.com/control_flow.html)"
   ]
  },
  {
   "cell_type": "markdown",
   "metadata": {},
   "source": [
    "---\n",
    "<a id='coffee_preference'></a>\n",
    "\n",
    "# Optional Take Home Practice\n",
    "\n",
    "### Practice Control Flow on the Coffee Preference Data Set\n",
    "\n",
    "### 1) Load Coffee Preference data from file and print.\n",
    "\n",
    "The code to load in the data is provided below. \n",
    "\n",
    "The `with open(..., 'r') as f:` opens up a file in \"read\" mode (rather than \"write\") and assigns this opened file to `f`. \n",
    "\n",
    "We can then use the built-in `.readlines()` function to split the CSV file on newlines and assign it to the variable `lines`."
   ]
  },
  {
   "cell_type": "code",
   "execution_count": null,
   "metadata": {
    "ExecuteTime": {
     "end_time": "2020-01-13T03:36:17.357795Z",
     "start_time": "2020-01-13T03:36:17.351810Z"
    }
   },
   "outputs": [],
   "source": [
    "with open('./assets/datasets/coffee-preferences.csv','r') as f:\n",
    "    lines = f.readlines()"
   ]
  },
  {
   "cell_type": "markdown",
   "metadata": {},
   "source": [
    "#### Iterate through `lines` and print them out."
   ]
  },
  {
   "cell_type": "code",
   "execution_count": null,
   "metadata": {
    "ExecuteTime": {
     "end_time": "2020-01-13T03:36:31.169835Z",
     "start_time": "2020-01-13T03:36:31.161859Z"
    }
   },
   "outputs": [],
   "source": [
    "# A:\n"
   ]
  },
  {
   "cell_type": "markdown",
   "metadata": {},
   "source": [
    "#### Print out just the `lines` object by typing \"lines\" in a cell and hitting `enter`."
   ]
  },
  {
   "cell_type": "code",
   "execution_count": null,
   "metadata": {
    "ExecuteTime": {
     "end_time": "2020-01-13T03:36:40.796078Z",
     "start_time": "2020-01-13T03:36:40.782115Z"
    }
   },
   "outputs": [],
   "source": [
    "# A:\n"
   ]
  },
  {
   "cell_type": "markdown",
   "metadata": {},
   "source": [
    "---\n",
    "\n",
    "### 2) Remove the remaining newline `'\\n'` characters with a `for` loop.\n",
    "\n",
    "Iterate through the lines of the data and remove the unwanted newline characters.\n",
    "\n",
    "**.replace('\\n', '')** is a built-in string function that will take the substring you want to replace as its first argument and the string you want to replace it with as its second."
   ]
  },
  {
   "cell_type": "code",
   "execution_count": null,
   "metadata": {},
   "outputs": [],
   "source": [
    "# A:"
   ]
  },
  {
   "cell_type": "markdown",
   "metadata": {},
   "source": [
    "---\n",
    "\n",
    "### 3) Split the lines into \"header\" and \"data\" variables.\n",
    "\n",
    "The header is the first string in the list of strings. It contains our data's column names."
   ]
  },
  {
   "cell_type": "code",
   "execution_count": null,
   "metadata": {},
   "outputs": [],
   "source": [
    "# A:"
   ]
  },
  {
   "cell_type": "markdown",
   "metadata": {},
   "source": [
    "---\n",
    "\n",
    "### 4) Split the header and data strings on commas.\n",
    "\n",
    "To split a string on the comma character, use the built-in **`.split(',')`** function. \n",
    "\n",
    "Split the header on commas, then print it. You can see that the original string is now a list containing items that were originally separated by commas."
   ]
  },
  {
   "cell_type": "code",
   "execution_count": null,
   "metadata": {},
   "outputs": [],
   "source": [
    "# A:"
   ]
  },
  {
   "cell_type": "markdown",
   "metadata": {},
   "source": [
    "---\n",
    "\n",
    "### 5) Remove the \"Timestamp\" column.\n",
    "\n",
    "We aren't interested in the \"Timestamp\" column in our data, so remove it from the header and data list.\n",
    "\n",
    "Removing \"Timestamp\" from the header can be done with list functions or with slicing. To remove the header column from the data, use a `for` loop.\n",
    "\n",
    "Print out the new data object with the timestamps removed."
   ]
  },
  {
   "cell_type": "code",
   "execution_count": null,
   "metadata": {},
   "outputs": [],
   "source": [
    "# A:"
   ]
  },
  {
   "cell_type": "markdown",
   "metadata": {},
   "source": [
    "---\n",
    "\n",
    "### 6) Convert numeric columns to floats and empty fields to `None`.\n",
    "\n",
    "Iterate through the data and construct a new data list of lists that contains the numeric ratings converted from strings to floats and the empty fields (which are empty strings, '') replaced with the `None` object.\n",
    "\n",
    "Use a nested `for` loop (a `for` loop within another `for` loop) to get the job done. You will likely need to use `if… else` conditional statements as well.\n",
    "\n",
    "Print out the new data object to make sure you've succeeded."
   ]
  },
  {
   "cell_type": "code",
   "execution_count": null,
   "metadata": {},
   "outputs": [],
   "source": [
    "# A:"
   ]
  },
  {
   "cell_type": "markdown",
   "metadata": {},
   "source": [
    "---\n",
    "\n",
    "### 7) Count the `None` values per person and put the counts in a dictionary.\n",
    "\n",
    "Use a `for` loop to count the number of `None` values per person. Create a dictionary with the names of the people as keys and the counts of `None` as values.\n",
    "\n",
    "Who rated the most coffee brands? Who rated the least?"
   ]
  },
  {
   "cell_type": "code",
   "execution_count": null,
   "metadata": {},
   "outputs": [],
   "source": [
    "# A:"
   ]
  },
  {
   "cell_type": "markdown",
   "metadata": {},
   "source": [
    "---\n",
    "\n",
    "### 8) Calculate average rating per coffee brand.\n",
    "\n",
    "**Excluding `None` values**, calculate the average rating per brand of coffee.\n",
    "\n",
    "The final output should be a dictionary with the coffee brand names as keys and their average rating as the values.\n",
    "\n",
    "Remember that the average can be calculated as the sum of the ratings over the number of ratings:\n",
    "\n",
    "```python\n",
    "average_rating = float(sum(ratings_list))/len(ratings_list)\n",
    "```\n",
    "\n",
    "Print your dictionary to see the average brand ratings."
   ]
  },
  {
   "cell_type": "code",
   "execution_count": null,
   "metadata": {},
   "outputs": [],
   "source": [
    "# A:"
   ]
  },
  {
   "cell_type": "markdown",
   "metadata": {},
   "source": [
    "---\n",
    "\n",
    "### 9) Create a list containing only the people's names."
   ]
  },
  {
   "cell_type": "code",
   "execution_count": null,
   "metadata": {},
   "outputs": [],
   "source": [
    "# A:"
   ]
  },
  {
   "cell_type": "markdown",
   "metadata": {},
   "source": [
    "---\n",
    "\n",
    "### 11) Picking a name at random. What are the odds of choosing the same name three times in a row?\n",
    "\n",
    "Now, we'll use a `while` loop to \"brute force\" the odds of choosing the same name three times in a row randomly from the list of names.\n",
    "\n",
    "\"Brute force\" is a term used quite frequently in programming to refer to a computationally inefficient way of solving a problem. It's brute force in this situation because we can use statistics to solve this much more efficiently than if we actually played out an entire scenario.\n",
    "\n",
    "Below, we've imported the **`random`** package, which has the essential function for this code: **`random.choice()`**.\n",
    "The function takes a list as an argument and returns one of the elements of that list at random."
   ]
  },
  {
   "cell_type": "code",
   "execution_count": null,
   "metadata": {},
   "outputs": [],
   "source": [
    "import random\n",
    "# Choose a random person from the list of people:\n",
    "# random.choice(people)"
   ]
  },
  {
   "cell_type": "markdown",
   "metadata": {},
   "source": [
    "Write a function to choose a person from the list randomly three times and check if they are all the same.\n",
    "\n",
    "Define a function that has the following properties:\n",
    "\n",
    "1) Takes a list (your list of names) as an argument.\n",
    "2) Selects a name using `random.choice(people)` three separate times.\n",
    "3) Returns `True` if the name was the same all three times; otherwise returns `False`."
   ]
  },
  {
   "cell_type": "code",
   "execution_count": null,
   "metadata": {},
   "outputs": [],
   "source": [
    "# A:"
   ]
  },
  {
   "cell_type": "markdown",
   "metadata": {},
   "source": [
    "---\n",
    "\n",
    "### 12) Construct a `while` loop to run the choosing function until it returns `True`.\n",
    "\n",
    "Run the function until you draw the same person three times using a `while` loop. Keep track of how many tries it took and print out the number of tries after it runs."
   ]
  },
  {
   "cell_type": "code",
   "execution_count": null,
   "metadata": {},
   "outputs": [],
   "source": [
    "# A:"
   ]
  },
  {
   "cell_type": "code",
   "execution_count": null,
   "metadata": {},
   "outputs": [],
   "source": []
  }
 ],
 "metadata": {
  "anaconda-cloud": {},
  "kernelspec": {
   "display_name": "Python 3",
   "language": "python",
   "name": "python3"
  },
  "language_info": {
   "codemirror_mode": {
    "name": "ipython",
    "version": 3
   },
   "file_extension": ".py",
   "mimetype": "text/x-python",
   "name": "python",
   "nbconvert_exporter": "python",
   "pygments_lexer": "ipython3",
   "version": "3.7.3"
  }
 },
 "nbformat": 4,
 "nbformat_minor": 1
}
