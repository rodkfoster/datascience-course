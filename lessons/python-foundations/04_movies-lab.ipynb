{
 "cells": [
  {
   "cell_type": "markdown",
   "metadata": {},
   "source": [
    "<img src=\"http://imgur.com/1ZcRyrc.png\" style=\"float: left; margin: 20px; height: 55px\">\n",
    "\n",
    "## Python Review With Movie Data\n",
    "\n",
    "_Author: Kiefer Katovich and Dave Yerrington (San Francisco)_\n",
    "\n",
    "---\n",
    "\n",
    "In this lab, you'll be using the [IMDb](http://www.imdb.com/) `movies` list below as your data set. \n",
    "\n",
    "This lab is designed to help you practice iteration and functions in particular. The normal questions are more gentle, and the challenge questions are suitable for advanced/expert Python students or those with programming experience. \n",
    "\n",
    "All of the questions require writing functions and using iteration to solve. You should print out a test of each function you write.\n",
    "\n",
    "\n",
    "### 1) Load the provided list of `movies` dictionaries."
   ]
  },
  {
   "cell_type": "code",
   "execution_count": 2,
   "metadata": {
    "collapsed": false,
    "jupyter": {
     "outputs_hidden": false
    }
   },
   "outputs": [],
   "source": [
    "# List of movies dictionaries:\n",
    "\n",
    "movies = [\n",
    "    {\n",
    "        \"name\": \"Usual Suspects\", \n",
    "        \"imdb\": 7.0,\n",
    "        \"category\": \"Thriller\"\n",
    "    },\n",
    "    {\n",
    "        \"name\": \"Hitman\",\n",
    "        \"imdb\": 6.3,\n",
    "        \"category\": \"Action\"\n",
    "    },\n",
    "    {\n",
    "        \"name\": \"Dark Knight\",\n",
    "        \"imdb\": 9.0,\n",
    "        \"category\": \"Adventure\"\n",
    "    },\n",
    "    {\n",
    "        \"name\": \"The Help\",\n",
    "        \"imdb\": 8.0,\n",
    "        \"category\": \"Drama\"\n",
    "    },\n",
    "    {\n",
    "        \"name\": \"The Choice\",\n",
    "        \"imdb\": 6.2,\n",
    "        \"category\": \"Romance\"\n",
    "    },\n",
    "    {\n",
    "        \"name\": \"Colonia\",\n",
    "        \"imdb\": 7.4,\n",
    "        \"category\": \"Romance\"\n",
    "    },\n",
    "    {\n",
    "        \"name\": \"Love\",\n",
    "        \"imdb\": 6.0,\n",
    "        \"category\": \"Romance\"\n",
    "    },\n",
    "    {\n",
    "        \"name\": \"Bride Wars\",\n",
    "        \"imdb\": 5.4,\n",
    "        \"category\": \"Romance\"\n",
    "    },\n",
    "    {\n",
    "        \"name\": \"AlphaJet\",\n",
    "        \"imdb\": 3.2,\n",
    "        \"category\": \"War\"\n",
    "    },\n",
    "    {\n",
    "        \"name\": \"Ringing Crime\",\n",
    "        \"imdb\": 4.0,\n",
    "        \"category\": \"Crime\"\n",
    "    },\n",
    "    {\n",
    "        \"name\": \"Joking muck\",\n",
    "        \"imdb\": 7.2,\n",
    "        \"category\": \"Comedy\"\n",
    "    },\n",
    "    {\n",
    "        \"name\": \"What is the name\",\n",
    "        \"imdb\": 9.2,\n",
    "        \"category\": \"Suspense\"\n",
    "    },\n",
    "    {\n",
    "        \"name\": \"Detective\",\n",
    "        \"imdb\": 7.0,\n",
    "        \"category\": \"Suspense\"\n",
    "    },\n",
    "    {\n",
    "        \"name\": \"Exam\",\n",
    "        \"imdb\": 4.2,\n",
    "        \"category\": \"Thriller\"\n",
    "    },\n",
    "    {\n",
    "        \"name\": \"We Two\",\n",
    "        \"imdb\": 7.2,\n",
    "        \"category\": \"Romance\"\n",
    "    }\n",
    "]"
   ]
  },
  {
   "cell_type": "markdown",
   "metadata": {},
   "source": [
    "---\n",
    "\n",
    "### 2) Filter data by IMDb score.\n",
    "\n",
    "Write a function that:\n",
    "\n",
    "1. Accepts a single movie dictionary from the `movies` list as an argument.\n",
    "2. Returns `True` if the IMDb score is greater than 5.5."
   ]
  },
  {
   "cell_type": "code",
   "execution_count": 5,
   "metadata": {
    "collapsed": false,
    "jupyter": {
     "outputs_hidden": false
    }
   },
   "outputs": [],
   "source": [
    "# Your code here."
   ]
  },
  {
   "cell_type": "markdown",
   "metadata": {},
   "source": [
    "#### 2.2 [Challenge]\n",
    "\n",
    "Write a function that:\n",
    "\n",
    "1. Accepts the `movies` list and a specified category.\n",
    "2. Returns `True` if the average score of the category is higher than the average score of all movies."
   ]
  },
  {
   "cell_type": "code",
   "execution_count": null,
   "metadata": {},
   "outputs": [],
   "source": [
    "# Your code here."
   ]
  },
  {
   "cell_type": "markdown",
   "metadata": {},
   "source": [
    "---\n",
    "\n",
    "### 3) Create movie subsets by numeric condition.\n",
    "\n",
    "Write a function that:\n",
    "\n",
    "1. Accepts the list of movies and a specified IMDb score.\n",
    "2. Returns the sublist of movies that have scores greater than the one specified."
   ]
  },
  {
   "cell_type": "code",
   "execution_count": 3,
   "metadata": {
    "collapsed": false,
    "jupyter": {
     "outputs_hidden": false
    }
   },
   "outputs": [],
   "source": [
    "# Your code here."
   ]
  },
  {
   "cell_type": "markdown",
   "metadata": {},
   "source": [
    "#### [Challenge]\n",
    "\n",
    "Write a function that:\n",
    "\n",
    "1. Accepts the `movies` list as an argument.\n",
    "2. Returns the `movies` list sorted first by category and then by movie according to category average score and individual IMDb score, respectively."
   ]
  },
  {
   "cell_type": "code",
   "execution_count": null,
   "metadata": {},
   "outputs": [],
   "source": [
    "# Your code here."
   ]
  },
  {
   "cell_type": "markdown",
   "metadata": {},
   "source": [
    "---\n",
    "\n",
    "### 4) Create movie subsets by string condition.\n",
    "\n",
    "Write a function that:\n",
    "\n",
    "1. Accepts the `movies` list and a category name.\n",
    "2. Returns the movie names within that category (case-insensitive!).\n",
    "3. If the category is not in the data, prints a message that says it does not exist and returns `None`.\n",
    "\n",
    "Recall that, to convert a string to lowercase, you can use:\n",
    "\n",
    "```python\n",
    "mystring = 'Dumb and Dumber'\n",
    "lowercase_mystring = mystring.lower()\n",
    "print lowercase_mystring\n",
    "'dumb and dumber'\n",
    "```"
   ]
  },
  {
   "cell_type": "code",
   "execution_count": 4,
   "metadata": {
    "collapsed": false,
    "jupyter": {
     "outputs_hidden": false
    }
   },
   "outputs": [],
   "source": [
    "# Your code here."
   ]
  },
  {
   "cell_type": "markdown",
   "metadata": {},
   "source": [
    "#### [Challenge]\n",
    "\n",
    "Write a function that:\n",
    "\n",
    "1. Accepts the `movies` list and a \"search string.\"\n",
    "2. Returns a dictionary with the keys `'category'` and `'title'` whose values are lists of categories that contain the search string and titles that contain the search string, respectively (case-insensitive!)."
   ]
  },
  {
   "cell_type": "code",
   "execution_count": null,
   "metadata": {},
   "outputs": [],
   "source": [
    "# Your code here."
   ]
  },
  {
   "cell_type": "markdown",
   "metadata": {},
   "source": [
    "---\n",
    "\n",
    "### 5) Multiple conditions.\n",
    "\n",
    "Write a function that:\n",
    "\n",
    "1. Accepts the `movies` list and a \"search criteria\" variable.\n",
    "2. If the criteria variable is numeric, return a list of movie titles with a score greater than or equal to the criteria.\n",
    "3. If the criteria variable is a string, return a list of movie titles that match that category (case-insensitive!). If there is no match, return an empty list and print an informative message."
   ]
  },
  {
   "cell_type": "code",
   "execution_count": 5,
   "metadata": {
    "collapsed": false,
    "jupyter": {
     "outputs_hidden": false
    }
   },
   "outputs": [],
   "source": [
    "# Your code here."
   ]
  },
  {
   "cell_type": "markdown",
   "metadata": {},
   "source": [
    "#### 5.2 [Expert]\n",
    "\n",
    "Write a function that:\n",
    "\n",
    "1. Accepts the `movies` list and a string search criteria variable.\n",
    "2. The search criteria variable can contain within it:\n",
    "  - Boolean operations: `'AND'`, `'OR'`, and `'NOT'` (can have/be lowercase as well, we just capitalized for clarity).\n",
    "  - Search criteria specified with the syntax `score=...`, `category=...`, and/or `title=...`, where the `...` indicates what to look for.\n",
    "    - If `score` is present, it indicates scores greater than or equal to the value.\n",
    "    - For `category` and `title`, the string indicates that the category or title must _contain_ the search string (case-insensitive).\n",
    "3. Return the matches for the search criteria specified."
   ]
  },
  {
   "cell_type": "code",
   "execution_count": null,
   "metadata": {},
   "outputs": [],
   "source": [
    "# Your code here."
   ]
  }
 ],
 "metadata": {
  "kernelspec": {
   "display_name": "Python 3",
   "language": "python",
   "name": "python3"
  },
  "language_info": {
   "codemirror_mode": {
    "name": "ipython",
    "version": 3
   },
   "file_extension": ".py",
   "mimetype": "text/x-python",
   "name": "python",
   "nbconvert_exporter": "python",
   "pygments_lexer": "ipython3",
   "version": "3.7.4"
  }
 },
 "nbformat": 4,
 "nbformat_minor": 4
}
